{
 "cells": [
  {
   "cell_type": "code",
   "execution_count": 1,
   "id": "30b250b5-1e48-4b80-9610-4a43f637cf9e",
   "metadata": {},
   "outputs": [
    {
     "data": {
      "text/plain": [
       "True"
      ]
     },
     "execution_count": 1,
     "metadata": {},
     "output_type": "execute_result"
    }
   ],
   "source": [
    "from dotenv import load_dotenv\n",
    "\n",
    "load_dotenv()"
   ]
  },
  {
   "cell_type": "markdown",
   "id": "fe9bf306-c10a-4ddf-939f-3ced36af81db",
   "metadata": {},
   "source": [
    "## ChatGPTとGoogle検索の連携\n",
    "- ChatGPTなどのLLMは過去のデータで学習しているため、最新の気象情報を保有していない。\n",
    "- Google検索を使って気象情報を取得し、ChatGPTと連携させる"
   ]
  },
  {
   "cell_type": "code",
   "execution_count": 2,
   "id": "4bc2aa01-988b-4225-bac5-c1a590c9e319",
   "metadata": {},
   "outputs": [],
   "source": [
    "from langchain import SerpAPIWrapper, LLMMathChain\n",
    "from langchain.chat_models import ChatOpenAI\n",
    "from langchain.agents import load_tools, Tool, initialize_agent, AgentType\n",
    "\n",
    "llm = ChatOpenAI(temperature=0.7, model=\"gpt-3.5-turbo-0613\")\n",
    "\n",
    "tool_names = [\"serpapi\"]\n",
    "\n",
    "tools = load_tools(tool_names, llm=llm)\n",
    "\n",
    "weather_question = \"今日の東京と北海道の天気を調べて、東京から北海道の出張で着ていくべき服装を考えてください\""
   ]
  },
  {
   "cell_type": "markdown",
   "id": "8510d8d2-9297-40af-ba69-f2b37f996b2c",
   "metadata": {},
   "source": [
    "### Zero-shot ReAct\n",
    "ReActフレームワークを使用して、ツールの説明のみに基づいて使用するツールを決定するAgent。最も汎用的。"
   ]
  },
  {
   "cell_type": "code",
   "execution_count": 3,
   "id": "db29a739-154d-453f-b91f-77fd668ba2d7",
   "metadata": {},
   "outputs": [
    {
     "name": "stdout",
     "output_type": "stream",
     "text": [
      "\n",
      "\n",
      "\u001b[1m> Entering new AgentExecutor chain...\u001b[0m\n",
      "\u001b[32;1m\u001b[1;3mI should search for the weather in Tokyo and Hokkaido and then consider the appropriate clothing for a business trip from Tokyo to Hokkaido.\n",
      "Action: Search\n",
      "Action Input: \"weather in Tokyo and Hokkaido today\"\u001b[0m\n",
      "Observation: \u001b[36;1m\u001b[1;3m['10 Day Weather-Sapporo, Hokkaido, Japan. As of 9:32 am JST. Today. 75°/63°. 12%. Wed 27 | Day. 75°. 12%. NE 6 mph. Mostly sunny. High near 75F.']\u001b[0m\n",
      "Thought:\u001b[32;1m\u001b[1;3mI need to search for the weather in Tokyo as well.\n",
      "Action: Search\n",
      "Action Input: \"weather in Tokyo today\"\u001b[0m\n",
      "Observation: \u001b[36;1m\u001b[1;3m{'type': 'weather_result', 'temperature': '86', 'unit': 'Fahrenheit', 'precipitation': '30%', 'humidity': '70%', 'wind': '4 mph', 'location': 'Tokyo, Japan', 'date': 'Wednesday', 'weather': 'Cloudy'}\u001b[0m\n",
      "Thought:\u001b[32;1m\u001b[1;3mI now know the final answer\n",
      "Final Answer: The weather in Tokyo today is cloudy with a temperature of 86°F and a 30% chance of precipitation. The weather in Hokkaido today is mostly sunny with a high near 75°F. Based on this information, appropriate clothing for a business trip from Tokyo to Hokkaido would include a mix of light layers such as a shirt, blazer, and trousers, as well as a light jacket or sweater for cooler temperatures in the morning or evening.\u001b[0m\n",
      "\n",
      "\u001b[1m> Finished chain.\u001b[0m\n"
     ]
    },
    {
     "data": {
      "text/plain": [
       "'The weather in Tokyo today is cloudy with a temperature of 86°F and a 30% chance of precipitation. The weather in Hokkaido today is mostly sunny with a high near 75°F. Based on this information, appropriate clothing for a business trip from Tokyo to Hokkaido would include a mix of light layers such as a shirt, blazer, and trousers, as well as a light jacket or sweater for cooler temperatures in the morning or evening.'"
      ]
     },
     "execution_count": 3,
     "metadata": {},
     "output_type": "execute_result"
    }
   ],
   "source": [
    "zero_shot_agent = initialize_agent(tools, llm, agent=AgentType.ZERO_SHOT_REACT_DESCRIPTION, verbose=True)\n",
    "zero_shot_agent.run(weather_question)"
   ]
  },
  {
   "cell_type": "markdown",
   "id": "438259ef-5232-4ed6-8295-fcf9e3cd2a90",
   "metadata": {},
   "source": [
    "### OpenAI Functions\n",
    "OpenAIのFunction Callingを利用するAgent。Zero-shot ReActと同様に、プログラム実行者の環境でfunctionを実行する。"
   ]
  },
  {
   "cell_type": "code",
   "execution_count": 4,
   "id": "53f8bd82-8110-4e32-a685-f63d638b856e",
   "metadata": {},
   "outputs": [
    {
     "name": "stdout",
     "output_type": "stream",
     "text": [
      "\n",
      "\n",
      "\u001b[1m> Entering new AgentExecutor chain...\u001b[0m\n",
      "\u001b[32;1m\u001b[1;3m\n",
      "Invoking: `Search` with `{'query': '今日の東京の天気'}`\n",
      "\n",
      "\n",
      "\u001b[0m\u001b[36;1m\u001b[1;3m{'type': 'weather_result', 'temperature': '86', 'unit': 'Fahrenheit', 'precipitation': '30%', 'humidity': '70%', 'wind': '4 mph', 'location': '日本、東京都', 'date': 'Wednesday', 'weather': 'Cloudy'}\u001b[0m\u001b[32;1m\u001b[1;3m\n",
      "Invoking: `Search` with `{'query': '今日の北海道の天気'}`\n",
      "\n",
      "\n",
      "\u001b[0m\u001b[36;1m\u001b[1;3m{'type': 'weather_result', 'temperature': '77', 'unit': 'Fahrenheit', 'precipitation': '20%', 'humidity': '78%', 'wind': '9 mph', 'location': '日本、北海道', 'date': 'Wednesday', 'weather': 'Clear in the morning but cloudy in the evening'}\u001b[0m\u001b[32;1m\u001b[1;3m今日の東京の天気は曇りで、気温は86°F、降水確率は30%、湿度は70%、風速は4 mphです。一方、北海道の天気は朝は晴れていますが、夜には曇りになる予報です。気温は77°F、降水確率は20%、湿度は78%、風速は9 mphです。\n",
      "\n",
      "東京から北海道への出張の際の服装について考えますと、東京は曇りの天気ですので、軽めのジャケットやセーターなどの上着を持っていくと良いでしょう。北海道は朝晴れていますが、夜には曇りになる予報ですので、長袖のシャツや薄手のカーディガンなど、寒さ対策も考慮した服装がおすすめです。また、北海道は東京に比べて風速が高いため、風を防ぐための軽い防風ジャケットやストールなども持参することをおすすめします。\n",
      "\n",
      "どうぞ安全な出張をお過ごしください。\u001b[0m\n",
      "\n",
      "\u001b[1m> Finished chain.\u001b[0m\n"
     ]
    },
    {
     "data": {
      "text/plain": [
       "'今日の東京の天気は曇りで、気温は86°F、降水確率は30%、湿度は70%、風速は4 mphです。一方、北海道の天気は朝は晴れていますが、夜には曇りになる予報です。気温は77°F、降水確率は20%、湿度は78%、風速は9 mphです。\\n\\n東京から北海道への出張の際の服装について考えますと、東京は曇りの天気ですので、軽めのジャケットやセーターなどの上着を持っていくと良いでしょう。北海道は朝晴れていますが、夜には曇りになる予報ですので、長袖のシャツや薄手のカーディガンなど、寒さ対策も考慮した服装がおすすめです。また、北海道は東京に比べて風速が高いため、風を防ぐための軽い防風ジャケットやストールなども持参することをおすすめします。\\n\\nどうぞ安全な出張をお過ごしください。'"
      ]
     },
     "execution_count": 4,
     "metadata": {},
     "output_type": "execute_result"
    }
   ],
   "source": [
    "openai_functions_agent = initialize_agent(tools, llm, agent=AgentType.OPENAI_FUNCTIONS, verbose=True)\n",
    "openai_functions_agent.run(weather_question)"
   ]
  },
  {
   "cell_type": "markdown",
   "id": "3ac0fe65-e9f1-471e-bbc0-19edfc04900c",
   "metadata": {},
   "source": [
    "どんな関数がChatGPTに渡されているかは `functions` メソッドで確認できる。"
   ]
  },
  {
   "cell_type": "code",
   "execution_count": 5,
   "id": "ec5cc5bb-dff8-45ea-b530-62290f8c3122",
   "metadata": {},
   "outputs": [
    {
     "data": {
      "text/plain": [
       "[{'name': 'Search',\n",
       "  'description': 'A search engine. Useful for when you need to answer questions about current events. Input should be a search query.',\n",
       "  'parameters': {'properties': {'__arg1': {'title': '__arg1',\n",
       "     'type': 'string'}},\n",
       "   'required': ['__arg1'],\n",
       "   'type': 'object'}}]"
      ]
     },
     "execution_count": 5,
     "metadata": {},
     "output_type": "execute_result"
    }
   ],
   "source": [
    "openai_functions_agent.agent.functions"
   ]
  },
  {
   "cell_type": "markdown",
   "id": "0ba1482b-0e84-4231-b11e-1c80dbb948b1",
   "metadata": {},
   "source": [
    "## 自分で作った関数とChatGPTの連携"
   ]
  },
  {
   "cell_type": "markdown",
   "id": "a30d6771-a299-4128-abf4-09645a3acfc2",
   "metadata": {},
   "source": [
    "### Toolを `Tool.from_function` で定義\n",
    "実行したい関数とその説明をもとにLangChain Agentで使えるToolを作成。"
   ]
  },
  {
   "cell_type": "code",
   "execution_count": 6,
   "id": "83fcea0a-1f79-489e-9f7d-e2c99dc3abb7",
   "metadata": {},
   "outputs": [],
   "source": [
    "def recommend_item(date):\n",
    "    print(date)\n",
    "    return \"Apple\"\n",
    "\n",
    "recommend_item_tool = Tool.from_function(\n",
    "    func=recommend_item,\n",
    "    name=\"RecommendItem\",\n",
    "    description=\"おすすめの商品を教えてくれます。\"\n",
    ")\n",
    "tools = [recommend_item_tool]"
   ]
  },
  {
   "cell_type": "code",
   "execution_count": 7,
   "id": "2e971604-f164-4283-92d4-907ad8d9eebe",
   "metadata": {},
   "outputs": [
    {
     "name": "stdout",
     "output_type": "stream",
     "text": [
      "\n",
      "\n",
      "\u001b[1m> Entering new AgentExecutor chain...\u001b[0m\n",
      "\u001b[32;1m\u001b[1;3m\n",
      "Invoking: `RecommendItem` with `おしゃれなバッグ`\n",
      "\n",
      "\n",
      "\u001b[0mおしゃれなバッグ\n",
      "\u001b[36;1m\u001b[1;3mApple\u001b[0m\u001b[32;1m\u001b[1;3mおしゃれなバッグのおすすめ商品はAppleです。\u001b[0m\n",
      "\n",
      "\u001b[1m> Finished chain.\u001b[0m\n"
     ]
    },
    {
     "data": {
      "text/plain": [
       "'おしゃれなバッグのおすすめ商品はAppleです。'"
      ]
     },
     "execution_count": 7,
     "metadata": {},
     "output_type": "execute_result"
    }
   ],
   "source": [
    "agent = initialize_agent(tools, llm, agent=AgentType.OPENAI_FUNCTIONS, verbose=True)\n",
    "agent.run(\"おすすめ商品を教えてください\")"
   ]
  },
  {
   "cell_type": "markdown",
   "id": "151712f5-bb22-4167-9073-9734d28d7bf7",
   "metadata": {},
   "source": [
    "Invoking: \\`RecommendItem\\` with \\`****\\` の `****`　が、関数の引数として渡されるものとなっており、全く意味のないものを渡していることがわかる。"
   ]
  },
  {
   "cell_type": "code",
   "execution_count": 8,
   "id": "566ab1ff-5669-45cb-bf7d-220f411f1155",
   "metadata": {},
   "outputs": [
    {
     "data": {
      "text/plain": [
       "[{'name': 'RecommendItem',\n",
       "  'description': 'おすすめの商品を教えてくれます。',\n",
       "  'parameters': {'properties': {'__arg1': {'title': '__arg1',\n",
       "     'type': 'string'}},\n",
       "   'required': ['__arg1'],\n",
       "   'type': 'object'}}]"
      ]
     },
     "execution_count": 8,
     "metadata": {},
     "output_type": "execute_result"
    }
   ],
   "source": [
    "agent.agent.functions"
   ]
  },
  {
   "cell_type": "code",
   "execution_count": 10,
   "id": "501d2fb8-226e-4463-9b01-a89a1eb2a816",
   "metadata": {},
   "outputs": [],
   "source": [
    "from pydantic.v1 import BaseModel, Field  # v1を指定しないとpydantic v2を使って動かなくなるので注意\n",
    "from langchain.tools import tool\n",
    "\n",
    "class RecommendItemInput(BaseModel):\n",
    "    date: str = Field(description=\"おすすめしたい商品を絞るために使われる日付\")\n",
    "\n",
    "recommend_item_tool = Tool.from_function(\n",
    "    func=recommend_item,\n",
    "    name=\"RecommendItem\",\n",
    "    description=\"おすすめの商品を教えてくれます。\",\n",
    "    args_schema=RecommendItemInput\n",
    ")\n",
    "tools = [recommend_item_tool]"
   ]
  },
  {
   "cell_type": "code",
   "execution_count": 11,
   "id": "55e1894d-ec52-4621-9ceb-088ace93f82c",
   "metadata": {},
   "outputs": [
    {
     "name": "stdout",
     "output_type": "stream",
     "text": [
      "\n",
      "\n",
      "\u001b[1m> Entering new AgentExecutor chain...\u001b[0m\n",
      "\u001b[32;1m\u001b[1;3m\n",
      "Invoking: `RecommendItem` with `{'date': '2022-01-10'}`\n",
      "\n",
      "\n",
      "\u001b[0m2022-01-10\n",
      "\u001b[36;1m\u001b[1;3mApple\u001b[0m\u001b[32;1m\u001b[1;3m2022年1月10日のおすすめ商品はAppleです。\u001b[0m\n",
      "\n",
      "\u001b[1m> Finished chain.\u001b[0m\n"
     ]
    },
    {
     "data": {
      "text/plain": [
       "'2022年1月10日のおすすめ商品はAppleです。'"
      ]
     },
     "execution_count": 11,
     "metadata": {},
     "output_type": "execute_result"
    }
   ],
   "source": [
    "agent = initialize_agent(tools, llm, agent=AgentType.OPENAI_FUNCTIONS, verbose=True)\n",
    "agent.run(\"おすすめ商品を教えてください\")"
   ]
  },
  {
   "cell_type": "code",
   "execution_count": 12,
   "id": "8a8c6809-df00-4ea2-afbd-fa93ee4bb3d9",
   "metadata": {},
   "outputs": [
    {
     "data": {
      "text/plain": [
       "[{'name': 'RecommendItem',\n",
       "  'description': 'おすすめの商品を教えてくれます。',\n",
       "  'parameters': {'title': 'RecommendItemInput',\n",
       "   'type': 'object',\n",
       "   'properties': {'date': {'title': 'Date',\n",
       "     'description': 'おすすめしたい商品を絞るために使われる日付',\n",
       "     'type': 'string'}},\n",
       "   'required': ['date']}}]"
      ]
     },
     "execution_count": 12,
     "metadata": {},
     "output_type": "execute_result"
    }
   ],
   "source": [
    "agent.agent.functions"
   ]
  },
  {
   "cell_type": "markdown",
   "id": "14618ae6-30c7-4e0c-8c55-adc092e6f81d",
   "metadata": {},
   "source": [
    "### `tool` デコレータを使った実装\n",
    "デコレータの引数にツールの名前を渡せる。toolの説明はdocstringに書く。"
   ]
  },
  {
   "cell_type": "code",
   "execution_count": 13,
   "id": "79a282ad-33f3-49d7-bf84-71cd9c0f6d3a",
   "metadata": {},
   "outputs": [],
   "source": [
    "from langchain.tools import tool\n",
    "\n",
    "@tool(\"RecommendItem\")\n",
    "def recommend_item_tool(date):\n",
    "    \"\"\"おすすめの商品を教えてくれます。\"\"\"\n",
    "    print(date)\n",
    "    return \"Apple\"\n",
    "\n",
    "tools = [recommend_item_tool]"
   ]
  },
  {
   "cell_type": "code",
   "execution_count": 14,
   "id": "eadb9999-6419-4098-8ef5-ca87b9a1a721",
   "metadata": {},
   "outputs": [
    {
     "name": "stdout",
     "output_type": "stream",
     "text": [
      "\n",
      "\n",
      "\u001b[1m> Entering new AgentExecutor chain...\u001b[0m\n",
      "\u001b[32;1m\u001b[1;3m\n",
      "Invoking: `RecommendItem` with `{'date': '2021-10-15'}`\n",
      "\n",
      "\n",
      "\u001b[0m2021-10-15\n",
      "\u001b[36;1m\u001b[1;3mApple\u001b[0m\u001b[32;1m\u001b[1;3mおすすめの商品は、Appleです。\u001b[0m\n",
      "\n",
      "\u001b[1m> Finished chain.\u001b[0m\n"
     ]
    },
    {
     "data": {
      "text/plain": [
       "'おすすめの商品は、Appleです。'"
      ]
     },
     "execution_count": 14,
     "metadata": {},
     "output_type": "execute_result"
    }
   ],
   "source": [
    "agent = initialize_agent(tools, llm, agent=AgentType.OPENAI_FUNCTIONS, verbose=True)\n",
    "agent.run(\"おすすめ商品を教えてください\")"
   ]
  },
  {
   "cell_type": "markdown",
   "id": "5c67c2c5-2e95-471a-bd1d-aae153b4071b",
   "metadata": {},
   "source": [
    "デコレータを使った実装では、引数としてdateが渡されていることがわかる。ただし、渡されている日付は適当。"
   ]
  },
  {
   "cell_type": "code",
   "execution_count": 15,
   "id": "d2447bbc-c0f4-454d-a3f5-68a20838feec",
   "metadata": {},
   "outputs": [
    {
     "data": {
      "text/plain": [
       "[{'name': 'RecommendItem',\n",
       "  'description': 'RecommendItem(date) - おすすめの商品を教えてくれます。',\n",
       "  'parameters': {'title': 'RecommendItemSchemaSchema',\n",
       "   'type': 'object',\n",
       "   'properties': {'date': {'title': 'Date'}},\n",
       "   'required': ['date']}}]"
      ]
     },
     "execution_count": 15,
     "metadata": {},
     "output_type": "execute_result"
    }
   ],
   "source": [
    "agent.agent.functions"
   ]
  },
  {
   "cell_type": "markdown",
   "id": "89670317-4420-4b29-91cc-13e89c214167",
   "metadata": {},
   "source": [
    "デコレータのargs_schema引数にPydanticを渡して、引数の情報をChatGPTに連携できる。"
   ]
  },
  {
   "cell_type": "code",
   "execution_count": 16,
   "id": "61df0484-9bc9-4e14-a063-2805a37a4f58",
   "metadata": {},
   "outputs": [],
   "source": [
    "@tool(\"RecommendItem\", args_schema=RecommendItemInput)\n",
    "def recommend_item_tool(date):\n",
    "    \"\"\"おすすめの商品を教えてくれます。\"\"\"\n",
    "    print(date)\n",
    "    return \"Apple\"\n",
    "\n",
    "tools = [recommend_item_tool]"
   ]
  },
  {
   "cell_type": "code",
   "execution_count": 17,
   "id": "9bc2d697-892c-46a5-a27b-6d743adbe98b",
   "metadata": {},
   "outputs": [
    {
     "name": "stdout",
     "output_type": "stream",
     "text": [
      "\n",
      "\n",
      "\u001b[1m> Entering new AgentExecutor chain...\u001b[0m\n",
      "\u001b[32;1m\u001b[1;3m\n",
      "Invoking: `RecommendItem` with `{'date': '2022-10-01'}`\n",
      "\n",
      "\n",
      "\u001b[0m2022-10-01\n",
      "\u001b[36;1m\u001b[1;3mApple\u001b[0m\u001b[32;1m\u001b[1;3m2022年10月1日のおすすめ商品はAppleです。\u001b[0m\n",
      "\n",
      "\u001b[1m> Finished chain.\u001b[0m\n"
     ]
    },
    {
     "data": {
      "text/plain": [
       "'2022年10月1日のおすすめ商品はAppleです。'"
      ]
     },
     "execution_count": 17,
     "metadata": {},
     "output_type": "execute_result"
    }
   ],
   "source": [
    "agent = initialize_agent(tools, llm, agent=AgentType.OPENAI_FUNCTIONS, verbose=True)\n",
    "agent.run(\"おすすめ商品を教えてください\")"
   ]
  },
  {
   "cell_type": "code",
   "execution_count": 18,
   "id": "b943a709-847b-441e-a65a-9c3d1477494d",
   "metadata": {},
   "outputs": [
    {
     "name": "stdout",
     "output_type": "stream",
     "text": [
      "\n",
      "\n",
      "\u001b[1m> Entering new AgentExecutor chain...\u001b[0m\n",
      "\u001b[32;1m\u001b[1;3m\n",
      "Invoking: `RecommendItem` with `{'date': '2022-12-11'}`\n",
      "\n",
      "\n",
      "\u001b[0m2022-12-11\n",
      "\u001b[36;1m\u001b[1;3mApple\u001b[0m\u001b[32;1m\u001b[1;3m昨日のおすすめ商品はAppleです。\u001b[0m\n",
      "\n",
      "\u001b[1m> Finished chain.\u001b[0m\n"
     ]
    },
    {
     "data": {
      "text/plain": [
       "'昨日のおすすめ商品はAppleです。'"
      ]
     },
     "execution_count": 18,
     "metadata": {},
     "output_type": "execute_result"
    }
   ],
   "source": [
    "agent.run(\"昨日のおすすめ商品を教えてください\")"
   ]
  },
  {
   "cell_type": "markdown",
   "id": "3ea31af7-a9bb-4b6e-857d-52ff1aaec7a1",
   "metadata": {},
   "source": [
    "このように今日や昨日などを与えたとしても、現在のバージョンでは正しい日付が返ってこない。"
   ]
  },
  {
   "cell_type": "markdown",
   "id": "a3d09c4a-66e5-499c-94a1-f0bccb5eb6bd",
   "metadata": {},
   "source": [
    "#### 正しい日付を取得するためのToolを追加"
   ]
  },
  {
   "cell_type": "code",
   "execution_count": 19,
   "id": "df30e4b6-91f2-4ad7-a790-840a478ae504",
   "metadata": {},
   "outputs": [],
   "source": [
    "import datetime\n",
    "\n",
    "@tool(\"GetDate\")\n",
    "def get_date_tool(n):\n",
    "    \"\"\"今日や昨日など日付を取得するときに使います。引数には今日を起点として何日前かをnで与えます。\"\"\"  # pydanticで引数の説明をしたほうがベター\n",
    "    return str(datetime.date.today() - datetime.timedelta(days=n))\n",
    "\n",
    "tools = [recommend_item_tool, get_date_tool]"
   ]
  },
  {
   "cell_type": "code",
   "execution_count": 20,
   "id": "6ca0618d-425f-41a7-b4e8-9951e1e1a90e",
   "metadata": {},
   "outputs": [
    {
     "name": "stdout",
     "output_type": "stream",
     "text": [
      "\n",
      "\n",
      "\u001b[1m> Entering new AgentExecutor chain...\u001b[0m\n",
      "\u001b[32;1m\u001b[1;3m\n",
      "Invoking: `GetDate` with `{'n': 0}`\n",
      "\n",
      "\n",
      "\u001b[0m\u001b[33;1m\u001b[1;3m2023-09-27\u001b[0m\u001b[32;1m\u001b[1;3m\n",
      "Invoking: `RecommendItem` with `{'date': '2023-09-27'}`\n",
      "\n",
      "\n",
      "\u001b[0m2023-09-27\n",
      "\u001b[36;1m\u001b[1;3mApple\u001b[0m\u001b[32;1m\u001b[1;3m今日のおすすめ商品は「Apple」です。\u001b[0m\n",
      "\n",
      "\u001b[1m> Finished chain.\u001b[0m\n"
     ]
    },
    {
     "data": {
      "text/plain": [
       "'今日のおすすめ商品は「Apple」です。'"
      ]
     },
     "execution_count": 20,
     "metadata": {},
     "output_type": "execute_result"
    }
   ],
   "source": [
    "agent = initialize_agent(tools, llm, agent=AgentType.OPENAI_FUNCTIONS, verbose=True)\n",
    "agent.run(\"今日のおすすめ商品を教えてください\")"
   ]
  },
  {
   "cell_type": "code",
   "execution_count": 21,
   "id": "0beff16d-2e21-4d89-8052-afbb827c5fe8",
   "metadata": {},
   "outputs": [
    {
     "data": {
      "text/plain": [
       "[{'name': 'RecommendItem',\n",
       "  'description': 'RecommendItem(date) - おすすめの商品を教えてくれます。',\n",
       "  'parameters': {'title': 'RecommendItemInput',\n",
       "   'type': 'object',\n",
       "   'properties': {'date': {'title': 'Date',\n",
       "     'description': 'おすすめしたい商品を絞るために使われる日付',\n",
       "     'type': 'string'}},\n",
       "   'required': ['date']}},\n",
       " {'name': 'GetDate',\n",
       "  'description': 'GetDate(n) - 今日や昨日など日付を取得するときに使います。引数には今日を起点として何日前かをnで与えます。',\n",
       "  'parameters': {'title': 'GetDateSchemaSchema',\n",
       "   'type': 'object',\n",
       "   'properties': {'n': {'title': 'N'}},\n",
       "   'required': ['n']}}]"
      ]
     },
     "execution_count": 21,
     "metadata": {},
     "output_type": "execute_result"
    }
   ],
   "source": [
    "agent.agent.functions"
   ]
  },
  {
   "cell_type": "code",
   "execution_count": 22,
   "id": "92d68292-5bc5-48f1-9b2a-3a8892810347",
   "metadata": {},
   "outputs": [],
   "source": [
    "@tool(\"RecommendItem\", args_schema=RecommendItemInput)\n",
    "def recommend_item_tool(date):\n",
    "    \"\"\"与えられた日付の自社のおすすめ商品を教えてくれます。\"\"\"\n",
    "    if int(date[-2:]) % 2 == 0:\n",
    "        return \"Apple\"\n",
    "    else:\n",
    "        return \"Orange\"\n",
    "tools = [recommend_item_tool, get_date_tool]"
   ]
  },
  {
   "cell_type": "code",
   "execution_count": 23,
   "id": "0e6300cf-236d-4944-ba12-8db9f03da5c4",
   "metadata": {},
   "outputs": [
    {
     "name": "stdout",
     "output_type": "stream",
     "text": [
      "\n",
      "\n",
      "\u001b[1m> Entering new AgentExecutor chain...\u001b[0m\n",
      "\u001b[32;1m\u001b[1;3m\n",
      "Invoking: `GetDate` with `{'n': 0}`\n",
      "\n",
      "\n",
      "\u001b[0m\u001b[33;1m\u001b[1;3m2023-09-27\u001b[0m\u001b[32;1m\u001b[1;3m\n",
      "Invoking: `RecommendItem` with `{'date': '2023-09-27'}`\n",
      "\n",
      "\n",
      "\u001b[0m\u001b[36;1m\u001b[1;3mOrange\u001b[0m\u001b[32;1m\u001b[1;3m今日のおすすめ商品は「オレンジ」です。\u001b[0m\n",
      "\n",
      "\u001b[1m> Finished chain.\u001b[0m\n"
     ]
    },
    {
     "data": {
      "text/plain": [
       "'今日のおすすめ商品は「オレンジ」です。'"
      ]
     },
     "execution_count": 23,
     "metadata": {},
     "output_type": "execute_result"
    }
   ],
   "source": [
    "agent = initialize_agent(tools, llm, agent=AgentType.OPENAI_FUNCTIONS, verbose=True)\n",
    "agent.run(\"今日のおすすめ商品を教えてください\")"
   ]
  },
  {
   "cell_type": "code",
   "execution_count": 24,
   "id": "2e196e4e-9910-406c-9cc2-e9c78a427bca",
   "metadata": {},
   "outputs": [
    {
     "name": "stdout",
     "output_type": "stream",
     "text": [
      "\n",
      "\n",
      "\u001b[1m> Entering new AgentExecutor chain...\u001b[0m\n",
      "\u001b[32;1m\u001b[1;3m\n",
      "Invoking: `GetDate` with `{'n': 2}`\n",
      "\n",
      "\n",
      "\u001b[0m\u001b[33;1m\u001b[1;3m2023-09-25\u001b[0m\u001b[32;1m\u001b[1;3m\n",
      "Invoking: `RecommendItem` with `{'date': '2023-09-25'}`\n",
      "\n",
      "\n",
      "\u001b[0m\u001b[36;1m\u001b[1;3mOrange\u001b[0m\u001b[32;1m\u001b[1;3m一昨日のおすすめ商品は「Orange」です。\u001b[0m\n",
      "\n",
      "\u001b[1m> Finished chain.\u001b[0m\n"
     ]
    },
    {
     "data": {
      "text/plain": [
       "'一昨日のおすすめ商品は「Orange」です。'"
      ]
     },
     "execution_count": 24,
     "metadata": {},
     "output_type": "execute_result"
    }
   ],
   "source": [
    "agent.run(\"一昨日のおすすめ商品を教えてください\")"
   ]
  },
  {
   "cell_type": "code",
   "execution_count": 25,
   "id": "fb71703a-e68e-4ebb-b441-bff356b8665e",
   "metadata": {},
   "outputs": [],
   "source": [
    "@tool(\"ItemPrice\")\n",
    "def item_price_tool(item_name):\n",
    "    \"\"\"商品名を受け取り、商品の値段を返します\"\"\"\n",
    "    if item_name == \"Apple\":\n",
    "        return 100\n",
    "    elif item_name == \"Orange\":\n",
    "        return 200\n",
    "\n",
    "tools = [recommend_item_tool, get_date_tool, item_price_tool]"
   ]
  },
  {
   "cell_type": "code",
   "execution_count": 26,
   "id": "f73eefd6-bea2-42e3-9619-f361985a93af",
   "metadata": {},
   "outputs": [
    {
     "name": "stdout",
     "output_type": "stream",
     "text": [
      "\n",
      "\n",
      "\u001b[1m> Entering new AgentExecutor chain...\u001b[0m\n",
      "\u001b[32;1m\u001b[1;3m\n",
      "Invoking: `GetDate` with `{'n': 1}`\n",
      "\n",
      "\n",
      "\u001b[0m\u001b[33;1m\u001b[1;3m2023-09-26\u001b[0m\u001b[32;1m\u001b[1;3m\n",
      "Invoking: `RecommendItem` with `{'date': '2023-09-26'}`\n",
      "\n",
      "\n",
      "\u001b[0m\u001b[36;1m\u001b[1;3mApple\u001b[0m\u001b[32;1m\u001b[1;3m\n",
      "Invoking: `ItemPrice` with `{'item_name': 'Apple'}`\n",
      "\n",
      "\n",
      "\u001b[0m\u001b[38;5;200m\u001b[1;3m100\u001b[0m\u001b[32;1m\u001b[1;3m昨日のおすすめ商品「Apple」の値段は100円です。\u001b[0m\n",
      "\n",
      "\u001b[1m> Finished chain.\u001b[0m\n"
     ]
    },
    {
     "data": {
      "text/plain": [
       "'昨日のおすすめ商品「Apple」の値段は100円です。'"
      ]
     },
     "execution_count": 26,
     "metadata": {},
     "output_type": "execute_result"
    }
   ],
   "source": [
    "agent = initialize_agent(tools, llm, agent=AgentType.OPENAI_FUNCTIONS, verbose=True)\n",
    "agent.run(\"昨日のおすすめ商品の値段を教えてください\")"
   ]
  },
  {
   "cell_type": "code",
   "execution_count": 28,
   "id": "300a28a3-73e5-451c-87c3-26854620648c",
   "metadata": {},
   "outputs": [
    {
     "name": "stdout",
     "output_type": "stream",
     "text": [
      "\n",
      "\n",
      "\u001b[1m> Entering new AgentExecutor chain...\u001b[0m\n",
      "\u001b[32;1m\u001b[1;3m\n",
      "Invoking: `GetDate` with `{'n': 0}`\n",
      "\n",
      "\n",
      "\u001b[0m\u001b[33;1m\u001b[1;3m2023-09-27\u001b[0m\u001b[32;1m\u001b[1;3m\n",
      "Invoking: `RecommendItem` with `{'date': '2023-09-27'}`\n",
      "\n",
      "\n",
      "\u001b[0m\u001b[36;1m\u001b[1;3mOrange\u001b[0m\u001b[32;1m\u001b[1;3m\n",
      "Invoking: `ItemPrice` with `{'item_name': 'Orange'}`\n",
      "\n",
      "\n",
      "\u001b[0m\u001b[38;5;200m\u001b[1;3m200\u001b[0m\u001b[32;1m\u001b[1;3m今日のおすすめ商品はオレンジで、価格は200円です。\u001b[0m\n",
      "\n",
      "\u001b[1m> Finished chain.\u001b[0m\n"
     ]
    },
    {
     "data": {
      "text/plain": [
       "'今日のおすすめ商品はオレンジで、価格は200円です。'"
      ]
     },
     "execution_count": 28,
     "metadata": {},
     "output_type": "execute_result"
    }
   ],
   "source": [
    "agent.run(\"今日のおすすめ商品の値段を教えてください\")"
   ]
  },
  {
   "cell_type": "markdown",
   "id": "8c2bcf59-98d0-462d-b982-0c7306c2027f",
   "metadata": {},
   "source": [
    "### 結果を外部出力する\n",
    "今回は簡易的にテキストファイルに書き込んで観る。"
   ]
  },
  {
   "cell_type": "code",
   "execution_count": 29,
   "id": "8be1dcfe-f66f-43c7-b9bf-0c0898e0c7d5",
   "metadata": {},
   "outputs": [],
   "source": [
    "!rm -f output.txt"
   ]
  },
  {
   "cell_type": "code",
   "execution_count": 30,
   "id": "6a1ad28d-b409-4f33-acdf-c8d3b3e35bb2",
   "metadata": {},
   "outputs": [],
   "source": [
    "@tool(\"SaveData\")\n",
    "def save_data_tool(date, item_name, item_price):\n",
    "    \"\"\"日付と商品名と商品の値段を受け取り、データベースに書き込みます\"\"\"\n",
    "    with open(\"output.txt\", \"a\") as f:\n",
    "        f.write(f\"{date},{item_name},{item_price}\")\n",
    "\n",
    "tools = [recommend_item_tool, get_date_tool, item_price_tool, save_data_tool]"
   ]
  },
  {
   "cell_type": "code",
   "execution_count": 31,
   "id": "7f61b6d5-387c-4884-99db-ce07ff02562d",
   "metadata": {},
   "outputs": [
    {
     "name": "stdout",
     "output_type": "stream",
     "text": [
      "\n",
      "\n",
      "\u001b[1m> Entering new AgentExecutor chain...\u001b[0m\n",
      "\u001b[32;1m\u001b[1;3m\n",
      "Invoking: `GetDate` with `{'n': 0}`\n",
      "\n",
      "\n",
      "\u001b[0m\u001b[33;1m\u001b[1;3m2023-09-27\u001b[0m\u001b[32;1m\u001b[1;3m\n",
      "Invoking: `RecommendItem` with `{'date': '2023-09-27'}`\n",
      "\n",
      "\n",
      "\u001b[0m\u001b[36;1m\u001b[1;3mOrange\u001b[0m\u001b[32;1m\u001b[1;3m\n",
      "Invoking: `ItemPrice` with `{'item_name': 'Orange'}`\n",
      "\n",
      "\n",
      "\u001b[0m\u001b[38;5;200m\u001b[1;3m200\u001b[0m\u001b[32;1m\u001b[1;3m\n",
      "Invoking: `SaveData` with `{'date': '2023-09-27', 'item_name': 'Orange', 'item_price': 200}`\n",
      "\n",
      "\n",
      "\u001b[0m\u001b[36;1m\u001b[1;3mNone\u001b[0m\u001b[32;1m\u001b[1;3m今日のおすすめ商品は「Orange」で、価格は「200円」です。データベースに書き込みました。\u001b[0m\n",
      "\n",
      "\u001b[1m> Finished chain.\u001b[0m\n"
     ]
    },
    {
     "data": {
      "text/plain": [
       "'今日のおすすめ商品は「Orange」で、価格は「200円」です。データベースに書き込みました。'"
      ]
     },
     "execution_count": 31,
     "metadata": {},
     "output_type": "execute_result"
    }
   ],
   "source": [
    "agent = initialize_agent(tools, llm, agent=AgentType.OPENAI_FUNCTIONS, verbose=True)\n",
    "agent.run(\"今日のおすすめ商品の値段を調べてデータベースに書き込んでください\")"
   ]
  },
  {
   "cell_type": "code",
   "execution_count": 32,
   "id": "3e05abd0-f7e0-49df-8c43-ff2b80826910",
   "metadata": {},
   "outputs": [
    {
     "name": "stdout",
     "output_type": "stream",
     "text": [
      "2023-09-27,Orange,200"
     ]
    }
   ],
   "source": [
    "!cat output.txt"
   ]
  }
 ],
 "metadata": {
  "kernelspec": {
   "display_name": "Python 3 (ipykernel)",
   "language": "python",
   "name": "python3"
  },
  "language_info": {
   "codemirror_mode": {
    "name": "ipython",
    "version": 3
   },
   "file_extension": ".py",
   "mimetype": "text/x-python",
   "name": "python",
   "nbconvert_exporter": "python",
   "pygments_lexer": "ipython3",
   "version": "3.11.5"
  }
 },
 "nbformat": 4,
 "nbformat_minor": 5
}
