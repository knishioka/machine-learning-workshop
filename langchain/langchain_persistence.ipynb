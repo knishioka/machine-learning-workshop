{
 "cells": [
  {
   "cell_type": "code",
   "execution_count": 2,
   "metadata": {},
   "outputs": [],
   "source": [
    "import operator\n",
    "from typing import Annotated\n",
    "\n",
    "from langgraph.graph.message import add_messages\n",
    "from typing_extensions import TypedDict\n",
    "\n",
    "\n",
    "class State(TypedDict):\n",
    "    messages: Annotated[list, add_messages]\n",
    "    n_api_call: Annotated[int, operator.add]"
   ]
  },
  {
   "cell_type": "code",
   "execution_count": 3,
   "metadata": {},
   "outputs": [
    {
     "data": {
      "text/plain": [
       "[HumanMessage(content='aaa', id='9c478bf3-c926-47f1-adff-8a7a80a64c63'),\n",
       " HumanMessage(content='bbb', id='9e346164-4d5f-4f98-8f9f-c10bbd8199c5')]"
      ]
     },
     "execution_count": 3,
     "metadata": {},
     "output_type": "execute_result"
    }
   ],
   "source": [
    "add_messages([\"aaa\"], [\"bbb\"])"
   ]
  },
  {
   "cell_type": "code",
   "execution_count": 4,
   "metadata": {},
   "outputs": [
    {
     "data": {
      "text/plain": [
       "[SystemMessage(content='foo', id='cd474807-699b-4d40-88fd-4ed172410129'),\n",
       " HumanMessage(content='bar', id='32cc85cb-9160-4179-ad99-878ca3b3591d')]"
      ]
     },
     "execution_count": 4,
     "metadata": {},
     "output_type": "execute_result"
    }
   ],
   "source": [
    "from langchain_core.messages import SystemMessage\n",
    "\n",
    "add_messages([SystemMessage(\"foo\")], [\"bar\"])"
   ]
  },
  {
   "cell_type": "code",
   "execution_count": 5,
   "metadata": {},
   "outputs": [],
   "source": [
    "from langchain_community.tools import TavilySearchResults\n",
    "\n",
    "search_tool = TavilySearchResults(max_results=1)"
   ]
  },
  {
   "cell_type": "code",
   "execution_count": 6,
   "metadata": {},
   "outputs": [
    {
     "name": "stdout",
     "output_type": "stream",
     "text": [
      "search_tool name: tavily_search_results_json\n",
      "search_tool description: A search engine optimized for comprehensive, accurate, and trusted results. Useful for when you need to answer questions about current events. Input should be a search query.\n"
     ]
    }
   ],
   "source": [
    "print(\"search_tool name:\", search_tool.name)\n",
    "print(\"search_tool description:\", (search_tool.description))"
   ]
  },
  {
   "cell_type": "code",
   "execution_count": 7,
   "metadata": {},
   "outputs": [
    {
     "name": "stderr",
     "output_type": "stream",
     "text": [
      "/Users/ken/.pyenv/versions/3.11.5/lib/python3.11/site-packages/langchain_core/_api/deprecation.py:141: LangChainDeprecationWarning: The method `BaseTool.__call__` was deprecated in langchain-core 0.1.47 and will be removed in 1.0. Use invoke instead.\n",
      "  warn_deprecated(\n"
     ]
    },
    {
     "data": {
      "text/plain": [
       "[{'url': 'https://www.worldometers.info/',\n",
       "  'content': 'Current World Population. reached 8 billion in 2022, according to United Nations estimates. is projected to reach 9 billion in 2037, and 10 billion in 2060. has doubled in 40 years from 1959 (3 billion) to 1999 (6 billion). is currently (2024) growing at a rate of around 0.87% per year, adding around 71 million people per year to the total.'}]"
      ]
     },
     "execution_count": 7,
     "metadata": {},
     "output_type": "execute_result"
    }
   ],
   "source": [
    "search_tool(\"how many people are in the world\")"
   ]
  },
  {
   "cell_type": "code",
   "execution_count": 8,
   "metadata": {},
   "outputs": [],
   "source": [
    "from langgraph.prebuilt import ToolNode\n",
    "\n",
    "tools = [search_tool]\n",
    "tool_node = ToolNode(tools)  # LangGraphのノードとしてtoolを定義"
   ]
  },
  {
   "cell_type": "code",
   "execution_count": 9,
   "metadata": {},
   "outputs": [],
   "source": [
    "from langchain_openai import ChatOpenAI\n",
    "\n",
    "model = ChatOpenAI(temperature=0, streaming=True)"
   ]
  },
  {
   "cell_type": "code",
   "execution_count": 10,
   "metadata": {},
   "outputs": [],
   "source": [
    "bound_model = model.bind_tools(tools)  # 使用可能なtoolの情報をmodelに渡す"
   ]
  },
  {
   "cell_type": "code",
   "execution_count": 11,
   "metadata": {},
   "outputs": [],
   "source": [
    "from typing import Literal\n",
    "\n",
    "\n",
    "def should_continue(state: State) -> Literal[\"action\", \"__end__\"]:\n",
    "    \"\"\"Return the next node to execute.\"\"\"\n",
    "    last_message = state[\"messages\"][-1]\n",
    "    # function callがない場合、終了\n",
    "    if not last_message.tool_calls:\n",
    "        return \"__end__\"\n",
    "    # function callがある場合、次のnodeを実行\n",
    "    return \"action\"\n",
    "\n",
    "\n",
    "# modelを呼び出す関数\n",
    "def call_model(state: State):\n",
    "    response = model.invoke(state[\"messages\"])\n",
    "    # add_messages関数を使って、responseをstateに追加\n",
    "    return {\"messages\": response, \"n_api_call\": 1}"
   ]
  },
  {
   "cell_type": "code",
   "execution_count": 12,
   "metadata": {},
   "outputs": [],
   "source": [
    "from langgraph.graph import START, StateGraph\n",
    "\n",
    "# 新規グラフを作成\n",
    "workflow = StateGraph(State)\n",
    "\n",
    "# ノードを追加\n",
    "workflow.add_node(\"agent\", call_model)\n",
    "workflow.add_node(\"action\", tool_node)\n",
    "\n",
    "# 最初はagentから始まる\n",
    "workflow.add_edge(START, \"agent\")\n",
    "\n",
    "# 条件付きエッジを追加\n",
    "workflow.add_conditional_edges(\n",
    "    # agentノードに対して条件付きエッジを追加\n",
    "    \"agent\",\n",
    "    # 次に呼び出すノードを決定する関数\n",
    "    should_continue,\n",
    ")\n",
    "\n",
    "# agentノードからactionノードへのエッジを追加\n",
    "workflow.add_edge(\"action\", \"agent\")"
   ]
  },
  {
   "cell_type": "code",
   "execution_count": 13,
   "metadata": {},
   "outputs": [],
   "source": [
    "from langgraph.checkpoint.memory import MemorySaver\n",
    "\n",
    "checkpointer = MemorySaver()"
   ]
  },
  {
   "cell_type": "code",
   "execution_count": 14,
   "metadata": {},
   "outputs": [],
   "source": [
    "app = workflow.compile(checkpointer=checkpointer)"
   ]
  },
  {
   "cell_type": "code",
   "execution_count": 15,
   "metadata": {},
   "outputs": [
    {
     "data": {
      "image/jpeg": "[encoded data removed]",
      "text/plain": [
       "<IPython.core.display.Image object>"
      ]
     },
     "metadata": {},
     "output_type": "display_data"
    }
   ],
   "source": [
    "from IPython.display import Image, display\n",
    "\n",
    "display(Image(app.get_graph().draw_mermaid_png()))"
   ]
  },
  {
   "cell_type": "code",
   "execution_count": 16,
   "metadata": {},
   "outputs": [
    {
     "name": "stdout",
     "output_type": "stream",
     "text": [
      "================================\u001b[1m Human Message \u001b[0m=================================\n",
      "\n",
      "how many people are in the world\n",
      "==================================\u001b[1m Ai Message \u001b[0m==================================\n",
      "\n",
      "As of 2021, the estimated global population is around 7.9 billion people.\n"
     ]
    }
   ],
   "source": [
    "from langchain_core.messages import HumanMessage\n",
    "\n",
    "config = {\"configurable\": {\"thread_id\": \"test thread\"}}\n",
    "input_message = HumanMessage(content=\"how many people are in the world\", user_id=\"1\")\n",
    "for event in app.stream({\"messages\": [input_message]}, config, stream_mode=\"values\"):\n",
    "    event[\"messages\"][-1].pretty_print()"
   ]
  },
  {
   "cell_type": "code",
   "execution_count": 17,
   "metadata": {},
   "outputs": [
    {
     "name": "stdout",
     "output_type": "stream",
     "text": [
      "\u001b[36;1m\u001b[1;3m[2:checkpoint]\u001b[0m \u001b[1mState at the end of step 2:\n",
      "\u001b[0m{'messages': [HumanMessage(content='how many people are in the world', id='286d00f9-4a58-4686-bbd8-774f335875fb'),\n",
      "              AIMessage(content='As of 2021, the estimated global population is around 7.9 billion people.', response_metadata={'finish_reason': 'stop', 'model_name': 'gpt-3.5-turbo-0125'}, id='run-ef1cb02f-52a4-4509-8f33-4ee48212a6c6-0')],\n",
      " 'n_api_call': 1}\n",
      "\u001b[36;1m\u001b[1;3m[3:tasks]\u001b[0m \u001b[1mStarting step 3 with 1 task:\n",
      "\u001b[0m- \u001b[32;1m\u001b[1;3m__start__\u001b[0m -> {'messages': [HumanMessage(content='how many people are in the world', id='286d00f9-4a58-4686-bbd8-774f335875fb', user_id='1')]}\n",
      "\u001b[36;1m\u001b[1;3m[3:writes]\u001b[0m \u001b[1mFinished step 3 with writes to 1 channel:\n",
      "\u001b[0m- \u001b[33;1m\u001b[1;3mmessages\u001b[0m -> [HumanMessage(content='how many people are in the world', id='286d00f9-4a58-4686-bbd8-774f335875fb', user_id='1')]\n",
      "\u001b[36;1m\u001b[1;3m[3:checkpoint]\u001b[0m \u001b[1mState at the end of step 3:\n",
      "\u001b[0m{'messages': [HumanMessage(content='how many people are in the world', id='286d00f9-4a58-4686-bbd8-774f335875fb', user_id='1'),\n",
      "              AIMessage(content='As of 2021, the estimated global population is around 7.9 billion people.', response_metadata={'finish_reason': 'stop', 'model_name': 'gpt-3.5-turbo-0125'}, id='run-ef1cb02f-52a4-4509-8f33-4ee48212a6c6-0')],\n",
      " 'n_api_call': 1}\n",
      "\u001b[36;1m\u001b[1;3m[4:tasks]\u001b[0m \u001b[1mStarting step 4 with 1 task:\n",
      "\u001b[0m- \u001b[32;1m\u001b[1;3magent\u001b[0m -> {'messages': [HumanMessage(content='how many people are in the world', id='286d00f9-4a58-4686-bbd8-774f335875fb', user_id='1'),\n",
      "              AIMessage(content='As of 2021, the estimated global population is around 7.9 billion people.', response_metadata={'finish_reason': 'stop', 'model_name': 'gpt-3.5-turbo-0125'}, id='run-ef1cb02f-52a4-4509-8f33-4ee48212a6c6-0')],\n",
      " 'n_api_call': 1}\n",
      "\u001b[36;1m\u001b[1;3m[4:writes]\u001b[0m \u001b[1mFinished step 4 with writes to 2 channels:\n",
      "\u001b[0m- \u001b[33;1m\u001b[1;3mmessages\u001b[0m -> AIMessage(content='Please note that this number is constantly changing due to births, deaths, and other factors.', response_metadata={'finish_reason': 'stop', 'model_name': 'gpt-3.5-turbo-0125'}, id='run-9a435d84-6b3a-45a1-b370-1ad1c898e6dd-0')\n",
      "- \u001b[33;1m\u001b[1;3mn_api_call\u001b[0m -> 1\n"
     ]
    },
    {
     "data": {
      "text/plain": [
       "{'messages': [HumanMessage(content='how many people are in the world', id='286d00f9-4a58-4686-bbd8-774f335875fb', user_id='1'),\n",
       "  AIMessage(content='As of 2021, the estimated global population is around 7.9 billion people.', response_metadata={'finish_reason': 'stop', 'model_name': 'gpt-3.5-turbo-0125'}, id='run-ef1cb02f-52a4-4509-8f33-4ee48212a6c6-0'),\n",
       "  AIMessage(content='Please note that this number is constantly changing due to births, deaths, and other factors.', response_metadata={'finish_reason': 'stop', 'model_name': 'gpt-3.5-turbo-0125'}, id='run-9a435d84-6b3a-45a1-b370-1ad1c898e6dd-0')],\n",
       " 'n_api_call': 2}"
      ]
     },
     "execution_count": 17,
     "metadata": {},
     "output_type": "execute_result"
    }
   ],
   "source": [
    "app.invoke({\"messages\": [input_message]}, config, debug=True)"
   ]
  },
  {
   "cell_type": "code",
   "execution_count": 18,
   "metadata": {},
   "outputs": [
    {
     "data": {
      "text/plain": [
       "{'v': 1,\n",
       " 'ts': '2024-08-24T08:06:14.614320+00:00',\n",
       " 'id': '1ef61efb-bb65-6c76-8004-1d789a26b75f',\n",
       " 'channel_values': {'messages': [HumanMessage(content='how many people are in the world', id='286d00f9-4a58-4686-bbd8-774f335875fb'),\n",
       "   AIMessage(content='As of 2021, the estimated global population is around 7.9 billion people.', response_metadata={'finish_reason': 'stop', 'model_name': 'gpt-3.5-turbo-0125'}, id='run-ef1cb02f-52a4-4509-8f33-4ee48212a6c6-0'),\n",
       "   AIMessage(content='Please note that this number is constantly changing due to births, deaths, and other factors.', response_metadata={'finish_reason': 'stop', 'model_name': 'gpt-3.5-turbo-0125'}, id='run-9a435d84-6b3a-45a1-b370-1ad1c898e6dd-0')],\n",
       "  'n_api_call': 2,\n",
       "  'agent': 'agent'},\n",
       " 'channel_versions': {'__start__': 5,\n",
       "  'messages': 6,\n",
       "  'start:agent': 6,\n",
       "  'agent': 6,\n",
       "  'n_api_call': 6},\n",
       " 'versions_seen': {'__input__': {},\n",
       "  '__start__': {'__start__': 4},\n",
       "  'agent': {'start:agent': 5}},\n",
       " 'pending_sends': []}"
      ]
     },
     "execution_count": 18,
     "metadata": {},
     "output_type": "execute_result"
    }
   ],
   "source": [
    "checkpointer.get(config)"
   ]
  },
  {
   "cell_type": "code",
   "execution_count": 19,
   "metadata": {},
   "outputs": [
    {
     "data": {
      "text/plain": [
       "[CheckpointTuple(config={'configurable': {'thread_id': 'test thread', 'checkpoint_ns': '', 'checkpoint_id': '1ef61efb-bb65-6c76-8004-1d789a26b75f'}}, checkpoint={'v': 1, 'ts': '2024-08-24T08:06:14.614320+00:00', 'id': '1ef61efb-bb65-6c76-8004-1d789a26b75f', 'channel_values': {'messages': [HumanMessage(content='how many people are in the world', id='286d00f9-4a58-4686-bbd8-774f335875fb'), AIMessage(content='As of 2021, the estimated global population is around 7.9 billion people.', response_metadata={'finish_reason': 'stop', 'model_name': 'gpt-3.5-turbo-0125'}, id='run-ef1cb02f-52a4-4509-8f33-4ee48212a6c6-0'), AIMessage(content='Please note that this number is constantly changing due to births, deaths, and other factors.', response_metadata={'finish_reason': 'stop', 'model_name': 'gpt-3.5-turbo-0125'}, id='run-9a435d84-6b3a-45a1-b370-1ad1c898e6dd-0')], 'n_api_call': 2, 'agent': 'agent'}, 'channel_versions': {'__start__': 5, 'messages': 6, 'start:agent': 6, 'agent': 6, 'n_api_call': 6}, 'versions_seen': {'__input__': {}, '__start__': {'__start__': 4}, 'agent': {'start:agent': 5}}, 'pending_sends': []}, metadata={'source': 'loop', 'writes': {'agent': {'messages': AIMessage(content='Please note that this number is constantly changing due to births, deaths, and other factors.', response_metadata={'finish_reason': 'stop', 'model_name': 'gpt-3.5-turbo-0125'}, id='run-9a435d84-6b3a-45a1-b370-1ad1c898e6dd-0'), 'n_api_call': 1}}, 'step': 4}, parent_config={'configurable': {'thread_id': 'test thread', 'checkpoint_ns': '', 'checkpoint_id': '1ef61efb-b526-6cde-8003-819c83606ef5'}}, pending_writes=[]),\n",
       " CheckpointTuple(config={'configurable': {'thread_id': 'test thread', 'checkpoint_ns': '', 'checkpoint_id': '1ef61efb-b526-6cde-8003-819c83606ef5'}}, checkpoint={'v': 1, 'ts': '2024-08-24T08:06:13.959385+00:00', 'id': '1ef61efb-b526-6cde-8003-819c83606ef5', 'channel_values': {'messages': [HumanMessage(content='how many people are in the world', id='286d00f9-4a58-4686-bbd8-774f335875fb'), AIMessage(content='As of 2021, the estimated global population is around 7.9 billion people.', response_metadata={'finish_reason': 'stop', 'model_name': 'gpt-3.5-turbo-0125'}, id='run-ef1cb02f-52a4-4509-8f33-4ee48212a6c6-0')], 'n_api_call': 1, 'start:agent': '__start__'}, 'channel_versions': {'__start__': 5, 'messages': 5, 'start:agent': 5, 'agent': 4, 'n_api_call': 3}, 'versions_seen': {'__input__': {}, '__start__': {'__start__': 4}, 'agent': {'start:agent': 2}}, 'pending_sends': []}, metadata={'source': 'loop', 'writes': None, 'step': 3}, parent_config={'configurable': {'thread_id': 'test thread', 'checkpoint_ns': '', 'checkpoint_id': '1ef61efb-b520-6e7e-8002-5e11b233fd3b'}}, pending_writes=[('537ed852-dde1-564b-977c-b3a117ff13e5', 'agent', 'agent'), ('537ed852-dde1-564b-977c-b3a117ff13e5', 'messages', AIMessage(content='Please note that this number is constantly changing due to births, deaths, and other factors.', response_metadata={'finish_reason': 'stop', 'model_name': 'gpt-3.5-turbo-0125'}, id='run-9a435d84-6b3a-45a1-b370-1ad1c898e6dd-0')), ('537ed852-dde1-564b-977c-b3a117ff13e5', 'n_api_call', 1)]),\n",
       " CheckpointTuple(config={'configurable': {'thread_id': 'test thread', 'checkpoint_ns': '', 'checkpoint_id': '1ef61efb-b520-6e7e-8002-5e11b233fd3b'}}, checkpoint={'v': 1, 'ts': '2024-08-24T08:06:13.956965+00:00', 'id': '1ef61efb-b520-6e7e-8002-5e11b233fd3b', 'channel_values': {'messages': [HumanMessage(content='how many people are in the world', id='286d00f9-4a58-4686-bbd8-774f335875fb'), AIMessage(content='As of 2021, the estimated global population is around 7.9 billion people.', response_metadata={'finish_reason': 'stop', 'model_name': 'gpt-3.5-turbo-0125'}, id='run-ef1cb02f-52a4-4509-8f33-4ee48212a6c6-0')], 'n_api_call': 1, '__start__': {'messages': [HumanMessage(content='how many people are in the world', id='286d00f9-4a58-4686-bbd8-774f335875fb')]}}, 'channel_versions': {'__start__': 4, 'messages': 3, 'start:agent': 3, 'agent': 4, 'n_api_call': 3}, 'versions_seen': {'__input__': {}, '__start__': {'__start__': 1}, 'agent': {'start:agent': 2}}, 'pending_sends': []}, metadata={'source': 'input', 'writes': {'messages': [HumanMessage(content='how many people are in the world', id='286d00f9-4a58-4686-bbd8-774f335875fb')]}, 'step': 2}, parent_config={'configurable': {'thread_id': 'test thread', 'checkpoint_ns': '', 'checkpoint_id': '1ef61efb-b503-641e-8001-e7b84135b8fa'}}, pending_writes=[('d487b273-c619-5af9-b9d1-5580a1451d5e', 'messages', [HumanMessage(content='how many people are in the world', id='286d00f9-4a58-4686-bbd8-774f335875fb')]), ('d487b273-c619-5af9-b9d1-5580a1451d5e', 'start:agent', '__start__')]),\n",
       " CheckpointTuple(config={'configurable': {'thread_id': 'test thread', 'checkpoint_ns': '', 'checkpoint_id': '1ef61efb-b503-641e-8001-e7b84135b8fa'}}, checkpoint={'v': 1, 'ts': '2024-08-24T08:06:13.944813+00:00', 'id': '1ef61efb-b503-641e-8001-e7b84135b8fa', 'channel_values': {'messages': [HumanMessage(content='how many people are in the world', id='286d00f9-4a58-4686-bbd8-774f335875fb'), AIMessage(content='As of 2021, the estimated global population is around 7.9 billion people.', response_metadata={'finish_reason': 'stop', 'model_name': 'gpt-3.5-turbo-0125'}, id='run-ef1cb02f-52a4-4509-8f33-4ee48212a6c6-0')], 'n_api_call': 1, 'agent': 'agent'}, 'channel_versions': {'__start__': 2, 'messages': 3, 'start:agent': 3, 'agent': 3, 'n_api_call': 3}, 'versions_seen': {'__input__': {}, '__start__': {'__start__': 1}, 'agent': {'start:agent': 2}}, 'pending_sends': []}, metadata={'source': 'loop', 'writes': {'agent': {'messages': AIMessage(content='As of 2021, the estimated global population is around 7.9 billion people.', response_metadata={'finish_reason': 'stop', 'model_name': 'gpt-3.5-turbo-0125'}, id='run-ef1cb02f-52a4-4509-8f33-4ee48212a6c6-0'), 'n_api_call': 1}}, 'step': 1}, parent_config={'configurable': {'thread_id': 'test thread', 'checkpoint_ns': '', 'checkpoint_id': '1ef61efb-ae9e-68f8-8000-2d0b870c3786'}}, pending_writes=[]),\n",
       " CheckpointTuple(config={'configurable': {'thread_id': 'test thread', 'checkpoint_ns': '', 'checkpoint_id': '1ef61efb-ae9e-68f8-8000-2d0b870c3786'}}, checkpoint={'v': 1, 'ts': '2024-08-24T08:06:13.274424+00:00', 'id': '1ef61efb-ae9e-68f8-8000-2d0b870c3786', 'channel_values': {'messages': [HumanMessage(content='how many people are in the world', id='286d00f9-4a58-4686-bbd8-774f335875fb')], 'start:agent': '__start__'}, 'channel_versions': {'__start__': 2, 'messages': 2, 'start:agent': 2}, 'versions_seen': {'__input__': {}, '__start__': {'__start__': 1}}, 'pending_sends': []}, metadata={'source': 'loop', 'writes': None, 'step': 0}, parent_config={'configurable': {'thread_id': 'test thread', 'checkpoint_ns': '', 'checkpoint_id': '1ef61efb-ae9a-6370-bfff-add4ecb0fba6'}}, pending_writes=[('b627b37c-1f70-57c4-93fa-f51a9db590a1', 'agent', 'agent'), ('b627b37c-1f70-57c4-93fa-f51a9db590a1', 'messages', AIMessage(content='As of 2021, the estimated global population is around 7.9 billion people.', response_metadata={'finish_reason': 'stop', 'model_name': 'gpt-3.5-turbo-0125'}, id='run-ef1cb02f-52a4-4509-8f33-4ee48212a6c6-0')), ('b627b37c-1f70-57c4-93fa-f51a9db590a1', 'n_api_call', 1)]),\n",
       " CheckpointTuple(config={'configurable': {'thread_id': 'test thread', 'checkpoint_ns': '', 'checkpoint_id': '1ef61efb-ae9a-6370-bfff-add4ecb0fba6'}}, checkpoint={'v': 1, 'ts': '2024-08-24T08:06:13.272657+00:00', 'id': '1ef61efb-ae9a-6370-bfff-add4ecb0fba6', 'channel_values': {'__start__': {'messages': [HumanMessage(content='how many people are in the world')]}}, 'channel_versions': {'__start__': 1}, 'versions_seen': {'__input__': {}}, 'pending_sends': []}, metadata={'source': 'input', 'writes': {'messages': [HumanMessage(content='how many people are in the world')]}, 'step': -1}, parent_config=None, pending_writes=[('3a7a5e7c-ba36-5f3b-a345-fc33d563f578', 'messages', [HumanMessage(content='how many people are in the world', id='286d00f9-4a58-4686-bbd8-774f335875fb')]), ('3a7a5e7c-ba36-5f3b-a345-fc33d563f578', 'start:agent', '__start__')])]"
      ]
     },
     "execution_count": 19,
     "metadata": {},
     "output_type": "execute_result"
    }
   ],
   "source": [
    "list(checkpointer.list(config))"
   ]
  },
  {
   "cell_type": "code",
   "execution_count": 20,
   "metadata": {},
   "outputs": [
    {
     "name": "stdout",
     "output_type": "stream",
     "text": [
      "================================\u001b[1m Human Message \u001b[0m=================================\n",
      "\n",
      "in 2000\n",
      "==================================\u001b[1m Ai Message \u001b[0m==================================\n",
      "\n",
      ", the world was preparing for the new millennium with excitement and uncertainty. Technology was rapidly advancing, with the rise of the internet and the dot-com bubble reaching its peak. The Y2K bug was a major concern, as people feared that computer systems would crash when the year changed from 1999 to 2000. However, the new year arrived without any major issues.\n",
      "\n",
      "In politics, George W. Bush was elected as the 43rd President of the United States after a controversial election that was ultimately decided by the Supreme Court. The September 11th terrorist attacks in 2001 would have a profound impact on the world and shape the rest of the decade.\n",
      "\n",
      "In popular culture, the year 2000 saw the release of iconic movies such as \"Gladiator,\" \"X-Men,\" and \"Cast Away.\" The music scene was dominated by artists like Britney Spears, Eminem, and Destiny's Child. Reality TV shows like \"Survivor\" and \"Big Brother\" were gaining popularity, changing the landscape of television.\n",
      "\n",
      "Overall, the year 2000 was a time of transition and anticipation as the world entered a new era filled with both challenges and opportunities.\n"
     ]
    }
   ],
   "source": [
    "input_message = HumanMessage(content=\"in 2000\")\n",
    "for event in app.stream(\n",
    "    {\"messages\": [input_message]},\n",
    "    {\"configurable\": {\"thread_id\": \"2\"}},\n",
    "    stream_mode=\"values\",\n",
    "):\n",
    "    event[\"messages\"][-1].pretty_print()"
   ]
  },
  {
   "cell_type": "code",
   "execution_count": 21,
   "metadata": {},
   "outputs": [
    {
     "data": {
      "text/plain": [
       "{'v': 1,\n",
       " 'ts': '2024-08-24T08:06:14.614320+00:00',\n",
       " 'id': '1ef61efb-bb65-6c76-8004-1d789a26b75f',\n",
       " 'channel_values': {'messages': [HumanMessage(content='how many people are in the world', id='286d00f9-4a58-4686-bbd8-774f335875fb'),\n",
       "   AIMessage(content='As of 2021, the estimated global population is around 7.9 billion people.', response_metadata={'finish_reason': 'stop', 'model_name': 'gpt-3.5-turbo-0125'}, id='run-ef1cb02f-52a4-4509-8f33-4ee48212a6c6-0'),\n",
       "   AIMessage(content='Please note that this number is constantly changing due to births, deaths, and other factors.', response_metadata={'finish_reason': 'stop', 'model_name': 'gpt-3.5-turbo-0125'}, id='run-9a435d84-6b3a-45a1-b370-1ad1c898e6dd-0')],\n",
       "  'n_api_call': 2,\n",
       "  'agent': 'agent'},\n",
       " 'channel_versions': {'__start__': 5,\n",
       "  'messages': 6,\n",
       "  'start:agent': 6,\n",
       "  'agent': 6,\n",
       "  'n_api_call': 6},\n",
       " 'versions_seen': {'__input__': {},\n",
       "  '__start__': {'__start__': 4},\n",
       "  'agent': {'start:agent': 5}},\n",
       " 'pending_sends': []}"
      ]
     },
     "execution_count": 21,
     "metadata": {},
     "output_type": "execute_result"
    }
   ],
   "source": [
    "checkpointer.get(config)"
   ]
  },
  {
   "cell_type": "code",
   "execution_count": 22,
   "metadata": {},
   "outputs": [],
   "source": [
    "# langgraph_checkpoint_postgresが必要\n",
    "from langgraph.checkpoint.postgres import PostgresSaver\n",
    "\n",
    "with PostgresSaver.from_conn_string(\n",
    "    \"postgresql://postgres@localhost:5432/ml-workshop\"\n",
    ") as pg_checkpointer:\n",
    "    pg_checkpointer.setup()  # テーブルを作成\n",
    "    app_with_pg = workflow.compile(checkpointer=pg_checkpointer)\n",
    "    app_with_pg.invoke({\"messages\": [\"How many people in Japan\"]}, config)"
   ]
  },
  {
   "cell_type": "markdown",
   "metadata": {},
   "source": [
    "以下のようなテーブルが作成される\n",
    "\n",
    "```\n",
    "% psql -U postgres -d ml-workshop -c \"\\d\"                                  \n",
    "                 List of relations\n",
    " Schema |         Name          | Type  |  Owner   \n",
    "--------+-----------------------+-------+----------\n",
    " public | checkpoint_blobs      | table | postgres\n",
    " public | checkpoint_migrations | table | postgres\n",
    " public | checkpoint_writes     | table | postgres\n",
    " public | checkpoints           | table | postgres\n",
    "(4 rows)\n",
    "```"
   ]
  },
  {
   "cell_type": "markdown",
   "metadata": {},
   "source": []
  },
  {
   "cell_type": "code",
   "execution_count": 43,
   "metadata": {},
   "outputs": [],
   "source": [
    "# langgraph_checkpoint_sqliteが必要\n",
    "from langgraph.checkpoint.sqlite import SqliteSaver\n",
    "\n",
    "with SqliteSaver.from_conn_string(\"ml-workshop.db\") as sqlite_checkpointer:\n",
    "    app_with_sqlite = workflow.compile(checkpointer=sqlite_checkpointer)\n",
    "    app_with_sqlite.invoke({\"messages\": [\"How many people in Japan\"]}, config)"
   ]
  },
  {
   "cell_type": "markdown",
   "metadata": {},
   "source": []
  }
 ],
 "metadata": {
  "kernelspec": {
   "display_name": "Python 3",
   "language": "python",
   "name": "python3"
  },
  "language_info": {
   "codemirror_mode": {
    "name": "ipython",
    "version": 3
   },
   "file_extension": ".py",
   "mimetype": "text/x-python",
   "name": "python",
   "nbconvert_exporter": "python",
   "pygments_lexer": "ipython3",
   "version": "3.11.5"
  }
 },
 "nbformat": 4,
 "nbformat_minor": 2
}
