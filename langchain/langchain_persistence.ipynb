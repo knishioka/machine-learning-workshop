{
 "cells": [
  {
   "cell_type": "code",
   "execution_count": 1,
   "metadata": {},
   "outputs": [],
   "source": [
    "from typing import Annotated\n",
    "\n",
    "from langgraph.graph.message import add_messages\n",
    "from typing_extensions import TypedDict\n",
    "\n",
    "\n",
    "class State(TypedDict):\n",
    "    messages: Annotated[list, add_messages]"
   ]
  },
  {
   "cell_type": "code",
   "execution_count": 2,
   "metadata": {},
   "outputs": [],
   "source": [
    "from langchain_core.tools import tool\n",
    "\n",
    "\n",
    "@tool\n",
    "def search(query: str):\n",
    "    \"\"\"Call to surf the web.\"\"\"\n",
    "    # This is a placeholder for the actual implementation\n",
    "    return [\"The answer to your question lies within.\"]\n",
    "\n",
    "\n",
    "tools = [search]"
   ]
  },
  {
   "cell_type": "code",
   "execution_count": 3,
   "metadata": {},
   "outputs": [],
   "source": [
    "from langgraph.prebuilt import ToolNode\n",
    "\n",
    "tool_node = ToolNode(tools)"
   ]
  },
  {
   "cell_type": "code",
   "execution_count": 4,
   "metadata": {},
   "outputs": [],
   "source": [
    "from langchain_openai import ChatOpenAI\n",
    "\n",
    "model = ChatOpenAI(temperature=0, streaming=True)"
   ]
  },
  {
   "cell_type": "code",
   "execution_count": 5,
   "metadata": {},
   "outputs": [],
   "source": [
    "bound_model = model.bind_tools(tools)"
   ]
  },
  {
   "cell_type": "code",
   "execution_count": 6,
   "metadata": {},
   "outputs": [],
   "source": [
    "from typing import Literal\n",
    "\n",
    "\n",
    "def should_continue(state: State) -> Literal[\"action\", \"__end__\"]:\n",
    "    \"\"\"Return the next node to execute.\"\"\"\n",
    "    last_message = state[\"messages\"][-1]\n",
    "    # If there is no function call, then we finish\n",
    "    if not last_message.tool_calls:\n",
    "        return \"__end__\"\n",
    "    # Otherwise if there is, we continue\n",
    "    return \"action\"\n",
    "\n",
    "\n",
    "# Define the function that calls the model\n",
    "def call_model(state: State):\n",
    "    response = model.invoke(state[\"messages\"])\n",
    "    # We return a list, because this will get added to the existing list\n",
    "    return {\"messages\": response}"
   ]
  },
  {
   "cell_type": "code",
   "execution_count": 7,
   "metadata": {},
   "outputs": [],
   "source": [
    "from langgraph.graph import START, StateGraph\n",
    "\n",
    "# Define a new graph\n",
    "workflow = StateGraph(State)\n",
    "\n",
    "# Define the two nodes we will cycle between\n",
    "workflow.add_node(\"agent\", call_model)\n",
    "workflow.add_node(\"action\", tool_node)\n",
    "\n",
    "# Set the entrypoint as `agent`\n",
    "# This means that this node is the first one called\n",
    "workflow.add_edge(START, \"agent\")\n",
    "\n",
    "# We now add a conditional edge\n",
    "workflow.add_conditional_edges(\n",
    "    # First, we define the start node. We use `agent`.\n",
    "    # This means these are the edges taken after the `agent` node is called.\n",
    "    \"agent\",\n",
    "    # Next, we pass in the function that will determine which node is called next.\n",
    "    should_continue,\n",
    ")\n",
    "\n",
    "# We now add a normal edge from `tools` to `agent`.\n",
    "# This means that after `tools` is called, `agent` node is called next.\n",
    "workflow.add_edge(\"action\", \"agent\")"
   ]
  },
  {
   "cell_type": "code",
   "execution_count": 8,
   "metadata": {},
   "outputs": [],
   "source": [
    "from langgraph.checkpoint.memory import MemorySaver\n",
    "\n",
    "memory = MemorySaver()"
   ]
  },
  {
   "cell_type": "code",
   "execution_count": 9,
   "metadata": {},
   "outputs": [],
   "source": [
    "app = workflow.compile(checkpointer=memory)\n"
   ]
  },
  {
   "cell_type": "code",
   "execution_count": 10,
   "metadata": {},
   "outputs": [
    {
     "data": {
      "image/jpeg": "[encoded data removed]",
      "text/plain": [
       "<IPython.core.display.Image object>"
      ]
     },
     "metadata": {},
     "output_type": "display_data"
    }
   ],
   "source": [
    "from IPython.display import Image, display\n",
    "\n",
    "display(Image(app.get_graph().draw_mermaid_png()))"
   ]
  },
  {
   "cell_type": "code",
   "execution_count": 11,
   "metadata": {},
   "outputs": [
    {
     "name": "stdout",
     "output_type": "stream",
     "text": [
      "================================\u001b[1m Human Message \u001b[0m=================================\n",
      "\n",
      "hi! I'm bob\n",
      "==================================\u001b[1m Ai Message \u001b[0m==================================\n",
      "\n",
      "Hello Bob! How can I assist you today?\n"
     ]
    }
   ],
   "source": [
    "from langchain_core.messages import HumanMessage\n",
    "\n",
    "config = {\"configurable\": {\"thread_id\": \"2\"}}\n",
    "input_message = HumanMessage(content=\"hi! I'm bob\")\n",
    "for event in app.stream({\"messages\": [input_message]}, config, stream_mode=\"values\"):\n",
    "    event[\"messages\"][-1].pretty_print()"
   ]
  },
  {
   "cell_type": "code",
   "execution_count": 12,
   "metadata": {},
   "outputs": [
    {
     "data": {
      "text/plain": [
       "defaultdict(dict,\n",
       "            {'2': {'1ef5eced-8ed8-6fb8-bfff-0a6e30ab56c5': (b'{\"channel_values\": {\"__start__\": {\"messages\": [{\"id\": [\"langchain\", \"schema\", \"messages\", \"HumanMessage\"], \"kwargs\": {\"content\": \"hi! I\\'m bob\", \"type\": \"human\"}, \"lc\": 1, \"type\": \"constructor\"}]}, \"messages\": []}, \"channel_versions\": {\"__start__\": 1}, \"id\": \"1ef5eced-8ed8-6fb8-bfff-0a6e30ab56c5\", \"ts\": \"2024-08-20T08:33:16.749601+00:00\", \"v\": 1, \"versions_seen\": {\"__start__\": {}, \"action\": {}, \"agent\": {}}}',\n",
       "               b'{\"source\": \"input\", \"step\": -1, \"writes\": {\"messages\": [{\"id\": [\"langchain\", \"schema\", \"messages\", \"HumanMessage\"], \"kwargs\": {\"content\": \"hi! I\\'m bob\", \"type\": \"human\"}, \"lc\": 1, \"type\": \"constructor\"}]}}'),\n",
       "              '1ef5eced-8ee1-6a28-8000-d0ef5caafff5': (b'{\"channel_values\": {\"messages\": [{\"id\": [\"langchain\", \"schema\", \"messages\", \"HumanMessage\"], \"kwargs\": {\"content\": \"hi! I\\'m bob\", \"id\": \"a9aef5a3-b368-497c-b5fb-12ccffb78a54\", \"type\": \"human\"}, \"lc\": 1, \"type\": \"constructor\"}], \"start:agent\": \"__start__\"}, \"channel_versions\": {\"__start__\": 1, \"messages\": 2, \"start:agent\": 2}, \"id\": \"1ef5eced-8ee1-6a28-8000-d0ef5caafff5\", \"ts\": \"2024-08-20T08:33:16.753143+00:00\", \"v\": 1, \"versions_seen\": {\"__start__\": {\"__start__\": 1}, \"action\": {}, \"agent\": {}}}',\n",
       "               b'{\"source\": \"loop\", \"step\": 0, \"writes\": null}'),\n",
       "              '1ef5eced-98fb-6bf8-8001-57e590991320': (b'{\"channel_values\": {\"agent\": \"agent\", \"messages\": [{\"id\": [\"langchain\", \"schema\", \"messages\", \"HumanMessage\"], \"kwargs\": {\"content\": \"hi! I\\'m bob\", \"id\": \"a9aef5a3-b368-497c-b5fb-12ccffb78a54\", \"type\": \"human\"}, \"lc\": 1, \"type\": \"constructor\"}, {\"id\": [\"langchain\", \"schema\", \"messages\", \"AIMessage\"], \"kwargs\": {\"content\": \"Hello Bob! How can I assist you today?\", \"id\": \"run-032daddd-c2df-4595-a50a-8027ff326ec4-0\", \"invalid_tool_calls\": [], \"response_metadata\": {\"finish_reason\": \"stop\"}, \"tool_calls\": [], \"type\": \"ai\"}, \"lc\": 1, \"type\": \"constructor\"}]}, \"channel_versions\": {\"__start__\": 1, \"action\": 0, \"agent\": 3, \"messages\": 3, \"start:agent\": 2}, \"id\": \"1ef5eced-98fb-6bf8-8001-57e590991320\", \"ts\": \"2024-08-20T08:33:17.812414+00:00\", \"v\": 1, \"versions_seen\": {\"__start__\": {\"__start__\": 1}, \"action\": {}, \"agent\": {\"action\": 0, \"start:agent\": 2}}}',\n",
       "               b'{\"source\": \"loop\", \"step\": 1, \"writes\": {\"agent\": {\"messages\": {\"id\": [\"langchain\", \"schema\", \"messages\", \"AIMessage\"], \"kwargs\": {\"content\": \"Hello Bob! How can I assist you today?\", \"id\": \"run-032daddd-c2df-4595-a50a-8027ff326ec4-0\", \"invalid_tool_calls\": [], \"response_metadata\": {\"finish_reason\": \"stop\"}, \"tool_calls\": [], \"type\": \"ai\"}, \"lc\": 1, \"type\": \"constructor\"}}}}')}})"
      ]
     },
     "execution_count": 12,
     "metadata": {},
     "output_type": "execute_result"
    }
   ],
   "source": [
    "memory.storage"
   ]
  },
  {
   "cell_type": "code",
   "execution_count": 13,
   "metadata": {},
   "outputs": [
    {
     "name": "stdout",
     "output_type": "stream",
     "text": [
      "================================\u001b[1m Human Message \u001b[0m=================================\n",
      "\n",
      "You forgot??\n",
      "==================================\u001b[1m Ai Message \u001b[0m==================================\n",
      "\n",
      "I apologize for that oversight, Bob. How can I assist you today?\n"
     ]
    }
   ],
   "source": [
    "input_message = HumanMessage(content=\"You forgot??\")\n",
    "for event in app.stream(\n",
    "    {\"messages\": [input_message]},\n",
    "    {\"configurable\": {\"thread_id\": \"2\"}},\n",
    "    stream_mode=\"values\",\n",
    "):\n",
    "    event[\"messages\"][-1].pretty_print()"
   ]
  },
  {
   "cell_type": "code",
   "execution_count": 14,
   "metadata": {},
   "outputs": [
    {
     "data": {
      "text/plain": [
       "defaultdict(dict,\n",
       "            {'2': {'1ef5eced-8ed8-6fb8-bfff-0a6e30ab56c5': (b'{\"channel_values\": {\"__start__\": {\"messages\": [{\"id\": [\"langchain\", \"schema\", \"messages\", \"HumanMessage\"], \"kwargs\": {\"content\": \"hi! I\\'m bob\", \"type\": \"human\"}, \"lc\": 1, \"type\": \"constructor\"}]}, \"messages\": []}, \"channel_versions\": {\"__start__\": 1}, \"id\": \"1ef5eced-8ed8-6fb8-bfff-0a6e30ab56c5\", \"ts\": \"2024-08-20T08:33:16.749601+00:00\", \"v\": 1, \"versions_seen\": {\"__start__\": {}, \"action\": {}, \"agent\": {}}}',\n",
       "               b'{\"source\": \"input\", \"step\": -1, \"writes\": {\"messages\": [{\"id\": [\"langchain\", \"schema\", \"messages\", \"HumanMessage\"], \"kwargs\": {\"content\": \"hi! I\\'m bob\", \"type\": \"human\"}, \"lc\": 1, \"type\": \"constructor\"}]}}'),\n",
       "              '1ef5eced-8ee1-6a28-8000-d0ef5caafff5': (b'{\"channel_values\": {\"messages\": [{\"id\": [\"langchain\", \"schema\", \"messages\", \"HumanMessage\"], \"kwargs\": {\"content\": \"hi! I\\'m bob\", \"id\": \"a9aef5a3-b368-497c-b5fb-12ccffb78a54\", \"type\": \"human\"}, \"lc\": 1, \"type\": \"constructor\"}], \"start:agent\": \"__start__\"}, \"channel_versions\": {\"__start__\": 1, \"messages\": 2, \"start:agent\": 2}, \"id\": \"1ef5eced-8ee1-6a28-8000-d0ef5caafff5\", \"ts\": \"2024-08-20T08:33:16.753143+00:00\", \"v\": 1, \"versions_seen\": {\"__start__\": {\"__start__\": 1}, \"action\": {}, \"agent\": {}}}',\n",
       "               b'{\"source\": \"loop\", \"step\": 0, \"writes\": null}'),\n",
       "              '1ef5eced-98fb-6bf8-8001-57e590991320': (b'{\"channel_values\": {\"agent\": \"agent\", \"messages\": [{\"id\": [\"langchain\", \"schema\", \"messages\", \"HumanMessage\"], \"kwargs\": {\"content\": \"hi! I\\'m bob\", \"id\": \"a9aef5a3-b368-497c-b5fb-12ccffb78a54\", \"type\": \"human\"}, \"lc\": 1, \"type\": \"constructor\"}, {\"id\": [\"langchain\", \"schema\", \"messages\", \"AIMessage\"], \"kwargs\": {\"content\": \"Hello Bob! How can I assist you today?\", \"id\": \"run-032daddd-c2df-4595-a50a-8027ff326ec4-0\", \"invalid_tool_calls\": [], \"response_metadata\": {\"finish_reason\": \"stop\"}, \"tool_calls\": [], \"type\": \"ai\"}, \"lc\": 1, \"type\": \"constructor\"}]}, \"channel_versions\": {\"__start__\": 1, \"action\": 0, \"agent\": 3, \"messages\": 3, \"start:agent\": 2}, \"id\": \"1ef5eced-98fb-6bf8-8001-57e590991320\", \"ts\": \"2024-08-20T08:33:17.812414+00:00\", \"v\": 1, \"versions_seen\": {\"__start__\": {\"__start__\": 1}, \"action\": {}, \"agent\": {\"action\": 0, \"start:agent\": 2}}}',\n",
       "               b'{\"source\": \"loop\", \"step\": 1, \"writes\": {\"agent\": {\"messages\": {\"id\": [\"langchain\", \"schema\", \"messages\", \"AIMessage\"], \"kwargs\": {\"content\": \"Hello Bob! How can I assist you today?\", \"id\": \"run-032daddd-c2df-4595-a50a-8027ff326ec4-0\", \"invalid_tool_calls\": [], \"response_metadata\": {\"finish_reason\": \"stop\"}, \"tool_calls\": [], \"type\": \"ai\"}, \"lc\": 1, \"type\": \"constructor\"}}}}'),\n",
       "              '1ef5eced-a33f-6f1a-8002-20685053e0d3': (b'{\"channel_values\": {\"__start__\": {\"messages\": [{\"id\": [\"langchain\", \"schema\", \"messages\", \"HumanMessage\"], \"kwargs\": {\"content\": \"You forgot??\", \"type\": \"human\"}, \"lc\": 1, \"type\": \"constructor\"}]}, \"messages\": [{\"id\": [\"langchain\", \"schema\", \"messages\", \"HumanMessage\"], \"kwargs\": {\"content\": \"hi! I\\'m bob\", \"id\": \"a9aef5a3-b368-497c-b5fb-12ccffb78a54\", \"type\": \"human\"}, \"lc\": 1, \"type\": \"constructor\"}, {\"id\": [\"langchain\", \"schema\", \"messages\", \"AIMessage\"], \"kwargs\": {\"content\": \"Hello Bob! How can I assist you today?\", \"id\": \"run-032daddd-c2df-4595-a50a-8027ff326ec4-0\", \"invalid_tool_calls\": [], \"response_metadata\": {\"finish_reason\": \"stop\"}, \"tool_calls\": [], \"type\": \"ai\"}, \"lc\": 1, \"type\": \"constructor\"}]}, \"channel_versions\": {\"__start__\": 4, \"action\": 0, \"agent\": 3, \"messages\": 3, \"start:agent\": 2}, \"id\": \"1ef5eced-a33f-6f1a-8002-20685053e0d3\", \"ts\": \"2024-08-20T08:33:18.888918+00:00\", \"v\": 1, \"versions_seen\": {\"__start__\": {\"__start__\": 1}, \"action\": {}, \"agent\": {\"action\": 0, \"start:agent\": 2}}}',\n",
       "               b'{\"source\": \"input\", \"step\": 2, \"writes\": {\"messages\": [{\"id\": [\"langchain\", \"schema\", \"messages\", \"HumanMessage\"], \"kwargs\": {\"content\": \"You forgot??\", \"type\": \"human\"}, \"lc\": 1, \"type\": \"constructor\"}]}}'),\n",
       "              '1ef5eced-a346-6bee-8003-585d65685964': (b'{\"channel_values\": {\"messages\": [{\"id\": [\"langchain\", \"schema\", \"messages\", \"HumanMessage\"], \"kwargs\": {\"content\": \"hi! I\\'m bob\", \"id\": \"a9aef5a3-b368-497c-b5fb-12ccffb78a54\", \"type\": \"human\"}, \"lc\": 1, \"type\": \"constructor\"}, {\"id\": [\"langchain\", \"schema\", \"messages\", \"AIMessage\"], \"kwargs\": {\"content\": \"Hello Bob! How can I assist you today?\", \"id\": \"run-032daddd-c2df-4595-a50a-8027ff326ec4-0\", \"invalid_tool_calls\": [], \"response_metadata\": {\"finish_reason\": \"stop\"}, \"tool_calls\": [], \"type\": \"ai\"}, \"lc\": 1, \"type\": \"constructor\"}, {\"id\": [\"langchain\", \"schema\", \"messages\", \"HumanMessage\"], \"kwargs\": {\"content\": \"You forgot??\", \"id\": \"c6927e74-bb48-4182-9431-377cba1799d0\", \"type\": \"human\"}, \"lc\": 1, \"type\": \"constructor\"}], \"start:agent\": \"__start__\"}, \"channel_versions\": {\"__start__\": 4, \"action\": 0, \"agent\": 3, \"messages\": 5, \"start:agent\": 5}, \"id\": \"1ef5eced-a346-6bee-8003-585d65685964\", \"ts\": \"2024-08-20T08:33:18.891707+00:00\", \"v\": 1, \"versions_seen\": {\"__start__\": {\"__start__\": 4}, \"action\": {}, \"agent\": {\"action\": 0, \"start:agent\": 2}}}',\n",
       "               b'{\"source\": \"loop\", \"step\": 3, \"writes\": null}'),\n",
       "              '1ef5eced-afd5-6c84-8004-627da8cf3303': (b'{\"channel_values\": {\"agent\": \"agent\", \"messages\": [{\"id\": [\"langchain\", \"schema\", \"messages\", \"HumanMessage\"], \"kwargs\": {\"content\": \"hi! I\\'m bob\", \"id\": \"a9aef5a3-b368-497c-b5fb-12ccffb78a54\", \"type\": \"human\"}, \"lc\": 1, \"type\": \"constructor\"}, {\"id\": [\"langchain\", \"schema\", \"messages\", \"AIMessage\"], \"kwargs\": {\"content\": \"Hello Bob! How can I assist you today?\", \"id\": \"run-032daddd-c2df-4595-a50a-8027ff326ec4-0\", \"invalid_tool_calls\": [], \"response_metadata\": {\"finish_reason\": \"stop\"}, \"tool_calls\": [], \"type\": \"ai\"}, \"lc\": 1, \"type\": \"constructor\"}, {\"id\": [\"langchain\", \"schema\", \"messages\", \"HumanMessage\"], \"kwargs\": {\"content\": \"You forgot??\", \"id\": \"c6927e74-bb48-4182-9431-377cba1799d0\", \"type\": \"human\"}, \"lc\": 1, \"type\": \"constructor\"}, {\"id\": [\"langchain\", \"schema\", \"messages\", \"AIMessage\"], \"kwargs\": {\"content\": \"I apologize for that oversight, Bob. How can I assist you today?\", \"id\": \"run-730b7c6e-286b-4961-9aea-71823f88805c-0\", \"invalid_tool_calls\": [], \"response_metadata\": {\"finish_reason\": \"stop\"}, \"tool_calls\": [], \"type\": \"ai\"}, \"lc\": 1, \"type\": \"constructor\"}]}, \"channel_versions\": {\"__start__\": 4, \"action\": 0, \"agent\": 6, \"messages\": 6, \"start:agent\": 5}, \"id\": \"1ef5eced-afd5-6c84-8004-627da8cf3303\", \"ts\": \"2024-08-20T08:33:20.208585+00:00\", \"v\": 1, \"versions_seen\": {\"__start__\": {\"__start__\": 4}, \"action\": {}, \"agent\": {\"action\": 0, \"start:agent\": 5}}}',\n",
       "               b'{\"source\": \"loop\", \"step\": 4, \"writes\": {\"agent\": {\"messages\": {\"id\": [\"langchain\", \"schema\", \"messages\", \"AIMessage\"], \"kwargs\": {\"content\": \"I apologize for that oversight, Bob. How can I assist you today?\", \"id\": \"run-730b7c6e-286b-4961-9aea-71823f88805c-0\", \"invalid_tool_calls\": [], \"response_metadata\": {\"finish_reason\": \"stop\"}, \"tool_calls\": [], \"type\": \"ai\"}, \"lc\": 1, \"type\": \"constructor\"}}}}')}})"
      ]
     },
     "execution_count": 14,
     "metadata": {},
     "output_type": "execute_result"
    }
   ],
   "source": [
    "memory.storage"
   ]
  }
 ],
 "metadata": {
  "kernelspec": {
   "display_name": "Python 3",
   "language": "python",
   "name": "python3"
  },
  "language_info": {
   "codemirror_mode": {
    "name": "ipython",
    "version": 3
   },
   "file_extension": ".py",
   "mimetype": "text/x-python",
   "name": "python",
   "nbconvert_exporter": "python",
   "pygments_lexer": "ipython3",
   "version": "3.9.7"
  }
 },
 "nbformat": 4,
 "nbformat_minor": 2
}
