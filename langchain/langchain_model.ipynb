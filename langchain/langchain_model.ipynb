{
 "cells": [
  {
   "cell_type": "code",
   "execution_count": 1,
   "id": "78eb938d",
   "metadata": {},
   "outputs": [
    {
     "name": "stdout",
     "output_type": "stream",
     "text": [
      "Requirement already satisfied: huggingface_hub in /Users/ken/.pyenv/versions/3.9.7/lib/python3.9/site-packages (0.16.4)\n",
      "Requirement already satisfied: filelock in /Users/ken/.pyenv/versions/3.9.7/lib/python3.9/site-packages (from huggingface_hub) (3.12.2)\n",
      "Requirement already satisfied: fsspec in /Users/ken/.pyenv/versions/3.9.7/lib/python3.9/site-packages (from huggingface_hub) (2023.6.0)\n",
      "Requirement already satisfied: requests in /Users/ken/.pyenv/versions/3.9.7/lib/python3.9/site-packages (from huggingface_hub) (2.28.1)\n",
      "Requirement already satisfied: tqdm>=4.42.1 in /Users/ken/.pyenv/versions/3.9.7/lib/python3.9/site-packages (from huggingface_hub) (4.64.0)\n",
      "Requirement already satisfied: pyyaml>=5.1 in /Users/ken/.pyenv/versions/3.9.7/lib/python3.9/site-packages (from huggingface_hub) (5.4.1)\n",
      "Requirement already satisfied: typing-extensions>=3.7.4.3 in /Users/ken/.pyenv/versions/3.9.7/lib/python3.9/site-packages (from huggingface_hub) (4.4.0)\n",
      "Requirement already satisfied: packaging>=20.9 in /Users/ken/.pyenv/versions/3.9.7/lib/python3.9/site-packages (from huggingface_hub) (21.3)\n",
      "Requirement already satisfied: pyparsing!=3.0.5,>=2.0.2 in /Users/ken/.pyenv/versions/3.9.7/lib/python3.9/site-packages (from packaging>=20.9->huggingface_hub) (3.0.9)\n",
      "Requirement already satisfied: charset-normalizer<3,>=2 in /Users/ken/.pyenv/versions/3.9.7/lib/python3.9/site-packages (from requests->huggingface_hub) (2.1.1)\n",
      "Requirement already satisfied: idna<4,>=2.5 in /Users/ken/.pyenv/versions/3.9.7/lib/python3.9/site-packages (from requests->huggingface_hub) (3.4)\n",
      "Requirement already satisfied: urllib3<1.27,>=1.21.1 in /Users/ken/.pyenv/versions/3.9.7/lib/python3.9/site-packages (from requests->huggingface_hub) (1.26.12)\n",
      "Requirement already satisfied: certifi>=2017.4.17 in /Users/ken/.pyenv/versions/3.9.7/lib/python3.9/site-packages (from requests->huggingface_hub) (2022.9.24)\n"
     ]
    }
   ],
   "source": [
    "!pip install huggingface_hub"
   ]
  },
  {
   "cell_type": "markdown",
   "id": "b806ec7b",
   "metadata": {},
   "source": [
    "## 環境変数の読み込み\n",
    "- OPENAI_API_KEY: OPENAIのAPIを使うために必要\n",
    "- HUGGINGFACEHUB_API_TOKEN: HuggingFaceのAPIを使うために必要"
   ]
  },
  {
   "cell_type": "code",
   "execution_count": 2,
   "id": "329b75d7",
   "metadata": {},
   "outputs": [
    {
     "data": {
      "text/plain": [
       "True"
      ]
     },
     "execution_count": 2,
     "metadata": {},
     "output_type": "execute_result"
    }
   ],
   "source": [
    "from dotenv import load_dotenv\n",
    "\n",
    "load_dotenv()"
   ]
  },
  {
   "cell_type": "markdown",
   "id": "499ec3bd",
   "metadata": {},
   "source": [
    "## モデル"
   ]
  },
  {
   "cell_type": "markdown",
   "id": "a85c10d1",
   "metadata": {},
   "source": [
    "### HuggingFaceのモデル"
   ]
  },
  {
   "cell_type": "code",
   "execution_count": 3,
   "id": "8c961430",
   "metadata": {},
   "outputs": [],
   "source": [
    "from langchain import HuggingFaceHub, PromptTemplate\n",
    "from langchain.chains import LLMChain\n",
    "\n",
    "repo_id = \"line-corporation/japanese-large-lm-1.7b\"\n",
    "llm = HuggingFaceHub(repo_id=repo_id)"
   ]
  },
  {
   "cell_type": "code",
   "execution_count": 4,
   "id": "e0a21b02",
   "metadata": {},
   "outputs": [],
   "source": [
    "template = \"\"\"What is {question}?\"\"\"\n",
    "prompt = PromptTemplate(template=template, input_variables=[\"question\"])\n",
    "llm_chain = LLMChain(prompt=prompt, llm=llm)"
   ]
  },
  {
   "cell_type": "code",
   "execution_count": 5,
   "id": "2b701160",
   "metadata": {},
   "outputs": [
    {
     "data": {
      "text/plain": [
       "' What is computer learning'"
      ]
     },
     "execution_count": 5,
     "metadata": {},
     "output_type": "execute_result"
    }
   ],
   "source": [
    "question = \"machine learning\"\n",
    "llm_chain.run(question)"
   ]
  },
  {
   "cell_type": "markdown",
   "id": "5472244d",
   "metadata": {},
   "source": [
    "### OpenAIのモデル"
   ]
  },
  {
   "cell_type": "code",
   "execution_count": 6,
   "id": "691009f1",
   "metadata": {},
   "outputs": [],
   "source": [
    "from langchain.llms import OpenAI\n",
    "llm = OpenAI(temperature=0.7)\n",
    "llm_chain = LLMChain(prompt=prompt, llm=llm)"
   ]
  },
  {
   "cell_type": "code",
   "execution_count": 7,
   "id": "fc04ea7d",
   "metadata": {},
   "outputs": [
    {
     "data": {
      "text/plain": [
       "'text-davinci-003'"
      ]
     },
     "execution_count": 7,
     "metadata": {},
     "output_type": "execute_result"
    }
   ],
   "source": [
    "llm.model_name"
   ]
  },
  {
   "cell_type": "code",
   "execution_count": 8,
   "id": "a611dfbd",
   "metadata": {},
   "outputs": [
    {
     "data": {
      "text/plain": [
       "'\\n\\nMachine learning is a type of artificial intelligence (AI) that enables computers to learn from data and identify patterns without being explicitly programmed to do so. Machine learning algorithms use statistical techniques to detect patterns in data. This data is then used to make predictions and decisions.'"
      ]
     },
     "execution_count": 8,
     "metadata": {},
     "output_type": "execute_result"
    }
   ],
   "source": [
    "llm_chain.run(question)"
   ]
  }
 ],
 "metadata": {
  "kernelspec": {
   "display_name": "Python 3 (ipykernel)",
   "language": "python",
   "name": "python3"
  },
  "language_info": {
   "codemirror_mode": {
    "name": "ipython",
    "version": 3
   },
   "file_extension": ".py",
   "mimetype": "text/x-python",
   "name": "python",
   "nbconvert_exporter": "python",
   "pygments_lexer": "ipython3",
   "version": "3.9.7"
  }
 },
 "nbformat": 4,
 "nbformat_minor": 5
}
