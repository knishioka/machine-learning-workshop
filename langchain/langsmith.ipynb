{
 "cells": [
  {
   "cell_type": "markdown",
   "id": "9df1073a-b0c5-4312-b5b9-607e60cdb451",
   "metadata": {},
   "source": [
    "## 環境変数読み込み\n",
    "- OPENAI_API_KEY\n",
    "- LANGCHAIN_TRACING_V2\n",
    "- LANGCHAIN_API_KEY\n",
    "- LANGCHAIN_PROJECT: ログはProjectごとに保存される。\n",
    "- TAVILY_API_KEY: AIエージェント専用に構築された検索エンジン。"
   ]
  },
  {
   "cell_type": "code",
   "execution_count": 1,
   "id": "6d504eaf-6daf-40a6-8e44-44e9c16d687a",
   "metadata": {},
   "outputs": [
    {
     "data": {
      "text/plain": [
       "True"
      ]
     },
     "execution_count": 1,
     "metadata": {},
     "output_type": "execute_result"
    }
   ],
   "source": [
    "from dotenv import load_dotenv\n",
    "load_dotenv()"
   ]
  },
  {
   "cell_type": "markdown",
   "id": "3b14e35d-59fa-46ca-ad38-e8bfabbf10ef",
   "metadata": {},
   "source": [
    "## ログを飛ばすプロジェクト\n",
    "ログを飛ばすプロジェクトは、環境変数 `LANGCHAIN_PROJECT` で指定する。"
   ]
  },
  {
   "cell_type": "code",
   "execution_count": 2,
   "id": "cba56691-4655-4ce9-8800-99acfaa8ddcd",
   "metadata": {},
   "outputs": [
    {
     "name": "stdout",
     "output_type": "stream",
     "text": [
      "machine-learning-workshop\n"
     ]
    }
   ],
   "source": [
    "import os\n",
    "print(os.environ[\"LANGCHAIN_PROJECT\"])"
   ]
  },
  {
   "cell_type": "markdown",
   "id": "f8bd66b8-6d53-42cf-ba7f-5ca90ee611c3",
   "metadata": {},
   "source": [
    "## Quick Start"
   ]
  },
  {
   "cell_type": "code",
   "execution_count": 3,
   "id": "ac7f4a01-1c9e-4586-9217-6bd2e3ae3987",
   "metadata": {},
   "outputs": [
    {
     "data": {
      "text/plain": [
       "AIMessage(content='Hello! How can I assist you today?')"
      ]
     },
     "execution_count": 3,
     "metadata": {},
     "output_type": "execute_result"
    }
   ],
   "source": [
    "from langchain_openai import ChatOpenAI\n",
    "\n",
    "llm = ChatOpenAI()\n",
    "llm.invoke(\"Hello, world!\")"
   ]
  },
  {
   "cell_type": "markdown",
   "id": "41ba7709-e508-417c-b032-0c82bae14ffb",
   "metadata": {},
   "source": [
    "## LangChain Agentのログ"
   ]
  },
  {
   "cell_type": "code",
   "execution_count": 4,
   "id": "8786afbf-2c92-4563-8a45-ea58b1f94063",
   "metadata": {},
   "outputs": [],
   "source": [
    "from langchain_community.tools.tavily_search import TavilySearchResults\n",
    "\n",
    "tool = TavilySearchResults()"
   ]
  },
  {
   "cell_type": "code",
   "execution_count": 5,
   "id": "be310eab-ec67-4bb8-a2e5-f473f14dc384",
   "metadata": {},
   "outputs": [
    {
     "data": {
      "text/plain": [
       "[{'url': 'https://finance.yahoo.co.jp/quote/998407.O',\n",
       "  'content': '998407.O 20分ディレイ株価 15:15 年初来高値 日経平均株価 38,487.24 ポートフォリオに追加 前日比 +329.30 (+0.86 %) 詳細情報 チャート 時系列 ニュース'},\n",
       " {'url': 'https://www.nikkei.com/markets/worldidx/chart/nk225/',\n",
       "  'content': '日経平均株価 日経の指数について（指数公式ページ） 採用銘柄一覧 38,157.94 (15日 15:15 大引) ＋454.62 (＋1.21%) (単位:円) 2/1 1/1 12/1 32,000 33,000 34,000 35,000 36,000 37,000 38,000 0 2,000,000 4,000,000 6,000,000 表示期間 1日 3ヵ月 6ヵ月...'},\n",
       " {'url': 'https://nikkei225jp.com/chart/',\n",
       "  'content': '採用銘柄は毎年見直される他、臨時に入れ替えがなされることもあります。権利落ちに対する株価修正を行い連続性を保っています。一方、単純平均の為に値がさ株（株価が高い株）の影響力が大きくなります。ハイテク企業や金融企業に値がさ株が多いため日経平均はハイテク株や金融株の動きに左右されやすいという特徴を持ってます。\\nリンクフリーです。他サイトへのリンクは新しいウィンドウで開きます。\\n・夜間の日経先物動向にも注目 ⇒ 日経先物CME\\n・日経平均株価に大きな影響を与える銘柄をチェック ⇒ 日経平均 寄与度\\n・どの業種が大きく変動しているのか？業種別株価指数をチェック ⇒ 業種別株価指数\\n・日経平均にもっとも影響を与えるドル円 為替をチェック ⇒ 為替 ドル円\\n・日経平均株価に影響を与えるNY市況をチェック ⇒ NYダウ\\n・世界の株価や為替、先物の情報を全体的にチェック ⇒ ch225 世界の株価 タブレット\\n・スマホやiPhoneでも日経平均株価をチェックしたい ⇒ 225225.jp 世界の株価 スマホ\\n世界の株価\\n日経先物CME\\n日経平均\\nアジア株価\\nヨーロッパ株価\\n★NYダウ\\n原油価格\\n為替\\n債券 国債利回り\\nビットコイン\\n経済ニュース\\n経済スケジュール\\n日経平均寄与度\\n業種別株価指数\\n日銀ETF買い入れ\\n5分足カレンダー\\n騰落レシオ\\n日経平均PER\\nドル建て日経平均\\nNT倍率\\n新高値\\n恐怖指数\\n投資主体別\\n空売り比率\\n信用評価損益率\\nADR全銘柄\\nADR主要銘柄\\nADR個別詳細\\n【複合チャート】\\n上部の指数名をクリックすると表示非表示が切り替わります。チャートは指数の表示と期間の変更をCookie保存して、次回アクセス時に同じ設定で表示をします。スマホでは変更後にチャートを一度タッチしないと設定変更が保存されません。\\n☑ NIKKEI=日経平均☑ NK OSE=日経先物mini大阪☑ NK CFD=日経平均CFD☑ TOPIX ☑ G250=グロース250\\u3000 REIT=東証REIT\\u3000 NT=NT倍率\\u3000 VI=日経VI☑ USDJPY=為替ドル円☑ VOL=東証プライム売買高（百万株）15分カラム※ ☑はデフォルト表示\\n特定の銘柄のチャートが表示されないときは[市場休日確認]もチェックしてみください。\\n【前日比の色】\\nカテゴリにより変動差が異なる為に銘柄によって前日比の色を分けています\\nぱっとみの色の強さで注目すべき銘柄を分りやすくなるようにしています。\\n「指数」=株価指数、株価指数先物、債券利回り、業種別株価指数\\n「為替」=為替\\n「先物」=原油、金、仮想通貨（恐怖指数は先物の4倍）\\n【ミニチャート】主要株価指数 表中のミニチャートをクリックすると詳細のポップアップチャートが表示されます。 日経平均 リアルタイム チャート\\n日経平均株価\\nＴＯＰＩＸ\\nグロース250\\n為替 ドル円\\nCFD日経平均\\n日経先物 大取\\n日経先物 CME\\nＴＯＰＩＸ先物\\nグロース250先物\\nJPX日経400\\n東証プライム\\n東証スタンダード\\n東証グロース\\n東証REIT\\n日本国債10年利回り\\n長期国債先物 大取\\n日経VI\\nNT倍率\\nドル建て日経平均\\n※上記チャートの日経平均CFDは米国市場休日の場合更新されません。\\u3000 +14.15% 2008年10月14日 リーマンショック\\n・最安値 6,994.90 (バブル以降)2009年3月10日 リーマンショック\\n・最大下落幅 -3,836.48 1987年10月20日 ブラックマンデー\\n・最大下落率 -14.90% 1987年10月20日 ブラックマンデー\\n日経平均株価\\n日経平均株価とは日本の株式市場全体の動きを示す株価指数の内で、国内外の市場関係者に最もよく知られているものです。225銘柄で構成されている為、日経225とも呼ばれます。海外ではNikkei225と表記されます。日本経済新聞社が算出、公表しています。 東証1部上場銘柄中から流動性や業種等のバランスを考慮して選んだ225銘柄の株価の単純平均。 マウスオーバーかタッチをするとポップアップチャートが表示されます。クリックかダブルタップでYahooの銘柄ページに移動します。\\n値上がり率 TOP10\\n値下がり率 TOP10\\n日経平均 ６ヶ月チャート [ボリンジャーバンド MACD RSI SlowStochastics]\\n日経平均 ３ヶ月チャート [市場休日確認]\\n※チャートが更新されない場合は上下各3番目のセレクターを切り替えてみて下さい。\\n変更した選択は次回アクセス時にも保存されています。\\n'},\n",
       " {'url': 'https://nikkei225jp.com/',\n",
       "  'content': '世界の株価指数やcme日経先物、日経平均株価、nyダウ、為替、wti原油、ビットコイン、仮想通貨などの10秒足リアルタイムチャート。世界経済を把握しやすい複合チャートや自動更新株価など定番の無料株価情報サイト'},\n",
       " {'url': 'https://www.nikkei.com/markets/kabu/',\n",
       "  'content': '株価・株式ニュース:国内の株式市場の最新情報 株式 企業 為替・金利 商品 海外 ランキング コラム 投資信託 世界の市況 企業IR 2/17 5:49 長期金利 (％)： 米国債10年 (％)：2/17 5:41 国内株概況 シカゴ日本株先物概況・16日 【NQNﾆｭｰﾖｰｸ】16日の日経平均先物は下落した。 3月物は前日比275円安の3万8300円で終えた。...'}]"
      ]
     },
     "execution_count": 5,
     "metadata": {},
     "output_type": "execute_result"
    }
   ],
   "source": [
    "tool.invoke({\"query\": \"直近の株価\"})"
   ]
  },
  {
   "cell_type": "code",
   "execution_count": 6,
   "id": "4ba49bfd-1d98-4647-97ff-e97d8f376942",
   "metadata": {},
   "outputs": [],
   "source": [
    "from langchain import hub\n",
    "from langchain.agents import AgentExecutor, create_openai_functions_agent\n",
    "\n",
    "base_prompt = hub.pull(\"langchain-ai/openai-functions-template\")"
   ]
  },
  {
   "cell_type": "code",
   "execution_count": 7,
   "id": "2b6ba84d-7b2b-42c8-8f4e-65079e3bdf4c",
   "metadata": {},
   "outputs": [
    {
     "data": {
      "text/plain": [
       "ChatPromptTemplate(input_variables=['agent_scratchpad', 'input', 'instructions'], input_types={'chat_history': typing.List[typing.Union[langchain_core.messages.ai.AIMessage, langchain_core.messages.human.HumanMessage, langchain_core.messages.chat.ChatMessage, langchain_core.messages.system.SystemMessage, langchain_core.messages.function.FunctionMessage, langchain_core.messages.tool.ToolMessage]], 'agent_scratchpad': typing.List[typing.Union[langchain_core.messages.ai.AIMessage, langchain_core.messages.human.HumanMessage, langchain_core.messages.chat.ChatMessage, langchain_core.messages.system.SystemMessage, langchain_core.messages.function.FunctionMessage, langchain_core.messages.tool.ToolMessage]]}, messages=[SystemMessagePromptTemplate(prompt=PromptTemplate(input_variables=['instructions'], template='{instructions}')), MessagesPlaceholder(variable_name='chat_history', optional=True), HumanMessagePromptTemplate(prompt=PromptTemplate(input_variables=['input'], template='{input}')), MessagesPlaceholder(variable_name='agent_scratchpad')])"
      ]
     },
     "execution_count": 7,
     "metadata": {},
     "output_type": "execute_result"
    }
   ],
   "source": [
    "base_prompt"
   ]
  },
  {
   "cell_type": "code",
   "execution_count": 8,
   "id": "50412f12-460d-432d-9843-74fde225eb96",
   "metadata": {},
   "outputs": [],
   "source": [
    "instructions = \"\"\"You are an assistant.\"\"\"\n",
    "prompt = base_prompt.partial(instructions=instructions)"
   ]
  },
  {
   "cell_type": "code",
   "execution_count": 9,
   "id": "82bd4825-b30d-4bac-a308-8b8abe897df1",
   "metadata": {},
   "outputs": [
    {
     "data": {
      "text/plain": [
       "ChatPromptTemplate(input_variables=['agent_scratchpad', 'input'], input_types={'chat_history': typing.List[typing.Union[langchain_core.messages.ai.AIMessage, langchain_core.messages.human.HumanMessage, langchain_core.messages.chat.ChatMessage, langchain_core.messages.system.SystemMessage, langchain_core.messages.function.FunctionMessage, langchain_core.messages.tool.ToolMessage]], 'agent_scratchpad': typing.List[typing.Union[langchain_core.messages.ai.AIMessage, langchain_core.messages.human.HumanMessage, langchain_core.messages.chat.ChatMessage, langchain_core.messages.system.SystemMessage, langchain_core.messages.function.FunctionMessage, langchain_core.messages.tool.ToolMessage]]}, partial_variables={'instructions': 'You are an assistant.'}, messages=[SystemMessagePromptTemplate(prompt=PromptTemplate(input_variables=['instructions'], template='{instructions}')), MessagesPlaceholder(variable_name='chat_history', optional=True), HumanMessagePromptTemplate(prompt=PromptTemplate(input_variables=['input'], template='{input}')), MessagesPlaceholder(variable_name='agent_scratchpad')])"
      ]
     },
     "execution_count": 9,
     "metadata": {},
     "output_type": "execute_result"
    }
   ],
   "source": [
    "prompt"
   ]
  },
  {
   "cell_type": "code",
   "execution_count": 10,
   "id": "be8c412c-1113-47a2-8280-5fc67c3bc392",
   "metadata": {},
   "outputs": [],
   "source": [
    "llm = ChatOpenAI(temperature=0)\n",
    "tavily_tool = TavilySearchResults()\n",
    "tools = [tavily_tool]\n",
    "agent = create_openai_functions_agent(llm, tools, prompt)\n",
    "agent_executor = AgentExecutor(\n",
    "    agent=agent,\n",
    "    tools=tools,\n",
    "    verbose=True,\n",
    ")"
   ]
  },
  {
   "cell_type": "code",
   "execution_count": 11,
   "id": "c691ac12-afa6-426e-81d2-967a2310a07a",
   "metadata": {},
   "outputs": [
    {
     "name": "stdout",
     "output_type": "stream",
     "text": [
      "\n",
      "\n",
      "\u001b[1m> Entering new AgentExecutor chain...\u001b[0m\n",
      "\u001b[32;1m\u001b[1;3m\n",
      "Invoking: `tavily_search_results_json` with `{'query': '直近の日銀の発言は円安と円高のどちらに働くか'}`\n",
      "\n",
      "\n",
      "\u001b[0m\u001b[36;1m\u001b[1;3m[{'url': 'https://globe.asahi.com/article/15009715', 'content': 'わかりやすく簡単に解説：朝日新聞GLOBE＋ 円安・円高とはどういう状態？ わかりやすく簡単に解説 World Now 更新日：2023.09.27 公開日：2023.09.27 2023年4月までの10年間にわたり、日本銀行総裁を務めた黒田東彦氏。 就任後間もなく、日本経済のデフレ脱却のため「2％インフレ目標を2年で実現する」と宣言。...'}, {'url': 'https://www.bbc.com/japanese/features-and-analysis-63422147', 'content': '政府・日銀による円買い介入は、日本の金融危機の最中に円安が進んだ1998年6月以来、24年3カ月ぶりだった。 この介入は短期間は効果があったものの、日本円は再び下落を続け、20日には1ドル＝150円台にまで値下がりした。 Getty Images'}, {'url': 'https://www3.nhk.or.jp/news/html/20231101/k10014243841000.html', 'content': '注目 円安加速 その要因は？ 先月に入って円相場は1ドル＝150円前後で推移していましたが、10月31日、日銀が金融政策の運用をさらに柔軟化すると決めたことをきっかけに海外の投資家を中心とした円売りが膨らみ円安が加速しました。 円安が進んだ背景には2つの要因があります。...'}, {'url': 'https://www.asahi.com/articles/ASS2913WGS28ULFA038.html', 'content': '8日の外国為替市場で円安ドル高が進み、一時、約2カ月半ぶりに1ドル=149円台まで下落した。日本銀行の内田真一副総裁が、大規模な金融緩和から ...'}, {'url': 'https://www.bloomberg.co.jp/news/articles/2023-12-18/S5OZTET1UM0W00', 'content': '24年の円相場は劇的Ｕターン、金融政策逆回転で４年ぶり円高へ\\n３年連続の大幅円安は2024年に終わりを告げそうだ。日本銀行が世界最後のマイナス金利政策から脱却する一方、海外の主要中銀が利下げに向かうことで、来年は円高が進むと市場関係者は予想している。\\n23年に円相場が反発するという予想は早くも２月の時点で外れ始めたが、来年は異なると市場関係者はみる。１年前、トレーダーは日銀の植田和男新総裁が超金融緩和政策を解除するかもしれないと考えていたが、今では数カ月以内に政策転換が訪れるとの見方でエコノミストと足並みを揃え、日銀執行部も将来の緩和解除の意味合いについて公に論じている。\\nみずほ証券金融市場部の大森翔央輝チーフデスクストラテジストは「日銀は大きく金融引き締めはできないだろうが、マイナス金利解除については意思を固めているようだ」と指摘。「来年は円に強気な人にとっては良い年になるだろう」と予想する。\\n海外情勢も１年前と比べて見通しやすくなっている。昨年は米国の金利が23年中にピークを迎えるとみられていたが、今月の米連邦公開市場委員会（ＦＯＭＣ）で示された政策立案者らの予測では24年に75ベーシスポイント（ｂｐ、１ｂｐ＝0.01％）の利下げが示された。\\nブルームバーグがまとめた予測中央値では、日本と米国との金利差の縮小により24年末までに１ドル＝135円まで円高・ドル安が進む見通し。１年前（22年12月16日時点）の23年末の強気予想は131円だった。18日午後５時10分時点の円相場は前週末比0.2％円安の142円46銭で推移している。\\nトロウ・キャピタル・マネジメントの創設者で最高経営責任者（ＣＥＯ）のスペンサー・ハキミアン氏は、「米連邦準備制度理事会（ＦＲＢ）は23年に100ｂｐの利上げを実施した一方、日銀はマイナス金利を維持した。これが円の逆風となっていた」と語る。「24年には逆のシナリオが実現し、円高方向に動く」とし、24年末の円相場を１ドル＝135円付近と予想する。\\n23年の円・ドル相場の方向性を大きく左右してきた米10年国債利回りはこの１カ月で約50ｂｐ低下した。\\nソシエテ・ジェネラルのチーフ為替ストラテジスト、キット・ジャックス氏は「米国の債券利回りはピークに達し、ＦＲＢも利上げを終え、ドルは24年にさらに下落するとみられる」と指摘。「円は大幅に上昇するはずだ」と語る。\\nとはいえ、円相場の変動は大きくなる余地がある。日銀が今月18、19日の政策決定会合でマイナス金利政策の解除に踏み切るとの観測が高まり、円はわずか１日で４％近く上昇。その後２日連続で下落した後、再び円高となった。\\n１月と３月の日銀政策決定会合は、日銀ウォッチャーの多くが政策変更の可能性が最も高いとみる４月会合に向けて思惑をさらに強めるイベントになる。インフレ率は日銀が目標とする２％を１年半以上上回っているが、日銀は賃金の堅調な伸びのさらなる確証を得ようとしており、それは来年の春闘で示される可能性がある。\\n「日本経済の長期的な構造的改善が十分に進んでいる」。スタンダード・バンクのＧ10戦略責任者、スティーブン・バロー氏はデフレ脱却や株式市場の上昇など前向きな変化を挙げ、金利差縮小の有無にかかわらず、長期的に円高が進むと予想。１年後の円相場は１ドル＝125円と見込む。東証株価指数（ＴＯＰＩＸ）は年初から20％以上上昇している。\\n12月５日までの米商品先物取引委員会（ＣＦＴＣ）のデータによると、アセットマネジャーはここ数カ月、円に弱気なポジションを減らしている。一方、ヘッジファンドは依然円に対して懐疑的で、高水準の売りポジションを維持している。\\nみずほ銀行の唐鎌大輔チーフマーケットエコノミストは「円高は不可避だが、深刻ではない」が基本、とした上で24年末の円相場を132円と予想。日本の貿易赤字は東京外国為替市場で「円を売りたい人が多い」という状況が変わらないことを意味すると指摘した。\\n以下は投資家やストラテジストによる来年の円相場に関するコメント：\\n野村証券の後藤祐二朗チーフ為替ストラテジスト\\nＦＲＢやＥＣＢは来年６月もしくはそれより前に利下げ開始の公算が大きくなったことから、円高・ドル安が進むと予想。米景気後退入りとなれば、ドル・円は130～135円に向けて一段安の公算がある一方、軟着陸に成功する場合は140円前後がドルの押し目買いの好機になり得る\\n三井住友ＤＳアセットマネジメント運用部の横内武志シニアファンドマネージャー\\n海外の中銀の利下げおよび日銀の金融政策の変更を鑑みれば、ドル・円はまず間違いなく下向きの方向だろう。ただ、昔のような100円などという円高は考えづらい。景気回復も昔のように力強い感じではない\\nオーストラリア・ニュージーランド銀行外国為替・コモディティ営業部の町田広之ディレクター\\n日銀は米国の利下げを背景に引き締めができない可能性はあるが、米金利低下の要因による日米金利差縮小だけでドル・円は下落するだろう\\n大和証券金融市場調査部の多田出健太チーフ為替ストラテジスト\\nＦＲＢは米国経済の景気後退入りを受けて24年夏に利下げを開始し、ドル・円は120円台に下落すると予想。リスクは米経済の軟着陸が成功し、米国の良好なリスクセンチメントが維持されると、円売り圧力も根強いと思われ、ドル・円は140円台で下げ渋るとみる\\n三菱ＵＦＪ銀行グローバルマーケットリサーチの井野鉄兵チーフアナリスト\\n来年は米大統領選があるため、景気下支えの民意は強くなる可能性があり、利下げということになる。一方、日銀は１月に正常化に踏み切るとみる。１月の決定会合後にやや機械的に円高にシフトし、その後１回程度短期金利の引き上げの可能性もある\\n三井住友銀行の鈴木浩史チーフ・為替ストラテジスト\\n来年も円キャリートレードはある程度残る可能性はある。米利下げが調整的なものにとどまるのであれば、日米の金利差は残り続ける。日米の金融政策見通しが安定してくると、キャリートレードがドル・円相場を下支えする可能性があることも含め、年末のドル・円135円を見込む\\nステート・ストリート・グローバル・アドバイザーズ取締役副社長、チーフ・インベストメント・オフィサーの新原謙介氏\\nドルは高い金利、強い株価や景気に支えられて強含んでおり、売る理由がなかった。ただ、これらの環境が変わってくるのであれば、ドル安によって円に真っ先に上昇圧力がかかるだろう。そのような圧力は来年に向けて強くなるとみている'}]\u001b[0m\u001b[32;1m\u001b[1;3m直近の日銀の発言によると、円高に働く可能性が高いとされています。日本銀行が金融政策の運用を柔軟化することで、海外の投資家を中心とした円売りが増加し、円安が加速しています。また、市場関係者やエコノミストたちは、日本銀行がマイナス金利政策から脱却し、海外の主要中銀が利下げに向かうことで、来年は円高が進むと予想しています。\u001b[0m\n",
      "\n",
      "\u001b[1m> Finished chain.\u001b[0m\n"
     ]
    },
    {
     "data": {
      "text/plain": [
       "{'input': '直近の日銀の発言は円安と円高のどちらに働くか',\n",
       " 'output': '直近の日銀の発言によると、円高に働く可能性が高いとされています。日本銀行が金融政策の運用を柔軟化することで、海外の投資家を中心とした円売りが増加し、円安が加速しています。また、市場関係者やエコノミストたちは、日本銀行がマイナス金利政策から脱却し、海外の主要中銀が利下げに向かうことで、来年は円高が進むと予想しています。'}"
      ]
     },
     "execution_count": 11,
     "metadata": {},
     "output_type": "execute_result"
    }
   ],
   "source": [
    "agent_executor.invoke({\"input\": \"直近の日銀の発言は円安と円高のどちらに働くか\"})"
   ]
  }
 ],
 "metadata": {
  "kernelspec": {
   "display_name": "Python 3 (ipykernel)",
   "language": "python",
   "name": "python3"
  },
  "language_info": {
   "codemirror_mode": {
    "name": "ipython",
    "version": 3
   },
   "file_extension": ".py",
   "mimetype": "text/x-python",
   "name": "python",
   "nbconvert_exporter": "python",
   "pygments_lexer": "ipython3",
   "version": "3.11.5"
  }
 },
 "nbformat": 4,
 "nbformat_minor": 5
}
