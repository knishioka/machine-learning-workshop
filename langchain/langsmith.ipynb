{
 "cells": [
  {
   "cell_type": "code",
   "execution_count": 1,
   "id": "6d504eaf-6daf-40a6-8e44-44e9c16d687a",
   "metadata": {},
   "outputs": [
    {
     "data": {
      "text/plain": [
       "True"
      ]
     },
     "execution_count": 1,
     "metadata": {},
     "output_type": "execute_result"
    }
   ],
   "source": [
    "from dotenv import load_dotenv\n",
    "load_dotenv()"
   ]
  },
  {
   "cell_type": "code",
   "execution_count": 2,
   "id": "ac7f4a01-1c9e-4586-9217-6bd2e3ae3987",
   "metadata": {},
   "outputs": [
    {
     "data": {
      "text/plain": [
       "AIMessage(content='Hello! How can I assist you today?')"
      ]
     },
     "execution_count": 2,
     "metadata": {},
     "output_type": "execute_result"
    }
   ],
   "source": [
    "from langchain_openai import ChatOpenAI\n",
    "\n",
    "llm = ChatOpenAI()\n",
    "llm.invoke(\"Hello, world!\")"
   ]
  },
  {
   "cell_type": "code",
   "execution_count": 3,
   "id": "8786afbf-2c92-4563-8a45-ea58b1f94063",
   "metadata": {},
   "outputs": [],
   "source": [
    "from langchain_community.tools.tavily_search import TavilySearchResults\n",
    "\n",
    "tool = TavilySearchResults()"
   ]
  },
  {
   "cell_type": "code",
   "execution_count": 4,
   "id": "be310eab-ec67-4bb8-a2e5-f473f14dc384",
   "metadata": {},
   "outputs": [
    {
     "data": {
      "text/plain": [
       "[{'url': 'https://indexes.nikkei.co.jp/atoz/2024/02/202401.html',\n",
       "  'content': '（2024年2月2日） 指数リポート 2024.02.02 2024年1月の日経平均株価 指数リポート 2024.01.04 2023年12月の日経平均株価 指数リポート 2023.12.04 2023年11月の日経平均株価 指数リポート  指数リポート 2022.11.02 2022年10月の日経平均株価 指数リポート 2022.10.04 2022年9月の日経平均株価 指数リポート 2022.09.02 2022年８月の日経平均株価 指数リポート 2022.08.02  指数リポート 2021.11.02 2021年10月の日経平均株価 指数リポート 2021.10.04 2021年9月の日経平均株価 指数リポート 2021.09.02 2021年8月の日経平均株価 指数リポート 2021.08.03  指数リポート 2020.11.02 2020年10月の日経平均株価 指数リポート 2020.10.06 2020年９月の日経平均株価 指数リポート 2020.09.04 2020年8月の日経平均株価 指数リポート 2020.08.042024年1月の日経平均株価. 1月の日経平均株価は2カ月ぶりに上昇した。. 終値は前月末比2822円54銭（8.43%）高の3万6286円71銭だった。. 上昇率は2023年11月（8.51％）以来、2カ月ぶりの大きさ。. 米国のハイテク株高を受けて半導体関連株が値上がりした。. 加えて ...'},\n",
       " {'url': 'https://kabuchecker.com/about/ten-bagger2024',\n",
       "  'content': '2023年11月16日時点 上記条件でヒットした全54銘柄のうち、株価が1,000円以下の14銘柄をまとめました。 ※これらは2023年11月16日時点の情報をもとに抽出しています。  【2024年最新版】株で継続的に利益を得るためには？テーマに絡んだ本命・出遅… [PR]Bコミ(坂本慎太郎)氏が選定した株エヴァンジェリスト推奨銘柄の成果は… 【2024年】テンバガー(株価10倍)候補銘柄・大化けが予想される低位株  テーマ株チェッカー運営事務局 【2024年】テンバガー(株価10倍)候補銘柄・大化けが予想される低位株 株式相場で2024年(令和6年)にテンバガー(株価10倍)・大化けが予想される日本株をご紹介。  【2018年】大化けが予想されるテーマ株一覧日本の株式相場で2024年(令和6年)に テンバガー(株価10倍)・大化け が予想される日本株をご紹介。テンバガー(株価10倍)候補銘柄の特徴を一覧にまとめ、上場年数・時価総額・成長性・投資金額5万円以内の低位株・予想per(株価収益率)が比較的割安な銘柄などを条件としてスクリーニングを行い ...'},\n",
       " {'url': 'https://diamond.jp/zai/articles/-/1020832',\n",
       "  'content': 'また、ストラテジストやエコノミストによる「2023年8月～2024年8月までの日経平均株価の予測」も掲載しているので、投資の参考になるはずだ。  業績が飛躍的に伸びていて、今後もその勢いが続く見通しの成長企業は、株価が大幅に上昇して「10倍株」になる可能性を秘めている。今回は、アナリストなどの株のプロが「10倍株」予備軍として期待する2銘柄を紹介していこう（※株価などのデータは8月  紹介していこう（※株価などのデータは8月3日時点。銘柄は、アナリストなどのプロ18人が業績などを考慮して選定）。  【日本株】株価「10倍株」候補の2銘柄！ 営業利益が前期の約11倍と高成長を見込む｢Appier Group｣や、国内外のVTuber人気拡大で成長する｢カバー｣に注目また、ストラテジストやエコノミストによる「2023年8月～2024年8月までの日経平均株価の予測」も掲載しているので、投資の参考になるはずだ。'},\n",
       " {'url': 'https://www.nikkei.com/article/DGXZQOUB1882H0Y3A211C2000000/',\n",
       "  'content': '大\\u3000株価が下がれば増えるしね。配当については、23年は東証プライム市場に上場している企業のうち、70数%の企業が増配。24年は同程度の増配予想だけれど、累進配当が増えたこともあり減配は減りそうです。 ――24年注目の投資テーマは。  日経の記事利用サービスについて 企業での記事共有や会議資料への転載・複製、注文印刷などをご希望の方は、リンク先をご覧ください。 ――早速ですが、2024年の日経平均株価の見通しを教えてください。  コロナ禍前の東証株価指数（TOPIX）の12カ月先の予想PER（株価収益率）は平均13.5倍。足元では14倍を超えています。好況期の過去平均に回帰したとしてもまだ高い。さらに言うと、過去、有事の際はもっと低かった。景気後退懸念が強まる時は  23年の日本株上昇は円安要因が大きかった。その逆流が24年は起こりやすくなると思います。年前半は米景気の見通しが定まらずに相場は持つかもしれませんが、後半は厳しくなると予想します。2024年の日本株市場の先行きを、卓越した分析力で一目置かれている相場ウオッチャーたちに占ってもらう短期連載の後編。登場するのは、智剣 ...'},\n",
       " {'url': 'https://jp.reuters.com/markets/japan/funds/3AE3CDBKNNMIPG3ZV752S3XJPU-2024-02-09/',\n",
       "  'content': 'ãƒ›ãƒƒãƒˆã‚¹ãƒˆãƒƒã‚¯ï¼šæ—¥ç”£è‡ªã�Œä¸€æ™‚10ï¼…å®‰ã€�æ±ºç®—ç™ºè¡¨ã�—å‡ºå°½ã��ã�—ã€€ç›¸å¯¾çš„ã�ªè¦‹åŠ£ã‚Šã‚‚  Â© 2024 Reuters. All rights reserved  å›½å†…ãƒžãƒ¼ã‚±ãƒƒãƒˆ ã€€ã€€â–\\xa0ãƒ¬ãƒ¼ãƒˆã�¯çµ‚å€¤ï¼ˆå‰�æ—¥æ¯”ã�¾ã�Ÿã�¯å‰�é€±æœ«æ¯”ï¼‰ã€�å®‰å€¤â”€é«˜å€¤ Site Index  äº‹ä¼šï¼ˆï¼¦ï¼²ï¼¢ï¼‰ã�«ã‚ˆã‚‹æ—©æœŸåˆ©ä¸‹ã�’è¦³æ¸¬ã�®å¾Œé€€ã�Œå¯„ä¸Žã�—ã�Ÿã€‚ï¼™æ—¥ã�«ã�¯ï¼’ï¼�ï¼’ï¼“å¹´ï¼‘ï¼’æœˆã�®æ¶ˆ株価は一時10．4％安の560円まで下落した。同社は8日、2024年3月期の連結営業利益（国際会計基準）予想を前期64．4％増の6200億円で据え置を発表し ...'}]"
      ]
     },
     "execution_count": 4,
     "metadata": {},
     "output_type": "execute_result"
    }
   ],
   "source": [
    "tool.invoke({\"query\": \"直近の株価\"})"
   ]
  },
  {
   "cell_type": "code",
   "execution_count": 5,
   "id": "4ba49bfd-1d98-4647-97ff-e97d8f376942",
   "metadata": {},
   "outputs": [],
   "source": [
    "from langchain import hub\n",
    "from langchain.agents import AgentExecutor, create_openai_functions_agent\n",
    "\n",
    "base_prompt = hub.pull(\"langchain-ai/openai-functions-template\")"
   ]
  },
  {
   "cell_type": "code",
   "execution_count": 6,
   "id": "2b6ba84d-7b2b-42c8-8f4e-65079e3bdf4c",
   "metadata": {},
   "outputs": [
    {
     "data": {
      "text/plain": [
       "ChatPromptTemplate(input_variables=['agent_scratchpad', 'input', 'instructions'], input_types={'chat_history': typing.List[typing.Union[langchain_core.messages.ai.AIMessage, langchain_core.messages.human.HumanMessage, langchain_core.messages.chat.ChatMessage, langchain_core.messages.system.SystemMessage, langchain_core.messages.function.FunctionMessage, langchain_core.messages.tool.ToolMessage]], 'agent_scratchpad': typing.List[typing.Union[langchain_core.messages.ai.AIMessage, langchain_core.messages.human.HumanMessage, langchain_core.messages.chat.ChatMessage, langchain_core.messages.system.SystemMessage, langchain_core.messages.function.FunctionMessage, langchain_core.messages.tool.ToolMessage]]}, messages=[SystemMessagePromptTemplate(prompt=PromptTemplate(input_variables=['instructions'], template='{instructions}')), MessagesPlaceholder(variable_name='chat_history', optional=True), HumanMessagePromptTemplate(prompt=PromptTemplate(input_variables=['input'], template='{input}')), MessagesPlaceholder(variable_name='agent_scratchpad')])"
      ]
     },
     "execution_count": 6,
     "metadata": {},
     "output_type": "execute_result"
    }
   ],
   "source": [
    "base_prompt"
   ]
  },
  {
   "cell_type": "code",
   "execution_count": 7,
   "id": "50412f12-460d-432d-9843-74fde225eb96",
   "metadata": {},
   "outputs": [],
   "source": [
    "instructions = \"\"\"You are an assistant.\"\"\"\n",
    "prompt = base_prompt.partial(instructions=instructions)"
   ]
  },
  {
   "cell_type": "code",
   "execution_count": 8,
   "id": "82bd4825-b30d-4bac-a308-8b8abe897df1",
   "metadata": {},
   "outputs": [
    {
     "data": {
      "text/plain": [
       "ChatPromptTemplate(input_variables=['agent_scratchpad', 'input'], input_types={'chat_history': typing.List[typing.Union[langchain_core.messages.ai.AIMessage, langchain_core.messages.human.HumanMessage, langchain_core.messages.chat.ChatMessage, langchain_core.messages.system.SystemMessage, langchain_core.messages.function.FunctionMessage, langchain_core.messages.tool.ToolMessage]], 'agent_scratchpad': typing.List[typing.Union[langchain_core.messages.ai.AIMessage, langchain_core.messages.human.HumanMessage, langchain_core.messages.chat.ChatMessage, langchain_core.messages.system.SystemMessage, langchain_core.messages.function.FunctionMessage, langchain_core.messages.tool.ToolMessage]]}, partial_variables={'instructions': 'You are an assistant.'}, messages=[SystemMessagePromptTemplate(prompt=PromptTemplate(input_variables=['instructions'], template='{instructions}')), MessagesPlaceholder(variable_name='chat_history', optional=True), HumanMessagePromptTemplate(prompt=PromptTemplate(input_variables=['input'], template='{input}')), MessagesPlaceholder(variable_name='agent_scratchpad')])"
      ]
     },
     "execution_count": 8,
     "metadata": {},
     "output_type": "execute_result"
    }
   ],
   "source": [
    "prompt"
   ]
  },
  {
   "cell_type": "code",
   "execution_count": 9,
   "id": "be8c412c-1113-47a2-8280-5fc67c3bc392",
   "metadata": {},
   "outputs": [],
   "source": [
    "llm = ChatOpenAI(temperature=0)\n",
    "tavily_tool = TavilySearchResults()\n",
    "tools = [tavily_tool]\n",
    "agent = create_openai_functions_agent(llm, tools, prompt)\n",
    "agent_executor = AgentExecutor(\n",
    "    agent=agent,\n",
    "    tools=tools,\n",
    "    verbose=True,\n",
    ")"
   ]
  },
  {
   "cell_type": "code",
   "execution_count": 10,
   "id": "c691ac12-afa6-426e-81d2-967a2310a07a",
   "metadata": {},
   "outputs": [
    {
     "name": "stdout",
     "output_type": "stream",
     "text": [
      "\n",
      "\n",
      "\u001b[1m> Entering new AgentExecutor chain...\u001b[0m\n",
      "\u001b[32;1m\u001b[1;3m\n",
      "Invoking: `tavily_search_results_json` with `{'query': '日銀の直近の発言'}`\n",
      "\n",
      "\n",
      "\u001b[0m\u001b[36;1m\u001b[1;3m[{'url': 'https://www3.nhk.or.jp/news/html/20230728/k10014145421000.html', 'content': '【詳細】日銀会見 長期金利の変動幅 運用柔軟化のねらいは 2023年7月28日 17時39分 日本銀行（日銀）  当面の金融政策運営のポイント 日銀 長期金利の変動幅の運用を柔軟化 0.5％の上限超え容認 15:30 日銀 植田総裁の会見始まる  「金融市場の変動を抑える中で為替市場の変動も考えている」 「インフレ期待の変化などが予想を超える物価上昇につながった」 16:30 日銀 植田総裁の会見終了 当面の金融政策運営のポイント 目次 15:30 日銀 植田総裁の会見始まる  15:30 日銀 植田総裁の会見始まる 「粘り強く金融緩和を継続する必要がある」 「長期金利1％までの上昇想定していない 念のための上限」 「2％の物価安定の目標の実現 見通せる状況には至らず」2023年7月28日 17時39分 日本銀行（日銀）. 日銀は、28日まで2日間開いた金融政策決定会合で金利操作の運用を見直し、これまで0.5％程度としてきた ...'}, {'url': 'https://fx.minkabu.jp/news/290543', 'content': '要人発言 02/09(金) 15:10 カザークス・ラトビア中銀総裁 春の利下げについて、市場ほどは楽観的ではない 要人発言 02/09(金) 14:52 植田日銀総裁\\u3000マイナス金利解除しても緩和環境は当面続く 要人発言  02/08(木) 18:00 FX/為替「ドル/円、148円挟んで一進一退\\u3000日銀副総裁の発言に関心」 外為どっとコム トゥデイ 2024年2月8日号 マネ育チャンネル 02/08(木) 09:11  要人発言 02/09(金) 16:54 これからの予定【発言・イベント】 要人発言 02/09(金) 15:28 ハスケル英中銀委員\\u3000政策スタンスを変えるには、インフレが冷え込む一層の証拠が必要 要人発言 02/09(金) 15:10  02/02(金) 15:12 FX/為替「ドル/円、米雇用統計に強い反応を示す公算」 外為どっとコム トゥデイ 2024年2月2日号 マネ育チャンネル 02/02(金) 08:49為替 2024/02/08(木) 10:48. 内田副総裁発言を受けてドル円148円28銭まで＝東京為替 内田総裁の緩和修正発言を受けてドル円はややしっかり。日銀会合主な意見と目立った相違はないものの、継続的な利上げの道筋は想像しにくいなどの発言が円売りとなった。'}, {'url': 'https://www.gaitame.com/media/entry/2024/02/10/120000', 'content': '8日（木）午前には日銀の内田副総裁が「マイナス金利解除後もどんどん利上げをしていくようなパスは考えにくい」「緩和的な金融環境を維持していくことになる」との認識を示したことが伝わりました。これを受けて円売りが強まり、米新規失業保険申請件数が  読む前にチェック！最新FX為替情報 ドル円相場2/5週振り返り 日銀副総裁発言受け年初来高値更新 ドル円 日銀副総裁発言受け年初来高値更新  週明けの5日（月）朝にはパウエルFRB議長が米ニュース番組でのインタビューで3月の利下げ開始に慎重な姿勢を示したことでドル買いが強まり、一時148円台後半まで強含みました。同日午後には148円台前半へと押し戻されましたが、深夜に発表された  反落につながることが予想され、発表時の急な相場変動に注意が必要となりそうです。ドル円 日銀副総裁発言受け年初来高値更新 今週初めのドル円は、先週末の上昇を経て148円台前半でスタートしました。 先週末に発表された米雇用統計が予想を上回る結果となったことで3月の米利下げ観測が後退し、ドル円は148円を突破して大きく上昇しました。 週明けの5日（月）朝には ...'}, {'url': 'https://jp.reuters.com/economy/bank-of-japan/', 'content': 'Â© 2024 Reuters. All rights reserved  æ³•å¾‹äº‹å‹™æ‰€ã�‹ã‚‰ã�®è«‹æ±‚ã�®é›»å\\xad�åŒ–ï¼ˆeBillingï¼‰ã€�APã�¨ã�®é€£æ�ºã�«ã‚ˆã‚‹ä½œæ¥\\xadã€�ã�ªã‚‰ã�³ã�«ãƒªã‚¢ãƒ«ã‚¿ã‚¤ã  ã�™ã‚‹ä¼�æ¥\\xadæ³•å‹™ã�«æœ€é�©ã�ªDXã‚½ãƒªãƒ¥ãƒ¼ã‚·ãƒ§ãƒ³ã�§ã�™ã€‚  æ—¥éŠ€ç‰¹é›†日銀の1月金融政策決定会合で、マイナス金利解除を含む超金融緩和政策の修正をめぐって積極的な議論が展開されていたことが31日発表の「主な意見」で明らかになった。 3月会合でマイナス金利を解除することを視野に入れたメンバーが多くなっていると筆者は推測する。...'}, {'url': 'https://jp.reuters.com/economy/bank-of-japan/ZDNVOQHPWFMIRBVBAS2RVRVMHQ-2024-01-31/', 'content': 'Â© 2024 Reuters. All rights reserved  æ³•å¾‹äº‹å‹™æ‰€ã�‹ã‚‰ã�®è«‹æ±‚ã�®é›»å\\xad�åŒ–ï¼ˆeBillingï¼‰ã€�APã�¨ã�®é€£æ�ºã�«ã‚ˆã‚‹ä½œæ¥\\xadã€�ã�ªã‚‰ã�³ã�«ãƒªã‚¢ãƒ«ã‚¿ã‚¤ã  ã�™ã‚‹ä¼�æ¥\\xadæ³•å‹™ã�«æœ€é�©ã�ªDXã‚½ãƒªãƒ¥ãƒ¼ã‚·ãƒ§ãƒ³ã�§ã�™ã€‚  æ��ä¾›ã€�ã�¾ã�Ÿã��ã‚Œã‚‰ã‚’ä¸€å…ƒç®¡ç�†ã�™ã‚‹åŒ…æ‹¬çš„ã‚½ãƒªãƒ¥ãƒ¼ã‚·ãƒ§ãƒ³ã�§ã�™ã€‚和田崇彦 2024年1月30日午後 5:50 PST1日前更新 日銀が22―23日に開いた金融政策決定会合では、近い将来の金融政策の正常化開始を見据えた発言が目立った。 写真は都内の日銀本店で2023年9月撮影（2024年 ロイター／Issei Kato） [東京 31日 ロイター] -...'}]\u001b[0m\u001b[32;1m\u001b[1;3m直近の日銀の発言について調査した結果、以下の情報が得られました。\n",
      "\n",
      "- 日銀の植田総裁は、金融市場の変動を抑える中で為替市場の変動も考慮していると述べています。また、2％の物価安定の目標の実現には至っておらず、金融緩和を継続する必要があるとの認識を示しています。これらの発言は円安に働く可能性があります。\n",
      "\n",
      "- 日銀の内田副総裁は、マイナス金利解除後も緩和的な金融環境を維持していくことになるとの認識を示しています。この発言も円安に影響を与える可能性があります。\n",
      "\n",
      "以上の情報から、直近の日銀の発言は円安に働く可能性があると言えます。ただし、為替市場は様々な要素によって影響を受けるため、円高や円安の具体的な動向は予測できません。市場の状況や経済指標の動向などを継続的に注視することが重要です。\u001b[0m\n",
      "\n",
      "\u001b[1m> Finished chain.\u001b[0m\n"
     ]
    },
    {
     "data": {
      "text/plain": [
       "{'input': '直近の日銀の発言は円安と円高のどちらに働くか',\n",
       " 'output': '直近の日銀の発言について調査した結果、以下の情報が得られました。\\n\\n- 日銀の植田総裁は、金融市場の変動を抑える中で為替市場の変動も考慮していると述べています。また、2％の物価安定の目標の実現には至っておらず、金融緩和を継続する必要があるとの認識を示しています。これらの発言は円安に働く可能性があります。\\n\\n- 日銀の内田副総裁は、マイナス金利解除後も緩和的な金融環境を維持していくことになるとの認識を示しています。この発言も円安に影響を与える可能性があります。\\n\\n以上の情報から、直近の日銀の発言は円安に働く可能性があると言えます。ただし、為替市場は様々な要素によって影響を受けるため、円高や円安の具体的な動向は予測できません。市場の状況や経済指標の動向などを継続的に注視することが重要です。'}"
      ]
     },
     "execution_count": 10,
     "metadata": {},
     "output_type": "execute_result"
    }
   ],
   "source": [
    "agent_executor.invoke({\"input\": \"直近の日銀の発言は円安と円高のどちらに働くか\"})"
   ]
  }
 ],
 "metadata": {
  "kernelspec": {
   "display_name": "Python 3 (ipykernel)",
   "language": "python",
   "name": "python3"
  },
  "language_info": {
   "codemirror_mode": {
    "name": "ipython",
    "version": 3
   },
   "file_extension": ".py",
   "mimetype": "text/x-python",
   "name": "python",
   "nbconvert_exporter": "python",
   "pygments_lexer": "ipython3",
   "version": "3.11.5"
  }
 },
 "nbformat": 4,
 "nbformat_minor": 5
}
