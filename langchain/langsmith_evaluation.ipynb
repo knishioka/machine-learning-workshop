{
 "cells": [
  {
   "cell_type": "code",
   "execution_count": 1,
   "id": "7809f17c-44bc-4f19-8863-4bc854340537",
   "metadata": {},
   "outputs": [
    {
     "data": {
      "text/plain": [
       "True"
      ]
     },
     "execution_count": 1,
     "metadata": {},
     "output_type": "execute_result"
    }
   ],
   "source": [
    "from dotenv import load_dotenv\n",
    "\n",
    "load_dotenv()"
   ]
  },
  {
   "cell_type": "code",
   "execution_count": 2,
   "id": "cc4f0cd4-3b87-42fe-aa4f-54b69028d157",
   "metadata": {},
   "outputs": [
    {
     "name": "stdout",
     "output_type": "stream",
     "text": [
      "Env Variables\n",
      "LANGCHAIN_TRACING_V2: true\n",
      "LANGCHAIN_PROJECT: machine-learning-workshop\n",
      "LANGCHAIN_ENDPOINT: https://api.smith.langchain.com\n",
      "\n"
     ]
    }
   ],
   "source": [
    "import os\n",
    "print(f'''Env Variables\n",
    "LANGCHAIN_TRACING_V2: {os.environ[\"LANGCHAIN_TRACING_V2\"]}\n",
    "LANGCHAIN_PROJECT: {os.environ[\"LANGCHAIN_PROJECT\"]}\n",
    "LANGCHAIN_ENDPOINT: {os.environ[\"LANGCHAIN_ENDPOINT\"]}\n",
    "''')"
   ]
  },
  {
   "cell_type": "markdown",
   "id": "45564955-2936-4c57-922c-69b525c0c4d0",
   "metadata": {},
   "source": [
    "## LangSmithのトレースの基本\n",
    "traceableデコレータを使用することで、任意の関数の引数と返り値をLangSmithで確認できるようになる。"
   ]
  },
  {
   "cell_type": "code",
   "execution_count": 3,
   "id": "65c29549-322a-4d07-865f-3f4ec80d36b9",
   "metadata": {},
   "outputs": [
    {
     "data": {
      "text/markdown": [
       "```sql\n",
       "SELECT\n",
       "  user_id,\n",
       "  COUNT(DISTINCT page_id) AS pages_visited,\n",
       "  COUNT(DISTINCT session_id) AS sessions,\n",
       "  COUNT(DISTINCT page_id) / COUNT(DISTINCT session_id) AS page_views_per_session\n",
       "FROM\n",
       "  `your_dataset.your_table`\n",
       "GROUP BY\n",
       "  user_id\n",
       "```"
      ],
      "text/plain": [
       "<IPython.core.display.Markdown object>"
      ]
     },
     "metadata": {},
     "output_type": "display_data"
    }
   ],
   "source": [
    "from IPython.display import display, Markdown\n",
    "from langsmith import traceable\n",
    "import openai\n",
    "\n",
    "openai_client = openai.Client()\n",
    "\n",
    "@traceable\n",
    "def format_prompt(question):\n",
    "    return [\n",
    "        {\n",
    "            \"role\": \"system\",\n",
    "            \"content\": \"あなたはBigQueryのエキスパートです. 出したいデータのクエリを作成してください. 出力はクエリのみで他の情報は不要です.\",\n",
    "        },\n",
    "        {\n",
    "            \"role\": \"user\",\n",
    "            \"content\": f\"{question}\"\n",
    "        }\n",
    "    ]\n",
    "\n",
    "@traceable(run_type=\"llm\")\n",
    "def invoke_llm(messages):\n",
    "    return openai_client.chat.completions.create(\n",
    "        messages=messages, model=\"gpt-4o\", temperature=0\n",
    "    )\n",
    "\n",
    "@traceable\n",
    "def parse_output(response):\n",
    "    return response.choices[0].message.content\n",
    "\n",
    "@traceable\n",
    "def run_pipeline():\n",
    "    messages = format_prompt(\"ウェブサイトの回遊率\")\n",
    "    response = invoke_llm(messages)\n",
    "    return parse_output(response)\n",
    "\n",
    "display(Markdown(run_pipeline()))"
   ]
  },
  {
   "cell_type": "markdown",
   "id": "c147b87e-6380-4c7a-8aa8-e2ee0186a19e",
   "metadata": {},
   "source": [
    "openaiとのやり取りの可観測にするラッパー `wrap_openai` を使うと詳細な情報を簡単に取得可能になる。"
   ]
  },
  {
   "cell_type": "code",
   "execution_count": 4,
   "id": "0a83e551-9053-4dbd-a30f-578b84698965",
   "metadata": {},
   "outputs": [
    {
     "data": {
      "text/markdown": [
       "```sql\n",
       "SELECT\n",
       "  user_id,\n",
       "  COUNT(DISTINCT page_id) AS pages_visited,\n",
       "  COUNT(DISTINCT session_id) AS sessions,\n",
       "  COUNT(DISTINCT page_id) / COUNT(DISTINCT session_id) AS page_views_per_session\n",
       "FROM\n",
       "  `your_dataset.your_table`\n",
       "GROUP BY\n",
       "  user_id\n",
       "```"
      ],
      "text/plain": [
       "<IPython.core.display.Markdown object>"
      ]
     },
     "metadata": {},
     "output_type": "display_data"
    }
   ],
   "source": [
    "from langsmith.wrappers import wrap_openai\n",
    "\n",
    "wrap_openai_client = wrap_openai(openai.Client())\n",
    "\n",
    "@traceable(name=\"run_pipeline with wrap_openai\")\n",
    "def run_pipeline_with_wrap_llm():\n",
    "    messages = format_prompt(\"ウェブサイトの回遊率\")\n",
    "    response = wrap_openai_client.chat.completions.create(\n",
    "        messages=messages, model=\"gpt-4o\", temperature=0\n",
    "    )\n",
    "    return parse_output(response)\n",
    "\n",
    "display(Markdown(run_pipeline_with_wrap_llm()))"
   ]
  },
  {
   "cell_type": "markdown",
   "id": "0326a818-99b9-4252-943a-e3729c14da4b",
   "metadata": {},
   "source": [
    "LCEL (LangChain Expression Language) を使えば、LangSmithでの観測が楽にできる。"
   ]
  },
  {
   "cell_type": "code",
   "execution_count": 5,
   "id": "db794be6-9d7d-4003-84a6-532324cd2627",
   "metadata": {},
   "outputs": [
    {
     "data": {
      "text/markdown": [
       "```\n",
       "SELECT\n",
       "  fullVisitorId,\n",
       "  (SUM(IF(totals.pageviews > 1, 1, 0)) / COUNT(DISTINCT(fullVisitorId))) AS bounce_rate\n",
       "FROM\n",
       "  `bigquery-public-data.google_analytics_sample.*`\n",
       "GROUP BY\n",
       "  fullVisitorId\n",
       "```"
      ],
      "text/plain": [
       "<IPython.core.display.Markdown object>"
      ]
     },
     "metadata": {},
     "output_type": "display_data"
    }
   ],
   "source": [
    "from langchain_core.output_parsers import StrOutputParser\n",
    "from langchain_core.prompts import ChatPromptTemplate\n",
    "from langchain_openai import ChatOpenAI\n",
    "\n",
    "model = ChatOpenAI(model=\"gpt-4\")\n",
    "\n",
    "prompt = ChatPromptTemplate.from_messages([\n",
    "    (\"system\", \"あなたはBigQueryのエキスパートです. 出したいデータのクエリを作成してください. 出力はクエリのみで他の情報は不要です.\"),\n",
    "    (\"human\", \"{question}\")\n",
    "])\n",
    "output_parser = StrOutputParser()\n",
    "\n",
    "chain = prompt | model | output_parser\n",
    "display(Markdown(chain.invoke(\"ウェブサイトの回遊率\")))"
   ]
  },
  {
   "cell_type": "code",
   "execution_count": 6,
   "id": "9553e43f-b1e1-45a0-ac0e-faa11c2e6791",
   "metadata": {},
   "outputs": [],
   "source": [
    "import textwrap\n",
    "\n",
    "from langsmith import Client\n",
    "from langsmith.schemas import Run, Example\n",
    "from langsmith.evaluation import evaluate\n",
    "\n",
    "ls_client = Client() # LangSmithのクライアント\n",
    "\n",
    "# 作成するデータセット\n",
    "dataset_name = \"SQL Samples\"\n",
    "\n",
    "# データセットがあれば削除\n",
    "if ls_client.has_dataset(dataset_name=dataset_name):\n",
    "    dataset = ls_client.delete_dataset(dataset_name=dataset_name)\n",
    "\n",
    "dataset = ls_client.create_dataset(dataset_name, description=\"ML Workshop用のサンプルクエリ\")\n",
    "\n",
    "# データセットにexampleを保存\n",
    "ls_client.create_examples(\n",
    "    inputs=[\n",
    "        {\"question\": \"MAUを取得\"},\n",
    "        {\"question\": \"新規ユーザ数の推移\"},\n",
    "    ],\n",
    "    outputs=[\n",
    "        {\"query\": textwrap.dedent(\"\"\"\n",
    "           SELECT\n",
    "               COUNT(DISTINCT user_id) AS monthly_active_users\n",
    "           FROM\n",
    "               `your_dataset.user_activities`\n",
    "           WHERE\n",
    "               activity_date BETWEEN DATE_SUB(CURRENT_DATE(), INTERVAL 1 MONTH) AND CURRENT_DATE()\n",
    "        \"\"\"),\n",
    "         \"tables\": [\"user_activities\"]\n",
    "        },\n",
    "        {\"query\": textwrap.dedent(\"\"\"\n",
    "            SELECT\n",
    "                signup_date,\n",
    "                COUNT(user_id) AS new_users\n",
    "            FROM\n",
    "                `your_dataset.user_activities`\n",
    "            GROUP BY\n",
    "                signup_date\n",
    "            ORDER BY\n",
    "            　　 signup_date\n",
    "        \"\"\"),\n",
    "         \"tables\": [\"user_activities\"]\n",
    "        },\n",
    "    ],\n",
    "    dataset_id=dataset.id,\n",
    ")"
   ]
  },
  {
   "cell_type": "code",
   "execution_count": 7,
   "id": "c94cc301-2dc7-4c8d-8ed2-cb0bdec486f4",
   "metadata": {},
   "outputs": [
    {
     "data": {
      "text/plain": [
       "Dataset(name='SQL Samples', description='ML Workshop用のサンプルクエリ', data_type=<DataType.kv: 'kv'>, id=UUID('3553eb37-9069-42b4-8a2a-91e82ca2ce5e'), created_at=datetime.datetime(2024, 6, 22, 9, 22, 55, 333745, tzinfo=datetime.timezone.utc), modified_at=datetime.datetime(2024, 6, 22, 9, 22, 55, 333745, tzinfo=datetime.timezone.utc), example_count=0, session_count=0, last_session_start_time=None)"
      ]
     },
     "execution_count": 7,
     "metadata": {},
     "output_type": "execute_result"
    }
   ],
   "source": [
    "dataset"
   ]
  },
  {
   "cell_type": "markdown",
   "id": "ad151f48-5fed-436b-8221-808184fcf0bf",
   "metadata": {},
   "source": [
    "example_countが0となっているので、LangSmith Clientを使ってdatasetを読み直す"
   ]
  },
  {
   "cell_type": "code",
   "execution_count": 8,
   "id": "58a3b2c3-fe2b-467b-8444-e9772e6e8f36",
   "metadata": {},
   "outputs": [
    {
     "data": {
      "text/plain": [
       "Dataset(name='SQL Samples', description='ML Workshop用のサンプルクエリ', data_type=<DataType.kv: 'kv'>, id=UUID('3553eb37-9069-42b4-8a2a-91e82ca2ce5e'), created_at=datetime.datetime(2024, 6, 22, 9, 22, 55, 333745, tzinfo=datetime.timezone.utc), modified_at=datetime.datetime(2024, 6, 22, 9, 22, 55, 333745, tzinfo=datetime.timezone.utc), example_count=2, session_count=0, last_session_start_time=None)"
      ]
     },
     "execution_count": 8,
     "metadata": {},
     "output_type": "execute_result"
    }
   ],
   "source": [
    "ls_client.read_dataset(dataset_name=dataset_name)"
   ]
  },
  {
   "cell_type": "code",
   "execution_count": 9,
   "id": "e76d30b6-f2cb-49d0-9986-b8f844b424c0",
   "metadata": {},
   "outputs": [
    {
     "data": {
      "text/plain": [
       "'https://smith.langchain.com/o/bd14a154-65e7-52b4-bdce-b9a16d5e3513/datasets/3553eb37-9069-42b4-8a2a-91e82ca2ce5e'"
      ]
     },
     "execution_count": 9,
     "metadata": {},
     "output_type": "execute_result"
    }
   ],
   "source": [
    "dataset.url"
   ]
  },
  {
   "cell_type": "code",
   "execution_count": 10,
   "id": "92a4743c-38d8-4ff6-87b5-77e32e8c1b36",
   "metadata": {},
   "outputs": [],
   "source": [
    "ls_client.create_examples(\n",
    "    inputs=[\n",
    "        {\"question\": \"月ごとのCV数の推移\"},\n",
    "    ],\n",
    "    outputs=[\n",
    "        {\"query\": textwrap.dedent(\"\"\"\n",
    "           SELECT\n",
    "               FORMAT_TIMESTAMP('%Y-%m', conv_date) AS conversion_month,\n",
    "               COUNT(conv_id) AS conversions\n",
    "           FROM\n",
    "               `your_dataset.your_table`\n",
    "           WHERE\n",
    "               conv_date BETWEEN DATE_SUB(CURRENT_DATE(), INTERVAL 1 YEAR) AND CURRENT_DATE()\n",
    "           GROUP BY\n",
    "               conversion_month\n",
    "           ORDER BY\n",
    "               conversion_month\n",
    "        \"\"\"),\n",
    "         \"tables\": [\"user_activities\"]\n",
    "        },\n",
    "    ],\n",
    "    dataset_id=dataset.id,\n",
    ")"
   ]
  },
  {
   "cell_type": "markdown",
   "id": "dc9ca496-6ce7-46d6-9a55-0d795cfb15be",
   "metadata": {},
   "source": [
    "exampleを増やしたことにより、datasetのバージョンも変更されている"
   ]
  },
  {
   "cell_type": "code",
   "execution_count": 11,
   "id": "e92f1240-bab6-44ef-a5dc-21f15a752b1c",
   "metadata": {},
   "outputs": [
    {
     "data": {
      "text/plain": [
       "3"
      ]
     },
     "execution_count": 11,
     "metadata": {},
     "output_type": "execute_result"
    }
   ],
   "source": [
    "ls_client.read_dataset(dataset_name=dataset_name).example_count"
   ]
  },
  {
   "cell_type": "code",
   "execution_count": 12,
   "id": "d8904cd3-8a18-4978-821f-c6d12e5a6728",
   "metadata": {},
   "outputs": [
    {
     "name": "stdout",
     "output_type": "stream",
     "text": [
      "\n",
      "question: 月ごとのCV数の推移\n",
      "query: \n",
      "SELECT\n",
      "    FORMAT_TIMESTAMP('%Y-%m', conv_date) AS conversion_month,\n",
      "    COUNT(conv_id) AS conversions\n",
      "FROM\n",
      "    `your_dataset.your_table`\n",
      "WHERE\n",
      "    conv_date BETWEEN DATE_SUB(CURRENT_DATE(), INTERVAL 1 YEAR) AND CURRENT_DATE()\n",
      "GROUP BY\n",
      "    conversion_month\n",
      "ORDER BY\n",
      "    conversion_month\n",
      "\n",
      "    \n",
      "\n",
      "question: MAUを取得\n",
      "query: \n",
      "SELECT\n",
      "    COUNT(DISTINCT user_id) AS monthly_active_users\n",
      "FROM\n",
      "    `your_dataset.user_activities`\n",
      "WHERE\n",
      "    activity_date BETWEEN DATE_SUB(CURRENT_DATE(), INTERVAL 1 MONTH) AND CURRENT_DATE()\n",
      "\n",
      "    \n",
      "\n",
      "question: 新規ユーザ数の推移\n",
      "query: \n",
      "SELECT\n",
      "    signup_date,\n",
      "    COUNT(user_id) AS new_users\n",
      "FROM\n",
      "    `your_dataset.user_activities`\n",
      "GROUP BY\n",
      "    signup_date\n",
      "ORDER BY\n",
      "　　 signup_date\n",
      "\n",
      "    \n"
     ]
    }
   ],
   "source": [
    "# datasetに保存されているexampleの一覧\n",
    "for example in ls_client.list_examples(dataset_name=dataset_name):\n",
    "    print(f'''\n",
    "question: {example.inputs[\"question\"]}\n",
    "query: {example.outputs[\"query\"]}\n",
    "    ''')"
   ]
  },
  {
   "cell_type": "markdown",
   "id": "dd64866e-8183-42bc-b9a5-a0a946579f61",
   "metadata": {},
   "source": [
    "## LangSmith Evaluation\n",
    "### Custom Evaluation"
   ]
  },
  {
   "cell_type": "code",
   "execution_count": 13,
   "id": "00e595a1-18e2-4de5-bfce-01c6a4dd2078",
   "metadata": {},
   "outputs": [
    {
     "name": "stdout",
     "output_type": "stream",
     "text": [
      "View the evaluation results for experiment: 'ml-workshop-19e495b4' at:\n",
      "https://smith.langchain.com/o/bd14a154-65e7-52b4-bdce-b9a16d5e3513/datasets/3553eb37-9069-42b4-8a2a-91e82ca2ce5e/compare?selectedSessions=864883c2-2d03-498e-9e59-7bcbd09af7f9\n",
      "\n",
      "\n"
     ]
    },
    {
     "data": {
      "application/vnd.jupyter.widget-view+json": {
       "model_id": "94f7e4565150411e9ab1054d0d180f7f",
       "version_major": 2,
       "version_minor": 0
      },
      "text/plain": [
       "0it [00:00, ?it/s]"
      ]
     },
     "metadata": {},
     "output_type": "display_data"
    },
    {
     "name": "stdout",
     "output_type": "stream",
     "text": [
      "run id: 0fc4d7f9-466a-404d-a0a6-f1db40443c00\n",
      "run id: e0a386eb-6c10-4664-970b-0e0e67120a03\n",
      "\n",
      "['user_activities']\n",
      "```\n",
      "SELECT \n",
      "  DATE(created_at) as date,\n",
      "  COUNT(DISTINCT user_id) as new_users\n",
      "FROM \n",
      "  user_activities\n",
      "WHERE \n",
      "  is_new_user = TRUE\n",
      "GROUP BY \n",
      "  date\n",
      "ORDER BY \n",
      "  date\n",
      "```\n",
      "\n",
      "['user_activities']\n",
      "```sql\n",
      "SELECT \n",
      "  FORMAT_TIMESTAMP('%Y-%m', timestamp) AS month,\n",
      "  COUNT(*) AS CV_count\n",
      "FROM \n",
      "  user_activities\n",
      "WHERE \n",
      "  activity_type = 'CV'\n",
      "GROUP BY \n",
      "  month\n",
      "ORDER BY \n",
      "  month\n",
      "```\n",
      "run id: cb940c24-ac78-48e0-a15f-abd992a410aa\n",
      "\n",
      "['user_activities']\n",
      "```\n",
      "SELECT \n",
      "  EXTRACT(YEAR FROM activity_date) AS year,\n",
      "  EXTRACT(MONTH FROM activity_date) AS month,\n",
      "  COUNT(DISTINCT user_id) AS MAU\n",
      "FROM \n",
      "  `project.dataset.user_activities`\n",
      "GROUP BY \n",
      "  year, month\n",
      "ORDER BY \n",
      "  year, month\n",
      "```\n",
      "このクエリは、それぞれの年と月のユニークなユーザー数（MAU）を取得します。\n"
     ]
    }
   ],
   "source": [
    "# inputsにexampleが1つずつ渡される\n",
    "def predict(inputs: dict) -> dict:\n",
    "    model = ChatOpenAI(model=\"gpt-4\")\n",
    "    prompt = ChatPromptTemplate.from_messages([\n",
    "        (\"system\", \"あなたはBigQueryのエキスパートです. 出したいデータのクエリを作成してください. 出力はクエリのみで他の情報は不要です.\"),\n",
    "        (\"human\", \"{question}, tableはuser_activitiesを使います.\")\n",
    "    ])\n",
    "    output_parser = StrOutputParser()\n",
    "    llm = prompt | model | output_parser\n",
    "    return {\"output\": llm.invoke(inputs)}\n",
    "\n",
    "# Custom Evaluation\n",
    "def must_have_user_activities(run: Run, example: Example) -> dict:\n",
    "    prediction = run.outputs.get(\"output\") or \"\"\n",
    "    print(f\"run id: {run.id}\\n\")\n",
    "    required = example.outputs.get(\"tables\") or [] # outputsのキー (tables) と合わせる\n",
    "    print(required)\n",
    "    print(prediction)\n",
    "    score = all(phrase in prediction for phrase in required) # scoreは自分で定義したものでよい\n",
    "    return {\"key\":\"must_have_user_activities\", \"score\": score, \"comment\": \"comment test\"} # key, score, commentを返す\n",
    "\n",
    "experiment_results = evaluate(\n",
    "    predict,\n",
    "    data=dataset_name, # The data to predict and grade over\n",
    "    evaluators=[must_have_user_activities], # The evaluators to score the results\n",
    "    experiment_prefix=\"ml-workshop\", # A prefix for your experiment names to easily identify them\n",
    "    metadata={\n",
    "      \"version\": \"1.0.0\",\n",
    "    },\n",
    ")"
   ]
  }
 ],
 "metadata": {
  "kernelspec": {
   "display_name": "Python 3 (ipykernel)",
   "language": "python",
   "name": "python3"
  },
  "language_info": {
   "codemirror_mode": {
    "name": "ipython",
    "version": 3
   },
   "file_extension": ".py",
   "mimetype": "text/x-python",
   "name": "python",
   "nbconvert_exporter": "python",
   "pygments_lexer": "ipython3",
   "version": "3.9.7"
  }
 },
 "nbformat": 4,
 "nbformat_minor": 5
}
