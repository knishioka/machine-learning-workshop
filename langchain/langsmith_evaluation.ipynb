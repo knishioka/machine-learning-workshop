{
 "cells": [
  {
   "cell_type": "code",
   "execution_count": 1,
   "id": "7809f17c-44bc-4f19-8863-4bc854340537",
   "metadata": {},
   "outputs": [
    {
     "data": {
      "text/plain": [
       "True"
      ]
     },
     "execution_count": 1,
     "metadata": {},
     "output_type": "execute_result"
    }
   ],
   "source": [
    "from dotenv import load_dotenv\n",
    "\n",
    "load_dotenv()"
   ]
  },
  {
   "cell_type": "code",
   "execution_count": 2,
   "id": "9553e43f-b1e1-45a0-ac0e-faa11c2e6791",
   "metadata": {},
   "outputs": [],
   "source": [
    "from langsmith import Client\n",
    "from langsmith.schemas import Run, Example\n",
    "from langsmith.evaluation import evaluate\n",
    "import openai\n",
    "from langsmith.wrappers import wrap_openai\n",
    "\n",
    "client = Client()\n",
    "\n",
    "# 作成するデータセット\n",
    "dataset_name = \"Rap Battle Dataset\"\n",
    "\n",
    "# データセットがあれば削除\n",
    "if client.has_dataset(dataset_name=dataset_name):\n",
    "    dataset = client.delete_dataset(dataset_name=dataset_name)\n",
    "\n",
    "dataset = client.create_dataset(dataset_name, description=\"ML Workshop用データセット\")\n",
    "\n",
    "# データセットにexampleを保存\n",
    "client.create_examples(\n",
    "    inputs=[\n",
    "        {\"question\": \"石丸伸二と小池百合子のラップバトル\"},\n",
    "        {\"question\": \"蓮舫と小池百合子のラップバトル\"},\n",
    "    ],\n",
    "    outputs=[\n",
    "        {\"must_mention\": [\"安芸高田\", \"東京\"]},\n",
    "        {\"must_mention\": [\"東京\", \"子育て\"]},\n",
    "    ],\n",
    "    dataset_id=dataset.id,\n",
    ")\n",
    "\n"
   ]
  },
  {
   "cell_type": "code",
   "execution_count": 3,
   "id": "58a3b2c3-fe2b-467b-8444-e9772e6e8f36",
   "metadata": {},
   "outputs": [
    {
     "data": {
      "text/plain": [
       "Dataset(name='Rap Battle Dataset', description='ML Workshop用データセット', data_type=<DataType.kv: 'kv'>, id=UUID('a6e04133-e8e3-4910-ab4d-6fd38f139b27'), created_at=datetime.datetime(2024, 6, 21, 5, 52, 19, 465078, tzinfo=datetime.timezone.utc), modified_at=datetime.datetime(2024, 6, 21, 5, 52, 19, 465078, tzinfo=datetime.timezone.utc), example_count=0, session_count=0, last_session_start_time=None)"
      ]
     },
     "execution_count": 3,
     "metadata": {},
     "output_type": "execute_result"
    }
   ],
   "source": [
    "dataset"
   ]
  },
  {
   "cell_type": "code",
   "execution_count": 4,
   "id": "c67f5688-c7fc-4e2e-8e25-ad22e0a6e775",
   "metadata": {},
   "outputs": [],
   "source": [
    "client.create_examples(\n",
    "    inputs=[\n",
    "        {\"question\": \"石丸伸二と小池百合子のラップバトル\"},\n",
    "        {\"question\": \"蓮舫と小池百合子のラップバトル\"},\n",
    "    ],\n",
    "    outputs=[\n",
    "        {\"must_mention\": [\"安芸高田\", \"東京\", \"テスト\"]},\n",
    "        {\"must_mention\": [\"東京\", \"子育て\"]},\n",
    "    ],\n",
    "    dataset_id=dataset.id,\n",
    ")\n"
   ]
  },
  {
   "cell_type": "code",
   "execution_count": 5,
   "id": "d8904cd3-8a18-4978-821f-c6d12e5a6728",
   "metadata": {},
   "outputs": [
    {
     "data": {
      "text/plain": [
       "[Example(dataset_id=UUID('a6e04133-e8e3-4910-ab4d-6fd38f139b27'), inputs={'question': '石丸伸二と小池百合子のラップバトル'}, outputs={'must_mention': ['安芸高田', '東京', 'テスト']}, metadata=None, id=UUID('b4ad40e7-17a1-482f-9e8f-037a35b9f959'), created_at=datetime.datetime(2024, 6, 21, 5, 52, 19, 932887, tzinfo=datetime.timezone.utc), modified_at=datetime.datetime(2024, 6, 21, 5, 52, 19, 932887, tzinfo=datetime.timezone.utc), runs=[], source_run_id=None),\n",
       " Example(dataset_id=UUID('a6e04133-e8e3-4910-ab4d-6fd38f139b27'), inputs={'question': '蓮舫と小池百合子のラップバトル'}, outputs={'must_mention': ['東京', '子育て']}, metadata=None, id=UUID('a904806c-77e0-42a9-a895-61f39d9b16c7'), created_at=datetime.datetime(2024, 6, 21, 5, 52, 19, 932887, tzinfo=datetime.timezone.utc), modified_at=datetime.datetime(2024, 6, 21, 5, 52, 19, 932887, tzinfo=datetime.timezone.utc), runs=[], source_run_id=None),\n",
       " Example(dataset_id=UUID('a6e04133-e8e3-4910-ab4d-6fd38f139b27'), inputs={'question': '石丸伸二と小池百合子のラップバトル'}, outputs={'must_mention': ['安芸高田', '東京']}, metadata=None, id=UUID('2dc095f9-6f4a-4ed5-a36e-937d3bcd14d9'), created_at=datetime.datetime(2024, 6, 21, 5, 52, 19, 686548, tzinfo=datetime.timezone.utc), modified_at=datetime.datetime(2024, 6, 21, 5, 52, 19, 686548, tzinfo=datetime.timezone.utc), runs=[], source_run_id=None),\n",
       " Example(dataset_id=UUID('a6e04133-e8e3-4910-ab4d-6fd38f139b27'), inputs={'question': '蓮舫と小池百合子のラップバトル'}, outputs={'must_mention': ['東京', '子育て']}, metadata=None, id=UUID('e8581707-bc5f-4e29-af3e-d4a0d635f610'), created_at=datetime.datetime(2024, 6, 21, 5, 52, 19, 686548, tzinfo=datetime.timezone.utc), modified_at=datetime.datetime(2024, 6, 21, 5, 52, 19, 686548, tzinfo=datetime.timezone.utc), runs=[], source_run_id=None)]"
      ]
     },
     "execution_count": 5,
     "metadata": {},
     "output_type": "execute_result"
    }
   ],
   "source": [
    "# datasetに保存されているexampleの一覧\n",
    "list(client.list_examples(dataset_name=dataset_name))"
   ]
  },
  {
   "cell_type": "code",
   "execution_count": 6,
   "id": "006f2997-98e7-4556-a77f-2a341d8d006d",
   "metadata": {},
   "outputs": [
    {
     "data": {
      "text/plain": [
       "\u001b[0;31mSignature:\u001b[0m\n",
       "\u001b[0mclient\u001b[0m\u001b[0;34m.\u001b[0m\u001b[0mcreate_dataset\u001b[0m\u001b[0;34m(\u001b[0m\u001b[0;34m\u001b[0m\n",
       "\u001b[0;34m\u001b[0m    \u001b[0mdataset_name\u001b[0m\u001b[0;34m:\u001b[0m \u001b[0;34m'str'\u001b[0m\u001b[0;34m,\u001b[0m\u001b[0;34m\u001b[0m\n",
       "\u001b[0;34m\u001b[0m    \u001b[0;34m*\u001b[0m\u001b[0;34m,\u001b[0m\u001b[0;34m\u001b[0m\n",
       "\u001b[0;34m\u001b[0m    \u001b[0mdescription\u001b[0m\u001b[0;34m:\u001b[0m \u001b[0;34m'Optional[str]'\u001b[0m \u001b[0;34m=\u001b[0m \u001b[0;32mNone\u001b[0m\u001b[0;34m,\u001b[0m\u001b[0;34m\u001b[0m\n",
       "\u001b[0;34m\u001b[0m    \u001b[0mdata_type\u001b[0m\u001b[0;34m:\u001b[0m \u001b[0;34m'ls_schemas.DataType'\u001b[0m \u001b[0;34m=\u001b[0m \u001b[0;34m<\u001b[0m\u001b[0mDataType\u001b[0m\u001b[0;34m.\u001b[0m\u001b[0mkv\u001b[0m\u001b[0;34m:\u001b[0m \u001b[0;34m'kv'\u001b[0m\u001b[0;34m>\u001b[0m\u001b[0;34m,\u001b[0m\u001b[0;34m\u001b[0m\n",
       "\u001b[0;34m\u001b[0m\u001b[0;34m)\u001b[0m \u001b[0;34m->\u001b[0m \u001b[0;34m'ls_schemas.Dataset'\u001b[0m\u001b[0;34m\u001b[0m\u001b[0;34m\u001b[0m\u001b[0m\n",
       "\u001b[0;31mDocstring:\u001b[0m\n",
       "Create a dataset in the LangSmith API.\n",
       "\n",
       "Parameters\n",
       "----------\n",
       "dataset_name : str\n",
       "    The name of the dataset.\n",
       "description : str or None, default=None\n",
       "    The description of the dataset.\n",
       "data_type : DataType or None, default=DataType.kv\n",
       "    The data type of the dataset.\n",
       "\n",
       "Returns:\n",
       "-------\n",
       "Dataset\n",
       "    The created dataset.\n",
       "\u001b[0;31mFile:\u001b[0m      ~/.pyenv/versions/3.11.5/lib/python3.11/site-packages/langsmith/client.py\n",
       "\u001b[0;31mType:\u001b[0m      method"
      ]
     },
     "metadata": {},
     "output_type": "display_data"
    }
   ],
   "source": [
    "client.create_dataset?"
   ]
  },
  {
   "cell_type": "code",
   "execution_count": 20,
   "id": "00e595a1-18e2-4de5-bfce-01c6a4dd2078",
   "metadata": {},
   "outputs": [
    {
     "name": "stdout",
     "output_type": "stream",
     "text": [
      "View the evaluation results for experiment: 'rap-generator-200b9893' at:\n",
      "https://smith.langchain.com/o/bd14a154-65e7-52b4-bdce-b9a16d5e3513/datasets/a6e04133-e8e3-4910-ab4d-6fd38f139b27/compare?selectedSessions=40d6d358-e86d-466d-9da8-c00ef010444e\n",
      "\n",
      "\n"
     ]
    },
    {
     "data": {
      "application/vnd.jupyter.widget-view+json": {
       "model_id": "5d159b579a57428598174fc75826c050",
       "version_major": 2,
       "version_minor": 0
      },
      "text/plain": [
       "0it [00:00, ?it/s]"
      ]
     },
     "metadata": {},
     "output_type": "display_data"
    },
    {
     "name": "stdout",
     "output_type": "stream",
     "text": [
      "run id: e08b1df7-a1d7-4179-9320-a0217cbf548b\n",
      "run id: 59964855-2dc9-4807-9bfc-e6b122dc12df\n",
      "\n",
      "run id: 47794fbc-9bd5-41bf-9bd4-eac59feb2663\n",
      "\n",
      "\n",
      "run id: 61eec87c-cca5-40ec-ba89-bf6c0aa5e839\n",
      "\n"
     ]
    }
   ],
   "source": [
    "# LLMが呼ばれたときに自動的にトレースするようにする\n",
    "openai_client = wrap_openai(openai.Client())\n",
    "\n",
    "# inputsにexampleが1つずつ渡される\n",
    "def predict(inputs: dict) -> dict:\n",
    "    messages = [{\"role\": \"user\", \"content\": inputs[\"question\"]}] # datasetのinputキー (question) と合わせる\n",
    "    response = openai_client.chat.completions.create(messages=messages, model=\"gpt-4o\")\n",
    "    return {\"output\": response}\n",
    "\n",
    "# Define evaluators\n",
    "def must_mention(run: Run, example: Example) -> dict:\n",
    "    prediction = run.outputs.get(\"output\") or \"\"\n",
    "    print(f\"run id: {run.id}\\n\")\n",
    "    required = example.outputs.get(\"must_mention\") or [] # outputsのキー (must_mention) と合わせる\n",
    "    score = all(phrase in prediction for phrase in required) # scoreは自分で定義したものでよい\n",
    "    return {\"key\":\"must_mention\", \"score\": 0, \"comment\": \"comment test\"} # key, score, commentを返す\n",
    "\n",
    "experiment_results = evaluate(\n",
    "    predict, # Your AI system\n",
    "    data=dataset_name, # The data to predict and grade over\n",
    "    evaluators=[must_mention], # The evaluators to score the results\n",
    "    experiment_prefix=\"rap-generator\", # A prefix for your experiment names to easily identify them\n",
    "    metadata={\n",
    "      \"version\": \"1.0.0\",\n",
    "    },\n",
    ")"
   ]
  }
 ],
 "metadata": {
  "kernelspec": {
   "display_name": "Python 3 (ipykernel)",
   "language": "python",
   "name": "python3"
  },
  "language_info": {
   "codemirror_mode": {
    "name": "ipython",
    "version": 3
   },
   "file_extension": ".py",
   "mimetype": "text/x-python",
   "name": "python",
   "nbconvert_exporter": "python",
   "pygments_lexer": "ipython3",
   "version": "3.11.5"
  }
 },
 "nbformat": 4,
 "nbformat_minor": 5
}
