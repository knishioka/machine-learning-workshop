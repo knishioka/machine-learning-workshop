{
 "cells": [
  {
   "cell_type": "markdown",
   "id": "58e45ac2",
   "metadata": {},
   "source": [
    "# LangSmithを使った評価\n",
    "LangSmithの基本的なトレーシングの方法と、feedbackやevaluationを使った評価を行う。"
   ]
  },
  {
   "cell_type": "code",
   "execution_count": 1,
   "id": "7809f17c-44bc-4f19-8863-4bc854340537",
   "metadata": {},
   "outputs": [
    {
     "data": {
      "text/plain": [
       "True"
      ]
     },
     "execution_count": 1,
     "metadata": {},
     "output_type": "execute_result"
    }
   ],
   "source": [
    "from dotenv import load_dotenv\n",
    "\n",
    "load_dotenv()"
   ]
  },
  {
   "cell_type": "markdown",
   "id": "a069ef0b",
   "metadata": {},
   "source": [
    "## LangSmith関連の環境変数"
   ]
  },
  {
   "cell_type": "code",
   "execution_count": 2,
   "id": "cc4f0cd4-3b87-42fe-aa4f-54b69028d157",
   "metadata": {},
   "outputs": [
    {
     "name": "stdout",
     "output_type": "stream",
     "text": [
      "Env Variables\n",
      "LANGCHAIN_TRACING_V2: true\n",
      "LANGCHAIN_PROJECT: machine-learning-workshop\n",
      "LANGCHAIN_ENDPOINT: https://api.smith.langchain.com\n",
      "\n"
     ]
    }
   ],
   "source": [
    "import os\n",
    "\n",
    "print(f\"\"\"Env Variables\n",
    "LANGCHAIN_TRACING_V2: {os.environ[\"LANGCHAIN_TRACING_V2\"]}\n",
    "LANGCHAIN_PROJECT: {os.environ[\"LANGCHAIN_PROJECT\"]}\n",
    "LANGCHAIN_ENDPOINT: {os.environ[\"LANGCHAIN_ENDPOINT\"]}\n",
    "\"\"\")"
   ]
  },
  {
   "cell_type": "markdown",
   "id": "45564955-2936-4c57-922c-69b525c0c4d0",
   "metadata": {},
   "source": [
    "## LangSmithのトレースの基本\n",
    "traceableデコレータを使用することで、任意の関数の引数と返り値をLangSmithで確認できるようになる。"
   ]
  },
  {
   "cell_type": "code",
   "execution_count": 3,
   "id": "65c29549-322a-4d07-865f-3f4ec80d36b9",
   "metadata": {},
   "outputs": [
    {
     "data": {
      "text/markdown": [
       "```sql\n",
       "SELECT\n",
       "  user_id,\n",
       "  COUNT(DISTINCT session_id) AS total_sessions,\n",
       "  COUNT(DISTINCT page_id) AS total_pages,\n",
       "  COUNT(DISTINCT page_id) / COUNT(DISTINCT session_id) AS page_per_session\n",
       "FROM\n",
       "  `your_project.your_dataset.your_table`\n",
       "GROUP BY\n",
       "  user_id\n",
       "```"
      ],
      "text/plain": [
       "<IPython.core.display.Markdown object>"
      ]
     },
     "metadata": {},
     "output_type": "display_data"
    }
   ],
   "source": [
    "from IPython.display import display, Markdown\n",
    "from langsmith import traceable\n",
    "import openai\n",
    "\n",
    "openai_client = openai.Client()\n",
    "\n",
    "\n",
    "@traceable\n",
    "def format_prompt(question):\n",
    "    return [\n",
    "        {\n",
    "            \"role\": \"system\",\n",
    "            \"content\": \"あなたはBigQueryのエキスパートです. 出したいデータのクエリを作成してください. 出力はクエリのみで他の情報は不要です.\",\n",
    "        },\n",
    "        {\"role\": \"user\", \"content\": f\"{question}\"},\n",
    "    ]\n",
    "\n",
    "\n",
    "@traceable(run_type=\"llm\")\n",
    "def invoke_llm(messages):\n",
    "    return openai_client.chat.completions.create(\n",
    "        messages=messages, model=\"gpt-4o\", temperature=0\n",
    "    )\n",
    "\n",
    "\n",
    "@traceable\n",
    "def parse_output(response):\n",
    "    return response.choices[0].message.content\n",
    "\n",
    "\n",
    "@traceable\n",
    "def run_pipeline():\n",
    "    messages = format_prompt(\"ウェブサイトの回遊率\")\n",
    "    response = invoke_llm(messages)\n",
    "    return parse_output(response)\n",
    "\n",
    "\n",
    "display(Markdown(run_pipeline()))"
   ]
  },
  {
   "cell_type": "markdown",
   "id": "c147b87e-6380-4c7a-8aa8-e2ee0186a19e",
   "metadata": {},
   "source": [
    "openaiとのやり取りの可観測にするラッパー `wrap_openai` を使うと、モデルの情報などを簡単に取得可能になる。"
   ]
  },
  {
   "cell_type": "code",
   "execution_count": 4,
   "id": "0a83e551-9053-4dbd-a30f-578b84698965",
   "metadata": {},
   "outputs": [
    {
     "data": {
      "text/markdown": [
       "```sql\n",
       "SELECT\n",
       "  (SUM(CASE WHEN pageviews > 1 THEN 1 ELSE 0 END) / COUNT(*)) AS bounce_rate\n",
       "FROM\n",
       "  `your_dataset.your_table`\n",
       "WHERE\n",
       "  session_id IS NOT NULL;\n",
       "```"
      ],
      "text/plain": [
       "<IPython.core.display.Markdown object>"
      ]
     },
     "metadata": {},
     "output_type": "display_data"
    }
   ],
   "source": [
    "from langsmith.wrappers import wrap_openai\n",
    "\n",
    "wrap_openai_client = wrap_openai(openai.Client())\n",
    "\n",
    "\n",
    "@traceable(name=\"run_pipeline with wrap_openai\")\n",
    "def run_pipeline_with_wrap_llm():\n",
    "    messages = format_prompt(\"ウェブサイトの回遊率\")\n",
    "    response = wrap_openai_client.chat.completions.create(\n",
    "        messages=messages, model=\"gpt-4o\", temperature=0\n",
    "    )\n",
    "    return parse_output(response)\n",
    "\n",
    "\n",
    "display(Markdown(run_pipeline_with_wrap_llm()))"
   ]
  },
  {
   "cell_type": "markdown",
   "id": "0326a818-99b9-4252-943a-e3729c14da4b",
   "metadata": {},
   "source": [
    "LCEL (LangChain Expression Language) を使えば、LangSmithでの観測が楽にできる。"
   ]
  },
  {
   "cell_type": "code",
   "execution_count": 5,
   "id": "db794be6-9d7d-4003-84a6-532324cd2627",
   "metadata": {},
   "outputs": [
    {
     "data": {
      "text/markdown": [
       "以下のクエリは、ウェブサイトの全セッション中でページビューションが2回以上あるセッションの割合（回遊率）を計算します。ここでは、`website_log`という仮想のテーブルを使用し、各セッション（`session_id`）のページビュー数（`page_views`）をカウントします。\n",
       "\n",
       "```sql\n",
       "SELECT \n",
       "  (COUNTIF(page_views_per_session >= 2) / COUNT(*)) AS bounce_rate\n",
       "FROM (\n",
       "  SELECT \n",
       "    session_id, \n",
       "    COUNT(*) AS page_views_per_session\n",
       "  FROM \n",
       "    `your_project.your_dataset.website_log`\n",
       "  GROUP BY \n",
       "    session_id\n",
       ")\n",
       "```\n",
       "\n",
       "このクエリは、各セッションに対するページビュー数を集計し、その中で2回以上のページビューがあるセッションの割合を計算します。`COUNTIF`関数は、指定した条件に一致する行をカウントします。この場合、それはページビュー数が2以上の行です。そして、`COUNT(*)`は全体のセッション数をカウントします。これらの比率を取ることで、ウェブサイトの回遊率を計算しています。"
      ],
      "text/plain": [
       "<IPython.core.display.Markdown object>"
      ]
     },
     "metadata": {},
     "output_type": "display_data"
    }
   ],
   "source": [
    "from langchain_core.output_parsers import StrOutputParser\n",
    "from langchain_core.prompts import ChatPromptTemplate\n",
    "from langchain_openai import ChatOpenAI\n",
    "\n",
    "model = ChatOpenAI(model=\"gpt-4\")\n",
    "\n",
    "prompt = ChatPromptTemplate.from_messages(\n",
    "    [\n",
    "        (\n",
    "            \"system\",\n",
    "            \"あなたはBigQueryのエキスパートです. 出したいデータのクエリを作成してください. 出力はクエリのみで他の情報は不要です.\",\n",
    "        ),\n",
    "        (\"human\", \"{question}\"),\n",
    "    ]\n",
    ")\n",
    "output_parser = StrOutputParser()\n",
    "\n",
    "chain = prompt | model | output_parser\n",
    "display(Markdown(chain.invoke(\"ウェブサイトの回遊率\")))"
   ]
  },
  {
   "cell_type": "markdown",
   "id": "8bb7eeb0",
   "metadata": {},
   "source": [
    "## FeedbackとEvaluationを使った評価\n"
   ]
  },
  {
   "cell_type": "code",
   "execution_count": 6,
   "id": "769bd8d2",
   "metadata": {},
   "outputs": [],
   "source": [
    "import base64\n",
    "from IPython.display import Image, display\n",
    "import matplotlib.pyplot as plt\n",
    "\n",
    "\n",
    "def mm(graph):\n",
    "    graphbytes = graph.encode(\"ascii\")\n",
    "    base64_bytes = base64.b64encode(graphbytes)\n",
    "    base64_string = base64_bytes.decode(\"ascii\")\n",
    "    display(Image(url=\"https://mermaid.ink/img/\" + base64_string))"
   ]
  },
  {
   "cell_type": "code",
   "execution_count": 7,
   "id": "10a6ccde",
   "metadata": {},
   "outputs": [
    {
     "data": {
      "text/html": [
       "<img src=\"https://mermaid.ink/img/CmdyYXBoIFRECiAgQVtMYW5nU21pdGhdIC0tPiBCW1VzZXIgYW5kIFByb2R1Y3QgVGVhbSBGZWVkYmFja10KICBBIC0tPiBDW1ByZXBhcmVkIERhdGFzZXQgRXhwZXJpbWVudHNdCgogIHN1YmdyYXBoIEJbRmVlZGJhY2tdCiAgICBCMVtBbm5vdGF0ZSBSdW5zXSAtLT4gQjJbU2F2ZSBGZWVkYmFja10KICBlbmQKCiAgc3ViZ3JhcGggQ1tFdmFsdWF0aW9uXQogICAgQzFbSW5wdXQgYW5kIE91dHB1dF0gLS0+IEMyW1J1biBFeHBlcmltZW50c10KICBlbmQKCiAgY2xhc3NEZWYgbWFpbiBmaWxsOiNmOWYsc3Ryb2tlOiMzMzMsc3Ryb2tlLXdpZHRoOjJweDsKICBjbGFzc0RlZiBzdWIgZmlsbDojYmJmLHN0cm9rZTojMzMzLHN0cm9rZS13aWR0aDoycHg7CiAgY2xhc3NEZWYgZGV0YWlsIGZpbGw6I2ZiMyxzdHJva2U6IzMzMyxzdHJva2Utd2lkdGg6MnB4OwoKICBjbGFzcyBBLEIsQyBtYWluOwogIGNsYXNzIEIxLEIyLEMxLEMyIGRldGFpbDsgICAKICAg\"/>"
      ],
      "text/plain": [
       "<IPython.core.display.Image object>"
      ]
     },
     "metadata": {},
     "output_type": "display_data"
    }
   ],
   "source": [
    "mm(\"\"\"\n",
    "graph TD\n",
    "  A[LangSmith] --> B[User and Product Team Feedback]\n",
    "  A --> C[Prepared Dataset Experiments]\n",
    "\n",
    "  subgraph B[Feedback]\n",
    "    B1[Annotate Runs] --> B2[Save Feedback]\n",
    "  end\n",
    "\n",
    "  subgraph C[Evaluation]\n",
    "    C1[Input and Output] --> C2[Run Experiments]\n",
    "  end\n",
    "\n",
    "  classDef main fill:#f9f,stroke:#333,stroke-width:2px;\n",
    "  classDef sub fill:#bbf,stroke:#333,stroke-width:2px;\n",
    "  classDef detail fill:#fb3,stroke:#333,stroke-width:2px;\n",
    "\n",
    "  class A,B,C main;\n",
    "  class B1,B2,C1,C2 detail;   \n",
    "   \"\"\")"
   ]
  },
  {
   "cell_type": "markdown",
   "id": "7bf00005-30e6-4f85-8878-bf98ba4ad8d7",
   "metadata": {},
   "source": [
    "### Feedback\n",
    "- Traceされた実行の中に含まれるRunに、自分で定義したTagやKeyをAnnotate\n",
    "  - trace_id1つに対して複数のrun_idが含まれる構造\n",
    "  - 最初のrun_idはtrace_idと同一\n",
    "- API経由のfeedbackではKey, 手動のfeedbackではTagでAnnotateする仕組みとなっているが、TagもKeyとして保存されている\n",
    "\"- ただし、API経由のfeedbackはrecordが追加・上書きできるのに対して、手動のfeedbackは上書きのみという違いがある\n",
    "\"- 数値データで同じキーのものは集計されて表示される\n",
    "- LLMアプリを使っているユーザからのフィードバックは、基本的にAPI経由の登録となる\n"
   ]
  },
  {
   "cell_type": "code",
   "execution_count": 8,
   "id": "e3859db3-efbd-407e-8aef-ed1fe2bc396b",
   "metadata": {},
   "outputs": [
    {
     "data": {
      "text/plain": [
       "[SystemMessagePromptTemplate(prompt=PromptTemplate(input_variables=[], template='You are a helpful assistant')),\n",
       " MessagesPlaceholder(variable_name='chat_history', optional=True),\n",
       " HumanMessagePromptTemplate(prompt=PromptTemplate(input_variables=['input'], template='{input}')),\n",
       " MessagesPlaceholder(variable_name='agent_scratchpad')]"
      ]
     },
     "execution_count": 8,
     "metadata": {},
     "output_type": "execute_result"
    }
   ],
   "source": [
    "from langchain_openai import ChatOpenAI\n",
    "from langchain import hub\n",
    "\n",
    "\n",
    "llm = ChatOpenAI(model=\"gpt-4o\", temperature=0)\n",
    "\n",
    "# Get the prompt to use - you can modify this!\n",
    "prompt = hub.pull(\"hwchase17/openai-functions-agent\")\n",
    "prompt.messages"
   ]
  },
  {
   "cell_type": "code",
   "execution_count": null,
   "id": "e9a3f0de-4149-4343-b359-ec6c4fa8cb48",
   "metadata": {},
   "outputs": [
    {
     "name": "stdout",
     "output_type": "stream",
     "text": [
      "\n",
      "\n",
      "\u001b[1m> Entering new AgentExecutor chain...\u001b[0m\n",
      "\u001b[32;1m\u001b[1;3m\n",
      "Invoking: `tavily_search_results_json` with `{'query': 'how can LangSmith help with testing'}`\n",
      "\n",
      "\n",
      "\u001b[0m"
     ]
    }
   ],
   "source": [
    "from langchain.agents import create_tool_calling_agent\n",
    "from langchain.agents import AgentExecutor\n",
    "from langchain_community.tools.tavily_search import TavilySearchResults\n",
    "\n",
    "search = TavilySearchResults()\n",
    "tools = [search]\n",
    "\n",
    "agent = create_tool_calling_agent(llm, tools, prompt)\n",
    "agent_executor = AgentExecutor(agent=agent, tools=tools, verbose=True)\n",
    "agent_executor.invoke({\"input\": \"how can langsmith help with testing?\"})"
   ]
  },
  {
   "cell_type": "markdown",
   "id": "3f41b88c",
   "metadata": {},
   "source": [
    "LangSmith上で手動でFeedbackを付与することができる"
   ]
  },
  {
   "cell_type": "markdown",
   "id": "4b9bbb6e-ebce-4bcc-86e5-89260829c215",
   "metadata": {},
   "source": [
    "#### Runの情報を取得\n",
    "LangSmithのAPIを使ってFeedbackを作成するためには、run idを取得する必要がある。"
   ]
  },
  {
   "cell_type": "code",
   "execution_count": null,
   "id": "ade91553-80da-49ad-8417-45bc3c070287",
   "metadata": {},
   "outputs": [],
   "source": [
    "from langchain.callbacks import tracing_v2_enabled\n",
    "\n",
    "with tracing_v2_enabled() as cb:\n",
    "    agent_executor.invoke({\"input\": \"how can langsmith help with testing?\"})"
   ]
  },
  {
   "cell_type": "code",
   "execution_count": null,
   "id": "ea3b34c5-bab4-4c1b-b4f2-75b17268af71",
   "metadata": {},
   "outputs": [],
   "source": [
    "# RunのURLを取得\n",
    "cb.get_run_url()"
   ]
  },
  {
   "cell_type": "code",
   "execution_count": null,
   "id": "e246e6de-f5cc-4ed1-86f7-f181a9c8b9e8",
   "metadata": {},
   "outputs": [],
   "source": [
    "# Run IDを取得\n",
    "run_id = cb.latest_run.id\n",
    "run_id"
   ]
  },
  {
   "cell_type": "markdown",
   "id": "5a7a495f-1e89-4e7c-a8de-d6323e7a9280",
   "metadata": {},
   "source": [
    "#### Feedbackの作成\n",
    "run_idを指定してFeedbackを追加することができる。\n",
    "keyは自分で任意の値を指定することが可能。"
   ]
  },
  {
   "cell_type": "code",
   "execution_count": null,
   "id": "bf65cbde-36c8-4d11-8aa5-d17b7798aa11",
   "metadata": {},
   "outputs": [],
   "source": [
    "from langsmith import Client\n",
    "\n",
    "ls_client = Client()\n",
    "\n",
    "score_feedback1 = ls_client.create_feedback(\n",
    "    run_id=cb.latest_run.id, key=\"test-score\", score=1\n",
    ")\n",
    "score_feedback1"
   ]
  },
  {
   "cell_type": "markdown",
   "id": "5d0a3dc6",
   "metadata": {},
   "source": [
    "同じキーを指定すると別のfeedbackとして保存される"
   ]
  },
  {
   "cell_type": "code",
   "execution_count": null,
   "id": "a3a1eb0a-a932-4e1d-9c4e-37364aa55ea2",
   "metadata": {},
   "outputs": [],
   "source": [
    "score_feedback2 = ls_client.create_feedback(\n",
    "    run_id=cb.latest_run.id, key=\"test-score\", score=100\n",
    ")\n",
    "score_feedback2"
   ]
  },
  {
   "cell_type": "markdown",
   "id": "92e323f9",
   "metadata": {},
   "source": [
    "feedback_idを指定して、上書きすることも可能。"
   ]
  },
  {
   "cell_type": "code",
   "execution_count": null,
   "id": "36caba68",
   "metadata": {},
   "outputs": [],
   "source": [
    "update_score_feedback1 = ls_client.create_feedback(\n",
    "    run_id=cb.latest_run.id, feedback_id=score_feedback1.id, key=\"test-score\", score=500\n",
    ")\n",
    "update_score_feedback1"
   ]
  },
  {
   "cell_type": "code",
   "execution_count": null,
   "id": "d96f00ec-b857-47b4-b202-2c8505d0ca8b",
   "metadata": {},
   "outputs": [],
   "source": [
    "comment_feedback = ls_client.create_feedback(\n",
    "    run_id=cb.latest_run.id, key=\"test-comment\", comment=\"test comment\"\n",
    ")\n",
    "comment_feedback"
   ]
  },
  {
   "cell_type": "markdown",
   "id": "d9f91dab-2c51-4cf4-9fd3-f860a4aa8cc0",
   "metadata": {},
   "source": [
    "#### Feedbackの削除\n",
    "feedback_idを指定して、作成したfeedbackを削除することも可能。"
   ]
  },
  {
   "cell_type": "code",
   "execution_count": null,
   "id": "46f03c34-c7d6-4970-bc1e-861ccc5829fb",
   "metadata": {},
   "outputs": [],
   "source": [
    "# 作成したfeedbackを削除\n",
    "ls_client.delete_feedback(score_feedback1.id)\n",
    "ls_client.delete_feedback(comment_feedback.id)"
   ]
  },
  {
   "cell_type": "code",
   "execution_count": null,
   "id": "36130122-2fb6-4a93-b16c-4eba75acdb44",
   "metadata": {},
   "outputs": [],
   "source": [
    "# list_feedbackでfeedbackをすべて取得し、削除\n",
    "for feedback in ls_client.list_feedback(run_ids=[cb.latest_run.id]):\n",
    "    ls_client.delete_feedback(feedback.id)"
   ]
  },
  {
   "cell_type": "markdown",
   "id": "f12237ca-d2a0-463b-85f0-55658c4dd09b",
   "metadata": {},
   "source": [
    "### Evaluation\n",
    "- DatasetにあらかじめInputとOutputの組み合わせからなるExampleを保存\n",
    "- ExampleのInputを使ってLLMを実行し、出てきたOutputを保存されているOutputを使って評価\n",
    "- 評価の方法は、LangSmithがあらかじめ用意しているものか、カスタムで作成することができる\n",
    "- 評価結果は、key (評価指標の名前), score (評価結果), commentとして残すことが可能\n"
   ]
  },
  {
   "cell_type": "code",
   "execution_count": null,
   "id": "ccc0f086",
   "metadata": {},
   "outputs": [],
   "source": [
    "mm(\"\"\"\n",
    "graph TD\n",
    "  subgraph EvaluationPipeline[Evaluation Pipeline]\n",
    "    B[Datasets] --> C[Examples]\n",
    "    C --> D[Inputs]\n",
    "    C --> E[Expected Outputs]\n",
    "    D --> F[LLM]\n",
    "    F --> G[Run Outputs]\n",
    "    E --> H[Evaluators]\n",
    "    G --> H\n",
    "    H --> I[Evaluation Result]\n",
    "\n",
    "    subgraph I[Evaluation Result]\n",
    "      direction LR\n",
    "      I1[Key: metric name] -.- I2[Score: metric value] -.- I3[Comment: reasoning]\n",
    "      I3 -.- I1\n",
    "    end\n",
    "  end\n",
    "\n",
    "  classDef main fill:#f9f,stroke:#333,stroke-width:2px;\n",
    "  classDef sub fill:#bbf,stroke:#333,stroke-width:2px;\n",
    "  classDef detail fill:#fb3,stroke:#333,stroke-width:2px;\n",
    "\n",
    "  class B,C,D,E,F,G,H,I main;\n",
    "  class I1,I2,I3 detail;   \n",
    "   \"\"\")"
   ]
  },
  {
   "cell_type": "markdown",
   "id": "96fc834a",
   "metadata": {},
   "source": [
    "#### DatasetとExampleを作成\n",
    "Datasetを作成し、Exampleを保存。"
   ]
  },
  {
   "cell_type": "code",
   "execution_count": null,
   "id": "9553e43f-b1e1-45a0-ac0e-faa11c2e6791",
   "metadata": {},
   "outputs": [],
   "source": [
    "import textwrap\n",
    "\n",
    "from langsmith import Client\n",
    "from langsmith.schemas import Run, Example\n",
    "from langsmith.evaluation import evaluate\n",
    "\n",
    "ls_client = Client()  # LangSmithのクライアント\n",
    "\n",
    "# 作成するデータセット\n",
    "dataset_name = \"SQL Samples\"\n",
    "\n",
    "# データセットがあれば削除\n",
    "if ls_client.has_dataset(dataset_name=dataset_name):\n",
    "    dataset = ls_client.delete_dataset(dataset_name=dataset_name)\n",
    "\n",
    "dataset = ls_client.create_dataset(\n",
    "    dataset_name, description=\"ML Workshop用のサンプルクエリ\"\n",
    ")\n",
    "\n",
    "# データセットにexampleを保存\n",
    "ls_client.create_examples(\n",
    "    inputs=[\n",
    "        {\"question\": \"MAUを取得\"},\n",
    "        {\"question\": \"新規ユーザ数の推移\"},\n",
    "    ],\n",
    "    outputs=[\n",
    "        {\n",
    "            \"query\": textwrap.dedent(\"\"\"\n",
    "           SELECT\n",
    "               COUNT(DISTINCT user_id) AS monthly_active_users\n",
    "           FROM\n",
    "               `your_dataset.user_activities`\n",
    "           WHERE\n",
    "               activity_date BETWEEN DATE_SUB(CURRENT_DATE(), INTERVAL 1 MONTH) AND CURRENT_DATE()\n",
    "        \"\"\"),\n",
    "            \"tables\": [\"user_activities\"],\n",
    "        },\n",
    "        {\n",
    "            \"query\": textwrap.dedent(\"\"\"\n",
    "            SELECT\n",
    "                signup_date,\n",
    "                COUNT(user_id) AS new_users\n",
    "            FROM\n",
    "                `your_dataset.user_activities`\n",
    "            GROUP BY\n",
    "                signup_date\n",
    "            ORDER BY\n",
    "            　　 signup_date\n",
    "        \"\"\"),\n",
    "            \"tables\": [\"user_activities\"],\n",
    "        },\n",
    "    ],\n",
    "    dataset_id=dataset.id,\n",
    ")"
   ]
  },
  {
   "cell_type": "code",
   "execution_count": null,
   "id": "90a464ec",
   "metadata": {},
   "outputs": [],
   "source": [
    "# datasetのURLを取得\n",
    "dataset.url"
   ]
  },
  {
   "cell_type": "code",
   "execution_count": null,
   "id": "c94cc301-2dc7-4c8d-8ed2-cb0bdec486f4",
   "metadata": {},
   "outputs": [],
   "source": [
    "# datasetのexample数を取得\n",
    "dataset.example_count"
   ]
  },
  {
   "cell_type": "markdown",
   "id": "ad151f48-5fed-436b-8221-808184fcf0bf",
   "metadata": {},
   "source": [
    "example_countが0となっているので、LangSmith Clientを使ってdatasetを読み直す"
   ]
  },
  {
   "cell_type": "code",
   "execution_count": null,
   "id": "58a3b2c3-fe2b-467b-8444-e9772e6e8f36",
   "metadata": {},
   "outputs": [],
   "source": [
    "dataset = ls_client.read_dataset(dataset_name=dataset_name)\n",
    "dataset.example_count"
   ]
  },
  {
   "cell_type": "code",
   "execution_count": null,
   "id": "92a4743c-38d8-4ff6-87b5-77e32e8c1b36",
   "metadata": {},
   "outputs": [],
   "source": [
    "ls_client.create_examples(\n",
    "    inputs=[\n",
    "        {\"question\": \"月ごとのCV数の推移\"},\n",
    "    ],\n",
    "    outputs=[\n",
    "        {\n",
    "            \"query\": textwrap.dedent(\"\"\"\n",
    "           SELECT\n",
    "               FORMAT_TIMESTAMP('%Y-%m', conv_date) AS conversion_month,\n",
    "               COUNT(conv_id) AS conversions\n",
    "           FROM\n",
    "               `your_dataset.your_table`\n",
    "           WHERE\n",
    "               conv_date BETWEEN DATE_SUB(CURRENT_DATE(), INTERVAL 1 YEAR) AND CURRENT_DATE()\n",
    "           GROUP BY\n",
    "               conversion_month\n",
    "           ORDER BY\n",
    "               conversion_month\n",
    "        \"\"\"),\n",
    "            \"tables\": [\"user_activities\"],\n",
    "        },\n",
    "    ],\n",
    "    dataset_id=dataset.id,\n",
    ")"
   ]
  },
  {
   "cell_type": "markdown",
   "id": "dc9ca496-6ce7-46d6-9a55-0d795cfb15be",
   "metadata": {},
   "source": [
    "exampleを増やしたことにより、datasetのバージョンも変更されている"
   ]
  },
  {
   "cell_type": "code",
   "execution_count": null,
   "id": "e92f1240-bab6-44ef-a5dc-21f15a752b1c",
   "metadata": {},
   "outputs": [],
   "source": [
    "ls_client.read_dataset(dataset_name=dataset_name).example_count"
   ]
  },
  {
   "cell_type": "code",
   "execution_count": null,
   "id": "d8904cd3-8a18-4978-821f-c6d12e5a6728",
   "metadata": {},
   "outputs": [],
   "source": [
    "# datasetに保存されているexampleの一覧\n",
    "for example in ls_client.list_examples(dataset_name=dataset_name):\n",
    "    print(f\"\"\"\n",
    "question: {example.inputs[\"question\"]}\n",
    "query: {example.outputs[\"query\"]}\n",
    "    \"\"\")"
   ]
  },
  {
   "cell_type": "markdown",
   "id": "dd64866e-8183-42bc-b9a5-a0a946579f61",
   "metadata": {},
   "source": [
    "### Custom Evaluationを実行"
   ]
  },
  {
   "cell_type": "code",
   "execution_count": null,
   "id": "00e595a1-18e2-4de5-bfce-01c6a4dd2078",
   "metadata": {},
   "outputs": [],
   "source": [
    "# inputsにexampleが1つずつ渡される\n",
    "def predict(inputs: dict) -> dict:\n",
    "    model = ChatOpenAI(model=\"gpt-4\")\n",
    "    prompt = ChatPromptTemplate.from_messages(\n",
    "        [\n",
    "            (\n",
    "                \"system\",\n",
    "                \"あなたはBigQueryのエキスパートです. 出したいデータのクエリを作成してください. 出力はクエリのみで他の情報は不要です.\",\n",
    "            ),\n",
    "            (\"human\", \"{question}, tableはuser_activitiesを使います.\"),\n",
    "        ]\n",
    "    )\n",
    "    output_parser = StrOutputParser()\n",
    "    llm = prompt | model | output_parser\n",
    "    return {\"output\": llm.invoke(inputs)}\n",
    "\n",
    "\n",
    "# Custom Evaluation\n",
    "def must_have_user_activities(run: Run, example: Example) -> dict:\n",
    "    prediction = run.outputs.get(\"output\") or \"\"\n",
    "    print(f\"run id: {run.id}\\n\")\n",
    "    required = example.outputs.get(\"tables\") or []  # outputsのキー (tables) と合わせる\n",
    "    print(required)\n",
    "    print(prediction)\n",
    "    score = all(\n",
    "        phrase in prediction for phrase in required\n",
    "    )  # scoreは自分で定義したものでよい\n",
    "    return {\n",
    "        \"key\": \"must_have_user_activities\",\n",
    "        \"score\": score,\n",
    "        \"comment\": \"comment test\",\n",
    "    }  # key, score, commentを返す\n",
    "\n",
    "\n",
    "experiment_results = evaluate(\n",
    "    predict,\n",
    "    data=dataset_name,  # The data to predict and grade over\n",
    "    evaluators=[must_have_user_activities],  # The evaluators to score the results\n",
    "    experiment_prefix=\"ml-workshop\",  # A prefix for your experiment names to easily identify them\n",
    "    metadata={\n",
    "        \"version\": \"1.0.0\",\n",
    "    },\n",
    ")"
   ]
  }
 ],
 "metadata": {
  "kernelspec": {
   "display_name": "Python 3 (ipykernel)",
   "language": "python",
   "name": "python3"
  },
  "language_info": {
   "codemirror_mode": {
    "name": "ipython",
    "version": 3
   },
   "file_extension": ".py",
   "mimetype": "text/x-python",
   "name": "python",
   "nbconvert_exporter": "python",
   "pygments_lexer": "ipython3",
   "version": "3.11.5"
  }
 },
 "nbformat": 4,
 "nbformat_minor": 5
}
