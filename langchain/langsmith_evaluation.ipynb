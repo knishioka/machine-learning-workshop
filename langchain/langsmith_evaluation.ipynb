{
 "cells": [
  {
   "cell_type": "code",
   "execution_count": 1,
   "id": "7809f17c-44bc-4f19-8863-4bc854340537",
   "metadata": {},
   "outputs": [
    {
     "data": {
      "text/plain": [
       "True"
      ]
     },
     "execution_count": 1,
     "metadata": {},
     "output_type": "execute_result"
    }
   ],
   "source": [
    "from dotenv import load_dotenv\n",
    "\n",
    "load_dotenv()"
   ]
  },
  {
   "cell_type": "code",
   "execution_count": 4,
   "id": "cc4f0cd4-3b87-42fe-aa4f-54b69028d157",
   "metadata": {},
   "outputs": [
    {
     "name": "stdout",
     "output_type": "stream",
     "text": [
      "Env Variables\n",
      "LANGCHAIN_TRACING_V2: true\n",
      "LANGCHAIN_PROJECT: machine-learning-workshop\n",
      "LANGCHAIN_ENDPOINT: https://api.smith.langchain.com\n",
      "\n"
     ]
    }
   ],
   "source": [
    "import os\n",
    "print(f'''Env Variables\n",
    "LANGCHAIN_TRACING_V2: {os.environ[\"LANGCHAIN_TRACING_V2\"]}\n",
    "LANGCHAIN_PROJECT: {os.environ[\"LANGCHAIN_PROJECT\"]}\n",
    "LANGCHAIN_ENDPOINT: {os.environ[\"LANGCHAIN_ENDPOINT\"]}\n",
    "''')"
   ]
  },
  {
   "cell_type": "markdown",
   "id": "45564955-2936-4c57-922c-69b525c0c4d0",
   "metadata": {},
   "source": [
    "## LangSmithのトレースの基本\n",
    "traceableデコレータを使用することで、任意の関数の引数と返り値をLangSmithで確認できるようになる。"
   ]
  },
  {
   "cell_type": "code",
   "execution_count": 20,
   "id": "65c29549-322a-4d07-865f-3f4ec80d36b9",
   "metadata": {},
   "outputs": [
    {
     "data": {
      "text/markdown": [
       "```sql\n",
       "SELECT\n",
       "  user_id,\n",
       "  COUNT(DISTINCT page_id) AS pages_visited,\n",
       "  COUNT(DISTINCT session_id) AS sessions,\n",
       "  COUNT(DISTINCT page_id) / COUNT(DISTINCT session_id) AS page_views_per_session\n",
       "FROM\n",
       "  `your_dataset.your_table`\n",
       "GROUP BY\n",
       "  user_id\n",
       "```"
      ],
      "text/plain": [
       "<IPython.core.display.Markdown object>"
      ]
     },
     "metadata": {},
     "output_type": "display_data"
    }
   ],
   "source": [
    "from IPython.display import display, Markdown\n",
    "from langsmith import traceable\n",
    "import openai\n",
    "\n",
    "openai_client = openai.Client()\n",
    "\n",
    "@traceable\n",
    "def format_prompt(question):\n",
    "    return [\n",
    "        {\n",
    "            \"role\": \"system\",\n",
    "            \"content\": \"あなたはBigQueryのエキスパートです. 出したいデータのクエリを作成してください. 出力はクエリのみで他の情報は不要です.\",\n",
    "        },\n",
    "        {\n",
    "            \"role\": \"user\",\n",
    "            \"content\": f\"{question}\"\n",
    "        }\n",
    "    ]\n",
    "\n",
    "@traceable(run_type=\"llm\")\n",
    "def invoke_llm(messages):\n",
    "    return openai_client.chat.completions.create(\n",
    "        messages=messages, model=\"gpt-4o\", temperature=0\n",
    "    )\n",
    "\n",
    "@traceable\n",
    "def parse_output(response):\n",
    "    return response.choices[0].message.content\n",
    "\n",
    "@traceable\n",
    "def run_pipeline():\n",
    "    messages = format_prompt(\"ウェブサイトの回遊率\")\n",
    "    response = invoke_llm(messages)\n",
    "    return parse_output(response)\n",
    "\n",
    "display(Markdown(run_pipeline()))"
   ]
  },
  {
   "cell_type": "markdown",
   "id": "c147b87e-6380-4c7a-8aa8-e2ee0186a19e",
   "metadata": {},
   "source": [
    "openaiとのやり取りの可観測にするラッパー `wrap_openai` を使うと詳細な情報を簡単に取得可能になる。"
   ]
  },
  {
   "cell_type": "code",
   "execution_count": 32,
   "id": "0a83e551-9053-4dbd-a30f-578b84698965",
   "metadata": {},
   "outputs": [
    {
     "data": {
      "text/markdown": [
       "```sql\n",
       "SELECT\n",
       "  user_id,\n",
       "  COUNT(DISTINCT session_id) AS total_sessions,\n",
       "  COUNT(DISTINCT CASE WHEN page_viewed THEN session_id END) AS sessions_with_page_views,\n",
       "  (COUNT(DISTINCT CASE WHEN page_viewed THEN session_id END) / COUNT(DISTINCT session_id)) AS bounce_rate\n",
       "FROM\n",
       "  `your_dataset.your_table`\n",
       "GROUP BY\n",
       "  user_id\n",
       "```"
      ],
      "text/plain": [
       "<IPython.core.display.Markdown object>"
      ]
     },
     "metadata": {},
     "output_type": "display_data"
    }
   ],
   "source": [
    "from langsmith.wrappers import wrap_openai\n",
    "\n",
    "wrap_openai_client = wrap_openai(openai.Client())\n",
    "\n",
    "@traceable(name=\"run_pipeline with wrap_openai\")\n",
    "def run_pipeline_with_wrap_llm():\n",
    "    messages = format_prompt(\"ウェブサイトの回遊率\")\n",
    "    response = wrap_openai_client.chat.completions.create(\n",
    "        messages=messages, model=\"gpt-4o\", temperature=0\n",
    "    )\n",
    "    return parse_output(response)\n",
    "\n",
    "display(Markdown(run_pipeline_with_wrap_llm()))"
   ]
  },
  {
   "cell_type": "markdown",
   "id": "0326a818-99b9-4252-943a-e3729c14da4b",
   "metadata": {},
   "source": [
    "LCEL (LangChain Expression Language) を使えば、LangSmithでの観測が楽にできる。"
   ]
  },
  {
   "cell_type": "code",
   "execution_count": 58,
   "id": "db794be6-9d7d-4003-84a6-532324cd2627",
   "metadata": {},
   "outputs": [
    {
     "data": {
      "text/markdown": [
       "```\n",
       "# まずは全体のセッション数と、1ページ以上訪れたセッション数を取得\n",
       "WITH total_sessions AS (\n",
       "  SELECT COUNT(*) as total_sessions\n",
       "  FROM `project.dataset.sessions`\n",
       "),\n",
       "pages_per_session AS (\n",
       "  SELECT sessionId, COUNT(*) as num_pages\n",
       "  FROM `project.dataset.page_views`\n",
       "  GROUP BY sessionId\n",
       "),\n",
       "sessions_with_multiple_pages AS (\n",
       "  SELECT COUNT(*) as sessions_with_multiple_pages\n",
       "  FROM pages_per_session\n",
       "  WHERE num_pages > 1\n",
       ")\n",
       "# 回遊率を計算（1ページ以上訪れたセッション数 / 全体のセッション数）\n",
       "SELECT sessions_with_multiple_pages / total_sessions as bounce_rate\n",
       "FROM total_sessions, sessions_with_multiple_pages\n",
       "```\n",
       "\n",
       "このクエリは、ウェブサイトの回遊率を計算するためのものです。回遊率とは、ユーザーがウェブサイトの複数のページを訪れたセッションの割合を指します。\n",
       "\n",
       "まず、全体のセッション数を`total_sessions`サブクエリで取得します。次に、各セッションで訪れたページ数を`pages_per_session`サブクエリで取得します。そして、1ページ以上訪れたセッション数を`sessions_with_multiple_pages`サブクエリで取得します。\n",
       "\n",
       "最後に、1ページ以上訪れたセッション数を全体のセッション数で割ることで、回遊率を計算します。\n",
       "\n",
       "なお、このクエリはBigQueryのStandard SQL構文を使用しています。また、このクエリはサンプルであり、実際のデータスキーマによっては修正が必要です。"
      ],
      "text/plain": [
       "<IPython.core.display.Markdown object>"
      ]
     },
     "metadata": {},
     "output_type": "display_data"
    }
   ],
   "source": [
    "from langchain_core.output_parsers import StrOutputParser\n",
    "from langchain_core.prompts import ChatPromptTemplate\n",
    "from langchain_openai import ChatOpenAI\n",
    "\n",
    "model = ChatOpenAI(model=\"gpt-4\")\n",
    "\n",
    "prompt = ChatPromptTemplate.from_messages([\n",
    "    (\"system\", \"あなたはBigQueryのエキスパートです. 出したいデータのクエリを作成してください. 出力はクエリのみで他の情報は不要です.\"),\n",
    "    (\"human\", \"{question}\")\n",
    "])\n",
    "output_parser = StrOutputParser()\n",
    "\n",
    "chain = prompt | model | output_parser\n",
    "display(Markdown(chain.invoke(\"ウェブサイトの回遊率\")))"
   ]
  },
  {
   "cell_type": "code",
   "execution_count": 61,
   "id": "9553e43f-b1e1-45a0-ac0e-faa11c2e6791",
   "metadata": {},
   "outputs": [],
   "source": [
    "import textwrap\n",
    "\n",
    "from langsmith import Client\n",
    "from langsmith.schemas import Run, Example\n",
    "from langsmith.evaluation import evaluate\n",
    "\n",
    "ls_client = Client() # LangSmithのクライアント\n",
    "\n",
    "# 作成するデータセット\n",
    "dataset_name = \"SQL Samples\"\n",
    "\n",
    "# データセットがあれば削除\n",
    "if ls_client.has_dataset(dataset_name=dataset_name):\n",
    "    dataset = ls_client.delete_dataset(dataset_name=dataset_name)\n",
    "\n",
    "dataset = ls_client.create_dataset(dataset_name, description=\"ML Workshop用のサンプルクエリ\")\n",
    "\n",
    "# データセットにexampleを保存\n",
    "ls_client.create_examples(\n",
    "    inputs=[\n",
    "        {\"question\": \"MAUを取得\"},\n",
    "        {\"question\": \"新規ユーザ数の推移\"},\n",
    "    ],\n",
    "    outputs=[\n",
    "        {\"query\": textwrap.dedent(\"\"\"\n",
    "           SELECT\n",
    "               COUNT(DISTINCT user_id) AS monthly_active_users\n",
    "           FROM\n",
    "               `your_dataset.your_table`\n",
    "           WHERE\n",
    "               activity_date BETWEEN DATE_SUB(CURRENT_DATE(), INTERVAL 1 MONTH) AND CURRENT_DATE()\n",
    "        \"\"\")},\n",
    "        {\"query\": textwrap.dedent(\"\"\"\n",
    "            SELECT\n",
    "                signup_date,\n",
    "                COUNT(user_id) AS new_users\n",
    "            FROM\n",
    "                `your_dataset.your_table`\n",
    "            GROUP BY\n",
    "                signup_date\n",
    "            ORDER BY\n",
    "            　　 signup_date\n",
    "        \"\"\")},\n",
    "    ],\n",
    "    dataset_id=dataset.id,\n",
    ")"
   ]
  },
  {
   "cell_type": "code",
   "execution_count": 64,
   "id": "c94cc301-2dc7-4c8d-8ed2-cb0bdec486f4",
   "metadata": {},
   "outputs": [
    {
     "data": {
      "text/plain": [
       "Dataset(name='SQL Samples', description='ML Workshop用のサンプルクエリ', data_type=<DataType.kv: 'kv'>, id=UUID('24833e3e-e5ca-4a21-a8bf-57ba81c38d83'), created_at=datetime.datetime(2024, 6, 22, 6, 38, 11, 940342, tzinfo=datetime.timezone.utc), modified_at=datetime.datetime(2024, 6, 22, 6, 38, 11, 940342, tzinfo=datetime.timezone.utc), example_count=0, session_count=0, last_session_start_time=None)"
      ]
     },
     "execution_count": 64,
     "metadata": {},
     "output_type": "execute_result"
    }
   ],
   "source": [
    "dataset"
   ]
  },
  {
   "cell_type": "markdown",
   "id": "ad151f48-5fed-436b-8221-808184fcf0bf",
   "metadata": {},
   "source": [
    "example_countが0となっているので、LangSmith Clientを使ってdatasetを読み直す"
   ]
  },
  {
   "cell_type": "code",
   "execution_count": 62,
   "id": "58a3b2c3-fe2b-467b-8444-e9772e6e8f36",
   "metadata": {},
   "outputs": [
    {
     "data": {
      "text/plain": [
       "Dataset(name='SQL Samples', description='ML Workshop用のサンプルクエリ', data_type=<DataType.kv: 'kv'>, id=UUID('24833e3e-e5ca-4a21-a8bf-57ba81c38d83'), created_at=datetime.datetime(2024, 6, 22, 6, 38, 11, 940342, tzinfo=datetime.timezone.utc), modified_at=datetime.datetime(2024, 6, 22, 6, 38, 11, 940342, tzinfo=datetime.timezone.utc), example_count=2, session_count=0, last_session_start_time=None)"
      ]
     },
     "execution_count": 62,
     "metadata": {},
     "output_type": "execute_result"
    }
   ],
   "source": [
    "ls_client.read_dataset(dataset_name=dataset_name)"
   ]
  },
  {
   "cell_type": "code",
   "execution_count": 65,
   "id": "e76d30b6-f2cb-49d0-9986-b8f844b424c0",
   "metadata": {},
   "outputs": [
    {
     "data": {
      "text/plain": [
       "'https://smith.langchain.com/o/bd14a154-65e7-52b4-bdce-b9a16d5e3513/datasets/24833e3e-e5ca-4a21-a8bf-57ba81c38d83'"
      ]
     },
     "execution_count": 65,
     "metadata": {},
     "output_type": "execute_result"
    }
   ],
   "source": [
    "dataset.url"
   ]
  },
  {
   "cell_type": "code",
   "execution_count": 66,
   "id": "92a4743c-38d8-4ff6-87b5-77e32e8c1b36",
   "metadata": {},
   "outputs": [],
   "source": [
    "ls_client.create_examples(\n",
    "    inputs=[\n",
    "        {\"question\": \"月ごとのCV数の推移\"},\n",
    "    ],\n",
    "    outputs=[\n",
    "        {\"query\": textwrap.dedent(\"\"\"\n",
    "           SELECT\n",
    "               FORMAT_TIMESTAMP('%Y-%m', conv_date) AS conversion_month,\n",
    "               COUNT(conv_id) AS conversions\n",
    "           FROM\n",
    "               `your_dataset.your_table`\n",
    "           WHERE\n",
    "               conv_date BETWEEN DATE_SUB(CURRENT_DATE(), INTERVAL 1 YEAR) AND CURRENT_DATE()\n",
    "           GROUP BY\n",
    "               conversion_month\n",
    "           ORDER BY\n",
    "               conversion_month\n",
    "        \"\"\")},\n",
    "    ],\n",
    "    dataset_id=dataset.id,\n",
    ")"
   ]
  },
  {
   "cell_type": "markdown",
   "id": "dc9ca496-6ce7-46d6-9a55-0d795cfb15be",
   "metadata": {},
   "source": [
    "exampleを増やしたことにより、datasetのバージョンも変更されている"
   ]
  },
  {
   "cell_type": "code",
   "execution_count": 71,
   "id": "e92f1240-bab6-44ef-a5dc-21f15a752b1c",
   "metadata": {},
   "outputs": [
    {
     "data": {
      "text/plain": [
       "3"
      ]
     },
     "execution_count": 71,
     "metadata": {},
     "output_type": "execute_result"
    }
   ],
   "source": [
    "ls_client.read_dataset(dataset_name=dataset_name).example_count"
   ]
  },
  {
   "cell_type": "code",
   "execution_count": 73,
   "id": "d8904cd3-8a18-4978-821f-c6d12e5a6728",
   "metadata": {},
   "outputs": [
    {
     "data": {
      "text/plain": [
       "[Example(dataset_id=UUID('24833e3e-e5ca-4a21-a8bf-57ba81c38d83'), inputs={'question': '月ごとのCV数の推移'}, outputs={'query': \"\\nSELECT\\n    FORMAT_TIMESTAMP('%Y-%m', conv_date) AS conversion_month,\\n    COUNT(conv_id) AS conversions\\nFROM\\n    `your_dataset.your_table`\\nWHERE\\n    conv_date BETWEEN DATE_SUB(CURRENT_DATE(), INTERVAL 1 YEAR) AND CURRENT_DATE()\\nGROUP BY\\n    conversion_month\\nORDER BY\\n    conversion_month\\n\"}, metadata=None, id=UUID('46c9945b-28a6-416e-9390-7f3f47d83c3d'), created_at=datetime.datetime(2024, 6, 22, 6, 56, 46, 321500, tzinfo=datetime.timezone.utc), modified_at=datetime.datetime(2024, 6, 22, 6, 56, 46, 321500, tzinfo=datetime.timezone.utc), runs=[], source_run_id=None),\n",
       " Example(dataset_id=UUID('24833e3e-e5ca-4a21-a8bf-57ba81c38d83'), inputs={'question': 'MAUを取得'}, outputs={'query': '\\nSELECT\\n    COUNT(DISTINCT user_id) AS monthly_active_users\\nFROM\\n    `your_dataset.your_table`\\nWHERE\\n    activity_date BETWEEN DATE_SUB(CURRENT_DATE(), INTERVAL 1 MONTH) AND CURRENT_DATE()\\n'}, metadata=None, id=UUID('1b4adec6-adc5-4ef8-a15e-25fc79937a5d'), created_at=datetime.datetime(2024, 6, 22, 6, 38, 12, 159916, tzinfo=datetime.timezone.utc), modified_at=datetime.datetime(2024, 6, 22, 6, 38, 12, 159916, tzinfo=datetime.timezone.utc), runs=[], source_run_id=None),\n",
       " Example(dataset_id=UUID('24833e3e-e5ca-4a21-a8bf-57ba81c38d83'), inputs={'question': '新規ユーザ数の推移'}, outputs={'query': '\\nSELECT\\n    signup_date,\\n    COUNT(user_id) AS new_users\\nFROM\\n    `your_dataset.your_table`\\nGROUP BY\\n    signup_date\\nORDER BY\\n\\u3000\\u3000 signup_date\\n'}, metadata=None, id=UUID('228c8dda-5f76-4f6c-b1b8-d127fe4e149e'), created_at=datetime.datetime(2024, 6, 22, 6, 38, 12, 159916, tzinfo=datetime.timezone.utc), modified_at=datetime.datetime(2024, 6, 22, 6, 38, 12, 159916, tzinfo=datetime.timezone.utc), runs=[], source_run_id=None)]"
      ]
     },
     "execution_count": 73,
     "metadata": {},
     "output_type": "execute_result"
    }
   ],
   "source": [
    "# datasetに保存されているexampleの一覧\n",
    "list(ls_client.list_examples(dataset_name=dataset_name))"
   ]
  },
  {
   "cell_type": "code",
   "execution_count": 74,
   "id": "00e595a1-18e2-4de5-bfce-01c6a4dd2078",
   "metadata": {},
   "outputs": [],
   "source": [
    "# # LLMが呼ばれたときに自動的にトレースするようにする\n",
    "# openai_client = wrap_openai(openai.Client())\n",
    "\n",
    "# # inputsにexampleが1つずつ渡される\n",
    "# def predict(inputs: dict) -> dict:\n",
    "#     messages = [{\"role\": \"user\", \"content\": inputs[\"question\"]}] # datasetのinputキー (question) と合わせる\n",
    "#     response = openai_client.chat.completions.create(messages=messages, model=\"gpt-4o\")\n",
    "#     return {\"output\": response}\n",
    "\n",
    "# # Define evaluators\n",
    "# def must_mention(run: Run, example: Example) -> dict:\n",
    "#     prediction = run.outputs.get(\"output\") or \"\"\n",
    "#     print(f\"run id: {run.id}\\n\")\n",
    "#     required = example.outputs.get(\"must_mention\") or [] # outputsのキー (must_mention) と合わせる\n",
    "#     score = all(phrase in prediction for phrase in required) # scoreは自分で定義したものでよい\n",
    "#     return {\"key\":\"must_mention\", \"score\": 0, \"comment\": \"comment test\"} # key, score, commentを返す\n",
    "\n",
    "# experiment_results = evaluate(\n",
    "#     predict, # Your AI system\n",
    "#     data=dataset_name, # The data to predict and grade over\n",
    "#     evaluators=[must_mention], # The evaluators to score the results\n",
    "#     experiment_prefix=\"rap-generator\", # A prefix for your experiment names to easily identify them\n",
    "#     metadata={\n",
    "#       \"version\": \"1.0.0\",\n",
    "#     },\n",
    "# )"
   ]
  },
  {
   "cell_type": "code",
   "execution_count": null,
   "id": "f5e88bbb-1520-4692-94e2-8a385fdf3ae9",
   "metadata": {},
   "outputs": [],
   "source": []
  }
 ],
 "metadata": {
  "kernelspec": {
   "display_name": "Python 3 (ipykernel)",
   "language": "python",
   "name": "python3"
  },
  "language_info": {
   "codemirror_mode": {
    "name": "ipython",
    "version": 3
   },
   "file_extension": ".py",
   "mimetype": "text/x-python",
   "name": "python",
   "nbconvert_exporter": "python",
   "pygments_lexer": "ipython3",
   "version": "3.9.7"
  }
 },
 "nbformat": 4,
 "nbformat_minor": 5
}
