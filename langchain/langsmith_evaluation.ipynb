{
 "cells": [
  {
   "cell_type": "code",
   "execution_count": 1,
   "id": "7809f17c-44bc-4f19-8863-4bc854340537",
   "metadata": {},
   "outputs": [
    {
     "data": {
      "text/plain": [
       "True"
      ]
     },
     "execution_count": 1,
     "metadata": {},
     "output_type": "execute_result"
    }
   ],
   "source": [
    "from dotenv import load_dotenv\n",
    "\n",
    "load_dotenv()"
   ]
  },
  {
   "cell_type": "code",
   "execution_count": 7,
   "id": "8a114e90-7e64-4a6d-bc0b-27ad01cbe6d4",
   "metadata": {},
   "outputs": [],
   "source": [
    "client.delete_dataset(dataset_name=dataset_name)"
   ]
  },
  {
   "cell_type": "code",
   "execution_count": 8,
   "id": "9553e43f-b1e1-45a0-ac0e-faa11c2e6791",
   "metadata": {},
   "outputs": [
    {
     "name": "stdout",
     "output_type": "stream",
     "text": [
      "View the evaluation results for experiment: 'rap-generator-7efa4a5d' at:\n",
      "https://smith.langchain.com/o/bd14a154-65e7-52b4-bdce-b9a16d5e3513/datasets/d1a477ac-d044-410d-88d4-017a78c2a334/compare?selectedSessions=bbba7dc9-327a-43fc-9526-44858c62f504\n",
      "\n",
      "\n"
     ]
    },
    {
     "data": {
      "application/vnd.jupyter.widget-view+json": {
       "model_id": "a4763cf52fa94c04b297df46457469f5",
       "version_major": 2,
       "version_minor": 0
      },
      "text/plain": [
       "0it [00:00, ?it/s]"
      ]
     },
     "metadata": {},
     "output_type": "display_data"
    }
   ],
   "source": [
    "from langsmith import Client\n",
    "from langsmith.schemas import Run, Example\n",
    "from langsmith.evaluation import evaluate\n",
    "import openai\n",
    "from langsmith.wrappers import wrap_openai\n",
    "\n",
    "client = Client()\n",
    "\n",
    "# Define dataset: these are your test cases\n",
    "dataset_name = \"Rap Battle Dataset\"\n",
    "dataset = client.create_dataset(dataset_name, description=\"Rap battle prompts.\")\n",
    "client.create_examples(\n",
    "    inputs=[\n",
    "        {\"question\": \"石丸伸二と小池百合子のラップバトル\"},\n",
    "        {\"question\": \"蓮舫と小池百合子のラップバトル\"},\n",
    "    ],\n",
    "    outputs=[\n",
    "        {\"must_mention\": [\"安芸高田\", \"東京\"]},\n",
    "        {\"must_mention\": [\"東京\", \"子育て\"]},\n",
    "    ],\n",
    "    dataset_id=dataset.id,\n",
    ")\n",
    "\n",
    "# Define AI system\n",
    "openai_client = wrap_openai(openai.Client())\n",
    "\n",
    "def predict(inputs: dict) -> dict:\n",
    "    messages = [{\"role\": \"user\", \"content\": inputs[\"question\"]}]\n",
    "    response = openai_client.chat.completions.create(messages=messages, model=\"gpt-4o\")\n",
    "    return {\"output\": response}\n",
    "\n",
    "# Define evaluators\n",
    "def must_mention(run: Run, example: Example) -> dict:\n",
    "    prediction = run.outputs.get(\"output\") or \"\"\n",
    "    required = example.outputs.get(\"must_mention\") or []\n",
    "    score = all(phrase in prediction for phrase in required)\n",
    "    return {\"key\":\"must_mention\", \"score\": score}\n",
    "\n",
    "experiment_results = evaluate(\n",
    "    predict, # Your AI system\n",
    "    data=dataset_name, # The data to predict and grade over\n",
    "    evaluators=[must_mention], # The evaluators to score the results\n",
    "    experiment_prefix=\"rap-generator\", # A prefix for your experiment names to easily identify them\n",
    "    metadata={\n",
    "      \"version\": \"1.0.0\",\n",
    "    },\n",
    ")\n"
   ]
  },
  {
   "cell_type": "code",
   "execution_count": null,
   "id": "14d42992-f24f-45e9-b48f-979d4bca0673",
   "metadata": {},
   "outputs": [],
   "source": []
  }
 ],
 "metadata": {
  "kernelspec": {
   "display_name": "Python 3 (ipykernel)",
   "language": "python",
   "name": "python3"
  },
  "language_info": {
   "codemirror_mode": {
    "name": "ipython",
    "version": 3
   },
   "file_extension": ".py",
   "mimetype": "text/x-python",
   "name": "python",
   "nbconvert_exporter": "python",
   "pygments_lexer": "ipython3",
   "version": "3.9.7"
  }
 },
 "nbformat": 4,
 "nbformat_minor": 5
}
