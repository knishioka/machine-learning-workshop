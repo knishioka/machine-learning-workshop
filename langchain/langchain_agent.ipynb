{
 "cells": [
  {
   "cell_type": "code",
   "execution_count": 1,
   "id": "47cf55b2",
   "metadata": {},
   "outputs": [
    {
     "name": "stdout",
     "output_type": "stream",
     "text": [
      "Requirement already satisfied: google-search-results in /Users/ken/.pyenv/versions/3.9.7/lib/python3.9/site-packages (2.4.2)\r\n",
      "Requirement already satisfied: requests in /Users/ken/.pyenv/versions/3.9.7/lib/python3.9/site-packages (from google-search-results) (2.28.1)\r\n",
      "Requirement already satisfied: charset-normalizer<3,>=2 in /Users/ken/.pyenv/versions/3.9.7/lib/python3.9/site-packages (from requests->google-search-results) (2.1.1)\r\n",
      "Requirement already satisfied: idna<4,>=2.5 in /Users/ken/.pyenv/versions/3.9.7/lib/python3.9/site-packages (from requests->google-search-results) (3.4)\r\n",
      "Requirement already satisfied: urllib3<1.27,>=1.21.1 in /Users/ken/.pyenv/versions/3.9.7/lib/python3.9/site-packages (from requests->google-search-results) (1.26.12)\r\n",
      "Requirement already satisfied: certifi>=2017.4.17 in /Users/ken/.pyenv/versions/3.9.7/lib/python3.9/site-packages (from requests->google-search-results) (2022.9.24)\r\n"
     ]
    }
   ],
   "source": [
    "!pip install google-search-results"
   ]
  },
  {
   "cell_type": "code",
   "execution_count": 2,
   "id": "8489708e",
   "metadata": {},
   "outputs": [
    {
     "data": {
      "text/plain": [
       "True"
      ]
     },
     "execution_count": 2,
     "metadata": {},
     "output_type": "execute_result"
    }
   ],
   "source": [
    "from dotenv import load_dotenv\n",
    "\n",
    "load_dotenv()"
   ]
  },
  {
   "cell_type": "code",
   "execution_count": 3,
   "id": "871958f9-38cb-4d23-8676-9bf7cf9b1ba0",
   "metadata": {},
   "outputs": [],
   "source": [
    "from langchain import SerpAPIWrapper, LLMMathChain\n",
    "from langchain.llms import OpenAI\n",
    "from langchain.agents import load_tools, Tool, initialize_agent\n",
    "\n",
    "llm = OpenAI(temperature=0.7)\n",
    "\n",
    "tool_names = [\"serpapi\", \"llm-math\"]\n",
    "\n",
    "tools = load_tools(tool_names, llm=llm)\n",
    "\n",
    "\n",
    "agent = initialize_agent(tools, llm, agent=\"zero-shot-react-description\", verbose=True)"
   ]
  },
  {
   "cell_type": "code",
   "execution_count": 4,
   "id": "7cf51dc2",
   "metadata": {},
   "outputs": [
    {
     "name": "stdout",
     "output_type": "stream",
     "text": [
      "\n",
      "\n",
      "\u001b[1m> Entering new AgentExecutor chain...\u001b[0m\n",
      "\u001b[32;1m\u001b[1;3m 為替レートを検索して調べる\n",
      "Action: Search\n",
      "Action Input: 最新のドル円の為替レート\u001b[0m\n",
      "Observation: \u001b[36;1m\u001b[1;3m21日の東京外国為替市場で円相場は反落した。17時時点は1ドル=145円43～44銭と、前週末の同時点に比べ14銭の円安・ドル高だった。米長期金利が日本時間21日の取引時間 ...\u001b[0m\n",
      "Thought:\u001b[32;1m\u001b[1;3m 調べた値を2乗する\n",
      "Action: Calculator\n",
      "Action Input: 145.43^2\u001b[0m\n",
      "Observation: \u001b[33;1m\u001b[1;3mAnswer: 21149.8849\u001b[0m\n",
      "Thought:\u001b[32;1m\u001b[1;3m 21149.8849が答えになる\n",
      "Final Answer: 21149.8849\u001b[0m\n",
      "\n",
      "\u001b[1m> Finished chain.\u001b[0m\n"
     ]
    },
    {
     "data": {
      "text/plain": [
       "'21149.8849'"
      ]
     },
     "execution_count": 4,
     "metadata": {},
     "output_type": "execute_result"
    }
   ],
   "source": [
    "agent.run(\"最新のドル円の為替レートを2乗してください\")"
   ]
  },
  {
   "cell_type": "code",
   "execution_count": 6,
   "id": "107822d5",
   "metadata": {},
   "outputs": [
    {
     "name": "stdout",
     "output_type": "stream",
     "text": [
      "\n",
      "\n",
      "\u001b[1m> Entering new AgentExecutor chain...\u001b[0m\n",
      "\u001b[32;1m\u001b[1;3m I should use the calculator to solve this question\n",
      "Action: Calculator\n",
      "Action Input: Current exchange rate of USD to JPY squared\u001b[0m\n",
      "Observation: \u001b[33;1m\u001b[1;3mAnswer: 11427.61\u001b[0m\n",
      "Thought:\u001b[32;1m\u001b[1;3m I now know the final answer\n",
      "Final Answer: 11427.61\u001b[0m\n",
      "\n",
      "\u001b[1m> Finished chain.\u001b[0m\n"
     ]
    },
    {
     "data": {
      "text/plain": [
       "'11427.61'"
      ]
     },
     "execution_count": 6,
     "metadata": {},
     "output_type": "execute_result"
    }
   ],
   "source": [
    "search = SerpAPIWrapper()\n",
    "llm_math_chain = LLMMathChain.from_llm(llm=llm, verbose=True)\n",
    "\n",
    "tools = [\n",
    "    Tool(\n",
    "        name = \"Search\",\n",
    "        func=search.run,\n",
    "        description=\"useful for when you need to answer questions about current events\"\n",
    "    ),\n",
    "    Tool(\n",
    "        name=\"Calculator\",\n",
    "        func=llm_math_chain.run,\n",
    "        description=\"useful for when you need to answer questions about math\"\n",
    "    )\n",
    "]\n",
    "\n",
    "agent.run(\"最新のドル円の為替レートを2乗してください\")"
   ]
  },
  {
   "cell_type": "code",
   "execution_count": 7,
   "id": "d4bec107",
   "metadata": {},
   "outputs": [
    {
     "data": {
      "text/plain": [
       "'21日の東京外国為替市場で円相場は反落した。17時時点は1ドル=145円43～44銭と、前週末の同時点に比べ14銭の円安・ドル高だった。米長期金利が日本時間21日の取引時間 ...'"
      ]
     },
     "execution_count": 7,
     "metadata": {},
     "output_type": "execute_result"
    }
   ],
   "source": [
    "search.run(\"最新の為替\")"
   ]
  },
  {
   "cell_type": "code",
   "execution_count": 8,
   "id": "9606bbf2-519a-4ebb-94f5-c601db1e196f",
   "metadata": {},
   "outputs": [
    {
     "name": "stdout",
     "output_type": "stream",
     "text": [
      "\n",
      "\n",
      "\u001b[1m> Entering new LLMMathChain chain...\u001b[0m\n",
      "2*2\u001b[32;1m\u001b[1;3m```text\n",
      "2*2\n",
      "```\n",
      "...numexpr.evaluate(\"2*2\")...\n",
      "\u001b[0m\n",
      "Answer: \u001b[33;1m\u001b[1;3m4\u001b[0m\n",
      "\u001b[1m> Finished chain.\u001b[0m\n"
     ]
    },
    {
     "data": {
      "text/plain": [
       "'Answer: 4'"
      ]
     },
     "execution_count": 8,
     "metadata": {},
     "output_type": "execute_result"
    }
   ],
   "source": [
    "llm_math_chain.run(\"2*2\")"
   ]
  },
  {
   "cell_type": "code",
   "execution_count": 9,
   "id": "d103b6bf-2b96-4131-a3ca-529a7eb7d7bc",
   "metadata": {},
   "outputs": [
    {
     "name": "stdout",
     "output_type": "stream",
     "text": [
      "Translate a math problem into a expression that can be executed using Python's numexpr library. Use the output of running this code to answer the question.\n",
      "\n",
      "Question: ${{Question with math problem.}}\n",
      "```text\n",
      "${{single line mathematical expression that solves the problem}}\n",
      "```\n",
      "...numexpr.evaluate(text)...\n",
      "```output\n",
      "${{Output of running the code}}\n",
      "```\n",
      "Answer: ${{Answer}}\n",
      "\n",
      "Begin.\n",
      "\n",
      "Question: What is 37593 * 67?\n",
      "```text\n",
      "37593 * 67\n",
      "```\n",
      "...numexpr.evaluate(\"37593 * 67\")...\n",
      "```output\n",
      "2518731\n",
      "```\n",
      "Answer: 2518731\n",
      "\n",
      "Question: 37593^(1/5)\n",
      "```text\n",
      "37593**(1/5)\n",
      "```\n",
      "...numexpr.evaluate(\"37593**(1/5)\")...\n",
      "```output\n",
      "8.222831614237718\n",
      "```\n",
      "Answer: 8.222831614237718\n",
      "\n",
      "Question: {question}\n",
      "\n"
     ]
    }
   ],
   "source": [
    "print(llm_math_chain.prompt.template)"
   ]
  },
  {
   "cell_type": "code",
   "execution_count": 10,
   "id": "d2bb0da4-24a2-4ba0-87f9-80da2c78d151",
   "metadata": {},
   "outputs": [
    {
     "name": "stdout",
     "output_type": "stream",
     "text": [
      "Answer the following questions as best you can. You have access to the following tools:\n",
      "\n",
      "Search: A search engine. Useful for when you need to answer questions about current events. Input should be a search query.\n",
      "Calculator: Useful for when you need to answer questions about math.\n",
      "\n",
      "Use the following format:\n",
      "\n",
      "Question: the input question you must answer\n",
      "Thought: you should always think about what to do\n",
      "Action: the action to take, should be one of [Search, Calculator]\n",
      "Action Input: the input to the action\n",
      "Observation: the result of the action\n",
      "... (this Thought/Action/Action Input/Observation can repeat N times)\n",
      "Thought: I now know the final answer\n",
      "Final Answer: the final answer to the original input question\n",
      "\n",
      "Begin!\n",
      "\n",
      "Question: {input}\n",
      "Thought:{agent_scratchpad}\n"
     ]
    }
   ],
   "source": [
    "print(agent.agent.llm_chain.prompt.template)"
   ]
  }
 ],
 "metadata": {
  "kernelspec": {
   "display_name": "Python 3 (ipykernel)",
   "language": "python",
   "name": "python3"
  },
  "language_info": {
   "codemirror_mode": {
    "name": "ipython",
    "version": 3
   },
   "file_extension": ".py",
   "mimetype": "text/x-python",
   "name": "python",
   "nbconvert_exporter": "python",
   "pygments_lexer": "ipython3",
   "version": "3.9.7"
  }
 },
 "nbformat": 4,
 "nbformat_minor": 5
}
