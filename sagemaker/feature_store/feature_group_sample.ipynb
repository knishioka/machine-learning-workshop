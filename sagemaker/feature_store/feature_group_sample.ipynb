{
 "cells": [
  {
   "cell_type": "markdown",
   "metadata": {},
   "source": [
    "# Amazon SageMaker Feature Storeの基本的な使い方"
   ]
  },
  {
   "cell_type": "markdown",
   "metadata": {},
   "source": [
    "## 使用するデータ\n",
    "[SageMaker Feature Storeのサンプル](https://github.com/aws/amazon-sagemaker-examples/tree/main/sagemaker-featurestore)を利用。\n",
    "以下の三種類のデータが存在する。\n",
    "\n",
    "- 顧客データ (feature_store_introduction_customer.csv)\n",
    "- 更新された顧客データ (feature_store_introduction_customer_updated.csv)\n",
    "- 注文データ (feature_store_introduction_orders.csv)"
   ]
  },
  {
   "cell_type": "code",
   "execution_count": 1,
   "metadata": {},
   "outputs": [
    {
     "data": {
      "text/html": [
       "<div>\n",
       "<style scoped>\n",
       "    .dataframe tbody tr th:only-of-type {\n",
       "        vertical-align: middle;\n",
       "    }\n",
       "\n",
       "    .dataframe tbody tr th {\n",
       "        vertical-align: top;\n",
       "    }\n",
       "\n",
       "    .dataframe thead th {\n",
       "        text-align: right;\n",
       "    }\n",
       "</style>\n",
       "<table border=\"1\" class=\"dataframe\">\n",
       "  <thead>\n",
       "    <tr style=\"text-align: right;\">\n",
       "      <th></th>\n",
       "      <th>customer_id</th>\n",
       "      <th>city_code</th>\n",
       "      <th>state_code</th>\n",
       "      <th>country_code</th>\n",
       "    </tr>\n",
       "  </thead>\n",
       "  <tbody>\n",
       "    <tr>\n",
       "      <th>0</th>\n",
       "      <td>573291</td>\n",
       "      <td>1</td>\n",
       "      <td>49</td>\n",
       "      <td>2</td>\n",
       "    </tr>\n",
       "    <tr>\n",
       "      <th>1</th>\n",
       "      <td>109382</td>\n",
       "      <td>2</td>\n",
       "      <td>40</td>\n",
       "      <td>2</td>\n",
       "    </tr>\n",
       "    <tr>\n",
       "      <th>2</th>\n",
       "      <td>828400</td>\n",
       "      <td>3</td>\n",
       "      <td>31</td>\n",
       "      <td>2</td>\n",
       "    </tr>\n",
       "    <tr>\n",
       "      <th>3</th>\n",
       "      <td>124013</td>\n",
       "      <td>4</td>\n",
       "      <td>5</td>\n",
       "      <td>2</td>\n",
       "    </tr>\n",
       "  </tbody>\n",
       "</table>\n",
       "</div>"
      ],
      "text/plain": [
       "   customer_id  city_code  state_code  country_code\n",
       "0       573291          1          49             2\n",
       "1       109382          2          40             2\n",
       "2       828400          3          31             2\n",
       "3       124013          4           5             2"
      ]
     },
     "execution_count": 1,
     "metadata": {},
     "output_type": "execute_result"
    }
   ],
   "source": [
    "import pandas as pd\n",
    "\n",
    "customer_df = pd.read_csv('s3://machine-learning-workshop/feature-store/feature_store_introduction_customer.csv')\n",
    "customer_df"
   ]
  },
  {
   "cell_type": "code",
   "execution_count": 2,
   "metadata": {},
   "outputs": [
    {
     "data": {
      "text/html": [
       "<div>\n",
       "<style scoped>\n",
       "    .dataframe tbody tr th:only-of-type {\n",
       "        vertical-align: middle;\n",
       "    }\n",
       "\n",
       "    .dataframe tbody tr th {\n",
       "        vertical-align: top;\n",
       "    }\n",
       "\n",
       "    .dataframe thead th {\n",
       "        text-align: right;\n",
       "    }\n",
       "</style>\n",
       "<table border=\"1\" class=\"dataframe\">\n",
       "  <thead>\n",
       "    <tr style=\"text-align: right;\">\n",
       "      <th></th>\n",
       "      <th>customer_id</th>\n",
       "      <th>order_id</th>\n",
       "      <th>order_status</th>\n",
       "      <th>store_id</th>\n",
       "    </tr>\n",
       "  </thead>\n",
       "  <tbody>\n",
       "    <tr>\n",
       "      <th>0</th>\n",
       "      <td>573291</td>\n",
       "      <td>4132</td>\n",
       "      <td>1</td>\n",
       "      <td>303</td>\n",
       "    </tr>\n",
       "    <tr>\n",
       "      <th>1</th>\n",
       "      <td>109382</td>\n",
       "      <td>5724</td>\n",
       "      <td>0</td>\n",
       "      <td>201</td>\n",
       "    </tr>\n",
       "    <tr>\n",
       "      <th>2</th>\n",
       "      <td>828400</td>\n",
       "      <td>1942</td>\n",
       "      <td>0</td>\n",
       "      <td>431</td>\n",
       "    </tr>\n",
       "    <tr>\n",
       "      <th>3</th>\n",
       "      <td>124013</td>\n",
       "      <td>6782</td>\n",
       "      <td>1</td>\n",
       "      <td>213</td>\n",
       "    </tr>\n",
       "  </tbody>\n",
       "</table>\n",
       "</div>"
      ],
      "text/plain": [
       "   customer_id  order_id  order_status  store_id\n",
       "0       573291      4132             1       303\n",
       "1       109382      5724             0       201\n",
       "2       828400      1942             0       431\n",
       "3       124013      6782             1       213"
      ]
     },
     "execution_count": 2,
     "metadata": {},
     "output_type": "execute_result"
    }
   ],
   "source": [
    "order_df = pd.read_csv('s3://machine-learning-workshop/feature-store/feature_store_introduction_orders.csv')\n",
    "order_df"
   ]
  },
  {
   "cell_type": "markdown",
   "metadata": {},
   "source": [
    "## Feature Groupを作成\n",
    "２種類のFeature Groupを作成する。\n",
    "- 顧客用Feature Group\n",
    "- 注文用Feature Group"
   ]
  },
  {
   "cell_type": "code",
   "execution_count": 3,
   "metadata": {},
   "outputs": [],
   "source": [
    "import sys\n",
    "\n",
    "import boto3\n",
    "import pandas as pd\n",
    "import numpy as np\n",
    "import sagemaker\n",
    "from sagemaker.session import Session\n",
    "from sagemaker import get_execution_role\n",
    "\n",
    "role = get_execution_role()\n",
    "\n",
    "sagemaker_session = sagemaker.Session()\n",
    "region = sagemaker_session.boto_region_name"
   ]
  },
  {
   "cell_type": "code",
   "execution_count": 4,
   "metadata": {},
   "outputs": [],
   "source": [
    "import time\n",
    "from time import strftime, gmtime\n",
    "customers_feature_group_name = 'customers-feature-group-' + strftime('%d-%H-%M-%S', gmtime())\n",
    "orders_feature_group_name = 'orders-feature-group-' + strftime('%d-%H-%M-%S', gmtime())"
   ]
  },
  {
   "cell_type": "code",
   "execution_count": 5,
   "metadata": {},
   "outputs": [],
   "source": [
    "from sagemaker.feature_store.feature_group import FeatureGroup\n",
    "\n",
    "customers_feature_group = FeatureGroup(\n",
    "    name=customers_feature_group_name, sagemaker_session=sagemaker_session\n",
    ")\n",
    "orders_feature_group = FeatureGroup(\n",
    "    name=orders_feature_group_name, sagemaker_session=sagemaker_session\n",
    ")\n"
   ]
  },
  {
   "cell_type": "markdown",
   "metadata": {},
   "source": [
    "### データにevent timeを付与\n",
    "Feature Groupに保存するデータは\n",
    "\n",
    "- record識別子: データの各レコードを一意に識別するfeature (今回はcustomer_idを利用)\n",
    "- event time: レコードの作成または更新に対応するfeature (今回はEventTimeというfeatureを作成)\n",
    "\n",
    "の２つの定義が必要。"
   ]
  },
  {
   "cell_type": "markdown",
   "metadata": {},
   "source": [
    "#### DataFrameにEvenTimeを付与"
   ]
  },
  {
   "cell_type": "code",
   "execution_count": 6,
   "metadata": {},
   "outputs": [],
   "source": [
    "import time\n",
    "current_time_sec = int(round(time.time()))\n",
    "\n",
    "event_time_col = \"EventTime\"\n",
    "\n",
    "customer_df[event_time_col] = pd.Series([current_time_sec]*len(customer_df), dtype=\"float64\")\n",
    "order_df[event_time_col] = pd.Series([current_time_sec]*len(order_df), dtype=\"float64\")"
   ]
  },
  {
   "cell_type": "code",
   "execution_count": 7,
   "metadata": {},
   "outputs": [
    {
     "data": {
      "text/plain": [
       "[FeatureDefinition(feature_name='customer_id', feature_type=<FeatureTypeEnum.INTEGRAL: 'Integral'>),\n",
       " FeatureDefinition(feature_name='order_id', feature_type=<FeatureTypeEnum.INTEGRAL: 'Integral'>),\n",
       " FeatureDefinition(feature_name='order_status', feature_type=<FeatureTypeEnum.INTEGRAL: 'Integral'>),\n",
       " FeatureDefinition(feature_name='store_id', feature_type=<FeatureTypeEnum.INTEGRAL: 'Integral'>),\n",
       " FeatureDefinition(feature_name='EventTime', feature_type=<FeatureTypeEnum.FRACTIONAL: 'Fractional'>)]"
      ]
     },
     "execution_count": 7,
     "metadata": {},
     "output_type": "execute_result"
    }
   ],
   "source": [
    "customers_feature_group.load_feature_definitions(data_frame=customer_df)\n",
    "orders_feature_group.load_feature_definitions(data_frame=order_df)"
   ]
  },
  {
   "cell_type": "markdown",
   "metadata": {},
   "source": [
    "#### レコード識別子を指定して、Feature Groupを作成\n",
    "Feature Groupを作成するとAmazon Glue Data Catalogも同時に作成される。"
   ]
  },
  {
   "cell_type": "code",
   "execution_count": 8,
   "metadata": {},
   "outputs": [
    {
     "data": {
      "text/plain": [
       "{'FeatureGroupArn': 'arn:aws:sagemaker:us-east-1:980831117329:feature-group/orders-feature-group-29-07-54-05',\n",
       " 'ResponseMetadata': {'RequestId': '32b17c1a-89c2-47d0-a385-ee44d9f70dfc',\n",
       "  'HTTPStatusCode': 200,\n",
       "  'HTTPHeaders': {'x-amzn-requestid': '32b17c1a-89c2-47d0-a385-ee44d9f70dfc',\n",
       "   'content-type': 'application/x-amz-json-1.1',\n",
       "   'content-length': '109',\n",
       "   'date': 'Sat, 29 Oct 2022 07:54:12 GMT'},\n",
       "  'RetryAttempts': 1}}"
      ]
     },
     "execution_count": 8,
     "metadata": {},
     "output_type": "execute_result"
    }
   ],
   "source": [
    "prefix = \"feature-group-demo\"\n",
    "s3_bucket_name = \"machine-learning-workshop\"\n",
    "record_identifier_feature_name = \"customer_id\"\n",
    "\n",
    "\n",
    "customers_feature_group.create(\n",
    "    s3_uri=f\"s3://{s3_bucket_name}/{prefix}\",\n",
    "    record_identifier_name=record_identifier_feature_name,\n",
    "    event_time_feature_name=event_time_col,\n",
    "    role_arn=role,\n",
    "    enable_online_store=True,\n",
    ")\n",
    "\n",
    "orders_feature_group.create(\n",
    "    s3_uri=f\"s3://{s3_bucket_name}/{prefix}\",\n",
    "    record_identifier_name=record_identifier_feature_name,\n",
    "    event_time_feature_name=event_time_col,\n",
    "    role_arn=role,\n",
    "    enable_online_store=True,\n",
    ")"
   ]
  },
  {
   "cell_type": "markdown",
   "metadata": {},
   "source": [
    "### Feature Groupの中身を確認"
   ]
  },
  {
   "cell_type": "code",
   "execution_count": 9,
   "metadata": {},
   "outputs": [
    {
     "data": {
      "text/plain": [
       "{'FeatureGroupArn': 'arn:aws:sagemaker:us-east-1:980831117329:feature-group/customers-feature-group-29-07-54-05',\n",
       " 'FeatureGroupName': 'customers-feature-group-29-07-54-05',\n",
       " 'RecordIdentifierFeatureName': 'customer_id',\n",
       " 'EventTimeFeatureName': 'EventTime',\n",
       " 'FeatureDefinitions': [{'FeatureName': 'customer_id',\n",
       "   'FeatureType': 'Integral'},\n",
       "  {'FeatureName': 'city_code', 'FeatureType': 'Integral'},\n",
       "  {'FeatureName': 'state_code', 'FeatureType': 'Integral'},\n",
       "  {'FeatureName': 'country_code', 'FeatureType': 'Integral'},\n",
       "  {'FeatureName': 'EventTime', 'FeatureType': 'Fractional'}],\n",
       " 'CreationTime': datetime.datetime(2022, 10, 29, 7, 54, 11, 576000, tzinfo=tzlocal()),\n",
       " 'OnlineStoreConfig': {'EnableOnlineStore': True},\n",
       " 'OfflineStoreConfig': {'S3StorageConfig': {'S3Uri': 's3://machine-learning-workshop/feature-group-demo',\n",
       "   'ResolvedOutputS3Uri': 's3://machine-learning-workshop/feature-group-demo/980831117329/sagemaker/us-east-1/offline-store/customers-feature-group-29-07-54-05-1667030051/data'},\n",
       "  'DisableGlueTableCreation': False},\n",
       " 'RoleArn': 'arn:aws:iam::980831117329:role/service-role/AmazonSageMaker-ExecutionRole-20220127T071920',\n",
       " 'FeatureGroupStatus': 'Creating',\n",
       " 'ResponseMetadata': {'RequestId': 'c5021d17-43f3-4619-bc40-d9ab9ba19ff9',\n",
       "  'HTTPStatusCode': 200,\n",
       "  'HTTPHeaders': {'x-amzn-requestid': 'c5021d17-43f3-4619-bc40-d9ab9ba19ff9',\n",
       "   'content-type': 'application/x-amz-json-1.1',\n",
       "   'content-length': '1523',\n",
       "   'date': 'Sat, 29 Oct 2022 07:54:14 GMT'},\n",
       "  'RetryAttempts': 0}}"
      ]
     },
     "execution_count": 9,
     "metadata": {},
     "output_type": "execute_result"
    }
   ],
   "source": [
    "customers_feature_group.describe()"
   ]
  },
  {
   "cell_type": "code",
   "execution_count": 10,
   "metadata": {},
   "outputs": [
    {
     "data": {
      "text/plain": [
       "{'FeatureGroupArn': 'arn:aws:sagemaker:us-east-1:980831117329:feature-group/orders-feature-group-29-07-54-05',\n",
       " 'FeatureGroupName': 'orders-feature-group-29-07-54-05',\n",
       " 'RecordIdentifierFeatureName': 'customer_id',\n",
       " 'EventTimeFeatureName': 'EventTime',\n",
       " 'FeatureDefinitions': [{'FeatureName': 'customer_id',\n",
       "   'FeatureType': 'Integral'},\n",
       "  {'FeatureName': 'order_id', 'FeatureType': 'Integral'},\n",
       "  {'FeatureName': 'order_status', 'FeatureType': 'Integral'},\n",
       "  {'FeatureName': 'store_id', 'FeatureType': 'Integral'},\n",
       "  {'FeatureName': 'EventTime', 'FeatureType': 'Fractional'}],\n",
       " 'CreationTime': datetime.datetime(2022, 10, 29, 7, 54, 12, 470000, tzinfo=tzlocal()),\n",
       " 'OnlineStoreConfig': {'EnableOnlineStore': True},\n",
       " 'OfflineStoreConfig': {'S3StorageConfig': {'S3Uri': 's3://machine-learning-workshop/feature-group-demo',\n",
       "   'ResolvedOutputS3Uri': 's3://machine-learning-workshop/feature-group-demo/980831117329/sagemaker/us-east-1/offline-store/orders-feature-group-29-07-54-05-1667030052/data'},\n",
       "  'DisableGlueTableCreation': False},\n",
       " 'RoleArn': 'arn:aws:iam::980831117329:role/service-role/AmazonSageMaker-ExecutionRole-20220127T071920',\n",
       " 'FeatureGroupStatus': 'Creating',\n",
       " 'ResponseMetadata': {'RequestId': 'bcd6874a-ab85-4473-a598-9a744f48579d',\n",
       "  'HTTPStatusCode': 200,\n",
       "  'HTTPHeaders': {'x-amzn-requestid': 'bcd6874a-ab85-4473-a598-9a744f48579d',\n",
       "   'content-type': 'application/x-amz-json-1.1',\n",
       "   'content-length': '1510',\n",
       "   'date': 'Sat, 29 Oct 2022 07:54:15 GMT'},\n",
       "  'RetryAttempts': 0}}"
      ]
     },
     "execution_count": 10,
     "metadata": {},
     "output_type": "execute_result"
    }
   ],
   "source": [
    "orders_feature_group.describe()"
   ]
  },
  {
   "cell_type": "markdown",
   "metadata": {},
   "source": [
    "### Feature Groupのリストを表示"
   ]
  },
  {
   "cell_type": "code",
   "execution_count": 11,
   "metadata": {},
   "outputs": [
    {
     "data": {
      "text/plain": [
       "{'FeatureGroupSummaries': [{'FeatureGroupName': 'orders-feature-group-29-07-54-05',\n",
       "   'FeatureGroupArn': 'arn:aws:sagemaker:us-east-1:980831117329:feature-group/orders-feature-group-29-07-54-05',\n",
       "   'CreationTime': datetime.datetime(2022, 10, 29, 7, 54, 12, 470000, tzinfo=tzlocal()),\n",
       "   'FeatureGroupStatus': 'Creating'},\n",
       "  {'FeatureGroupName': 'customers-feature-group-29-07-54-05',\n",
       "   'FeatureGroupArn': 'arn:aws:sagemaker:us-east-1:980831117329:feature-group/customers-feature-group-29-07-54-05',\n",
       "   'CreationTime': datetime.datetime(2022, 10, 29, 7, 54, 11, 576000, tzinfo=tzlocal()),\n",
       "   'FeatureGroupStatus': 'Creating'}],\n",
       " 'ResponseMetadata': {'RequestId': '1757fd45-68ab-47be-9a50-506d317997c0',\n",
       "  'HTTPStatusCode': 200,\n",
       "  'HTTPHeaders': {'x-amzn-requestid': '1757fd45-68ab-47be-9a50-506d317997c0',\n",
       "   'content-type': 'application/x-amz-json-1.1',\n",
       "   'content-length': '488',\n",
       "   'date': 'Sat, 29 Oct 2022 07:54:18 GMT'},\n",
       "  'RetryAttempts': 0}}"
      ]
     },
     "execution_count": 11,
     "metadata": {},
     "output_type": "execute_result"
    }
   ],
   "source": [
    "sagemaker_session.boto_session.client('sagemaker', region_name=region).list_feature_groups()"
   ]
  },
  {
   "cell_type": "code",
   "execution_count": 12,
   "metadata": {},
   "outputs": [
    {
     "name": "stdout",
     "output_type": "stream",
     "text": [
      "{\n",
      "    \"FeatureGroupSummaries\": [\n",
      "        {\n",
      "            \"FeatureGroupName\": \"orders-feature-group-29-07-54-05\",\n",
      "            \"FeatureGroupArn\": \"arn:aws:sagemaker:us-east-1:980831117329:feature-group/orders-feature-group-29-07-54-05\",\n",
      "            \"CreationTime\": 1667030052.47,\n",
      "            \"FeatureGroupStatus\": \"Creating\"\n",
      "        },\n",
      "        {\n",
      "            \"FeatureGroupName\": \"customers-feature-group-29-07-54-05\",\n",
      "            \"FeatureGroupArn\": \"arn:aws:sagemaker:us-east-1:980831117329:feature-group/customers-feature-group-29-07-54-05\",\n",
      "            \"CreationTime\": 1667030051.576,\n",
      "            \"FeatureGroupStatus\": \"Creating\"\n",
      "        }\n",
      "    ]\n",
      "}\n"
     ]
    }
   ],
   "source": [
    "!aws sagemaker list-feature-groups"
   ]
  },
  {
   "cell_type": "markdown",
   "metadata": {},
   "source": [
    "### 既存のFeature Groupを呼び出す\n",
    "Feature Group名を使えば既存のFeature Groupは簡単に呼び出せる"
   ]
  },
  {
   "cell_type": "code",
   "execution_count": 13,
   "metadata": {},
   "outputs": [],
   "source": [
    "existing_customers_feature_group = FeatureGroup(\n",
    "    name=customers_feature_group_name, sagemaker_session=sagemaker_session\n",
    ")"
   ]
  },
  {
   "cell_type": "code",
   "execution_count": 14,
   "metadata": {},
   "outputs": [
    {
     "data": {
      "text/plain": [
       "{'FeatureGroupArn': 'arn:aws:sagemaker:us-east-1:980831117329:feature-group/customers-feature-group-29-07-54-05',\n",
       " 'FeatureGroupName': 'customers-feature-group-29-07-54-05',\n",
       " 'RecordIdentifierFeatureName': 'customer_id',\n",
       " 'EventTimeFeatureName': 'EventTime',\n",
       " 'FeatureDefinitions': [{'FeatureName': 'customer_id',\n",
       "   'FeatureType': 'Integral'},\n",
       "  {'FeatureName': 'city_code', 'FeatureType': 'Integral'},\n",
       "  {'FeatureName': 'state_code', 'FeatureType': 'Integral'},\n",
       "  {'FeatureName': 'country_code', 'FeatureType': 'Integral'},\n",
       "  {'FeatureName': 'EventTime', 'FeatureType': 'Fractional'}],\n",
       " 'CreationTime': datetime.datetime(2022, 10, 29, 7, 54, 11, 576000, tzinfo=tzlocal()),\n",
       " 'OnlineStoreConfig': {'EnableOnlineStore': True},\n",
       " 'OfflineStoreConfig': {'S3StorageConfig': {'S3Uri': 's3://machine-learning-workshop/feature-group-demo',\n",
       "   'ResolvedOutputS3Uri': 's3://machine-learning-workshop/feature-group-demo/980831117329/sagemaker/us-east-1/offline-store/customers-feature-group-29-07-54-05-1667030051/data'},\n",
       "  'DisableGlueTableCreation': False},\n",
       " 'RoleArn': 'arn:aws:iam::980831117329:role/service-role/AmazonSageMaker-ExecutionRole-20220127T071920',\n",
       " 'FeatureGroupStatus': 'Creating',\n",
       " 'ResponseMetadata': {'RequestId': '2b62b3c3-79d2-4256-aa72-dcc4051ba0a6',\n",
       "  'HTTPStatusCode': 200,\n",
       "  'HTTPHeaders': {'x-amzn-requestid': '2b62b3c3-79d2-4256-aa72-dcc4051ba0a6',\n",
       "   'content-type': 'application/x-amz-json-1.1',\n",
       "   'content-length': '1523',\n",
       "   'date': 'Sat, 29 Oct 2022 07:54:25 GMT'},\n",
       "  'RetryAttempts': 0}}"
      ]
     },
     "execution_count": 14,
     "metadata": {},
     "output_type": "execute_result"
    }
   ],
   "source": [
    "existing_customers_feature_group.describe()"
   ]
  },
  {
   "cell_type": "markdown",
   "metadata": {},
   "source": [
    "## データを保存"
   ]
  },
  {
   "cell_type": "code",
   "execution_count": 15,
   "metadata": {},
   "outputs": [
    {
     "data": {
      "text/plain": [
       "IngestionManagerPandas(feature_group_name='customers-feature-group-29-07-54-05', sagemaker_fs_runtime_client_config=<botocore.config.Config object at 0x7fc9b12f09d0>, max_workers=3, max_processes=1, profile_name=None, _async_result=<multiprocess.pool.MapResult object at 0x7fc9b177e450>, _processing_pool=<pool ProcessPool(ncpus=1)>, _failed_indices=[])"
      ]
     },
     "execution_count": 15,
     "metadata": {},
     "output_type": "execute_result"
    }
   ],
   "source": [
    "customers_feature_group.ingest(\n",
    "    data_frame=customer_df, max_workers=3, wait=True\n",
    ")"
   ]
  },
  {
   "cell_type": "code",
   "execution_count": 16,
   "metadata": {},
   "outputs": [
    {
     "data": {
      "text/plain": [
       "IngestionManagerPandas(feature_group_name='orders-feature-group-29-07-54-05', sagemaker_fs_runtime_client_config=<botocore.config.Config object at 0x7fc9b12f09d0>, max_workers=3, max_processes=1, profile_name=None, _async_result=<multiprocess.pool.MapResult object at 0x7fc9b17644d0>, _processing_pool=<pool ProcessPool(ncpus=1)>, _failed_indices=[])"
      ]
     },
     "execution_count": 16,
     "metadata": {},
     "output_type": "execute_result"
    }
   ],
   "source": [
    "orders_feature_group.ingest(\n",
    "    data_frame=order_df, max_workers=3, wait=True\n",
    ")"
   ]
  },
  {
   "cell_type": "markdown",
   "metadata": {},
   "source": [
    "### Online Storeからの個別のデータの取得"
   ]
  },
  {
   "cell_type": "code",
   "execution_count": 17,
   "metadata": {},
   "outputs": [
    {
     "data": {
      "text/plain": [
       "{'ResponseMetadata': {'RequestId': 'cb301a49-b31e-4548-ba96-1cd858e9289b',\n",
       "  'HTTPStatusCode': 200,\n",
       "  'HTTPHeaders': {'x-amzn-requestid': 'cb301a49-b31e-4548-ba96-1cd858e9289b',\n",
       "   'content-type': 'application/json',\n",
       "   'content-length': '275',\n",
       "   'date': 'Sat, 29 Oct 2022 07:54:44 GMT'},\n",
       "  'RetryAttempts': 0},\n",
       " 'Record': [{'FeatureName': 'customer_id', 'ValueAsString': '573291'},\n",
       "  {'FeatureName': 'city_code', 'ValueAsString': '1'},\n",
       "  {'FeatureName': 'state_code', 'ValueAsString': '49'},\n",
       "  {'FeatureName': 'country_code', 'ValueAsString': '2'},\n",
       "  {'FeatureName': 'EventTime', 'ValueAsString': '1667030049.0'}]}"
      ]
     },
     "execution_count": 17,
     "metadata": {},
     "output_type": "execute_result"
    }
   ],
   "source": [
    "customer_id = 573291\n",
    "sagemaker_session.boto_session.client(\n",
    "    'sagemaker-featurestore-runtime',\n",
    "    region_name=region).get_record(FeatureGroupName=customers_feature_group_name,\n",
    "                                   RecordIdentifierValueAsString=str(customer_id))"
   ]
  },
  {
   "cell_type": "markdown",
   "metadata": {},
   "source": [
    "### Online Storeからの複数データの取得"
   ]
  },
  {
   "cell_type": "code",
   "execution_count": 18,
   "metadata": {},
   "outputs": [
    {
     "data": {
      "text/plain": [
       "{'ResponseMetadata': {'RequestId': 'b6775686-b874-46ce-b5c7-0f25ee03b6bb',\n",
       "  'HTTPStatusCode': 200,\n",
       "  'HTTPHeaders': {'x-amzn-requestid': 'b6775686-b874-46ce-b5c7-0f25ee03b6bb',\n",
       "   'content-type': 'application/json',\n",
       "   'content-length': '3036',\n",
       "   'date': 'Sat, 29 Oct 2022 07:54:48 GMT'},\n",
       "  'RetryAttempts': 0},\n",
       " 'Records': [{'FeatureGroupName': 'customers-feature-group-29-07-54-05',\n",
       "   'RecordIdentifierValueAsString': '573291',\n",
       "   'Record': [{'FeatureName': 'customer_id', 'ValueAsString': '573291'},\n",
       "    {'FeatureName': 'city_code', 'ValueAsString': '1'},\n",
       "    {'FeatureName': 'state_code', 'ValueAsString': '49'},\n",
       "    {'FeatureName': 'country_code', 'ValueAsString': '2'},\n",
       "    {'FeatureName': 'EventTime', 'ValueAsString': '1667030049.0'}]},\n",
       "  {'FeatureGroupName': 'customers-feature-group-29-07-54-05',\n",
       "   'RecordIdentifierValueAsString': '109382',\n",
       "   'Record': [{'FeatureName': 'customer_id', 'ValueAsString': '109382'},\n",
       "    {'FeatureName': 'city_code', 'ValueAsString': '2'},\n",
       "    {'FeatureName': 'state_code', 'ValueAsString': '40'},\n",
       "    {'FeatureName': 'country_code', 'ValueAsString': '2'},\n",
       "    {'FeatureName': 'EventTime', 'ValueAsString': '1667030049.0'}]},\n",
       "  {'FeatureGroupName': 'customers-feature-group-29-07-54-05',\n",
       "   'RecordIdentifierValueAsString': '124013',\n",
       "   'Record': [{'FeatureName': 'customer_id', 'ValueAsString': '124013'},\n",
       "    {'FeatureName': 'city_code', 'ValueAsString': '4'},\n",
       "    {'FeatureName': 'state_code', 'ValueAsString': '5'},\n",
       "    {'FeatureName': 'country_code', 'ValueAsString': '2'},\n",
       "    {'FeatureName': 'EventTime', 'ValueAsString': '1667030049.0'}]},\n",
       "  {'FeatureGroupName': 'customers-feature-group-29-07-54-05',\n",
       "   'RecordIdentifierValueAsString': '828400',\n",
       "   'Record': [{'FeatureName': 'customer_id', 'ValueAsString': '828400'},\n",
       "    {'FeatureName': 'city_code', 'ValueAsString': '3'},\n",
       "    {'FeatureName': 'state_code', 'ValueAsString': '31'},\n",
       "    {'FeatureName': 'country_code', 'ValueAsString': '2'},\n",
       "    {'FeatureName': 'EventTime', 'ValueAsString': '1667030049.0'}]},\n",
       "  {'FeatureGroupName': 'orders-feature-group-29-07-54-05',\n",
       "   'RecordIdentifierValueAsString': '573291',\n",
       "   'Record': [{'FeatureName': 'customer_id', 'ValueAsString': '573291'},\n",
       "    {'FeatureName': 'order_id', 'ValueAsString': '4132'},\n",
       "    {'FeatureName': 'order_status', 'ValueAsString': '1'},\n",
       "    {'FeatureName': 'store_id', 'ValueAsString': '303'},\n",
       "    {'FeatureName': 'EventTime', 'ValueAsString': '1667030049.0'}]},\n",
       "  {'FeatureGroupName': 'orders-feature-group-29-07-54-05',\n",
       "   'RecordIdentifierValueAsString': '109382',\n",
       "   'Record': [{'FeatureName': 'customer_id', 'ValueAsString': '109382'},\n",
       "    {'FeatureName': 'order_id', 'ValueAsString': '5724'},\n",
       "    {'FeatureName': 'order_status', 'ValueAsString': '0'},\n",
       "    {'FeatureName': 'store_id', 'ValueAsString': '201'},\n",
       "    {'FeatureName': 'EventTime', 'ValueAsString': '1667030049.0'}]},\n",
       "  {'FeatureGroupName': 'orders-feature-group-29-07-54-05',\n",
       "   'RecordIdentifierValueAsString': '124013',\n",
       "   'Record': [{'FeatureName': 'customer_id', 'ValueAsString': '124013'},\n",
       "    {'FeatureName': 'order_id', 'ValueAsString': '6782'},\n",
       "    {'FeatureName': 'order_status', 'ValueAsString': '1'},\n",
       "    {'FeatureName': 'store_id', 'ValueAsString': '213'},\n",
       "    {'FeatureName': 'EventTime', 'ValueAsString': '1667030049.0'}]},\n",
       "  {'FeatureGroupName': 'orders-feature-group-29-07-54-05',\n",
       "   'RecordIdentifierValueAsString': '828400',\n",
       "   'Record': [{'FeatureName': 'customer_id', 'ValueAsString': '828400'},\n",
       "    {'FeatureName': 'order_id', 'ValueAsString': '1942'},\n",
       "    {'FeatureName': 'order_status', 'ValueAsString': '0'},\n",
       "    {'FeatureName': 'store_id', 'ValueAsString': '431'},\n",
       "    {'FeatureName': 'EventTime', 'ValueAsString': '1667030049.0'}]}],\n",
       " 'Errors': [],\n",
       " 'UnprocessedIdentifiers': []}"
      ]
     },
     "execution_count": 18,
     "metadata": {},
     "output_type": "execute_result"
    }
   ],
   "source": [
    "records = sagemaker_session.boto_session.client(\n",
    "    \"sagemaker-featurestore-runtime\", region_name=region\n",
    ").batch_get_record(\n",
    "    Identifiers=[\n",
    "        {\n",
    "            \"FeatureGroupName\": customers_feature_group_name,\n",
    "            \"RecordIdentifiersValueAsString\": [\"573291\", \"109382\", \"828400\", \"124013\"],\n",
    "        },\n",
    "        {\n",
    "            \"FeatureGroupName\": orders_feature_group_name,\n",
    "            \"RecordIdentifiersValueAsString\": [\"573291\", \"109382\", \"828400\", \"124013\"],\n",
    "        },\n",
    "    ]\n",
    ")\n",
    "records"
   ]
  },
  {
   "cell_type": "markdown",
   "metadata": {},
   "source": [
    "### データの削除"
   ]
  },
  {
   "cell_type": "code",
   "execution_count": 19,
   "metadata": {},
   "outputs": [],
   "source": [
    "customer_id = 573291\n",
    "sample_record = sagemaker_session.boto_session.client(\n",
    "    'sagemaker-featurestore-runtime',\n",
    "    region_name=region).delete_record(FeatureGroupName=customers_feature_group_name,\n",
    "                                      RecordIdentifierValueAsString=str(customer_id),\n",
    "                                      EventTime=str(current_time_sec))"
   ]
  },
  {
   "cell_type": "code",
   "execution_count": 20,
   "metadata": {},
   "outputs": [
    {
     "data": {
      "text/plain": [
       "{'ResponseMetadata': {'RequestId': 'd2ced7fa-1a0e-42f7-9a26-3b00bf3b4a5e',\n",
       "  'HTTPStatusCode': 200,\n",
       "  'HTTPHeaders': {'x-amzn-requestid': 'd2ced7fa-1a0e-42f7-9a26-3b00bf3b4a5e',\n",
       "   'content-type': 'application/json',\n",
       "   'content-length': '15',\n",
       "   'date': 'Sat, 29 Oct 2022 07:54:53 GMT'},\n",
       "  'RetryAttempts': 0}}"
      ]
     },
     "execution_count": 20,
     "metadata": {},
     "output_type": "execute_result"
    }
   ],
   "source": [
    "customer_id = 573291\n",
    "sagemaker_session.boto_session.client(\n",
    "    'sagemaker-featurestore-runtime',\n",
    "    region_name=region).get_record(FeatureGroupName=customers_feature_group_name,\n",
    "                                   RecordIdentifierValueAsString=str(customer_id))"
   ]
  },
  {
   "cell_type": "markdown",
   "metadata": {},
   "source": [
    "### クエリによるOffline Storeからのデータの取得"
   ]
  },
  {
   "cell_type": "code",
   "execution_count": 21,
   "metadata": {},
   "outputs": [
    {
     "data": {
      "text/plain": [
       "'customers-feature-group-29-07-54-05-1667030051'"
      ]
     },
     "execution_count": 21,
     "metadata": {},
     "output_type": "execute_result"
    }
   ],
   "source": [
    "customer_query = customers_feature_group.athena_query()\n",
    "customer_table = customer_query.table_name\n",
    "customer_table"
   ]
  },
  {
   "cell_type": "code",
   "execution_count": 22,
   "metadata": {},
   "outputs": [],
   "source": [
    "query_string = f'SELECT * FROM \"{customer_table}\"'\n",
    "customer_query.run(query_string=query_string, output_location=f\"s3://{s3_bucket_name}/query_results/\")\n",
    "customer_query.wait()"
   ]
  },
  {
   "cell_type": "code",
   "execution_count": 23,
   "metadata": {},
   "outputs": [
    {
     "data": {
      "text/html": [
       "<div>\n",
       "<style scoped>\n",
       "    .dataframe tbody tr th:only-of-type {\n",
       "        vertical-align: middle;\n",
       "    }\n",
       "\n",
       "    .dataframe tbody tr th {\n",
       "        vertical-align: top;\n",
       "    }\n",
       "\n",
       "    .dataframe thead th {\n",
       "        text-align: right;\n",
       "    }\n",
       "</style>\n",
       "<table border=\"1\" class=\"dataframe\">\n",
       "  <thead>\n",
       "    <tr style=\"text-align: right;\">\n",
       "      <th></th>\n",
       "      <th>customer_id</th>\n",
       "      <th>city_code</th>\n",
       "      <th>state_code</th>\n",
       "      <th>country_code</th>\n",
       "      <th>eventtime</th>\n",
       "      <th>write_time</th>\n",
       "      <th>api_invocation_time</th>\n",
       "      <th>is_deleted</th>\n",
       "    </tr>\n",
       "  </thead>\n",
       "  <tbody>\n",
       "    <tr>\n",
       "      <th>0</th>\n",
       "      <td>124013</td>\n",
       "      <td>4.0</td>\n",
       "      <td>5.0</td>\n",
       "      <td>2.0</td>\n",
       "      <td>1.667030e+09</td>\n",
       "      <td>2022-10-29 08:00:25.424</td>\n",
       "      <td>2022-10-29 07:54:38.000</td>\n",
       "      <td>False</td>\n",
       "    </tr>\n",
       "    <tr>\n",
       "      <th>1</th>\n",
       "      <td>573291</td>\n",
       "      <td>1.0</td>\n",
       "      <td>49.0</td>\n",
       "      <td>2.0</td>\n",
       "      <td>1.667030e+09</td>\n",
       "      <td>2022-10-29 08:00:25.414</td>\n",
       "      <td>2022-10-29 07:54:38.000</td>\n",
       "      <td>False</td>\n",
       "    </tr>\n",
       "    <tr>\n",
       "      <th>2</th>\n",
       "      <td>573291</td>\n",
       "      <td>NaN</td>\n",
       "      <td>NaN</td>\n",
       "      <td>NaN</td>\n",
       "      <td>1.667030e+09</td>\n",
       "      <td>2022-10-29 08:00:25.414</td>\n",
       "      <td>2022-10-29 07:54:52.000</td>\n",
       "      <td>True</td>\n",
       "    </tr>\n",
       "    <tr>\n",
       "      <th>3</th>\n",
       "      <td>828400</td>\n",
       "      <td>3.0</td>\n",
       "      <td>31.0</td>\n",
       "      <td>2.0</td>\n",
       "      <td>1.667030e+09</td>\n",
       "      <td>2022-10-29 08:00:25.422</td>\n",
       "      <td>2022-10-29 07:54:38.000</td>\n",
       "      <td>False</td>\n",
       "    </tr>\n",
       "    <tr>\n",
       "      <th>4</th>\n",
       "      <td>109382</td>\n",
       "      <td>2.0</td>\n",
       "      <td>40.0</td>\n",
       "      <td>2.0</td>\n",
       "      <td>1.667030e+09</td>\n",
       "      <td>2022-10-29 08:00:25.429</td>\n",
       "      <td>2022-10-29 07:54:38.000</td>\n",
       "      <td>False</td>\n",
       "    </tr>\n",
       "  </tbody>\n",
       "</table>\n",
       "</div>"
      ],
      "text/plain": [
       "   customer_id  city_code  state_code  country_code     eventtime  \\\n",
       "0       124013        4.0         5.0           2.0  1.667030e+09   \n",
       "1       573291        1.0        49.0           2.0  1.667030e+09   \n",
       "2       573291        NaN         NaN           NaN  1.667030e+09   \n",
       "3       828400        3.0        31.0           2.0  1.667030e+09   \n",
       "4       109382        2.0        40.0           2.0  1.667030e+09   \n",
       "\n",
       "                write_time      api_invocation_time  is_deleted  \n",
       "0  2022-10-29 08:00:25.424  2022-10-29 07:54:38.000       False  \n",
       "1  2022-10-29 08:00:25.414  2022-10-29 07:54:38.000       False  \n",
       "2  2022-10-29 08:00:25.414  2022-10-29 07:54:52.000        True  \n",
       "3  2022-10-29 08:00:25.422  2022-10-29 07:54:38.000       False  \n",
       "4  2022-10-29 08:00:25.429  2022-10-29 07:54:38.000       False  "
      ]
     },
     "execution_count": 23,
     "metadata": {},
     "output_type": "execute_result"
    }
   ],
   "source": [
    "customer_query.as_dataframe()"
   ]
  },
  {
   "cell_type": "markdown",
   "metadata": {},
   "source": [
    "## Featureを追加する"
   ]
  },
  {
   "cell_type": "code",
   "execution_count": 24,
   "metadata": {},
   "outputs": [
    {
     "data": {
      "text/plain": [
       "{'FeatureGroupArn': 'arn:aws:sagemaker:us-east-1:980831117329:feature-group/customers-feature-group-29-07-54-05',\n",
       " 'ResponseMetadata': {'RequestId': '7b76ec75-01ab-4b04-ae6b-71ee7b9c4a5b',\n",
       "  'HTTPStatusCode': 200,\n",
       "  'HTTPHeaders': {'x-amzn-requestid': '7b76ec75-01ab-4b04-ae6b-71ee7b9c4a5b',\n",
       "   'content-type': 'application/x-amz-json-1.1',\n",
       "   'content-length': '112',\n",
       "   'date': 'Sat, 29 Oct 2022 08:39:03 GMT'},\n",
       "  'RetryAttempts': 0}}"
      ]
     },
     "execution_count": 24,
     "metadata": {},
     "output_type": "execute_result"
    }
   ],
   "source": [
    "from sagemaker.feature_store.feature_definition import StringFeatureDefinition\n",
    "\n",
    "customers_feature_group.update(\n",
    "    feature_additions=[StringFeatureDefinition(\"email\"), StringFeatureDefinition(\"name\")]\n",
    ")"
   ]
  },
  {
   "cell_type": "code",
   "execution_count": 25,
   "metadata": {},
   "outputs": [
    {
     "data": {
      "text/html": [
       "<div>\n",
       "<style scoped>\n",
       "    .dataframe tbody tr th:only-of-type {\n",
       "        vertical-align: middle;\n",
       "    }\n",
       "\n",
       "    .dataframe tbody tr th {\n",
       "        vertical-align: top;\n",
       "    }\n",
       "\n",
       "    .dataframe thead th {\n",
       "        text-align: right;\n",
       "    }\n",
       "</style>\n",
       "<table border=\"1\" class=\"dataframe\">\n",
       "  <thead>\n",
       "    <tr style=\"text-align: right;\">\n",
       "      <th></th>\n",
       "      <th>customer_id</th>\n",
       "      <th>city_code</th>\n",
       "      <th>state_code</th>\n",
       "      <th>country_code</th>\n",
       "      <th>email</th>\n",
       "      <th>name</th>\n",
       "    </tr>\n",
       "  </thead>\n",
       "  <tbody>\n",
       "    <tr>\n",
       "      <th>0</th>\n",
       "      <td>573291</td>\n",
       "      <td>1</td>\n",
       "      <td>49</td>\n",
       "      <td>2</td>\n",
       "      <td>john.lee@gmail.com</td>\n",
       "      <td>John Lee</td>\n",
       "    </tr>\n",
       "    <tr>\n",
       "      <th>1</th>\n",
       "      <td>109382</td>\n",
       "      <td>2</td>\n",
       "      <td>40</td>\n",
       "      <td>2</td>\n",
       "      <td>olivequil@gmail.com</td>\n",
       "      <td>Olive Quil</td>\n",
       "    </tr>\n",
       "    <tr>\n",
       "      <th>2</th>\n",
       "      <td>828400</td>\n",
       "      <td>3</td>\n",
       "      <td>31</td>\n",
       "      <td>2</td>\n",
       "      <td>liz.knee@gmail.com</td>\n",
       "      <td>Liz Knee</td>\n",
       "    </tr>\n",
       "    <tr>\n",
       "      <th>3</th>\n",
       "      <td>124013</td>\n",
       "      <td>4</td>\n",
       "      <td>5</td>\n",
       "      <td>2</td>\n",
       "      <td>eileenbook@gmail.com</td>\n",
       "      <td>Eileen Book</td>\n",
       "    </tr>\n",
       "  </tbody>\n",
       "</table>\n",
       "</div>"
      ],
      "text/plain": [
       "   customer_id  city_code  state_code  country_code                 email  \\\n",
       "0       573291          1          49             2    john.lee@gmail.com   \n",
       "1       109382          2          40             2   olivequil@gmail.com   \n",
       "2       828400          3          31             2    liz.knee@gmail.com   \n",
       "3       124013          4           5             2  eileenbook@gmail.com   \n",
       "\n",
       "          name  \n",
       "0     John Lee  \n",
       "1   Olive Quil  \n",
       "2     Liz Knee  \n",
       "3  Eileen Book  "
      ]
     },
     "execution_count": 25,
     "metadata": {},
     "output_type": "execute_result"
    }
   ],
   "source": [
    "updated_customer_df = pd.read_csv(\"s3://machine-learning-workshop/feature-store/feature_store_introduction_customer_updated.csv\")\n",
    "updated_customer_df"
   ]
  },
  {
   "cell_type": "code",
   "execution_count": 26,
   "metadata": {},
   "outputs": [
    {
     "data": {
      "text/plain": [
       "IngestionManagerPandas(feature_group_name='customers-feature-group-29-07-54-05', sagemaker_fs_runtime_client_config=<botocore.config.Config object at 0x7fc9b12f09d0>, max_workers=3, max_processes=1, profile_name=None, _async_result=<multiprocess.pool.MapResult object at 0x7fc9b197abd0>, _processing_pool=<pool ProcessPool(ncpus=1)>, _failed_indices=[])"
      ]
     },
     "execution_count": 26,
     "metadata": {},
     "output_type": "execute_result"
    }
   ],
   "source": [
    "current_time_sec = int(round(time.time()))\n",
    "updated_customer_df[event_time_col] = pd.Series([current_time_sec]*len(customer_df), dtype=\"float64\")\n",
    "customers_feature_group.ingest(\n",
    "    data_frame=updated_customer_df, max_workers=3, wait=True\n",
    ")"
   ]
  },
  {
   "cell_type": "code",
   "execution_count": 27,
   "metadata": {},
   "outputs": [
    {
     "data": {
      "text/plain": [
       "{'ResponseMetadata': {'RequestId': '620e90aa-156c-438c-bb66-69c7f73964dc',\n",
       "  'HTTPStatusCode': 200,\n",
       "  'HTTPHeaders': {'x-amzn-requestid': '620e90aa-156c-438c-bb66-69c7f73964dc',\n",
       "   'content-type': 'application/json',\n",
       "   'content-length': '386',\n",
       "   'date': 'Sat, 29 Oct 2022 08:40:43 GMT'},\n",
       "  'RetryAttempts': 0},\n",
       " 'Record': [{'FeatureName': 'customer_id', 'ValueAsString': '573291'},\n",
       "  {'FeatureName': 'city_code', 'ValueAsString': '1'},\n",
       "  {'FeatureName': 'state_code', 'ValueAsString': '49'},\n",
       "  {'FeatureName': 'country_code', 'ValueAsString': '2'},\n",
       "  {'FeatureName': 'EventTime', 'ValueAsString': '1667032839.0'},\n",
       "  {'FeatureName': 'email', 'ValueAsString': 'john.lee@gmail.com'},\n",
       "  {'FeatureName': 'name', 'ValueAsString': 'John Lee'}]}"
      ]
     },
     "execution_count": 27,
     "metadata": {},
     "output_type": "execute_result"
    }
   ],
   "source": [
    "customer_id = 573291\n",
    "sagemaker_session.boto_session.client(\n",
    "    'sagemaker-featurestore-runtime',\n",
    "    region_name=region).get_record(FeatureGroupName=customers_feature_group_name,\n",
    "                                   RecordIdentifierValueAsString=str(customer_id))"
   ]
  },
  {
   "cell_type": "code",
   "execution_count": 29,
   "metadata": {},
   "outputs": [
    {
     "data": {
      "text/html": [
       "<div>\n",
       "<style scoped>\n",
       "    .dataframe tbody tr th:only-of-type {\n",
       "        vertical-align: middle;\n",
       "    }\n",
       "\n",
       "    .dataframe tbody tr th {\n",
       "        vertical-align: top;\n",
       "    }\n",
       "\n",
       "    .dataframe thead th {\n",
       "        text-align: right;\n",
       "    }\n",
       "</style>\n",
       "<table border=\"1\" class=\"dataframe\">\n",
       "  <thead>\n",
       "    <tr style=\"text-align: right;\">\n",
       "      <th></th>\n",
       "      <th>customer_id</th>\n",
       "      <th>city_code</th>\n",
       "      <th>state_code</th>\n",
       "      <th>country_code</th>\n",
       "      <th>eventtime</th>\n",
       "      <th>email</th>\n",
       "      <th>name</th>\n",
       "      <th>write_time</th>\n",
       "      <th>api_invocation_time</th>\n",
       "      <th>is_deleted</th>\n",
       "    </tr>\n",
       "  </thead>\n",
       "  <tbody>\n",
       "    <tr>\n",
       "      <th>0</th>\n",
       "      <td>124013</td>\n",
       "      <td>4.0</td>\n",
       "      <td>5.0</td>\n",
       "      <td>2.0</td>\n",
       "      <td>1.667033e+09</td>\n",
       "      <td>eileenbook@gmail.com</td>\n",
       "      <td>Eileen Book</td>\n",
       "      <td>2022-10-29 08:45:35.799</td>\n",
       "      <td>2022-10-29 08:40:39.000</td>\n",
       "      <td>False</td>\n",
       "    </tr>\n",
       "    <tr>\n",
       "      <th>1</th>\n",
       "      <td>828400</td>\n",
       "      <td>3.0</td>\n",
       "      <td>31.0</td>\n",
       "      <td>2.0</td>\n",
       "      <td>1.667033e+09</td>\n",
       "      <td>liz.knee@gmail.com</td>\n",
       "      <td>Liz Knee</td>\n",
       "      <td>2022-10-29 08:45:35.831</td>\n",
       "      <td>2022-10-29 08:40:38.000</td>\n",
       "      <td>False</td>\n",
       "    </tr>\n",
       "    <tr>\n",
       "      <th>2</th>\n",
       "      <td>109382</td>\n",
       "      <td>2.0</td>\n",
       "      <td>40.0</td>\n",
       "      <td>2.0</td>\n",
       "      <td>1.667033e+09</td>\n",
       "      <td>olivequil@gmail.com</td>\n",
       "      <td>Olive Quil</td>\n",
       "      <td>2022-10-29 08:45:35.851</td>\n",
       "      <td>2022-10-29 08:40:39.000</td>\n",
       "      <td>False</td>\n",
       "    </tr>\n",
       "    <tr>\n",
       "      <th>3</th>\n",
       "      <td>573291</td>\n",
       "      <td>1.0</td>\n",
       "      <td>49.0</td>\n",
       "      <td>2.0</td>\n",
       "      <td>1.667033e+09</td>\n",
       "      <td>john.lee@gmail.com</td>\n",
       "      <td>John Lee</td>\n",
       "      <td>2022-10-29 08:45:35.984</td>\n",
       "      <td>2022-10-29 08:40:38.000</td>\n",
       "      <td>False</td>\n",
       "    </tr>\n",
       "    <tr>\n",
       "      <th>4</th>\n",
       "      <td>828400</td>\n",
       "      <td>3.0</td>\n",
       "      <td>31.0</td>\n",
       "      <td>2.0</td>\n",
       "      <td>1.667030e+09</td>\n",
       "      <td>NaN</td>\n",
       "      <td>NaN</td>\n",
       "      <td>2022-10-29 08:00:25.422</td>\n",
       "      <td>2022-10-29 07:54:38.000</td>\n",
       "      <td>False</td>\n",
       "    </tr>\n",
       "    <tr>\n",
       "      <th>5</th>\n",
       "      <td>124013</td>\n",
       "      <td>4.0</td>\n",
       "      <td>5.0</td>\n",
       "      <td>2.0</td>\n",
       "      <td>1.667030e+09</td>\n",
       "      <td>NaN</td>\n",
       "      <td>NaN</td>\n",
       "      <td>2022-10-29 08:00:25.424</td>\n",
       "      <td>2022-10-29 07:54:38.000</td>\n",
       "      <td>False</td>\n",
       "    </tr>\n",
       "    <tr>\n",
       "      <th>6</th>\n",
       "      <td>109382</td>\n",
       "      <td>2.0</td>\n",
       "      <td>40.0</td>\n",
       "      <td>2.0</td>\n",
       "      <td>1.667030e+09</td>\n",
       "      <td>NaN</td>\n",
       "      <td>NaN</td>\n",
       "      <td>2022-10-29 08:00:25.429</td>\n",
       "      <td>2022-10-29 07:54:38.000</td>\n",
       "      <td>False</td>\n",
       "    </tr>\n",
       "    <tr>\n",
       "      <th>7</th>\n",
       "      <td>573291</td>\n",
       "      <td>1.0</td>\n",
       "      <td>49.0</td>\n",
       "      <td>2.0</td>\n",
       "      <td>1.667030e+09</td>\n",
       "      <td>NaN</td>\n",
       "      <td>NaN</td>\n",
       "      <td>2022-10-29 08:00:25.414</td>\n",
       "      <td>2022-10-29 07:54:38.000</td>\n",
       "      <td>False</td>\n",
       "    </tr>\n",
       "    <tr>\n",
       "      <th>8</th>\n",
       "      <td>573291</td>\n",
       "      <td>NaN</td>\n",
       "      <td>NaN</td>\n",
       "      <td>NaN</td>\n",
       "      <td>1.667030e+09</td>\n",
       "      <td>NaN</td>\n",
       "      <td>NaN</td>\n",
       "      <td>2022-10-29 08:00:25.414</td>\n",
       "      <td>2022-10-29 07:54:52.000</td>\n",
       "      <td>True</td>\n",
       "    </tr>\n",
       "  </tbody>\n",
       "</table>\n",
       "</div>"
      ],
      "text/plain": [
       "   customer_id  city_code  state_code  country_code     eventtime  \\\n",
       "0       124013        4.0         5.0           2.0  1.667033e+09   \n",
       "1       828400        3.0        31.0           2.0  1.667033e+09   \n",
       "2       109382        2.0        40.0           2.0  1.667033e+09   \n",
       "3       573291        1.0        49.0           2.0  1.667033e+09   \n",
       "4       828400        3.0        31.0           2.0  1.667030e+09   \n",
       "5       124013        4.0         5.0           2.0  1.667030e+09   \n",
       "6       109382        2.0        40.0           2.0  1.667030e+09   \n",
       "7       573291        1.0        49.0           2.0  1.667030e+09   \n",
       "8       573291        NaN         NaN           NaN  1.667030e+09   \n",
       "\n",
       "                  email         name               write_time  \\\n",
       "0  eileenbook@gmail.com  Eileen Book  2022-10-29 08:45:35.799   \n",
       "1    liz.knee@gmail.com     Liz Knee  2022-10-29 08:45:35.831   \n",
       "2   olivequil@gmail.com   Olive Quil  2022-10-29 08:45:35.851   \n",
       "3    john.lee@gmail.com     John Lee  2022-10-29 08:45:35.984   \n",
       "4                   NaN          NaN  2022-10-29 08:00:25.422   \n",
       "5                   NaN          NaN  2022-10-29 08:00:25.424   \n",
       "6                   NaN          NaN  2022-10-29 08:00:25.429   \n",
       "7                   NaN          NaN  2022-10-29 08:00:25.414   \n",
       "8                   NaN          NaN  2022-10-29 08:00:25.414   \n",
       "\n",
       "       api_invocation_time  is_deleted  \n",
       "0  2022-10-29 08:40:39.000       False  \n",
       "1  2022-10-29 08:40:38.000       False  \n",
       "2  2022-10-29 08:40:39.000       False  \n",
       "3  2022-10-29 08:40:38.000       False  \n",
       "4  2022-10-29 07:54:38.000       False  \n",
       "5  2022-10-29 07:54:38.000       False  \n",
       "6  2022-10-29 07:54:38.000       False  \n",
       "7  2022-10-29 07:54:38.000       False  \n",
       "8  2022-10-29 07:54:52.000        True  "
      ]
     },
     "execution_count": 29,
     "metadata": {},
     "output_type": "execute_result"
    }
   ],
   "source": [
    "query_string = f'SELECT * FROM \"{customer_table}\"'\n",
    "customer_query = customers_feature_group.athena_query()\n",
    "customer_query.run(query_string=query_string, output_location=f\"s3://{s3_bucket_name}/query_results/\")\n",
    "customer_query.wait()\n",
    "customer_query.as_dataframe()"
   ]
  },
  {
   "cell_type": "markdown",
   "metadata": {},
   "source": [
    "### Offline Storeからの最新のデータを取得\n",
    "Offline Storeで最新のsnapshotを手に入れるためには、クエリによる制御が必要となる。\n",
    "\n",
    "参考: https://docs.aws.amazon.com/sagemaker/latest/dg/feature-store-athena-glue-integration.html"
   ]
  },
  {
   "cell_type": "code",
   "execution_count": 30,
   "metadata": {},
   "outputs": [
    {
     "data": {
      "text/html": [
       "<div>\n",
       "<style scoped>\n",
       "    .dataframe tbody tr th:only-of-type {\n",
       "        vertical-align: middle;\n",
       "    }\n",
       "\n",
       "    .dataframe tbody tr th {\n",
       "        vertical-align: top;\n",
       "    }\n",
       "\n",
       "    .dataframe thead th {\n",
       "        text-align: right;\n",
       "    }\n",
       "</style>\n",
       "<table border=\"1\" class=\"dataframe\">\n",
       "  <thead>\n",
       "    <tr style=\"text-align: right;\">\n",
       "      <th></th>\n",
       "      <th>customer_id</th>\n",
       "      <th>city_code</th>\n",
       "      <th>state_code</th>\n",
       "      <th>country_code</th>\n",
       "      <th>eventtime</th>\n",
       "      <th>email</th>\n",
       "      <th>name</th>\n",
       "      <th>write_time</th>\n",
       "      <th>api_invocation_time</th>\n",
       "      <th>is_deleted</th>\n",
       "      <th>row_num</th>\n",
       "    </tr>\n",
       "  </thead>\n",
       "  <tbody>\n",
       "    <tr>\n",
       "      <th>0</th>\n",
       "      <td>109382</td>\n",
       "      <td>2</td>\n",
       "      <td>40</td>\n",
       "      <td>2</td>\n",
       "      <td>1.667033e+09</td>\n",
       "      <td>olivequil@gmail.com</td>\n",
       "      <td>Olive Quil</td>\n",
       "      <td>2022-10-29 08:45:35.851</td>\n",
       "      <td>2022-10-29 08:40:39.000</td>\n",
       "      <td>False</td>\n",
       "      <td>1</td>\n",
       "    </tr>\n",
       "    <tr>\n",
       "      <th>1</th>\n",
       "      <td>573291</td>\n",
       "      <td>1</td>\n",
       "      <td>49</td>\n",
       "      <td>2</td>\n",
       "      <td>1.667033e+09</td>\n",
       "      <td>john.lee@gmail.com</td>\n",
       "      <td>John Lee</td>\n",
       "      <td>2022-10-29 08:45:35.984</td>\n",
       "      <td>2022-10-29 08:40:38.000</td>\n",
       "      <td>False</td>\n",
       "      <td>1</td>\n",
       "    </tr>\n",
       "    <tr>\n",
       "      <th>2</th>\n",
       "      <td>124013</td>\n",
       "      <td>4</td>\n",
       "      <td>5</td>\n",
       "      <td>2</td>\n",
       "      <td>1.667033e+09</td>\n",
       "      <td>eileenbook@gmail.com</td>\n",
       "      <td>Eileen Book</td>\n",
       "      <td>2022-10-29 08:45:35.799</td>\n",
       "      <td>2022-10-29 08:40:39.000</td>\n",
       "      <td>False</td>\n",
       "      <td>1</td>\n",
       "    </tr>\n",
       "    <tr>\n",
       "      <th>3</th>\n",
       "      <td>828400</td>\n",
       "      <td>3</td>\n",
       "      <td>31</td>\n",
       "      <td>2</td>\n",
       "      <td>1.667033e+09</td>\n",
       "      <td>liz.knee@gmail.com</td>\n",
       "      <td>Liz Knee</td>\n",
       "      <td>2022-10-29 08:45:35.831</td>\n",
       "      <td>2022-10-29 08:40:38.000</td>\n",
       "      <td>False</td>\n",
       "      <td>1</td>\n",
       "    </tr>\n",
       "  </tbody>\n",
       "</table>\n",
       "</div>"
      ],
      "text/plain": [
       "   customer_id  city_code  state_code  country_code     eventtime  \\\n",
       "0       109382          2          40             2  1.667033e+09   \n",
       "1       573291          1          49             2  1.667033e+09   \n",
       "2       124013          4           5             2  1.667033e+09   \n",
       "3       828400          3          31             2  1.667033e+09   \n",
       "\n",
       "                  email         name               write_time  \\\n",
       "0   olivequil@gmail.com   Olive Quil  2022-10-29 08:45:35.851   \n",
       "1    john.lee@gmail.com     John Lee  2022-10-29 08:45:35.984   \n",
       "2  eileenbook@gmail.com  Eileen Book  2022-10-29 08:45:35.799   \n",
       "3    liz.knee@gmail.com     Liz Knee  2022-10-29 08:45:35.831   \n",
       "\n",
       "       api_invocation_time  is_deleted  row_num  \n",
       "0  2022-10-29 08:40:39.000       False        1  \n",
       "1  2022-10-29 08:40:38.000       False        1  \n",
       "2  2022-10-29 08:40:39.000       False        1  \n",
       "3  2022-10-29 08:40:38.000       False        1  "
      ]
     },
     "execution_count": 30,
     "metadata": {},
     "output_type": "execute_result"
    }
   ],
   "source": [
    "query_string = f\"\"\"\n",
    "SELECT *\n",
    "FROM\n",
    "    (SELECT *,\n",
    "         row_number()\n",
    "        OVER (PARTITION BY {record_identifier_feature_name}\n",
    "    ORDER BY {event_time_col} desc, Api_Invocation_Time DESC, write_time DESC) AS row_num\n",
    "    FROM \"{customer_table}\")\n",
    "WHERE row_num = 1;\n",
    "\"\"\"\n",
    "customer_query.run(query_string=query_string, output_location=f\"s3://{s3_bucket_name}/query_results/\")\n",
    "customer_query.wait()\n",
    "customer_query.as_dataframe()"
   ]
  },
  {
   "cell_type": "markdown",
   "metadata": {},
   "source": [
    "## Featureへメタデータを付与"
   ]
  },
  {
   "cell_type": "code",
   "execution_count": 32,
   "metadata": {},
   "outputs": [
    {
     "data": {
      "text/plain": [
       "{'ResponseMetadata': {'RequestId': '9dfd53fb-fa6e-42ca-8ab2-e160eaf3f770',\n",
       "  'HTTPStatusCode': 200,\n",
       "  'HTTPHeaders': {'x-amzn-requestid': '9dfd53fb-fa6e-42ca-8ab2-e160eaf3f770',\n",
       "   'content-type': 'application/x-amz-json-1.1',\n",
       "   'content-length': '0',\n",
       "   'date': 'Sat, 29 Oct 2022 13:58:39 GMT'},\n",
       "  'RetryAttempts': 0}}"
      ]
     },
     "execution_count": 32,
     "metadata": {},
     "output_type": "execute_result"
    }
   ],
   "source": [
    "customers_feature_group.update_feature_metadata(\n",
    "    feature_name=\"customer_id\",\n",
    "    description=\"カスタマーの識別番号\",\n",
    ")"
   ]
  },
  {
   "cell_type": "code",
   "execution_count": 33,
   "metadata": {},
   "outputs": [
    {
     "data": {
      "text/plain": [
       "{'FeatureGroupArn': 'arn:aws:sagemaker:us-east-1:980831117329:feature-group/customers-feature-group-29-07-54-05',\n",
       " 'FeatureGroupName': 'customers-feature-group-29-07-54-05',\n",
       " 'FeatureName': 'customer_id',\n",
       " 'FeatureType': 'Integral',\n",
       " 'CreationTime': datetime.datetime(2022, 10, 29, 7, 54, 11, 576000, tzinfo=tzlocal()),\n",
       " 'LastModifiedTime': datetime.datetime(2022, 10, 29, 13, 58, 40, 841000, tzinfo=tzlocal()),\n",
       " 'Description': 'カスタマーの識別番号',\n",
       " 'Parameters': [],\n",
       " 'ResponseMetadata': {'RequestId': '93cca27c-be44-4698-a613-6ad3df4f465d',\n",
       "  'HTTPStatusCode': 200,\n",
       "  'HTTPHeaders': {'x-amzn-requestid': '93cca27c-be44-4698-a613-6ad3df4f465d',\n",
       "   'content-type': 'application/x-amz-json-1.1',\n",
       "   'content-length': '353',\n",
       "   'date': 'Sat, 29 Oct 2022 13:58:42 GMT'},\n",
       "  'RetryAttempts': 0}}"
      ]
     },
     "execution_count": 33,
     "metadata": {},
     "output_type": "execute_result"
    }
   ],
   "source": [
    "customers_feature_group.describe_feature_metadata(feature_name=\"customer_id\")"
   ]
  },
  {
   "cell_type": "code",
   "execution_count": 34,
   "metadata": {},
   "outputs": [
    {
     "data": {
      "text/plain": [
       "{'ResponseMetadata': {'RequestId': '44496ef0-4185-489f-84db-923af79adc94',\n",
       "  'HTTPStatusCode': 200,\n",
       "  'HTTPHeaders': {'x-amzn-requestid': '44496ef0-4185-489f-84db-923af79adc94',\n",
       "   'content-type': 'application/x-amz-json-1.1',\n",
       "   'content-length': '0',\n",
       "   'date': 'Sat, 29 Oct 2022 13:58:45 GMT'},\n",
       "  'RetryAttempts': 0}}"
      ]
     },
     "execution_count": 34,
     "metadata": {},
     "output_type": "execute_result"
    }
   ],
   "source": [
    "from sagemaker.feature_store.inputs import FeatureParameter\n",
    "\n",
    "customers_feature_group.update_feature_metadata(\n",
    "    feature_name=\"customer_id\",\n",
    "    parameter_additions=[FeatureParameter(\"idType\", \"primaryKey\")],\n",
    ")"
   ]
  },
  {
   "cell_type": "code",
   "execution_count": 35,
   "metadata": {},
   "outputs": [
    {
     "data": {
      "text/plain": [
       "{'FeatureGroupArn': 'arn:aws:sagemaker:us-east-1:980831117329:feature-group/customers-feature-group-29-07-54-05',\n",
       " 'FeatureGroupName': 'customers-feature-group-29-07-54-05',\n",
       " 'FeatureName': 'customer_id',\n",
       " 'FeatureType': 'Integral',\n",
       " 'CreationTime': datetime.datetime(2022, 10, 29, 7, 54, 11, 576000, tzinfo=tzlocal()),\n",
       " 'LastModifiedTime': datetime.datetime(2022, 10, 29, 13, 58, 46, 753000, tzinfo=tzlocal()),\n",
       " 'Description': 'カスタマーの識別番号',\n",
       " 'Parameters': [{'Key': 'idType', 'Value': 'primaryKey'}],\n",
       " 'ResponseMetadata': {'RequestId': '424ad06c-6dbc-485f-a4f0-f1715127678c',\n",
       "  'HTTPStatusCode': 200,\n",
       "  'HTTPHeaders': {'x-amzn-requestid': '424ad06c-6dbc-485f-a4f0-f1715127678c',\n",
       "   'content-type': 'application/x-amz-json-1.1',\n",
       "   'content-length': '390',\n",
       "   'date': 'Sat, 29 Oct 2022 13:58:49 GMT'},\n",
       "  'RetryAttempts': 0}}"
      ]
     },
     "execution_count": 35,
     "metadata": {},
     "output_type": "execute_result"
    }
   ],
   "source": [
    "customers_feature_group.describe_feature_metadata(feature_name=\"customer_id\")"
   ]
  },
  {
   "cell_type": "code",
   "execution_count": 36,
   "metadata": {},
   "outputs": [],
   "source": [
    "customers_feature_group.delete()"
   ]
  },
  {
   "cell_type": "code",
   "execution_count": 37,
   "metadata": {},
   "outputs": [],
   "source": [
    "orders_feature_group.delete()"
   ]
  }
 ],
 "metadata": {
  "instance_type": "ml.t3.medium",
  "kernelspec": {
   "display_name": "Python 3 (Data Science)",
   "language": "python",
   "name": "python3__SAGEMAKER_INTERNAL__arn:aws:sagemaker:us-east-1:081325390199:image/datascience-1.0"
  },
  "language_info": {
   "codemirror_mode": {
    "name": "ipython",
    "version": 3
   },
   "file_extension": ".py",
   "mimetype": "text/x-python",
   "name": "python",
   "nbconvert_exporter": "python",
   "pygments_lexer": "ipython3",
   "version": "3.7.10"
  }
 },
 "nbformat": 4,
 "nbformat_minor": 4
}
