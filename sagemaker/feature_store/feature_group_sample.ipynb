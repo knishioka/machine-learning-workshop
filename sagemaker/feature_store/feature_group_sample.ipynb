{
 "cells": [
  {
   "cell_type": "markdown",
   "metadata": {},
   "source": [
    "# Amazon SageMaker Feature Storeの基本的な使い方"
   ]
  },
  {
   "cell_type": "markdown",
   "metadata": {},
   "source": [
    "## 使用するデータ\n",
    "[SageMaker Feature Storeのサンプル](https://github.com/aws/amazon-sagemaker-examples/tree/main/sagemaker-featurestore)を利用。\n",
    "以下の三種類のデータが存在する。\n",
    "\n",
    "- 顧客データ (feature_store_introduction_customer.csv)\n",
    "- 更新された顧客データ (feature_store_introduction_customer_updated.csv)\n",
    "- 注文データ (feature_store_introduction_orders.csv)"
   ]
  },
  {
   "cell_type": "code",
   "execution_count": 1,
   "metadata": {},
   "outputs": [
    {
     "data": {
      "text/html": [
       "<div>\n",
       "<style scoped>\n",
       "    .dataframe tbody tr th:only-of-type {\n",
       "        vertical-align: middle;\n",
       "    }\n",
       "\n",
       "    .dataframe tbody tr th {\n",
       "        vertical-align: top;\n",
       "    }\n",
       "\n",
       "    .dataframe thead th {\n",
       "        text-align: right;\n",
       "    }\n",
       "</style>\n",
       "<table border=\"1\" class=\"dataframe\">\n",
       "  <thead>\n",
       "    <tr style=\"text-align: right;\">\n",
       "      <th></th>\n",
       "      <th>customer_id</th>\n",
       "      <th>city_code</th>\n",
       "      <th>state_code</th>\n",
       "      <th>country_code</th>\n",
       "    </tr>\n",
       "  </thead>\n",
       "  <tbody>\n",
       "    <tr>\n",
       "      <th>0</th>\n",
       "      <td>573291</td>\n",
       "      <td>1</td>\n",
       "      <td>49</td>\n",
       "      <td>2</td>\n",
       "    </tr>\n",
       "    <tr>\n",
       "      <th>1</th>\n",
       "      <td>109382</td>\n",
       "      <td>2</td>\n",
       "      <td>40</td>\n",
       "      <td>2</td>\n",
       "    </tr>\n",
       "    <tr>\n",
       "      <th>2</th>\n",
       "      <td>828400</td>\n",
       "      <td>3</td>\n",
       "      <td>31</td>\n",
       "      <td>2</td>\n",
       "    </tr>\n",
       "    <tr>\n",
       "      <th>3</th>\n",
       "      <td>124013</td>\n",
       "      <td>4</td>\n",
       "      <td>5</td>\n",
       "      <td>2</td>\n",
       "    </tr>\n",
       "  </tbody>\n",
       "</table>\n",
       "</div>"
      ],
      "text/plain": [
       "   customer_id  city_code  state_code  country_code\n",
       "0       573291          1          49             2\n",
       "1       109382          2          40             2\n",
       "2       828400          3          31             2\n",
       "3       124013          4           5             2"
      ]
     },
     "execution_count": 1,
     "metadata": {},
     "output_type": "execute_result"
    }
   ],
   "source": [
    "import pandas as pd\n",
    "\n",
    "customer_df = pd.read_csv('s3://machine-learning-workshop/feature-store/feature_store_introduction_customer.csv')\n",
    "customer_df"
   ]
  },
  {
   "cell_type": "code",
   "execution_count": 2,
   "metadata": {},
   "outputs": [
    {
     "data": {
      "text/html": [
       "<div>\n",
       "<style scoped>\n",
       "    .dataframe tbody tr th:only-of-type {\n",
       "        vertical-align: middle;\n",
       "    }\n",
       "\n",
       "    .dataframe tbody tr th {\n",
       "        vertical-align: top;\n",
       "    }\n",
       "\n",
       "    .dataframe thead th {\n",
       "        text-align: right;\n",
       "    }\n",
       "</style>\n",
       "<table border=\"1\" class=\"dataframe\">\n",
       "  <thead>\n",
       "    <tr style=\"text-align: right;\">\n",
       "      <th></th>\n",
       "      <th>customer_id</th>\n",
       "      <th>order_id</th>\n",
       "      <th>order_status</th>\n",
       "      <th>store_id</th>\n",
       "    </tr>\n",
       "  </thead>\n",
       "  <tbody>\n",
       "    <tr>\n",
       "      <th>0</th>\n",
       "      <td>573291</td>\n",
       "      <td>4132</td>\n",
       "      <td>1</td>\n",
       "      <td>303</td>\n",
       "    </tr>\n",
       "    <tr>\n",
       "      <th>1</th>\n",
       "      <td>109382</td>\n",
       "      <td>5724</td>\n",
       "      <td>0</td>\n",
       "      <td>201</td>\n",
       "    </tr>\n",
       "    <tr>\n",
       "      <th>2</th>\n",
       "      <td>828400</td>\n",
       "      <td>1942</td>\n",
       "      <td>0</td>\n",
       "      <td>431</td>\n",
       "    </tr>\n",
       "    <tr>\n",
       "      <th>3</th>\n",
       "      <td>124013</td>\n",
       "      <td>6782</td>\n",
       "      <td>1</td>\n",
       "      <td>213</td>\n",
       "    </tr>\n",
       "  </tbody>\n",
       "</table>\n",
       "</div>"
      ],
      "text/plain": [
       "   customer_id  order_id  order_status  store_id\n",
       "0       573291      4132             1       303\n",
       "1       109382      5724             0       201\n",
       "2       828400      1942             0       431\n",
       "3       124013      6782             1       213"
      ]
     },
     "execution_count": 2,
     "metadata": {},
     "output_type": "execute_result"
    }
   ],
   "source": [
    "order_df = pd.read_csv('s3://machine-learning-workshop/feature-store/feature_store_introduction_orders.csv')\n",
    "order_df"
   ]
  },
  {
   "cell_type": "markdown",
   "metadata": {},
   "source": [
    "## Feature Groupを作成\n",
    "２種類のFeature Groupを作成する。\n",
    "- 顧客用Feature Group\n",
    "- 注文用Feature Group"
   ]
  },
  {
   "cell_type": "code",
   "execution_count": 5,
   "metadata": {},
   "outputs": [],
   "source": [
    "import sys\n",
    "\n",
    "import boto3\n",
    "import pandas as pd\n",
    "import numpy as np\n",
    "import sagemaker\n",
    "from sagemaker.session import Session\n",
    "from sagemaker import get_execution_role\n",
    "\n",
    "role = get_execution_role()\n",
    "\n",
    "sagemaker_session = sagemaker.Session()\n",
    "region = sagemaker_session.boto_region_name"
   ]
  },
  {
   "cell_type": "code",
   "execution_count": 6,
   "metadata": {},
   "outputs": [],
   "source": [
    "import time\n",
    "from time import strftime, gmtime\n",
    "customers_feature_group_name = 'customers-feature-group-' + strftime('%d-%H-%M-%S', gmtime())\n",
    "orders_feature_group_name = 'orders-feature-group-' + strftime('%d-%H-%M-%S', gmtime())"
   ]
  },
  {
   "cell_type": "code",
   "execution_count": 7,
   "metadata": {},
   "outputs": [],
   "source": [
    "from sagemaker.feature_store.feature_group import FeatureGroup\n",
    "\n",
    "customers_feature_group = FeatureGroup(\n",
    "    name=customers_feature_group_name, sagemaker_session=sagemaker_session\n",
    ")\n",
    "orders_feature_group = FeatureGroup(\n",
    "    name=orders_feature_group_name, sagemaker_session=sagemaker_session\n",
    ")\n"
   ]
  },
  {
   "cell_type": "markdown",
   "metadata": {},
   "source": [
    "### データにevent timeを付与\n",
    "Feature Groupに保存するデータは\n",
    "\n",
    "- record識別子: データの各レコードを一意に識別するfeature (今回はcustomer_idを利用)\n",
    "- event time: レコードの作成または更新に対応するfeature (今回はEventTimeというfeatureを作成)\n",
    "\n",
    "の２つの定義が必要。"
   ]
  },
  {
   "cell_type": "markdown",
   "metadata": {},
   "source": [
    "#### DataFrameにEvenTimeを付与"
   ]
  },
  {
   "cell_type": "code",
   "execution_count": 9,
   "metadata": {},
   "outputs": [],
   "source": [
    "import time\n",
    "current_time_sec = int(round(time.time()))\n",
    "\n",
    "event_time_col = \"EventTime\"\n",
    "\n",
    "customer_df[event_time_col] = pd.Series([current_time_sec]*len(customer_df), dtype=\"float64\")\n",
    "order_df[event_time_col] = pd.Series([current_time_sec]*len(order_df), dtype=\"float64\")"
   ]
  },
  {
   "cell_type": "code",
   "execution_count": 19,
   "metadata": {},
   "outputs": [
    {
     "data": {
      "text/plain": [
       "[FeatureDefinition(feature_name='customer_id', feature_type=<FeatureTypeEnum.INTEGRAL: 'Integral'>),\n",
       " FeatureDefinition(feature_name='order_id', feature_type=<FeatureTypeEnum.INTEGRAL: 'Integral'>),\n",
       " FeatureDefinition(feature_name='order_status', feature_type=<FeatureTypeEnum.INTEGRAL: 'Integral'>),\n",
       " FeatureDefinition(feature_name='store_id', feature_type=<FeatureTypeEnum.INTEGRAL: 'Integral'>),\n",
       " FeatureDefinition(feature_name='EventTime', feature_type=<FeatureTypeEnum.FRACTIONAL: 'Fractional'>)]"
      ]
     },
     "execution_count": 19,
     "metadata": {},
     "output_type": "execute_result"
    }
   ],
   "source": [
    "customers_feature_group.load_feature_definitions(data_frame=customer_df)\n",
    "orders_feature_group.load_feature_definitions(data_frame=order_df)"
   ]
  },
  {
   "cell_type": "markdown",
   "metadata": {},
   "source": [
    "#### レコード識別子を指定して、Feature Groupを作成\n",
    "Feature Groupを作成するとAmazon Glue Data Catalogも同時に作成される。"
   ]
  },
  {
   "cell_type": "code",
   "execution_count": 21,
   "metadata": {},
   "outputs": [
    {
     "data": {
      "text/plain": [
       "{'FeatureGroupArn': 'arn:aws:sagemaker:us-east-1:980831117329:feature-group/orders-feature-group-28-23-32-42',\n",
       " 'ResponseMetadata': {'RequestId': '2f3fbd72-4a24-49df-88a8-503677602c4d',\n",
       "  'HTTPStatusCode': 200,\n",
       "  'HTTPHeaders': {'x-amzn-requestid': '2f3fbd72-4a24-49df-88a8-503677602c4d',\n",
       "   'content-type': 'application/x-amz-json-1.1',\n",
       "   'content-length': '109',\n",
       "   'date': 'Fri, 28 Oct 2022 23:49:28 GMT'},\n",
       "  'RetryAttempts': 2}}"
      ]
     },
     "execution_count": 21,
     "metadata": {},
     "output_type": "execute_result"
    }
   ],
   "source": [
    "prefix = \"feature-group-demo\"\n",
    "s3_bucket_name = \"machine-learning-workshop\"\n",
    "record_identifier_feature_name = \"customer_id\"\n",
    "\n",
    "\n",
    "customers_feature_group.create(\n",
    "    s3_uri=f\"s3://{s3_bucket_name}/{prefix}\",\n",
    "    record_identifier_name=record_identifier_feature_name,\n",
    "    event_time_feature_name=event_time_col,\n",
    "    role_arn=role,\n",
    "    enable_online_store=True,\n",
    ")\n",
    "\n",
    "orders_feature_group.create(\n",
    "    s3_uri=f\"s3://{s3_bucket_name}/{prefix}\",\n",
    "    record_identifier_name=record_identifier_feature_name,\n",
    "    event_time_feature_name=event_time_col,\n",
    "    role_arn=role,\n",
    "    enable_online_store=True,\n",
    ")"
   ]
  },
  {
   "cell_type": "markdown",
   "metadata": {},
   "source": [
    "### Feature Groupの中身を確認"
   ]
  },
  {
   "cell_type": "code",
   "execution_count": 23,
   "metadata": {},
   "outputs": [
    {
     "data": {
      "text/plain": [
       "{'FeatureGroupArn': 'arn:aws:sagemaker:us-east-1:980831117329:feature-group/customers-feature-group-28-23-32-42',\n",
       " 'FeatureGroupName': 'customers-feature-group-28-23-32-42',\n",
       " 'RecordIdentifierFeatureName': 'customer_id',\n",
       " 'EventTimeFeatureName': 'EventTime',\n",
       " 'FeatureDefinitions': [{'FeatureName': 'customer_id',\n",
       "   'FeatureType': 'Integral'},\n",
       "  {'FeatureName': 'city_code', 'FeatureType': 'Integral'},\n",
       "  {'FeatureName': 'state_code', 'FeatureType': 'Integral'},\n",
       "  {'FeatureName': 'country_code', 'FeatureType': 'Integral'},\n",
       "  {'FeatureName': 'EventTime', 'FeatureType': 'Fractional'}],\n",
       " 'CreationTime': datetime.datetime(2022, 10, 28, 23, 49, 26, 869000, tzinfo=tzlocal()),\n",
       " 'OnlineStoreConfig': {'EnableOnlineStore': True},\n",
       " 'OfflineStoreConfig': {'S3StorageConfig': {'S3Uri': 's3://machine-learning-workshop/feature-group-demo',\n",
       "   'ResolvedOutputS3Uri': 's3://machine-learning-workshop/feature-group-demo/980831117329/sagemaker/us-east-1/offline-store/customers-feature-group-28-23-32-42-1667000966/data'},\n",
       "  'DisableGlueTableCreation': False,\n",
       "  'DataCatalogConfig': {'TableName': 'customers-feature-group-28-23-32-42-1667000966',\n",
       "   'Catalog': 'AwsDataCatalog',\n",
       "   'Database': 'sagemaker_featurestore'}},\n",
       " 'RoleArn': 'arn:aws:iam::980831117329:role/service-role/AmazonSageMaker-ExecutionRole-20220127T071920',\n",
       " 'FeatureGroupStatus': 'Created',\n",
       " 'OnlineStoreTotalSizeBytes': 0,\n",
       " 'ResponseMetadata': {'RequestId': '9601e02b-eee1-4fe6-ac67-e49a666991b9',\n",
       "  'HTTPStatusCode': 200,\n",
       "  'HTTPHeaders': {'x-amzn-requestid': '9601e02b-eee1-4fe6-ac67-e49a666991b9',\n",
       "   'content-type': 'application/x-amz-json-1.1',\n",
       "   'content-length': '1728',\n",
       "   'date': 'Fri, 28 Oct 2022 23:50:01 GMT'},\n",
       "  'RetryAttempts': 0}}"
      ]
     },
     "execution_count": 23,
     "metadata": {},
     "output_type": "execute_result"
    }
   ],
   "source": [
    "customers_feature_group.describe()"
   ]
  },
  {
   "cell_type": "code",
   "execution_count": 24,
   "metadata": {},
   "outputs": [
    {
     "data": {
      "text/plain": [
       "{'FeatureGroupArn': 'arn:aws:sagemaker:us-east-1:980831117329:feature-group/orders-feature-group-28-23-32-42',\n",
       " 'FeatureGroupName': 'orders-feature-group-28-23-32-42',\n",
       " 'RecordIdentifierFeatureName': 'customer_id',\n",
       " 'EventTimeFeatureName': 'EventTime',\n",
       " 'FeatureDefinitions': [{'FeatureName': 'customer_id',\n",
       "   'FeatureType': 'Integral'},\n",
       "  {'FeatureName': 'order_id', 'FeatureType': 'Integral'},\n",
       "  {'FeatureName': 'order_status', 'FeatureType': 'Integral'},\n",
       "  {'FeatureName': 'store_id', 'FeatureType': 'Integral'},\n",
       "  {'FeatureName': 'EventTime', 'FeatureType': 'Fractional'}],\n",
       " 'CreationTime': datetime.datetime(2022, 10, 28, 23, 49, 28, 756000, tzinfo=tzlocal()),\n",
       " 'OnlineStoreConfig': {'EnableOnlineStore': True},\n",
       " 'OfflineStoreConfig': {'S3StorageConfig': {'S3Uri': 's3://machine-learning-workshop/feature-group-demo',\n",
       "   'ResolvedOutputS3Uri': 's3://machine-learning-workshop/feature-group-demo/980831117329/sagemaker/us-east-1/offline-store/orders-feature-group-28-23-32-42-1667000968/data'},\n",
       "  'DisableGlueTableCreation': False,\n",
       "  'DataCatalogConfig': {'TableName': 'orders-feature-group-28-23-32-42-1667000968',\n",
       "   'Catalog': 'AwsDataCatalog',\n",
       "   'Database': 'sagemaker_featurestore'}},\n",
       " 'RoleArn': 'arn:aws:iam::980831117329:role/service-role/AmazonSageMaker-ExecutionRole-20220127T071920',\n",
       " 'FeatureGroupStatus': 'Created',\n",
       " 'OnlineStoreTotalSizeBytes': 0,\n",
       " 'ResponseMetadata': {'RequestId': '3d2a2c6e-4485-4ceb-8162-4c16a5ebc5a7',\n",
       "  'HTTPStatusCode': 200,\n",
       "  'HTTPHeaders': {'x-amzn-requestid': '3d2a2c6e-4485-4ceb-8162-4c16a5ebc5a7',\n",
       "   'content-type': 'application/x-amz-json-1.1',\n",
       "   'content-length': '1713',\n",
       "   'date': 'Fri, 28 Oct 2022 23:50:03 GMT'},\n",
       "  'RetryAttempts': 0}}"
      ]
     },
     "execution_count": 24,
     "metadata": {},
     "output_type": "execute_result"
    }
   ],
   "source": [
    "orders_feature_group.describe()"
   ]
  },
  {
   "cell_type": "markdown",
   "metadata": {},
   "source": [
    "### Feature Groupのリストを表示"
   ]
  },
  {
   "cell_type": "code",
   "execution_count": 25,
   "metadata": {},
   "outputs": [
    {
     "data": {
      "text/plain": [
       "{'FeatureGroupSummaries': [{'FeatureGroupName': 'orders-feature-group-28-23-32-42',\n",
       "   'FeatureGroupArn': 'arn:aws:sagemaker:us-east-1:980831117329:feature-group/orders-feature-group-28-23-32-42',\n",
       "   'CreationTime': datetime.datetime(2022, 10, 28, 23, 49, 28, 756000, tzinfo=tzlocal()),\n",
       "   'FeatureGroupStatus': 'Created'},\n",
       "  {'FeatureGroupName': 'customers-feature-group-28-23-32-42',\n",
       "   'FeatureGroupArn': 'arn:aws:sagemaker:us-east-1:980831117329:feature-group/customers-feature-group-28-23-32-42',\n",
       "   'CreationTime': datetime.datetime(2022, 10, 28, 23, 49, 26, 869000, tzinfo=tzlocal()),\n",
       "   'FeatureGroupStatus': 'Created'}],\n",
       " 'ResponseMetadata': {'RequestId': '2868bf5c-d2a5-45da-b4cf-1630cd15eee2',\n",
       "  'HTTPStatusCode': 200,\n",
       "  'HTTPHeaders': {'x-amzn-requestid': '2868bf5c-d2a5-45da-b4cf-1630cd15eee2',\n",
       "   'content-type': 'application/x-amz-json-1.1',\n",
       "   'content-length': '487',\n",
       "   'date': 'Fri, 28 Oct 2022 23:50:26 GMT'},\n",
       "  'RetryAttempts': 0}}"
      ]
     },
     "execution_count": 25,
     "metadata": {},
     "output_type": "execute_result"
    }
   ],
   "source": [
    "sagemaker_session.boto_session.client('sagemaker', region_name=region).list_feature_groups()"
   ]
  },
  {
   "cell_type": "code",
   "execution_count": 26,
   "metadata": {},
   "outputs": [
    {
     "name": "stdout",
     "output_type": "stream",
     "text": [
      "{\n",
      "    \"FeatureGroupSummaries\": [\n",
      "        {\n",
      "            \"FeatureGroupName\": \"orders-feature-group-28-23-32-42\",\n",
      "            \"FeatureGroupArn\": \"arn:aws:sagemaker:us-east-1:980831117329:feature-group/orders-feature-group-28-23-32-42\",\n",
      "            \"CreationTime\": 1667000968.756,\n",
      "            \"FeatureGroupStatus\": \"Created\"\n",
      "        },\n",
      "        {\n",
      "            \"FeatureGroupName\": \"customers-feature-group-28-23-32-42\",\n",
      "            \"FeatureGroupArn\": \"arn:aws:sagemaker:us-east-1:980831117329:feature-group/customers-feature-group-28-23-32-42\",\n",
      "            \"CreationTime\": 1667000966.869,\n",
      "            \"FeatureGroupStatus\": \"Created\"\n",
      "        }\n",
      "    ]\n",
      "}\n"
     ]
    }
   ],
   "source": [
    "!aws sagemaker list-feature-groups"
   ]
  },
  {
   "cell_type": "markdown",
   "metadata": {},
   "source": [
    "### 既存のFeature Groupを呼び出す\n",
    "Feature Group名を使えば既存のFeature Groupは簡単に呼び出せる"
   ]
  },
  {
   "cell_type": "code",
   "execution_count": 34,
   "metadata": {},
   "outputs": [],
   "source": [
    "existing_customers_feature_group = FeatureGroup(\n",
    "    name=customers_feature_group_name, sagemaker_session=sagemaker_session\n",
    ")"
   ]
  },
  {
   "cell_type": "code",
   "execution_count": 35,
   "metadata": {},
   "outputs": [
    {
     "data": {
      "text/plain": [
       "{'FeatureGroupArn': 'arn:aws:sagemaker:us-east-1:980831117329:feature-group/customers-feature-group-28-23-32-42',\n",
       " 'FeatureGroupName': 'customers-feature-group-28-23-32-42',\n",
       " 'RecordIdentifierFeatureName': 'customer_id',\n",
       " 'EventTimeFeatureName': 'EventTime',\n",
       " 'FeatureDefinitions': [{'FeatureName': 'customer_id',\n",
       "   'FeatureType': 'Integral'},\n",
       "  {'FeatureName': 'city_code', 'FeatureType': 'Integral'},\n",
       "  {'FeatureName': 'state_code', 'FeatureType': 'Integral'},\n",
       "  {'FeatureName': 'country_code', 'FeatureType': 'Integral'},\n",
       "  {'FeatureName': 'EventTime', 'FeatureType': 'Fractional'}],\n",
       " 'CreationTime': datetime.datetime(2022, 10, 28, 23, 49, 26, 869000, tzinfo=tzlocal()),\n",
       " 'OnlineStoreConfig': {'EnableOnlineStore': True},\n",
       " 'OfflineStoreConfig': {'S3StorageConfig': {'S3Uri': 's3://machine-learning-workshop/feature-group-demo',\n",
       "   'ResolvedOutputS3Uri': 's3://machine-learning-workshop/feature-group-demo/980831117329/sagemaker/us-east-1/offline-store/customers-feature-group-28-23-32-42-1667000966/data'},\n",
       "  'DisableGlueTableCreation': False,\n",
       "  'DataCatalogConfig': {'TableName': 'customers-feature-group-28-23-32-42-1667000966',\n",
       "   'Catalog': 'AwsDataCatalog',\n",
       "   'Database': 'sagemaker_featurestore'}},\n",
       " 'RoleArn': 'arn:aws:iam::980831117329:role/service-role/AmazonSageMaker-ExecutionRole-20220127T071920',\n",
       " 'FeatureGroupStatus': 'Created',\n",
       " 'OnlineStoreTotalSizeBytes': 0,\n",
       " 'ResponseMetadata': {'RequestId': '47eb3856-0e98-4ffd-9039-ecd9619ee35b',\n",
       "  'HTTPStatusCode': 200,\n",
       "  'HTTPHeaders': {'x-amzn-requestid': '47eb3856-0e98-4ffd-9039-ecd9619ee35b',\n",
       "   'content-type': 'application/x-amz-json-1.1',\n",
       "   'content-length': '1728',\n",
       "   'date': 'Fri, 28 Oct 2022 23:53:13 GMT'},\n",
       "  'RetryAttempts': 0}}"
      ]
     },
     "execution_count": 35,
     "metadata": {},
     "output_type": "execute_result"
    }
   ],
   "source": [
    "existing_customers_feature_group.describe()"
   ]
  },
  {
   "cell_type": "markdown",
   "metadata": {},
   "source": [
    "## データを保存"
   ]
  },
  {
   "cell_type": "code",
   "execution_count": 57,
   "metadata": {},
   "outputs": [
    {
     "data": {
      "text/plain": [
       "IngestionManagerPandas(feature_group_name='customers-feature-group-28-23-32-42', sagemaker_fs_runtime_client_config=<botocore.config.Config object at 0x7f72d00d1210>, max_workers=3, max_processes=1, profile_name=None, _async_result=<multiprocess.pool.MapResult object at 0x7f72ca3b0c10>, _processing_pool=<pool ProcessPool(ncpus=1)>, _failed_indices=[])"
      ]
     },
     "execution_count": 57,
     "metadata": {},
     "output_type": "execute_result"
    }
   ],
   "source": [
    "customers_feature_group.ingest(\n",
    "    data_frame=customer_df, max_workers=3, wait=True\n",
    ")"
   ]
  },
  {
   "cell_type": "code",
   "execution_count": 38,
   "metadata": {},
   "outputs": [
    {
     "data": {
      "text/plain": [
       "IngestionManagerPandas(feature_group_name='orders-feature-group-28-23-32-42', sagemaker_fs_runtime_client_config=<botocore.config.Config object at 0x7f72d00d1210>, max_workers=3, max_processes=1, profile_name=None, _async_result=<multiprocess.pool.MapResult object at 0x7f72caee5ad0>, _processing_pool=<pool ProcessPool(ncpus=1)>, _failed_indices=[])"
      ]
     },
     "execution_count": 38,
     "metadata": {},
     "output_type": "execute_result"
    }
   ],
   "source": [
    "orders_feature_group.ingest(\n",
    "    data_frame=order_df, max_workers=3, wait=True\n",
    ")"
   ]
  },
  {
   "cell_type": "markdown",
   "metadata": {},
   "source": [
    "### Online Storeからの個別のデータの取得"
   ]
  },
  {
   "cell_type": "code",
   "execution_count": 54,
   "metadata": {},
   "outputs": [
    {
     "data": {
      "text/plain": [
       "{'ResponseMetadata': {'RequestId': 'bf0e431d-8a66-4037-a83d-19b743d8e4c4',\n",
       "  'HTTPStatusCode': 200,\n",
       "  'HTTPHeaders': {'x-amzn-requestid': 'bf0e431d-8a66-4037-a83d-19b743d8e4c4',\n",
       "   'content-type': 'application/json',\n",
       "   'content-length': '15',\n",
       "   'date': 'Sat, 29 Oct 2022 04:27:09 GMT'},\n",
       "  'RetryAttempts': 0}}"
      ]
     },
     "execution_count": 54,
     "metadata": {},
     "output_type": "execute_result"
    }
   ],
   "source": [
    "customer_id = 573291\n",
    "sagemaker_session.boto_session.client(\n",
    "    'sagemaker-featurestore-runtime',\n",
    "    region_name=region).get_record(FeatureGroupName=customers_feature_group_name,\n",
    "                                   RecordIdentifierValueAsString=str(customer_id))"
   ]
  },
  {
   "cell_type": "markdown",
   "metadata": {},
   "source": [
    "### Online Storeからの複数データの取得"
   ]
  },
  {
   "cell_type": "code",
   "execution_count": 56,
   "metadata": {},
   "outputs": [
    {
     "data": {
      "text/plain": [
       "{'ResponseMetadata': {'RequestId': 'b995d726-d9da-41ba-a259-dcb953115eb0',\n",
       "  'HTTPStatusCode': 200,\n",
       "  'HTTPHeaders': {'x-amzn-requestid': 'b995d726-d9da-41ba-a259-dcb953115eb0',\n",
       "   'content-type': 'application/json',\n",
       "   'content-length': '2662',\n",
       "   'date': 'Sat, 29 Oct 2022 04:29:02 GMT'},\n",
       "  'RetryAttempts': 0},\n",
       " 'Records': [{'FeatureGroupName': 'customers-feature-group-28-23-32-42',\n",
       "   'RecordIdentifierValueAsString': '109382',\n",
       "   'Record': [{'FeatureName': 'customer_id', 'ValueAsString': '109382'},\n",
       "    {'FeatureName': 'city_code', 'ValueAsString': '2'},\n",
       "    {'FeatureName': 'state_code', 'ValueAsString': '40'},\n",
       "    {'FeatureName': 'country_code', 'ValueAsString': '2'},\n",
       "    {'FeatureName': 'EventTime', 'ValueAsString': '1667000392.0'}]},\n",
       "  {'FeatureGroupName': 'customers-feature-group-28-23-32-42',\n",
       "   'RecordIdentifierValueAsString': '124013',\n",
       "   'Record': [{'FeatureName': 'customer_id', 'ValueAsString': '124013'},\n",
       "    {'FeatureName': 'city_code', 'ValueAsString': '4'},\n",
       "    {'FeatureName': 'state_code', 'ValueAsString': '5'},\n",
       "    {'FeatureName': 'country_code', 'ValueAsString': '2'},\n",
       "    {'FeatureName': 'EventTime', 'ValueAsString': '1667000392.0'}]},\n",
       "  {'FeatureGroupName': 'customers-feature-group-28-23-32-42',\n",
       "   'RecordIdentifierValueAsString': '828400',\n",
       "   'Record': [{'FeatureName': 'customer_id', 'ValueAsString': '828400'},\n",
       "    {'FeatureName': 'city_code', 'ValueAsString': '3'},\n",
       "    {'FeatureName': 'state_code', 'ValueAsString': '31'},\n",
       "    {'FeatureName': 'country_code', 'ValueAsString': '2'},\n",
       "    {'FeatureName': 'EventTime', 'ValueAsString': '1667000392.0'}]},\n",
       "  {'FeatureGroupName': 'orders-feature-group-28-23-32-42',\n",
       "   'RecordIdentifierValueAsString': '573291',\n",
       "   'Record': [{'FeatureName': 'customer_id', 'ValueAsString': '573291'},\n",
       "    {'FeatureName': 'order_id', 'ValueAsString': '4132'},\n",
       "    {'FeatureName': 'order_status', 'ValueAsString': '1'},\n",
       "    {'FeatureName': 'store_id', 'ValueAsString': '303'},\n",
       "    {'FeatureName': 'EventTime', 'ValueAsString': '1667000392.0'}]},\n",
       "  {'FeatureGroupName': 'orders-feature-group-28-23-32-42',\n",
       "   'RecordIdentifierValueAsString': '109382',\n",
       "   'Record': [{'FeatureName': 'customer_id', 'ValueAsString': '109382'},\n",
       "    {'FeatureName': 'order_id', 'ValueAsString': '5724'},\n",
       "    {'FeatureName': 'order_status', 'ValueAsString': '0'},\n",
       "    {'FeatureName': 'store_id', 'ValueAsString': '201'},\n",
       "    {'FeatureName': 'EventTime', 'ValueAsString': '1667000392.0'}]},\n",
       "  {'FeatureGroupName': 'orders-feature-group-28-23-32-42',\n",
       "   'RecordIdentifierValueAsString': '124013',\n",
       "   'Record': [{'FeatureName': 'customer_id', 'ValueAsString': '124013'},\n",
       "    {'FeatureName': 'order_id', 'ValueAsString': '6782'},\n",
       "    {'FeatureName': 'order_status', 'ValueAsString': '1'},\n",
       "    {'FeatureName': 'store_id', 'ValueAsString': '213'},\n",
       "    {'FeatureName': 'EventTime', 'ValueAsString': '1667000392.0'}]},\n",
       "  {'FeatureGroupName': 'orders-feature-group-28-23-32-42',\n",
       "   'RecordIdentifierValueAsString': '828400',\n",
       "   'Record': [{'FeatureName': 'customer_id', 'ValueAsString': '828400'},\n",
       "    {'FeatureName': 'order_id', 'ValueAsString': '1942'},\n",
       "    {'FeatureName': 'order_status', 'ValueAsString': '0'},\n",
       "    {'FeatureName': 'store_id', 'ValueAsString': '431'},\n",
       "    {'FeatureName': 'EventTime', 'ValueAsString': '1667000392.0'}]}],\n",
       " 'Errors': [],\n",
       " 'UnprocessedIdentifiers': []}"
      ]
     },
     "execution_count": 56,
     "metadata": {},
     "output_type": "execute_result"
    }
   ],
   "source": [
    "records = sagemaker_session.boto_session.client(\n",
    "    \"sagemaker-featurestore-runtime\", region_name=region\n",
    ").batch_get_record(\n",
    "    Identifiers=[\n",
    "        {\n",
    "            \"FeatureGroupName\": customers_feature_group_name,\n",
    "            \"RecordIdentifiersValueAsString\": [\"573291\", \"109382\", \"828400\", \"124013\"],\n",
    "        },\n",
    "        {\n",
    "            \"FeatureGroupName\": orders_feature_group_name,\n",
    "            \"RecordIdentifiersValueAsString\": [\"573291\", \"109382\", \"828400\", \"124013\"],\n",
    "        },\n",
    "    ]\n",
    ")\n",
    "records"
   ]
  },
  {
   "cell_type": "markdown",
   "metadata": {},
   "source": [
    "### データの削除"
   ]
  },
  {
   "cell_type": "code",
   "execution_count": 63,
   "metadata": {},
   "outputs": [],
   "source": [
    "customer_id = 573291\n",
    "sample_record = sagemaker_session.boto_session.client(\n",
    "    'sagemaker-featurestore-runtime',\n",
    "    region_name=region).delete_record(FeatureGroupName=customers_feature_group_name,\n",
    "                                      RecordIdentifierValueAsString=str(customer_id),\n",
    "                                      EventTime=str(current_time_sec))"
   ]
  },
  {
   "cell_type": "code",
   "execution_count": 64,
   "metadata": {},
   "outputs": [
    {
     "data": {
      "text/plain": [
       "{'ResponseMetadata': {'RequestId': '1b74e23f-f7b6-47f5-8e3a-42bf1388e761',\n",
       "  'HTTPStatusCode': 200,\n",
       "  'HTTPHeaders': {'x-amzn-requestid': '1b74e23f-f7b6-47f5-8e3a-42bf1388e761',\n",
       "   'content-type': 'application/json',\n",
       "   'content-length': '15',\n",
       "   'date': 'Sat, 29 Oct 2022 04:36:31 GMT'},\n",
       "  'RetryAttempts': 0}}"
      ]
     },
     "execution_count": 64,
     "metadata": {},
     "output_type": "execute_result"
    }
   ],
   "source": [
    "customer_id = 573291\n",
    "sagemaker_session.boto_session.client(\n",
    "    'sagemaker-featurestore-runtime',\n",
    "    region_name=region).get_record(FeatureGroupName=customers_feature_group_name,\n",
    "                                   RecordIdentifierValueAsString=str(customer_id))"
   ]
  },
  {
   "cell_type": "markdown",
   "metadata": {},
   "source": [
    "### クエリによるデータの取得"
   ]
  },
  {
   "cell_type": "code",
   "execution_count": 65,
   "metadata": {},
   "outputs": [
    {
     "data": {
      "text/plain": [
       "'customers-feature-group-28-23-32-42-1667000966'"
      ]
     },
     "execution_count": 65,
     "metadata": {},
     "output_type": "execute_result"
    }
   ],
   "source": [
    "customer_query = customers_feature_group.athena_query()\n",
    "customer_table = customer_query.table_name\n",
    "customer_table"
   ]
  },
  {
   "cell_type": "code",
   "execution_count": 66,
   "metadata": {},
   "outputs": [],
   "source": [
    "query_string = f'SELECT * FROM \"{customer_table}\"'\n",
    "customer_query.run(query_string=query_string, output_location=f\"s3://{s3_bucket_name}/query_results/\")\n",
    "customer_query.wait()"
   ]
  },
  {
   "cell_type": "code",
   "execution_count": 67,
   "metadata": {},
   "outputs": [
    {
     "data": {
      "text/html": [
       "<div>\n",
       "<style scoped>\n",
       "    .dataframe tbody tr th:only-of-type {\n",
       "        vertical-align: middle;\n",
       "    }\n",
       "\n",
       "    .dataframe tbody tr th {\n",
       "        vertical-align: top;\n",
       "    }\n",
       "\n",
       "    .dataframe thead th {\n",
       "        text-align: right;\n",
       "    }\n",
       "</style>\n",
       "<table border=\"1\" class=\"dataframe\">\n",
       "  <thead>\n",
       "    <tr style=\"text-align: right;\">\n",
       "      <th></th>\n",
       "      <th>customer_id</th>\n",
       "      <th>city_code</th>\n",
       "      <th>state_code</th>\n",
       "      <th>country_code</th>\n",
       "      <th>eventtime</th>\n",
       "      <th>write_time</th>\n",
       "      <th>api_invocation_time</th>\n",
       "      <th>is_deleted</th>\n",
       "    </tr>\n",
       "  </thead>\n",
       "  <tbody>\n",
       "    <tr>\n",
       "      <th>0</th>\n",
       "      <td>124013</td>\n",
       "      <td>4.0</td>\n",
       "      <td>5.0</td>\n",
       "      <td>2.0</td>\n",
       "      <td>1.667000e+09</td>\n",
       "      <td>2022-10-29 04:36:22.578</td>\n",
       "      <td>2022-10-29 04:31:27.000</td>\n",
       "      <td>False</td>\n",
       "    </tr>\n",
       "    <tr>\n",
       "      <th>1</th>\n",
       "      <td>573291</td>\n",
       "      <td>NaN</td>\n",
       "      <td>NaN</td>\n",
       "      <td>NaN</td>\n",
       "      <td>1.667000e+09</td>\n",
       "      <td>2022-10-29 04:31:32.047</td>\n",
       "      <td>2022-10-29 04:26:33.000</td>\n",
       "      <td>True</td>\n",
       "    </tr>\n",
       "    <tr>\n",
       "      <th>2</th>\n",
       "      <td>573291</td>\n",
       "      <td>NaN</td>\n",
       "      <td>NaN</td>\n",
       "      <td>NaN</td>\n",
       "      <td>1.667000e+09</td>\n",
       "      <td>2022-10-29 04:31:32.047</td>\n",
       "      <td>2022-10-29 04:26:39.000</td>\n",
       "      <td>True</td>\n",
       "    </tr>\n",
       "    <tr>\n",
       "      <th>3</th>\n",
       "      <td>573291</td>\n",
       "      <td>1.0</td>\n",
       "      <td>49.0</td>\n",
       "      <td>2.0</td>\n",
       "      <td>1.667000e+09</td>\n",
       "      <td>2022-10-29 04:31:32.047</td>\n",
       "      <td>2022-10-29 04:31:26.000</td>\n",
       "      <td>False</td>\n",
       "    </tr>\n",
       "    <tr>\n",
       "      <th>4</th>\n",
       "      <td>109382</td>\n",
       "      <td>2.0</td>\n",
       "      <td>40.0</td>\n",
       "      <td>2.0</td>\n",
       "      <td>1.667000e+09</td>\n",
       "      <td>2022-10-29 04:36:24.686</td>\n",
       "      <td>2022-10-29 04:31:27.000</td>\n",
       "      <td>False</td>\n",
       "    </tr>\n",
       "    <tr>\n",
       "      <th>5</th>\n",
       "      <td>828400</td>\n",
       "      <td>3.0</td>\n",
       "      <td>31.0</td>\n",
       "      <td>2.0</td>\n",
       "      <td>1.667000e+09</td>\n",
       "      <td>2022-10-29 04:36:26.783</td>\n",
       "      <td>2022-10-29 04:31:26.000</td>\n",
       "      <td>False</td>\n",
       "    </tr>\n",
       "    <tr>\n",
       "      <th>6</th>\n",
       "      <td>573291</td>\n",
       "      <td>1.0</td>\n",
       "      <td>49.0</td>\n",
       "      <td>2.0</td>\n",
       "      <td>1.667000e+09</td>\n",
       "      <td>2022-10-29 00:29:15.832</td>\n",
       "      <td>2022-10-29 00:24:21.000</td>\n",
       "      <td>False</td>\n",
       "    </tr>\n",
       "    <tr>\n",
       "      <th>7</th>\n",
       "      <td>124013</td>\n",
       "      <td>4.0</td>\n",
       "      <td>5.0</td>\n",
       "      <td>2.0</td>\n",
       "      <td>1.667000e+09</td>\n",
       "      <td>2022-10-29 00:29:15.817</td>\n",
       "      <td>2022-10-29 00:24:22.000</td>\n",
       "      <td>False</td>\n",
       "    </tr>\n",
       "    <tr>\n",
       "      <th>8</th>\n",
       "      <td>828400</td>\n",
       "      <td>3.0</td>\n",
       "      <td>31.0</td>\n",
       "      <td>2.0</td>\n",
       "      <td>1.667000e+09</td>\n",
       "      <td>2022-10-29 00:29:15.835</td>\n",
       "      <td>2022-10-29 00:24:21.000</td>\n",
       "      <td>False</td>\n",
       "    </tr>\n",
       "    <tr>\n",
       "      <th>9</th>\n",
       "      <td>109382</td>\n",
       "      <td>2.0</td>\n",
       "      <td>40.0</td>\n",
       "      <td>2.0</td>\n",
       "      <td>1.667000e+09</td>\n",
       "      <td>2022-10-29 00:29:15.793</td>\n",
       "      <td>2022-10-29 00:24:22.000</td>\n",
       "      <td>False</td>\n",
       "    </tr>\n",
       "  </tbody>\n",
       "</table>\n",
       "</div>"
      ],
      "text/plain": [
       "   customer_id  city_code  state_code  country_code     eventtime  \\\n",
       "0       124013        4.0         5.0           2.0  1.667000e+09   \n",
       "1       573291        NaN         NaN           NaN  1.667000e+09   \n",
       "2       573291        NaN         NaN           NaN  1.667000e+09   \n",
       "3       573291        1.0        49.0           2.0  1.667000e+09   \n",
       "4       109382        2.0        40.0           2.0  1.667000e+09   \n",
       "5       828400        3.0        31.0           2.0  1.667000e+09   \n",
       "6       573291        1.0        49.0           2.0  1.667000e+09   \n",
       "7       124013        4.0         5.0           2.0  1.667000e+09   \n",
       "8       828400        3.0        31.0           2.0  1.667000e+09   \n",
       "9       109382        2.0        40.0           2.0  1.667000e+09   \n",
       "\n",
       "                write_time      api_invocation_time  is_deleted  \n",
       "0  2022-10-29 04:36:22.578  2022-10-29 04:31:27.000       False  \n",
       "1  2022-10-29 04:31:32.047  2022-10-29 04:26:33.000        True  \n",
       "2  2022-10-29 04:31:32.047  2022-10-29 04:26:39.000        True  \n",
       "3  2022-10-29 04:31:32.047  2022-10-29 04:31:26.000       False  \n",
       "4  2022-10-29 04:36:24.686  2022-10-29 04:31:27.000       False  \n",
       "5  2022-10-29 04:36:26.783  2022-10-29 04:31:26.000       False  \n",
       "6  2022-10-29 00:29:15.832  2022-10-29 00:24:21.000       False  \n",
       "7  2022-10-29 00:29:15.817  2022-10-29 00:24:22.000       False  \n",
       "8  2022-10-29 00:29:15.835  2022-10-29 00:24:21.000       False  \n",
       "9  2022-10-29 00:29:15.793  2022-10-29 00:24:22.000       False  "
      ]
     },
     "execution_count": 67,
     "metadata": {},
     "output_type": "execute_result"
    }
   ],
   "source": [
    "customer_query.as_dataframe()"
   ]
  },
  {
   "cell_type": "code",
   "execution_count": 68,
   "metadata": {},
   "outputs": [
    {
     "data": {
      "text/plain": [
       "IngestionManagerPandas(feature_group_name='customers-feature-group-28-23-32-42', sagemaker_fs_runtime_client_config=<botocore.config.Config object at 0x7f72d00d1210>, max_workers=3, max_processes=1, profile_name=None, _async_result=<multiprocess.pool.MapResult object at 0x7f72caa49190>, _processing_pool=<pool ProcessPool(ncpus=1)>, _failed_indices=[])"
      ]
     },
     "execution_count": 68,
     "metadata": {},
     "output_type": "execute_result"
    }
   ],
   "source": [
    "current_time_sec = int(round(time.time()))\n",
    "customer_df[event_time_col] = pd.Series([current_time_sec]*len(customer_df), dtype=\"float64\")\n",
    "customers_feature_group.ingest(\n",
    "    data_frame=customer_df, max_workers=3, wait=True\n",
    ")"
   ]
  },
  {
   "cell_type": "code",
   "execution_count": 69,
   "metadata": {},
   "outputs": [
    {
     "data": {
      "text/html": [
       "<div>\n",
       "<style scoped>\n",
       "    .dataframe tbody tr th:only-of-type {\n",
       "        vertical-align: middle;\n",
       "    }\n",
       "\n",
       "    .dataframe tbody tr th {\n",
       "        vertical-align: top;\n",
       "    }\n",
       "\n",
       "    .dataframe thead th {\n",
       "        text-align: right;\n",
       "    }\n",
       "</style>\n",
       "<table border=\"1\" class=\"dataframe\">\n",
       "  <thead>\n",
       "    <tr style=\"text-align: right;\">\n",
       "      <th></th>\n",
       "      <th>customer_id</th>\n",
       "      <th>city_code</th>\n",
       "      <th>state_code</th>\n",
       "      <th>country_code</th>\n",
       "      <th>eventtime</th>\n",
       "      <th>write_time</th>\n",
       "      <th>api_invocation_time</th>\n",
       "      <th>is_deleted</th>\n",
       "    </tr>\n",
       "  </thead>\n",
       "  <tbody>\n",
       "    <tr>\n",
       "      <th>0</th>\n",
       "      <td>124013</td>\n",
       "      <td>4.0</td>\n",
       "      <td>5.0</td>\n",
       "      <td>2.0</td>\n",
       "      <td>1.667000e+09</td>\n",
       "      <td>2022-10-29 00:29:15.817</td>\n",
       "      <td>2022-10-29 00:24:22.000</td>\n",
       "      <td>False</td>\n",
       "    </tr>\n",
       "    <tr>\n",
       "      <th>1</th>\n",
       "      <td>124013</td>\n",
       "      <td>4.0</td>\n",
       "      <td>5.0</td>\n",
       "      <td>2.0</td>\n",
       "      <td>1.667000e+09</td>\n",
       "      <td>2022-10-29 04:36:22.578</td>\n",
       "      <td>2022-10-29 04:31:27.000</td>\n",
       "      <td>False</td>\n",
       "    </tr>\n",
       "    <tr>\n",
       "      <th>2</th>\n",
       "      <td>573291</td>\n",
       "      <td>NaN</td>\n",
       "      <td>NaN</td>\n",
       "      <td>NaN</td>\n",
       "      <td>1.667000e+09</td>\n",
       "      <td>2022-10-29 04:31:32.047</td>\n",
       "      <td>2022-10-29 04:26:33.000</td>\n",
       "      <td>True</td>\n",
       "    </tr>\n",
       "    <tr>\n",
       "      <th>3</th>\n",
       "      <td>573291</td>\n",
       "      <td>NaN</td>\n",
       "      <td>NaN</td>\n",
       "      <td>NaN</td>\n",
       "      <td>1.667000e+09</td>\n",
       "      <td>2022-10-29 04:31:32.047</td>\n",
       "      <td>2022-10-29 04:26:39.000</td>\n",
       "      <td>True</td>\n",
       "    </tr>\n",
       "    <tr>\n",
       "      <th>4</th>\n",
       "      <td>573291</td>\n",
       "      <td>1.0</td>\n",
       "      <td>49.0</td>\n",
       "      <td>2.0</td>\n",
       "      <td>1.667000e+09</td>\n",
       "      <td>2022-10-29 04:31:32.047</td>\n",
       "      <td>2022-10-29 04:31:26.000</td>\n",
       "      <td>False</td>\n",
       "    </tr>\n",
       "    <tr>\n",
       "      <th>5</th>\n",
       "      <td>828400</td>\n",
       "      <td>3.0</td>\n",
       "      <td>31.0</td>\n",
       "      <td>2.0</td>\n",
       "      <td>1.667000e+09</td>\n",
       "      <td>2022-10-29 04:36:26.783</td>\n",
       "      <td>2022-10-29 04:31:26.000</td>\n",
       "      <td>False</td>\n",
       "    </tr>\n",
       "    <tr>\n",
       "      <th>6</th>\n",
       "      <td>573291</td>\n",
       "      <td>1.0</td>\n",
       "      <td>49.0</td>\n",
       "      <td>2.0</td>\n",
       "      <td>1.667000e+09</td>\n",
       "      <td>2022-10-29 00:29:15.832</td>\n",
       "      <td>2022-10-29 00:24:21.000</td>\n",
       "      <td>False</td>\n",
       "    </tr>\n",
       "    <tr>\n",
       "      <th>7</th>\n",
       "      <td>109382</td>\n",
       "      <td>2.0</td>\n",
       "      <td>40.0</td>\n",
       "      <td>2.0</td>\n",
       "      <td>1.667000e+09</td>\n",
       "      <td>2022-10-29 04:36:24.686</td>\n",
       "      <td>2022-10-29 04:31:27.000</td>\n",
       "      <td>False</td>\n",
       "    </tr>\n",
       "    <tr>\n",
       "      <th>8</th>\n",
       "      <td>109382</td>\n",
       "      <td>2.0</td>\n",
       "      <td>40.0</td>\n",
       "      <td>2.0</td>\n",
       "      <td>1.667000e+09</td>\n",
       "      <td>2022-10-29 00:29:15.793</td>\n",
       "      <td>2022-10-29 00:24:22.000</td>\n",
       "      <td>False</td>\n",
       "    </tr>\n",
       "    <tr>\n",
       "      <th>9</th>\n",
       "      <td>828400</td>\n",
       "      <td>3.0</td>\n",
       "      <td>31.0</td>\n",
       "      <td>2.0</td>\n",
       "      <td>1.667000e+09</td>\n",
       "      <td>2022-10-29 00:29:15.835</td>\n",
       "      <td>2022-10-29 00:24:21.000</td>\n",
       "      <td>False</td>\n",
       "    </tr>\n",
       "  </tbody>\n",
       "</table>\n",
       "</div>"
      ],
      "text/plain": [
       "   customer_id  city_code  state_code  country_code     eventtime  \\\n",
       "0       124013        4.0         5.0           2.0  1.667000e+09   \n",
       "1       124013        4.0         5.0           2.0  1.667000e+09   \n",
       "2       573291        NaN         NaN           NaN  1.667000e+09   \n",
       "3       573291        NaN         NaN           NaN  1.667000e+09   \n",
       "4       573291        1.0        49.0           2.0  1.667000e+09   \n",
       "5       828400        3.0        31.0           2.0  1.667000e+09   \n",
       "6       573291        1.0        49.0           2.0  1.667000e+09   \n",
       "7       109382        2.0        40.0           2.0  1.667000e+09   \n",
       "8       109382        2.0        40.0           2.0  1.667000e+09   \n",
       "9       828400        3.0        31.0           2.0  1.667000e+09   \n",
       "\n",
       "                write_time      api_invocation_time  is_deleted  \n",
       "0  2022-10-29 00:29:15.817  2022-10-29 00:24:22.000       False  \n",
       "1  2022-10-29 04:36:22.578  2022-10-29 04:31:27.000       False  \n",
       "2  2022-10-29 04:31:32.047  2022-10-29 04:26:33.000        True  \n",
       "3  2022-10-29 04:31:32.047  2022-10-29 04:26:39.000        True  \n",
       "4  2022-10-29 04:31:32.047  2022-10-29 04:31:26.000       False  \n",
       "5  2022-10-29 04:36:26.783  2022-10-29 04:31:26.000       False  \n",
       "6  2022-10-29 00:29:15.832  2022-10-29 00:24:21.000       False  \n",
       "7  2022-10-29 04:36:24.686  2022-10-29 04:31:27.000       False  \n",
       "8  2022-10-29 00:29:15.793  2022-10-29 00:24:22.000       False  \n",
       "9  2022-10-29 00:29:15.835  2022-10-29 00:24:21.000       False  "
      ]
     },
     "execution_count": 69,
     "metadata": {},
     "output_type": "execute_result"
    }
   ],
   "source": [
    "customer_query = customers_feature_group.athena_query()\n",
    "customer_query.run(query_string=query_string, output_location=f\"s3://{s3_bucket_name}/query_results/\")\n",
    "customer_query.wait()\n",
    "customer_query.as_dataframe()"
   ]
  },
  {
   "cell_type": "code",
   "execution_count": 70,
   "metadata": {},
   "outputs": [
    {
     "data": {
      "text/html": [
       "<div>\n",
       "<style scoped>\n",
       "    .dataframe tbody tr th:only-of-type {\n",
       "        vertical-align: middle;\n",
       "    }\n",
       "\n",
       "    .dataframe tbody tr th {\n",
       "        vertical-align: top;\n",
       "    }\n",
       "\n",
       "    .dataframe thead th {\n",
       "        text-align: right;\n",
       "    }\n",
       "</style>\n",
       "<table border=\"1\" class=\"dataframe\">\n",
       "  <thead>\n",
       "    <tr style=\"text-align: right;\">\n",
       "      <th></th>\n",
       "      <th>customer_id</th>\n",
       "      <th>city_code</th>\n",
       "      <th>state_code</th>\n",
       "      <th>country_code</th>\n",
       "      <th>eventtime</th>\n",
       "      <th>write_time</th>\n",
       "      <th>api_invocation_time</th>\n",
       "      <th>is_deleted</th>\n",
       "      <th>row_num</th>\n",
       "    </tr>\n",
       "  </thead>\n",
       "  <tbody>\n",
       "    <tr>\n",
       "      <th>0</th>\n",
       "      <td>109382</td>\n",
       "      <td>2</td>\n",
       "      <td>40</td>\n",
       "      <td>2</td>\n",
       "      <td>1.667000e+09</td>\n",
       "      <td>2022-10-29 04:36:24.686</td>\n",
       "      <td>2022-10-29 04:31:27.000</td>\n",
       "      <td>False</td>\n",
       "      <td>1</td>\n",
       "    </tr>\n",
       "    <tr>\n",
       "      <th>1</th>\n",
       "      <td>573291</td>\n",
       "      <td>1</td>\n",
       "      <td>49</td>\n",
       "      <td>2</td>\n",
       "      <td>1.667000e+09</td>\n",
       "      <td>2022-10-29 04:31:32.047</td>\n",
       "      <td>2022-10-29 04:31:26.000</td>\n",
       "      <td>False</td>\n",
       "      <td>1</td>\n",
       "    </tr>\n",
       "    <tr>\n",
       "      <th>2</th>\n",
       "      <td>828400</td>\n",
       "      <td>3</td>\n",
       "      <td>31</td>\n",
       "      <td>2</td>\n",
       "      <td>1.667000e+09</td>\n",
       "      <td>2022-10-29 04:36:26.783</td>\n",
       "      <td>2022-10-29 04:31:26.000</td>\n",
       "      <td>False</td>\n",
       "      <td>1</td>\n",
       "    </tr>\n",
       "    <tr>\n",
       "      <th>3</th>\n",
       "      <td>124013</td>\n",
       "      <td>4</td>\n",
       "      <td>5</td>\n",
       "      <td>2</td>\n",
       "      <td>1.667000e+09</td>\n",
       "      <td>2022-10-29 04:36:22.578</td>\n",
       "      <td>2022-10-29 04:31:27.000</td>\n",
       "      <td>False</td>\n",
       "      <td>1</td>\n",
       "    </tr>\n",
       "  </tbody>\n",
       "</table>\n",
       "</div>"
      ],
      "text/plain": [
       "   customer_id  city_code  state_code  country_code     eventtime  \\\n",
       "0       109382          2          40             2  1.667000e+09   \n",
       "1       573291          1          49             2  1.667000e+09   \n",
       "2       828400          3          31             2  1.667000e+09   \n",
       "3       124013          4           5             2  1.667000e+09   \n",
       "\n",
       "                write_time      api_invocation_time  is_deleted  row_num  \n",
       "0  2022-10-29 04:36:24.686  2022-10-29 04:31:27.000       False        1  \n",
       "1  2022-10-29 04:31:32.047  2022-10-29 04:31:26.000       False        1  \n",
       "2  2022-10-29 04:36:26.783  2022-10-29 04:31:26.000       False        1  \n",
       "3  2022-10-29 04:36:22.578  2022-10-29 04:31:27.000       False        1  "
      ]
     },
     "execution_count": 70,
     "metadata": {},
     "output_type": "execute_result"
    }
   ],
   "source": [
    "query_string = f\"\"\"\n",
    "SELECT *\n",
    "FROM\n",
    "    (SELECT *,\n",
    "         row_number()\n",
    "        OVER (PARTITION BY {record_identifier_feature_name}\n",
    "    ORDER BY {event_time_col} desc, Api_Invocation_Time DESC, write_time DESC) AS row_num\n",
    "    FROM \"{customer_table}\")\n",
    "WHERE row_num = 1;\n",
    "\"\"\"\n",
    "customer_query.run(query_string=query_string, output_location=f\"s3://{s3_bucket_name}/query_results/\")\n",
    "customer_query.wait()\n",
    "customer_query.as_dataframe()"
   ]
  },
  {
   "cell_type": "code",
   "execution_count": 71,
   "metadata": {},
   "outputs": [
    {
     "data": {
      "text/plain": [
       "{'ResponseMetadata': {'RequestId': '817b3f5e-c8c0-449c-888e-3945f3638f78',\n",
       "  'HTTPStatusCode': 200,\n",
       "  'HTTPHeaders': {'x-amzn-requestid': '817b3f5e-c8c0-449c-888e-3945f3638f78',\n",
       "   'content-type': 'application/x-amz-json-1.1',\n",
       "   'content-length': '0',\n",
       "   'date': 'Sat, 29 Oct 2022 04:37:08 GMT'},\n",
       "  'RetryAttempts': 0}}"
      ]
     },
     "execution_count": 71,
     "metadata": {},
     "output_type": "execute_result"
    }
   ],
   "source": [
    "customers_feature_group.update_feature_metadata(\n",
    "    feature_name=\"customer_id\",\n",
    "    description=\"カスタマーの識別番号\",\n",
    ")"
   ]
  },
  {
   "cell_type": "code",
   "execution_count": 72,
   "metadata": {},
   "outputs": [
    {
     "data": {
      "text/plain": [
       "{'FeatureGroupArn': 'arn:aws:sagemaker:us-east-1:980831117329:feature-group/customers-feature-group-28-23-32-42',\n",
       " 'FeatureGroupName': 'customers-feature-group-28-23-32-42',\n",
       " 'FeatureName': 'customer_id',\n",
       " 'FeatureType': 'Integral',\n",
       " 'CreationTime': datetime.datetime(2022, 10, 28, 23, 49, 26, 869000, tzinfo=tzlocal()),\n",
       " 'LastModifiedTime': datetime.datetime(2022, 10, 29, 4, 37, 9, 135000, tzinfo=tzlocal()),\n",
       " 'Description': 'カスタマーの識別番号',\n",
       " 'Parameters': [],\n",
       " 'ResponseMetadata': {'RequestId': '7ab71afa-60e6-4ca5-a011-a8e409dc8778',\n",
       "  'HTTPStatusCode': 200,\n",
       "  'HTTPHeaders': {'x-amzn-requestid': '7ab71afa-60e6-4ca5-a011-a8e409dc8778',\n",
       "   'content-type': 'application/x-amz-json-1.1',\n",
       "   'content-length': '353',\n",
       "   'date': 'Sat, 29 Oct 2022 04:37:17 GMT'},\n",
       "  'RetryAttempts': 0}}"
      ]
     },
     "execution_count": 72,
     "metadata": {},
     "output_type": "execute_result"
    }
   ],
   "source": [
    "customers_feature_group.describe_feature_metadata(feature_name=\"customer_id\")"
   ]
  },
  {
   "cell_type": "code",
   "execution_count": 73,
   "metadata": {},
   "outputs": [
    {
     "data": {
      "text/plain": [
       "{'ResponseMetadata': {'RequestId': '5d08b5f5-2102-435c-8a4e-5a1bbca5d250',\n",
       "  'HTTPStatusCode': 200,\n",
       "  'HTTPHeaders': {'x-amzn-requestid': '5d08b5f5-2102-435c-8a4e-5a1bbca5d250',\n",
       "   'content-type': 'application/x-amz-json-1.1',\n",
       "   'content-length': '0',\n",
       "   'date': 'Sat, 29 Oct 2022 04:37:17 GMT'},\n",
       "  'RetryAttempts': 0}}"
      ]
     },
     "execution_count": 73,
     "metadata": {},
     "output_type": "execute_result"
    }
   ],
   "source": [
    "from sagemaker.feature_store.inputs import FeatureParameter\n",
    "\n",
    "customers_feature_group.update_feature_metadata(\n",
    "    feature_name=\"customer_id\",\n",
    "    parameter_additions=[FeatureParameter(\"idType\", \"primaryKey\")],\n",
    ")"
   ]
  },
  {
   "cell_type": "code",
   "execution_count": 74,
   "metadata": {},
   "outputs": [
    {
     "data": {
      "text/plain": [
       "{'FeatureGroupArn': 'arn:aws:sagemaker:us-east-1:980831117329:feature-group/customers-feature-group-28-23-32-42',\n",
       " 'FeatureGroupName': 'customers-feature-group-28-23-32-42',\n",
       " 'FeatureName': 'customer_id',\n",
       " 'FeatureType': 'Integral',\n",
       " 'CreationTime': datetime.datetime(2022, 10, 28, 23, 49, 26, 869000, tzinfo=tzlocal()),\n",
       " 'LastModifiedTime': datetime.datetime(2022, 10, 29, 4, 37, 18, 2000, tzinfo=tzlocal()),\n",
       " 'Description': 'カスタマーの識別番号',\n",
       " 'Parameters': [{'Key': 'idType', 'Value': 'primaryKey'}],\n",
       " 'ResponseMetadata': {'RequestId': '4bce4467-9009-4f39-b3fd-69a0ee5b23fe',\n",
       "  'HTTPStatusCode': 200,\n",
       "  'HTTPHeaders': {'x-amzn-requestid': '4bce4467-9009-4f39-b3fd-69a0ee5b23fe',\n",
       "   'content-type': 'application/x-amz-json-1.1',\n",
       "   'content-length': '390',\n",
       "   'date': 'Sat, 29 Oct 2022 04:37:18 GMT'},\n",
       "  'RetryAttempts': 0}}"
      ]
     },
     "execution_count": 74,
     "metadata": {},
     "output_type": "execute_result"
    }
   ],
   "source": [
    "customers_feature_group.describe_feature_metadata(feature_name=\"customer_id\")"
   ]
  },
  {
   "cell_type": "code",
   "execution_count": 75,
   "metadata": {},
   "outputs": [
    {
     "data": {
      "text/html": [
       "<div>\n",
       "<style scoped>\n",
       "    .dataframe tbody tr th:only-of-type {\n",
       "        vertical-align: middle;\n",
       "    }\n",
       "\n",
       "    .dataframe tbody tr th {\n",
       "        vertical-align: top;\n",
       "    }\n",
       "\n",
       "    .dataframe thead th {\n",
       "        text-align: right;\n",
       "    }\n",
       "</style>\n",
       "<table border=\"1\" class=\"dataframe\">\n",
       "  <thead>\n",
       "    <tr style=\"text-align: right;\">\n",
       "      <th></th>\n",
       "      <th>customer_id</th>\n",
       "      <th>city_code</th>\n",
       "      <th>state_code</th>\n",
       "      <th>country_code</th>\n",
       "      <th>EventTime</th>\n",
       "    </tr>\n",
       "  </thead>\n",
       "  <tbody>\n",
       "    <tr>\n",
       "      <th>0</th>\n",
       "      <td>573291</td>\n",
       "      <td>5</td>\n",
       "      <td>49</td>\n",
       "      <td>2</td>\n",
       "      <td>1.667018e+09</td>\n",
       "    </tr>\n",
       "    <tr>\n",
       "      <th>1</th>\n",
       "      <td>109382</td>\n",
       "      <td>2</td>\n",
       "      <td>40</td>\n",
       "      <td>2</td>\n",
       "      <td>1.667018e+09</td>\n",
       "    </tr>\n",
       "    <tr>\n",
       "      <th>2</th>\n",
       "      <td>828400</td>\n",
       "      <td>3</td>\n",
       "      <td>31</td>\n",
       "      <td>2</td>\n",
       "      <td>1.667018e+09</td>\n",
       "    </tr>\n",
       "    <tr>\n",
       "      <th>3</th>\n",
       "      <td>124013</td>\n",
       "      <td>4</td>\n",
       "      <td>5</td>\n",
       "      <td>2</td>\n",
       "      <td>1.667018e+09</td>\n",
       "    </tr>\n",
       "  </tbody>\n",
       "</table>\n",
       "</div>"
      ],
      "text/plain": [
       "   customer_id  city_code  state_code  country_code     EventTime\n",
       "0       573291          5          49             2  1.667018e+09\n",
       "1       109382          2          40             2  1.667018e+09\n",
       "2       828400          3          31             2  1.667018e+09\n",
       "3       124013          4           5             2  1.667018e+09"
      ]
     },
     "execution_count": 75,
     "metadata": {},
     "output_type": "execute_result"
    }
   ],
   "source": [
    "customer_df.loc[0, 'city_code'] = 5\n",
    "customer_df"
   ]
  },
  {
   "cell_type": "code",
   "execution_count": 76,
   "metadata": {},
   "outputs": [
    {
     "data": {
      "text/plain": [
       "IngestionManagerPandas(feature_group_name='customers-feature-group-28-23-32-42', sagemaker_fs_runtime_client_config=<botocore.config.Config object at 0x7f72d00d1210>, max_workers=3, max_processes=1, profile_name=None, _async_result=<multiprocess.pool.MapResult object at 0x7f72cab2c7d0>, _processing_pool=<pool ProcessPool(ncpus=1)>, _failed_indices=[])"
      ]
     },
     "execution_count": 76,
     "metadata": {},
     "output_type": "execute_result"
    }
   ],
   "source": [
    "customers_feature_group.ingest(\n",
    "    data_frame=customer_df, max_workers=3, wait=True\n",
    ")"
   ]
  },
  {
   "cell_type": "code",
   "execution_count": 77,
   "metadata": {},
   "outputs": [
    {
     "data": {
      "text/plain": [
       "{'ResponseMetadata': {'RequestId': '03f27d3c-dcd3-41d0-ae01-ee1b6ce7fd07',\n",
       "  'HTTPStatusCode': 200,\n",
       "  'HTTPHeaders': {'x-amzn-requestid': '03f27d3c-dcd3-41d0-ae01-ee1b6ce7fd07',\n",
       "   'content-type': 'application/json',\n",
       "   'content-length': '275',\n",
       "   'date': 'Sat, 29 Oct 2022 04:37:21 GMT'},\n",
       "  'RetryAttempts': 0},\n",
       " 'Record': [{'FeatureName': 'customer_id', 'ValueAsString': '573291'},\n",
       "  {'FeatureName': 'city_code', 'ValueAsString': '5'},\n",
       "  {'FeatureName': 'state_code', 'ValueAsString': '49'},\n",
       "  {'FeatureName': 'country_code', 'ValueAsString': '2'},\n",
       "  {'FeatureName': 'EventTime', 'ValueAsString': '1667018210.0'}]}"
      ]
     },
     "execution_count": 77,
     "metadata": {},
     "output_type": "execute_result"
    }
   ],
   "source": [
    "sagemaker_session.boto_session.client('sagemaker-featurestore-runtime', region_name=region).get_record(FeatureGroupName=customers_feature_group_name, RecordIdentifierValueAsString=str(customer_id))"
   ]
  },
  {
   "cell_type": "code",
   "execution_count": 78,
   "metadata": {},
   "outputs": [
    {
     "data": {
      "text/html": [
       "<div>\n",
       "<style scoped>\n",
       "    .dataframe tbody tr th:only-of-type {\n",
       "        vertical-align: middle;\n",
       "    }\n",
       "\n",
       "    .dataframe tbody tr th {\n",
       "        vertical-align: top;\n",
       "    }\n",
       "\n",
       "    .dataframe thead th {\n",
       "        text-align: right;\n",
       "    }\n",
       "</style>\n",
       "<table border=\"1\" class=\"dataframe\">\n",
       "  <thead>\n",
       "    <tr style=\"text-align: right;\">\n",
       "      <th></th>\n",
       "      <th>customer_id</th>\n",
       "      <th>city_code</th>\n",
       "      <th>state_code</th>\n",
       "      <th>country_code</th>\n",
       "      <th>email</th>\n",
       "      <th>name</th>\n",
       "      <th>EventTime</th>\n",
       "    </tr>\n",
       "  </thead>\n",
       "  <tbody>\n",
       "    <tr>\n",
       "      <th>0</th>\n",
       "      <td>573291</td>\n",
       "      <td>1</td>\n",
       "      <td>49</td>\n",
       "      <td>2</td>\n",
       "      <td>john.lee@gmail.com</td>\n",
       "      <td>John Lee</td>\n",
       "      <td>NaN</td>\n",
       "    </tr>\n",
       "    <tr>\n",
       "      <th>1</th>\n",
       "      <td>109382</td>\n",
       "      <td>2</td>\n",
       "      <td>40</td>\n",
       "      <td>2</td>\n",
       "      <td>olivequil@gmail.com</td>\n",
       "      <td>Olive Quil</td>\n",
       "      <td>NaN</td>\n",
       "    </tr>\n",
       "    <tr>\n",
       "      <th>2</th>\n",
       "      <td>828400</td>\n",
       "      <td>3</td>\n",
       "      <td>31</td>\n",
       "      <td>2</td>\n",
       "      <td>liz.knee@gmail.com</td>\n",
       "      <td>Liz Knee</td>\n",
       "      <td>NaN</td>\n",
       "    </tr>\n",
       "    <tr>\n",
       "      <th>3</th>\n",
       "      <td>124013</td>\n",
       "      <td>4</td>\n",
       "      <td>5</td>\n",
       "      <td>2</td>\n",
       "      <td>eileenbook@gmail.com</td>\n",
       "      <td>Eileen Book</td>\n",
       "      <td>NaN</td>\n",
       "    </tr>\n",
       "  </tbody>\n",
       "</table>\n",
       "</div>"
      ],
      "text/plain": [
       "   customer_id  city_code  state_code  country_code                 email  \\\n",
       "0       573291          1          49             2    john.lee@gmail.com   \n",
       "1       109382          2          40             2   olivequil@gmail.com   \n",
       "2       828400          3          31             2    liz.knee@gmail.com   \n",
       "3       124013          4           5             2  eileenbook@gmail.com   \n",
       "\n",
       "          name  EventTime  \n",
       "0     John Lee        NaN  \n",
       "1   Olive Quil        NaN  \n",
       "2     Liz Knee        NaN  \n",
       "3  Eileen Book        NaN  "
      ]
     },
     "execution_count": 78,
     "metadata": {},
     "output_type": "execute_result"
    }
   ],
   "source": [
    "customer_updated_df = pd.read_csv('s3://machine-learning-workshop/feature-store/feature_store_introduction_customer_updated.csv')\n",
    "current_time_sec = int(round(time.time()))\n",
    "customer_updated_df[event_time_col] = pd.Series([]*len(customer_updated_df), dtype=\"float64\")\n",
    "customer_updated_df"
   ]
  },
  {
   "cell_type": "code",
   "execution_count": 79,
   "metadata": {},
   "outputs": [
    {
     "data": {
      "text/html": [
       "<div>\n",
       "<style scoped>\n",
       "    .dataframe tbody tr th:only-of-type {\n",
       "        vertical-align: middle;\n",
       "    }\n",
       "\n",
       "    .dataframe tbody tr th {\n",
       "        vertical-align: top;\n",
       "    }\n",
       "\n",
       "    .dataframe thead th {\n",
       "        text-align: right;\n",
       "    }\n",
       "</style>\n",
       "<table border=\"1\" class=\"dataframe\">\n",
       "  <thead>\n",
       "    <tr style=\"text-align: right;\">\n",
       "      <th></th>\n",
       "      <th>customer_id</th>\n",
       "      <th>city_code</th>\n",
       "      <th>state_code</th>\n",
       "      <th>country_code</th>\n",
       "      <th>EventTime</th>\n",
       "    </tr>\n",
       "  </thead>\n",
       "  <tbody>\n",
       "    <tr>\n",
       "      <th>0</th>\n",
       "      <td>573291</td>\n",
       "      <td>5</td>\n",
       "      <td>49</td>\n",
       "      <td>2</td>\n",
       "      <td>1.667018e+09</td>\n",
       "    </tr>\n",
       "    <tr>\n",
       "      <th>1</th>\n",
       "      <td>109382</td>\n",
       "      <td>2</td>\n",
       "      <td>40</td>\n",
       "      <td>2</td>\n",
       "      <td>1.667018e+09</td>\n",
       "    </tr>\n",
       "    <tr>\n",
       "      <th>2</th>\n",
       "      <td>828400</td>\n",
       "      <td>3</td>\n",
       "      <td>31</td>\n",
       "      <td>2</td>\n",
       "      <td>1.667018e+09</td>\n",
       "    </tr>\n",
       "    <tr>\n",
       "      <th>3</th>\n",
       "      <td>124013</td>\n",
       "      <td>4</td>\n",
       "      <td>5</td>\n",
       "      <td>2</td>\n",
       "      <td>1.667018e+09</td>\n",
       "    </tr>\n",
       "  </tbody>\n",
       "</table>\n",
       "</div>"
      ],
      "text/plain": [
       "   customer_id  city_code  state_code  country_code     EventTime\n",
       "0       573291          5          49             2  1.667018e+09\n",
       "1       109382          2          40             2  1.667018e+09\n",
       "2       828400          3          31             2  1.667018e+09\n",
       "3       124013          4           5             2  1.667018e+09"
      ]
     },
     "execution_count": 79,
     "metadata": {},
     "output_type": "execute_result"
    }
   ],
   "source": [
    "customer_df"
   ]
  },
  {
   "cell_type": "code",
   "execution_count": 80,
   "metadata": {},
   "outputs": [
    {
     "name": "stderr",
     "output_type": "stream",
     "text": [
      "Failed to ingest row 2: An error occurred (ValidationError) when calling the PutRecord operation: Validation Error: Provided values for Feature(s) [email, name] which do not exist in FeatureGroup [customers-feature-group-28-23-32-42].\n",
      "Failed to ingest row 0: An error occurred (ValidationError) when calling the PutRecord operation: Validation Error: Provided values for Feature(s) [email, name] which do not exist in FeatureGroup [customers-feature-group-28-23-32-42].\n",
      "Failed to ingest row 3: An error occurred (ValidationError) when calling the PutRecord operation: Validation Error: Provided values for Feature(s) [email, name] which do not exist in FeatureGroup [customers-feature-group-28-23-32-42].\n",
      "Failed to ingest row 2 to 4\n",
      "Failed to ingest row 1: An error occurred (ValidationError) when calling the PutRecord operation: Validation Error: Provided values for Feature(s) [email, name] which do not exist in FeatureGroup [customers-feature-group-28-23-32-42].\n",
      "Failed to ingest row 0 to 2\n"
     ]
    },
    {
     "ename": "IngestionError",
     "evalue": "[2, 3, 0, 1] -> Failed to ingest some data into FeatureGroup customers-feature-group-28-23-32-42",
     "output_type": "error",
     "traceback": [
      "\u001b[0;31m---------------------------------------------------------------------------\u001b[0m",
      "\u001b[0;31mIngestionError\u001b[0m                            Traceback (most recent call last)",
      "\u001b[0;32m<ipython-input-80-27a3ccc9ae58>\u001b[0m in \u001b[0;36m<module>\u001b[0;34m\u001b[0m\n\u001b[0;32m----> 1\u001b[0;31m \u001b[0mcustomers_feature_group\u001b[0m\u001b[0;34m.\u001b[0m\u001b[0mingest\u001b[0m\u001b[0;34m(\u001b[0m\u001b[0mdata_frame\u001b[0m\u001b[0;34m=\u001b[0m\u001b[0mcustomer_updated_df\u001b[0m\u001b[0;34m,\u001b[0m \u001b[0mmax_workers\u001b[0m\u001b[0;34m=\u001b[0m\u001b[0;36m3\u001b[0m\u001b[0;34m,\u001b[0m \u001b[0mwait\u001b[0m\u001b[0;34m=\u001b[0m\u001b[0;32mTrue\u001b[0m\u001b[0;34m)\u001b[0m\u001b[0;34m\u001b[0m\u001b[0;34m\u001b[0m\u001b[0m\n\u001b[0m",
      "\u001b[0;32m/opt/conda/lib/python3.7/site-packages/sagemaker/feature_store/feature_group.py\u001b[0m in \u001b[0;36mingest\u001b[0;34m(self, data_frame, max_workers, max_processes, wait, timeout, profile_name)\u001b[0m\n\u001b[1;32m    708\u001b[0m         )\n\u001b[1;32m    709\u001b[0m \u001b[0;34m\u001b[0m\u001b[0m\n\u001b[0;32m--> 710\u001b[0;31m         \u001b[0mmanager\u001b[0m\u001b[0;34m.\u001b[0m\u001b[0mrun\u001b[0m\u001b[0;34m(\u001b[0m\u001b[0mdata_frame\u001b[0m\u001b[0;34m=\u001b[0m\u001b[0mdata_frame\u001b[0m\u001b[0;34m,\u001b[0m \u001b[0mwait\u001b[0m\u001b[0;34m=\u001b[0m\u001b[0mwait\u001b[0m\u001b[0;34m,\u001b[0m \u001b[0mtimeout\u001b[0m\u001b[0;34m=\u001b[0m\u001b[0mtimeout\u001b[0m\u001b[0;34m)\u001b[0m\u001b[0;34m\u001b[0m\u001b[0;34m\u001b[0m\u001b[0m\n\u001b[0m\u001b[1;32m    711\u001b[0m \u001b[0;34m\u001b[0m\u001b[0m\n\u001b[1;32m    712\u001b[0m         \u001b[0;32mreturn\u001b[0m \u001b[0mmanager\u001b[0m\u001b[0;34m\u001b[0m\u001b[0;34m\u001b[0m\u001b[0m\n",
      "\u001b[0;32m/opt/conda/lib/python3.7/site-packages/sagemaker/feature_store/feature_group.py\u001b[0m in \u001b[0;36mrun\u001b[0;34m(self, data_frame, wait, timeout)\u001b[0m\n\u001b[1;32m    385\u001b[0m                 \u001b[0;32mif\u001b[0m \u001b[0mtimeout\u001b[0m \u001b[0;32mis\u001b[0m \u001b[0mreached\u001b[0m\u001b[0;34m.\u001b[0m\u001b[0;34m\u001b[0m\u001b[0;34m\u001b[0m\u001b[0m\n\u001b[1;32m    386\u001b[0m         \"\"\"\n\u001b[0;32m--> 387\u001b[0;31m         \u001b[0mself\u001b[0m\u001b[0;34m.\u001b[0m\u001b[0m_run_multi_process\u001b[0m\u001b[0;34m(\u001b[0m\u001b[0mdata_frame\u001b[0m\u001b[0;34m=\u001b[0m\u001b[0mdata_frame\u001b[0m\u001b[0;34m,\u001b[0m \u001b[0mwait\u001b[0m\u001b[0;34m=\u001b[0m\u001b[0mwait\u001b[0m\u001b[0;34m,\u001b[0m \u001b[0mtimeout\u001b[0m\u001b[0;34m=\u001b[0m\u001b[0mtimeout\u001b[0m\u001b[0;34m)\u001b[0m\u001b[0;34m\u001b[0m\u001b[0;34m\u001b[0m\u001b[0m\n\u001b[0m\u001b[1;32m    388\u001b[0m \u001b[0;34m\u001b[0m\u001b[0m\n\u001b[1;32m    389\u001b[0m \u001b[0;34m\u001b[0m\u001b[0m\n",
      "\u001b[0;32m/opt/conda/lib/python3.7/site-packages/sagemaker/feature_store/feature_group.py\u001b[0m in \u001b[0;36m_run_multi_process\u001b[0;34m(self, data_frame, wait, timeout)\u001b[0m\n\u001b[1;32m    314\u001b[0m \u001b[0;34m\u001b[0m\u001b[0m\n\u001b[1;32m    315\u001b[0m         \u001b[0;32mif\u001b[0m \u001b[0mwait\u001b[0m\u001b[0;34m:\u001b[0m\u001b[0;34m\u001b[0m\u001b[0;34m\u001b[0m\u001b[0m\n\u001b[0;32m--> 316\u001b[0;31m             \u001b[0mself\u001b[0m\u001b[0;34m.\u001b[0m\u001b[0mwait\u001b[0m\u001b[0;34m(\u001b[0m\u001b[0mtimeout\u001b[0m\u001b[0;34m=\u001b[0m\u001b[0mtimeout\u001b[0m\u001b[0;34m)\u001b[0m\u001b[0;34m\u001b[0m\u001b[0;34m\u001b[0m\u001b[0m\n\u001b[0m\u001b[1;32m    317\u001b[0m \u001b[0;34m\u001b[0m\u001b[0m\n\u001b[1;32m    318\u001b[0m     \u001b[0;34m@\u001b[0m\u001b[0mstaticmethod\u001b[0m\u001b[0;34m\u001b[0m\u001b[0;34m\u001b[0m\u001b[0m\n",
      "\u001b[0;32m/opt/conda/lib/python3.7/site-packages/sagemaker/feature_store/feature_group.py\u001b[0m in \u001b[0;36mwait\u001b[0;34m(self, timeout)\u001b[0m\n\u001b[1;32m    271\u001b[0m             raise IngestionError(\n\u001b[1;32m    272\u001b[0m                 \u001b[0mself\u001b[0m\u001b[0;34m.\u001b[0m\u001b[0m_failed_indices\u001b[0m\u001b[0;34m,\u001b[0m\u001b[0;34m\u001b[0m\u001b[0;34m\u001b[0m\u001b[0m\n\u001b[0;32m--> 273\u001b[0;31m                 \u001b[0;34mf\"Failed to ingest some data into FeatureGroup {self.feature_group_name}\"\u001b[0m\u001b[0;34m,\u001b[0m\u001b[0;34m\u001b[0m\u001b[0;34m\u001b[0m\u001b[0m\n\u001b[0m\u001b[1;32m    274\u001b[0m             )\n\u001b[1;32m    275\u001b[0m \u001b[0;34m\u001b[0m\u001b[0m\n",
      "\u001b[0;31mIngestionError\u001b[0m: [2, 3, 0, 1] -> Failed to ingest some data into FeatureGroup customers-feature-group-28-23-32-42"
     ]
    }
   ],
   "source": [
    "customers_feature_group.ingest(data_frame=customer_updated_df, max_workers=3, wait=True)"
   ]
  },
  {
   "cell_type": "code",
   "execution_count": 95,
   "metadata": {},
   "outputs": [],
   "source": [
    "customers_feature_group.delete()"
   ]
  },
  {
   "cell_type": "code",
   "execution_count": 96,
   "metadata": {},
   "outputs": [],
   "source": [
    "orders_feature_group.delete()"
   ]
  },
  {
   "cell_type": "code",
   "execution_count": null,
   "metadata": {},
   "outputs": [],
   "source": []
  }
 ],
 "metadata": {
  "instance_type": "ml.t3.medium",
  "kernelspec": {
   "display_name": "Python 3 (Data Science)",
   "language": "python",
   "name": "python3__SAGEMAKER_INTERNAL__arn:aws:sagemaker:us-east-1:081325390199:image/datascience-1.0"
  },
  "language_info": {
   "codemirror_mode": {
    "name": "ipython",
    "version": 3
   },
   "file_extension": ".py",
   "mimetype": "text/x-python",
   "name": "python",
   "nbconvert_exporter": "python",
   "pygments_lexer": "ipython3",
   "version": "3.7.10"
  }
 },
 "nbformat": 4,
 "nbformat_minor": 4
}
