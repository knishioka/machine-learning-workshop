{
 "cells": [
  {
   "cell_type": "markdown",
   "id": "d58808de",
   "metadata": {},
   "source": [
    "# 概要\n",
    "[PyTorch Tutorial](https://pytorch.org/data/main/tutorial.html) を元にPyTorch DataのDataPipeの使い方を解説。"
   ]
  },
  {
   "cell_type": "code",
   "execution_count": 1,
   "id": "c4713593",
   "metadata": {},
   "outputs": [],
   "source": [
    "import pandas as pd\n",
    "import torchdata.datapipes as dp\n",
    "from torchdata.datapipes.iter import IterDataPipe"
   ]
  },
  {
   "cell_type": "markdown",
   "id": "e9dc3898",
   "metadata": {},
   "source": [
    "## Using DataPipes\n",
    "DataPipeをつなげて使う方法の基本"
   ]
  },
  {
   "cell_type": "code",
   "execution_count": 2,
   "id": "87f8d279",
   "metadata": {},
   "outputs": [
    {
     "name": "stdout",
     "output_type": "stream",
     "text": [
      "a.csv  b.csv  c.csv\r\n"
     ]
    }
   ],
   "source": [
    "ls data/"
   ]
  },
  {
   "cell_type": "code",
   "execution_count": 3,
   "id": "c818f270",
   "metadata": {},
   "outputs": [
    {
     "data": {
      "text/html": [
       "<div>\n",
       "<style scoped>\n",
       "    .dataframe tbody tr th:only-of-type {\n",
       "        vertical-align: middle;\n",
       "    }\n",
       "\n",
       "    .dataframe tbody tr th {\n",
       "        vertical-align: top;\n",
       "    }\n",
       "\n",
       "    .dataframe thead th {\n",
       "        text-align: right;\n",
       "    }\n",
       "</style>\n",
       "<table border=\"1\" class=\"dataframe\">\n",
       "  <thead>\n",
       "    <tr style=\"text-align: right;\">\n",
       "      <th></th>\n",
       "      <th>a</th>\n",
       "      <th>b</th>\n",
       "      <th>c</th>\n",
       "      <th>d</th>\n",
       "    </tr>\n",
       "  </thead>\n",
       "  <tbody>\n",
       "    <tr>\n",
       "      <th>0</th>\n",
       "      <td>3</td>\n",
       "      <td>2</td>\n",
       "      <td>8</td>\n",
       "      <td>7</td>\n",
       "    </tr>\n",
       "    <tr>\n",
       "      <th>1</th>\n",
       "      <td>7</td>\n",
       "      <td>7</td>\n",
       "      <td>5</td>\n",
       "      <td>0</td>\n",
       "    </tr>\n",
       "    <tr>\n",
       "      <th>2</th>\n",
       "      <td>8</td>\n",
       "      <td>3</td>\n",
       "      <td>4</td>\n",
       "      <td>5</td>\n",
       "    </tr>\n",
       "    <tr>\n",
       "      <th>3</th>\n",
       "      <td>0</td>\n",
       "      <td>1</td>\n",
       "      <td>8</td>\n",
       "      <td>4</td>\n",
       "    </tr>\n",
       "    <tr>\n",
       "      <th>4</th>\n",
       "      <td>8</td>\n",
       "      <td>6</td>\n",
       "      <td>0</td>\n",
       "      <td>4</td>\n",
       "    </tr>\n",
       "  </tbody>\n",
       "</table>\n",
       "</div>"
      ],
      "text/plain": [
       "   a  b  c  d\n",
       "0  3  2  8  7\n",
       "1  7  7  5  0\n",
       "2  8  3  4  5\n",
       "3  0  1  8  4\n",
       "4  8  6  0  4"
      ]
     },
     "execution_count": 3,
     "metadata": {},
     "output_type": "execute_result"
    }
   ],
   "source": [
    "# サンプルのCSVファイル\n",
    "pd.read_csv('data/a.csv').head()"
   ]
  },
  {
   "cell_type": "code",
   "execution_count": 4,
   "id": "ec5b0c9d",
   "metadata": {},
   "outputs": [
    {
     "name": "stderr",
     "output_type": "stream",
     "text": [
      "/Users/ken/.pyenv/versions/3.9.7/lib/python3.9/site-packages/torch/utils/data/datapipes/iter/selecting.py:54: UserWarning: Lambda function is not supported for pickle, please use regular python function or functools.partial instead.\n",
      "  warnings.warn(\"Lambda function is not supported for pickle, please use \"\n"
     ]
    },
    {
     "data": {
      "text/plain": [
       "<torch.utils.data.datapipes.iter.selecting.FilterIterDataPipe at 0x12d4ef4c0>"
      ]
     },
     "execution_count": 4,
     "metadata": {},
     "output_type": "execute_result"
    }
   ],
   "source": [
    "# FileListerでファイルのリストを取得する\n",
    "FOLDER = 'data'\n",
    "datapipe = dp.iter.FileLister([FOLDER]).filter(filter_fn=(lambda filename: filename.endswith('.csv')))\n",
    "datapipe"
   ]
  },
  {
   "cell_type": "code",
   "execution_count": 5,
   "id": "f1bddde0",
   "metadata": {},
   "outputs": [
    {
     "data": {
      "text/plain": [
       "['data/a.csv', 'data/b.csv', 'data/c.csv']"
      ]
     },
     "execution_count": 5,
     "metadata": {},
     "output_type": "execute_result"
    }
   ],
   "source": [
    "list(datapipe)"
   ]
  },
  {
   "cell_type": "code",
   "execution_count": 6,
   "id": "6e682bd9",
   "metadata": {},
   "outputs": [
    {
     "data": {
      "text/plain": [
       "<torch.utils.data.datapipes.iter.fileopener.FileOpenerIterDataPipe at 0x12d4ef760>"
      ]
     },
     "execution_count": 6,
     "metadata": {},
     "output_type": "execute_result"
    }
   ],
   "source": [
    "# FileOpenerでファイルを開く\n",
    "# 引数にFileListenerで取得したDataPipeを与えている\n",
    "datapipe = dp.iter.FileOpener(datapipe, mode='rt')\n",
    "datapipe"
   ]
  },
  {
   "cell_type": "code",
   "execution_count": 7,
   "id": "8920cdd3",
   "metadata": {},
   "outputs": [
    {
     "data": {
      "text/plain": [
       "[('data/a.csv',\n",
       "  StreamWrapper<<_io.TextIOWrapper name='data/a.csv' mode='rt' encoding='UTF-8'>>),\n",
       " ('data/b.csv',\n",
       "  StreamWrapper<<_io.TextIOWrapper name='data/b.csv' mode='rt' encoding='UTF-8'>>),\n",
       " ('data/c.csv',\n",
       "  StreamWrapper<<_io.TextIOWrapper name='data/c.csv' mode='rt' encoding='UTF-8'>>)]"
      ]
     },
     "execution_count": 7,
     "metadata": {},
     "output_type": "execute_result"
    }
   ],
   "source": [
    "# (ファイル名, TextIO, StreamWrapper) というtupleで構成されたイテレータが返ってくる\n",
    "list(datapipe)"
   ]
  },
  {
   "cell_type": "code",
   "execution_count": 8,
   "id": "fc2f2eed",
   "metadata": {},
   "outputs": [
    {
     "data": {
      "text/plain": [
       "'a,b,c,d\\n3,2,8,7\\n7,7,5,0\\n8,3,4,5\\n0,1,8,4\\n8,6,0,4\\n7,0,6,2\\n7,4,5,5\\n9,6,0,2\\n9,9,8,8\\n'"
      ]
     },
     "execution_count": 8,
     "metadata": {},
     "output_type": "execute_result"
    }
   ],
   "source": [
    "# StreamWrapperからファイルの内容を取得できる\n",
    "sw = list(datapipe)[0][1]\n",
    "sw.read()"
   ]
  },
  {
   "cell_type": "code",
   "execution_count": 9,
   "id": "fac01d6b",
   "metadata": {},
   "outputs": [
    {
     "data": {
      "text/plain": [
       "<torchdata.datapipes.iter.util.plain_text_reader.CSVParserIterDataPipe at 0x12d50ebb0>"
      ]
     },
     "execution_count": 9,
     "metadata": {},
     "output_type": "execute_result"
    }
   ],
   "source": [
    "# parse_csvメソッドでCSVをパース\n",
    "datapipe_csv = datapipe.parse_csv(delimiter=',')\n",
    "datapipe_csv"
   ]
  },
  {
   "cell_type": "code",
   "execution_count": 10,
   "id": "42769a6e",
   "metadata": {},
   "outputs": [
    {
     "data": {
      "text/plain": [
       "[['a', 'b', 'c', 'd'],\n",
       " ['3', '2', '8', '7'],\n",
       " ['7', '7', '5', '0'],\n",
       " ['8', '3', '4', '5'],\n",
       " ['0', '1', '8', '4'],\n",
       " ['8', '6', '0', '4'],\n",
       " ['7', '0', '6', '2'],\n",
       " ['7', '4', '5', '5'],\n",
       " ['9', '6', '0', '2'],\n",
       " ['9', '9', '8', '8'],\n",
       " ['a', 'b', 'c', 'd'],\n",
       " ['7', '4', '7', '4'],\n",
       " ['5', '8', '5', '6'],\n",
       " ['6', '8', '4', '5'],\n",
       " ['6', '7', '7', '7'],\n",
       " ['9', '3', '2', '1'],\n",
       " ['1', '9', '3', '5'],\n",
       " ['2', '1', '7', '2'],\n",
       " ['4', '4', '2', '6'],\n",
       " ['8', '2', '1', '6'],\n",
       " ['a', 'b', 'c', 'd'],\n",
       " ['1', '1', '2', '8'],\n",
       " ['9', '9', '9', '3'],\n",
       " ['4', '4', '1', '3'],\n",
       " ['8', '5', '5', '8'],\n",
       " ['9', '6', '3', '5'],\n",
       " ['9', '3', '9', '8'],\n",
       " ['7', '6', '7', '6'],\n",
       " ['7', '2', '5', '1'],\n",
       " ['9', '3', '7', '3']]"
      ]
     },
     "execution_count": 10,
     "metadata": {},
     "output_type": "execute_result"
    }
   ],
   "source": [
    "list(datapipe_csv)"
   ]
  },
  {
   "cell_type": "code",
   "execution_count": 11,
   "id": "d2acf911",
   "metadata": {},
   "outputs": [],
   "source": [
    "# parse_csvはCSVParserをDataPipeに登録したものなので、CSVParserを使ってもできる\n",
    "datapipe_with_csv_parser = dp.iter.CSVParser(datapipe, delimiter=',')"
   ]
  },
  {
   "cell_type": "code",
   "execution_count": 12,
   "id": "7d66d1bf",
   "metadata": {},
   "outputs": [
    {
     "data": {
      "text/plain": [
       "[['a', 'b', 'c', 'd'],\n",
       " ['3', '2', '8', '7'],\n",
       " ['7', '7', '5', '0'],\n",
       " ['8', '3', '4', '5'],\n",
       " ['0', '1', '8', '4'],\n",
       " ['8', '6', '0', '4'],\n",
       " ['7', '0', '6', '2'],\n",
       " ['7', '4', '5', '5'],\n",
       " ['9', '6', '0', '2'],\n",
       " ['9', '9', '8', '8'],\n",
       " ['a', 'b', 'c', 'd'],\n",
       " ['7', '4', '7', '4'],\n",
       " ['5', '8', '5', '6'],\n",
       " ['6', '8', '4', '5'],\n",
       " ['6', '7', '7', '7'],\n",
       " ['9', '3', '2', '1'],\n",
       " ['1', '9', '3', '5'],\n",
       " ['2', '1', '7', '2'],\n",
       " ['4', '4', '2', '6'],\n",
       " ['8', '2', '1', '6'],\n",
       " ['a', 'b', 'c', 'd'],\n",
       " ['1', '1', '2', '8'],\n",
       " ['9', '9', '9', '3'],\n",
       " ['4', '4', '1', '3'],\n",
       " ['8', '5', '5', '8'],\n",
       " ['9', '6', '3', '5'],\n",
       " ['9', '3', '9', '8'],\n",
       " ['7', '6', '7', '6'],\n",
       " ['7', '2', '5', '1'],\n",
       " ['9', '3', '7', '3']]"
      ]
     },
     "execution_count": 12,
     "metadata": {},
     "output_type": "execute_result"
    }
   ],
   "source": [
    "list(datapipe_with_csv_parser)"
   ]
  },
  {
   "cell_type": "markdown",
   "id": "ccd91759",
   "metadata": {},
   "source": [
    "## Working with DataLoader\n",
    "DataPipeのDataLoaderへの渡し方。"
   ]
  },
  {
   "cell_type": "code",
   "execution_count": 13,
   "id": "ada14e7f",
   "metadata": {},
   "outputs": [],
   "source": [
    "# 1個のlabel、num_features個(defaultは20)のfeature、labelとfeatureは0 ~ 9の整数となるデータnum_rows行(defaultは5000行)を生成する関数。\n",
    "# sample_data{file_label}.csvというファイルに保存される\n",
    "import csv\n",
    "import random\n",
    "\n",
    "def generate_csv(file_label, num_rows: int = 5000, num_features: int = 20) -> None:\n",
    "    fieldnames = [\"label\"] + [f\"c{i}\" for i in range(num_features)]\n",
    "    writer = csv.DictWriter(\n",
    "        open(f\"sample_data{file_label}.csv\", \"w\"), fieldnames=fieldnames\n",
    "    )\n",
    "    writer.writeheader()\n",
    "    for i in range(num_rows):\n",
    "        row_data = {col: random.random() for col in fieldnames}\n",
    "        row_data[\"label\"] = random.randint(0, 9)\n",
    "        writer.writerow(row_data)"
   ]
  },
  {
   "cell_type": "code",
   "execution_count": 14,
   "id": "c1d242dc",
   "metadata": {},
   "outputs": [],
   "source": [
    "# sample_data*.csvというファイルをFileListerでリストし、FileOpenerで開き、parse_csvでCSVをparseし、\n",
    "# mapにより、labelとdataに分割する関数。\n",
    "# DataPipeを返す。\n",
    "\n",
    "import numpy as np\n",
    "import torchdata.datapipes as dp\n",
    "\n",
    "def build_datapipes(root_dir=\".\"):\n",
    "    datapipe = dp.iter.FileLister(root_dir)\n",
    "    datapipe = datapipe.filter(\n",
    "        filter_fn=(\n",
    "            lambda filename: \"sample_data\" in filename and filename.endswith(\".csv\")\n",
    "        )\n",
    "    )\n",
    "    datapipe = dp.iter.FileOpener(datapipe, mode=\"rt\")\n",
    "    datapipe = datapipe.parse_csv(delimiter=\",\", skip_lines=1)\n",
    "    datapipe = datapipe.map(\n",
    "        lambda row: {\n",
    "            \"label\": np.array(row[0], np.int32),\n",
    "            \"data\": np.array(row[1:], dtype=np.float64),\n",
    "        }\n",
    "    )\n",
    "    return datapipe"
   ]
  },
  {
   "cell_type": "code",
   "execution_count": 15,
   "id": "05eca588",
   "metadata": {},
   "outputs": [],
   "source": [
    "# ファイルを生成\n",
    "num_files_to_generate = 3\n",
    "for i in range(num_files_to_generate):\n",
    "    generate_csv(file_label=i, num_rows=10, num_features=3)"
   ]
  },
  {
   "cell_type": "code",
   "execution_count": 16,
   "id": "9d4eeb19",
   "metadata": {},
   "outputs": [
    {
     "name": "stdout",
     "output_type": "stream",
     "text": [
      "sample_data0.csv  sample_data1.csv  sample_data2.csv\r\n"
     ]
    }
   ],
   "source": [
    "ls sample* # 3つのファイルが作成されている"
   ]
  },
  {
   "cell_type": "code",
   "execution_count": 17,
   "id": "942de011",
   "metadata": {},
   "outputs": [
    {
     "data": {
      "text/plain": [
       "(10, 4)"
      ]
     },
     "execution_count": 17,
     "metadata": {},
     "output_type": "execute_result"
    }
   ],
   "source": [
    "# 10行4列のデータが存在\n",
    "pd.read_csv(\"sample_data0.csv\").shape"
   ]
  },
  {
   "cell_type": "code",
   "execution_count": 18,
   "id": "54d05633",
   "metadata": {},
   "outputs": [
    {
     "data": {
      "text/html": [
       "<div>\n",
       "<style scoped>\n",
       "    .dataframe tbody tr th:only-of-type {\n",
       "        vertical-align: middle;\n",
       "    }\n",
       "\n",
       "    .dataframe tbody tr th {\n",
       "        vertical-align: top;\n",
       "    }\n",
       "\n",
       "    .dataframe thead th {\n",
       "        text-align: right;\n",
       "    }\n",
       "</style>\n",
       "<table border=\"1\" class=\"dataframe\">\n",
       "  <thead>\n",
       "    <tr style=\"text-align: right;\">\n",
       "      <th></th>\n",
       "      <th>label</th>\n",
       "      <th>c0</th>\n",
       "      <th>c1</th>\n",
       "      <th>c2</th>\n",
       "    </tr>\n",
       "  </thead>\n",
       "  <tbody>\n",
       "    <tr>\n",
       "      <th>0</th>\n",
       "      <td>2</td>\n",
       "      <td>0.411509</td>\n",
       "      <td>0.089731</td>\n",
       "      <td>0.151847</td>\n",
       "    </tr>\n",
       "    <tr>\n",
       "      <th>1</th>\n",
       "      <td>1</td>\n",
       "      <td>0.534293</td>\n",
       "      <td>0.877951</td>\n",
       "      <td>0.164484</td>\n",
       "    </tr>\n",
       "    <tr>\n",
       "      <th>2</th>\n",
       "      <td>5</td>\n",
       "      <td>0.772742</td>\n",
       "      <td>0.544814</td>\n",
       "      <td>0.025273</td>\n",
       "    </tr>\n",
       "    <tr>\n",
       "      <th>3</th>\n",
       "      <td>2</td>\n",
       "      <td>0.289256</td>\n",
       "      <td>0.841444</td>\n",
       "      <td>0.164631</td>\n",
       "    </tr>\n",
       "    <tr>\n",
       "      <th>4</th>\n",
       "      <td>1</td>\n",
       "      <td>0.287817</td>\n",
       "      <td>0.998701</td>\n",
       "      <td>0.249298</td>\n",
       "    </tr>\n",
       "  </tbody>\n",
       "</table>\n",
       "</div>"
      ],
      "text/plain": [
       "   label        c0        c1        c2\n",
       "0      2  0.411509  0.089731  0.151847\n",
       "1      1  0.534293  0.877951  0.164484\n",
       "2      5  0.772742  0.544814  0.025273\n",
       "3      2  0.289256  0.841444  0.164631\n",
       "4      1  0.287817  0.998701  0.249298"
      ]
     },
     "execution_count": 18,
     "metadata": {},
     "output_type": "execute_result"
    }
   ],
   "source": [
    "# labelとc0~c3のfeatureのデータ\n",
    "pd.read_csv(\"sample_data0.csv\").head()"
   ]
  },
  {
   "cell_type": "code",
   "execution_count": 19,
   "id": "0a3e04b3",
   "metadata": {},
   "outputs": [
    {
     "name": "stderr",
     "output_type": "stream",
     "text": [
      "/Users/ken/.pyenv/versions/3.9.7/lib/python3.9/site-packages/torch/utils/data/datapipes/iter/selecting.py:54: UserWarning: Lambda function is not supported for pickle, please use regular python function or functools.partial instead.\n",
      "  warnings.warn(\"Lambda function is not supported for pickle, please use \"\n",
      "/Users/ken/.pyenv/versions/3.9.7/lib/python3.9/site-packages/torch/utils/data/datapipes/utils/common.py:24: UserWarning: Lambda function is not supported for pickle, please use regular python function or functools.partial instead.\n",
      "  warnings.warn(\n"
     ]
    }
   ],
   "source": [
    "# datapipeを作成\n",
    "datapipe = build_datapipes()"
   ]
  },
  {
   "cell_type": "code",
   "execution_count": 20,
   "id": "4e49e33f",
   "metadata": {},
   "outputs": [
    {
     "data": {
      "text/plain": [
       "<torch.utils.data.dataloader.DataLoader at 0x12d524d60>"
      ]
     },
     "execution_count": 20,
     "metadata": {},
     "output_type": "execute_result"
    }
   ],
   "source": [
    "# DataLoaderにはdataset=datapipeで渡せば良い\n",
    "from torch.utils.data import DataLoader\n",
    "\n",
    "dl = DataLoader(dataset=datapipe, batch_size=50, shuffle=True)\n",
    "dl"
   ]
  },
  {
   "cell_type": "code",
   "execution_count": 21,
   "id": "f28d4933",
   "metadata": {},
   "outputs": [
    {
     "data": {
      "text/plain": [
       "{'label': tensor([2, 1, 5, 2, 1, 0, 3, 4, 9, 2, 6, 4, 6, 8, 1, 4, 5, 8, 3, 0, 9, 5, 7, 3,\n",
       "         9, 8, 2, 7, 5, 7], dtype=torch.int32),\n",
       " 'data': tensor([[0.4115, 0.0897, 0.1518],\n",
       "         [0.5343, 0.8780, 0.1645],\n",
       "         [0.7727, 0.5448, 0.0253],\n",
       "         [0.2893, 0.8414, 0.1646],\n",
       "         [0.2878, 0.9987, 0.2493],\n",
       "         [0.8975, 0.2730, 0.2066],\n",
       "         [0.2429, 0.1378, 0.5813],\n",
       "         [0.3795, 0.9935, 0.3914],\n",
       "         [0.7206, 0.1795, 0.3394],\n",
       "         [0.4527, 0.1677, 0.7876],\n",
       "         [0.4920, 0.1908, 0.6641],\n",
       "         [0.6943, 0.6721, 0.0710],\n",
       "         [0.9745, 0.6595, 0.6428],\n",
       "         [0.4184, 0.6974, 0.3108],\n",
       "         [0.4663, 0.2757, 0.9421],\n",
       "         [0.4060, 0.4092, 0.4178],\n",
       "         [0.2787, 0.9335, 0.9715],\n",
       "         [0.3401, 0.6360, 0.7720],\n",
       "         [0.6377, 0.2902, 0.2166],\n",
       "         [0.4633, 0.1607, 0.6943],\n",
       "         [0.6654, 0.2164, 0.6375],\n",
       "         [0.1918, 0.0659, 0.5253],\n",
       "         [0.5968, 0.0169, 0.0211],\n",
       "         [0.6368, 0.4482, 0.7481],\n",
       "         [0.0920, 0.8000, 0.1946],\n",
       "         [0.2339, 0.2259, 0.6764],\n",
       "         [0.2332, 0.4548, 0.1853],\n",
       "         [0.4416, 0.0827, 0.6299],\n",
       "         [0.2104, 0.4168, 0.0108],\n",
       "         [0.2801, 0.8340, 0.9020]], dtype=torch.float64)}"
      ]
     },
     "execution_count": 21,
     "metadata": {},
     "output_type": "execute_result"
    }
   ],
   "source": [
    "first = next(iter(dl))\n",
    "first"
   ]
  },
  {
   "cell_type": "code",
   "execution_count": 22,
   "id": "181dad27",
   "metadata": {},
   "outputs": [],
   "source": [
    "labels, features = first[\"label\"], first[\"data\"]"
   ]
  },
  {
   "cell_type": "code",
   "execution_count": 23,
   "id": "03a2c692",
   "metadata": {},
   "outputs": [
    {
     "name": "stdout",
     "output_type": "stream",
     "text": [
      "Labels batch shape: torch.Size([30])\n",
      "Feature batch shape: torch.Size([30, 3])\n"
     ]
    }
   ],
   "source": [
    "print(f\"Labels batch shape: {labels.size()}\")\n",
    "print(f\"Feature batch shape: {features.size()}\")"
   ]
  },
  {
   "cell_type": "markdown",
   "id": "cbb9b159",
   "metadata": {},
   "source": [
    "## Implementing a Custom DataPipe\n",
    "独自のDataPipeを作成する。\n",
    "\n",
    "命名規則は\"Operation\"-eｒ + IterDataPipe or MapDataPipe。エイリアスではIterDataPipeとMapDataPipeは取り除く。\n",
    "\n",
    "この例では、 `MapperIterDataPipe` を作る。"
   ]
  },
  {
   "cell_type": "code",
   "execution_count": 24,
   "id": "3a0c387b",
   "metadata": {},
   "outputs": [],
   "source": [
    "# IterDataPipeを継承して、MapperIterDataPipeを作成。\n",
    "from torchdata.datapipes import functional_datapipe\n",
    "from torchdata.datapipes.iter import IterDataPipe\n",
    "\n",
    "\n",
    "@functional_datapipe(\"new_map\")   # DataPipeにmapメソッドを登録\n",
    "class MapperIterDataPipe(IterDataPipe):\n",
    "    def __init__(self, source_dp: IterDataPipe, fn) -> None:\n",
    "        super().__init__()\n",
    "        self.dp = source_dp\n",
    "        self.fn = fn   # 関数により変換を加える\n",
    "\n",
    "    def __iter__(self):\n",
    "        for d in self.dp:\n",
    "            yield self.fn(d[\"data\"])   # 変換を加えたあとのiteratorを作成\n",
    "\n",
    "    def __len__(self):   # DataPipeの長さを返す\n",
    "        return len(self.dp)"
   ]
  },
  {
   "cell_type": "code",
   "execution_count": 25,
   "id": "7f4c5b0b",
   "metadata": {},
   "outputs": [],
   "source": [
    "# MaapperIterDataPipe内で実行したい関数を定義\n",
    "def decoder(x):\n",
    "    return x*2"
   ]
  },
  {
   "cell_type": "code",
   "execution_count": 26,
   "id": "6931031a",
   "metadata": {},
   "outputs": [
    {
     "data": {
      "text/plain": [
       "[{'label': array(2, dtype=int32),\n",
       "  'data': array([0.41150948, 0.08973145, 0.15184653])},\n",
       " {'label': array(1, dtype=int32),\n",
       "  'data': array([0.53429336, 0.87795149, 0.16448412])},\n",
       " {'label': array(5, dtype=int32),\n",
       "  'data': array([0.77274194, 0.54481436, 0.02527348])},\n",
       " {'label': array(2, dtype=int32),\n",
       "  'data': array([0.2892562 , 0.84144434, 0.16463116])},\n",
       " {'label': array(1, dtype=int32),\n",
       "  'data': array([0.28781748, 0.9987013 , 0.24929841])},\n",
       " {'label': array(0, dtype=int32),\n",
       "  'data': array([0.8974815 , 0.27295833, 0.20664081])},\n",
       " {'label': array(3, dtype=int32),\n",
       "  'data': array([0.24289124, 0.13775199, 0.58130367])},\n",
       " {'label': array(4, dtype=int32),\n",
       "  'data': array([0.37947377, 0.99350872, 0.391429  ])},\n",
       " {'label': array(9, dtype=int32),\n",
       "  'data': array([0.72064325, 0.17954854, 0.33941531])},\n",
       " {'label': array(2, dtype=int32),\n",
       "  'data': array([0.45265091, 0.16765636, 0.78756425])},\n",
       " {'label': array(6, dtype=int32),\n",
       "  'data': array([0.49195699, 0.19082781, 0.66414669])},\n",
       " {'label': array(4, dtype=int32),\n",
       "  'data': array([0.69432029, 0.67209432, 0.0709538 ])},\n",
       " {'label': array(6, dtype=int32),\n",
       "  'data': array([0.97445404, 0.65953073, 0.64282397])},\n",
       " {'label': array(8, dtype=int32),\n",
       "  'data': array([0.41841746, 0.69736634, 0.31080012])},\n",
       " {'label': array(1, dtype=int32),\n",
       "  'data': array([0.46632625, 0.27573202, 0.94212617])},\n",
       " {'label': array(4, dtype=int32),\n",
       "  'data': array([0.40598196, 0.40916598, 0.41776559])},\n",
       " {'label': array(5, dtype=int32),\n",
       "  'data': array([0.27866348, 0.93346023, 0.97147993])},\n",
       " {'label': array(8, dtype=int32),\n",
       "  'data': array([0.34013085, 0.63599308, 0.77196997])},\n",
       " {'label': array(3, dtype=int32),\n",
       "  'data': array([0.63768801, 0.29020419, 0.21663462])},\n",
       " {'label': array(0, dtype=int32),\n",
       "  'data': array([0.46331689, 0.16065623, 0.69429313])},\n",
       " {'label': array(9, dtype=int32),\n",
       "  'data': array([0.66543966, 0.21637418, 0.63747645])},\n",
       " {'label': array(5, dtype=int32),\n",
       "  'data': array([0.19180128, 0.06592927, 0.52532007])},\n",
       " {'label': array(7, dtype=int32),\n",
       "  'data': array([0.59682296, 0.01687839, 0.02105027])},\n",
       " {'label': array(3, dtype=int32),\n",
       "  'data': array([0.63684703, 0.44821002, 0.74812568])},\n",
       " {'label': array(9, dtype=int32),\n",
       "  'data': array([0.09201469, 0.79999117, 0.19464946])},\n",
       " {'label': array(8, dtype=int32),\n",
       "  'data': array([0.23394162, 0.22592828, 0.67642616])},\n",
       " {'label': array(2, dtype=int32),\n",
       "  'data': array([0.23322383, 0.45475017, 0.1853275 ])},\n",
       " {'label': array(7, dtype=int32),\n",
       "  'data': array([0.44162414, 0.08271539, 0.62986558])},\n",
       " {'label': array(5, dtype=int32),\n",
       "  'data': array([0.21039044, 0.41675723, 0.010849  ])},\n",
       " {'label': array(7, dtype=int32),\n",
       "  'data': array([0.28008356, 0.83402798, 0.90204626])}]"
      ]
     },
     "execution_count": 26,
     "metadata": {},
     "output_type": "execute_result"
    }
   ],
   "source": [
    "datapipe = build_datapipes()\n",
    "list(datapipe)"
   ]
  },
  {
   "cell_type": "code",
   "execution_count": 27,
   "id": "e84495cf",
   "metadata": {},
   "outputs": [
    {
     "data": {
      "text/plain": [
       "[array([0.82301896, 0.1794629 , 0.30369307]),\n",
       " array([1.06858672, 1.75590297, 0.32896825]),\n",
       " array([1.54548389, 1.08962872, 0.05054696]),\n",
       " array([0.5785124 , 1.68288869, 0.32926233]),\n",
       " array([0.57563495, 1.9974026 , 0.49859681]),\n",
       " array([1.794963  , 0.54591666, 0.41328163]),\n",
       " array([0.48578248, 0.27550397, 1.16260735]),\n",
       " array([0.75894754, 1.98701744, 0.782858  ]),\n",
       " array([1.4412865 , 0.35909708, 0.67883062]),\n",
       " array([0.90530181, 0.33531271, 1.5751285 ]),\n",
       " array([0.98391398, 0.38165563, 1.32829339]),\n",
       " array([1.38864058, 1.34418865, 0.14190761]),\n",
       " array([1.94890809, 1.31906146, 1.28564795]),\n",
       " array([0.83683492, 1.39473268, 0.62160024]),\n",
       " array([0.9326525 , 0.55146405, 1.88425235]),\n",
       " array([0.81196392, 0.81833195, 0.83553118]),\n",
       " array([0.55732696, 1.86692046, 1.94295986]),\n",
       " array([0.6802617 , 1.27198617, 1.54393995]),\n",
       " array([1.27537602, 0.58040838, 0.43326925]),\n",
       " array([0.92663378, 0.32131246, 1.38858627]),\n",
       " array([1.33087933, 0.43274836, 1.27495289]),\n",
       " array([0.38360256, 0.13185853, 1.05064014]),\n",
       " array([1.19364592, 0.03375678, 0.04210054]),\n",
       " array([1.27369407, 0.89642004, 1.49625137]),\n",
       " array([0.18402938, 1.59998234, 0.38929893]),\n",
       " array([0.46788323, 0.45185657, 1.35285231]),\n",
       " array([0.46644767, 0.90950033, 0.37065501]),\n",
       " array([0.88324828, 0.16543078, 1.25973116]),\n",
       " array([0.42078087, 0.83351447, 0.021698  ]),\n",
       " array([0.56016712, 1.66805596, 1.80409251])]"
      ]
     },
     "execution_count": 27,
     "metadata": {},
     "output_type": "execute_result"
    }
   ],
   "source": [
    "list(datapipe.new_map(fn=decoder))"
   ]
  }
 ],
 "metadata": {
  "kernelspec": {
   "display_name": "Python 3 (ipykernel)",
   "language": "python",
   "name": "python3"
  },
  "language_info": {
   "codemirror_mode": {
    "name": "ipython",
    "version": 3
   },
   "file_extension": ".py",
   "mimetype": "text/x-python",
   "name": "python",
   "nbconvert_exporter": "python",
   "pygments_lexer": "ipython3",
   "version": "3.9.7"
  }
 },
 "nbformat": 4,
 "nbformat_minor": 5
}
