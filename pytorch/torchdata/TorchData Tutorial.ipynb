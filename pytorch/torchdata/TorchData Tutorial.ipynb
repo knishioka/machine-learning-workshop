{
 "cells": [
  {
   "cell_type": "markdown",
   "id": "d58808de",
   "metadata": {},
   "source": [
    "# 概要\n",
    "[PyTorch Tutorial](https://pytorch.org/data/main/tutorial.html) を元にPyTorch DataのDataPipeの使い方を解説。"
   ]
  },
  {
   "cell_type": "code",
   "execution_count": 1,
   "id": "c4713593",
   "metadata": {},
   "outputs": [],
   "source": [
    "import pandas as pd\n",
    "import torchdata.datapipes as dp"
   ]
  },
  {
   "cell_type": "markdown",
   "id": "e9dc3898",
   "metadata": {},
   "source": [
    "## Using DataPipes\n",
    "DataPipeをつなげて使う方法の基本"
   ]
  },
  {
   "cell_type": "code",
   "execution_count": 2,
   "id": "87f8d279",
   "metadata": {},
   "outputs": [
    {
     "name": "stdout",
     "output_type": "stream",
     "text": [
      "a.csv  b.csv  c.csv\r\n"
     ]
    }
   ],
   "source": [
    "ls data/"
   ]
  },
  {
   "cell_type": "code",
   "execution_count": 3,
   "id": "c818f270",
   "metadata": {},
   "outputs": [
    {
     "data": {
      "text/html": [
       "<div>\n",
       "<style scoped>\n",
       "    .dataframe tbody tr th:only-of-type {\n",
       "        vertical-align: middle;\n",
       "    }\n",
       "\n",
       "    .dataframe tbody tr th {\n",
       "        vertical-align: top;\n",
       "    }\n",
       "\n",
       "    .dataframe thead th {\n",
       "        text-align: right;\n",
       "    }\n",
       "</style>\n",
       "<table border=\"1\" class=\"dataframe\">\n",
       "  <thead>\n",
       "    <tr style=\"text-align: right;\">\n",
       "      <th></th>\n",
       "      <th>a</th>\n",
       "      <th>b</th>\n",
       "      <th>c</th>\n",
       "      <th>d</th>\n",
       "    </tr>\n",
       "  </thead>\n",
       "  <tbody>\n",
       "    <tr>\n",
       "      <th>0</th>\n",
       "      <td>3</td>\n",
       "      <td>2</td>\n",
       "      <td>8</td>\n",
       "      <td>7</td>\n",
       "    </tr>\n",
       "    <tr>\n",
       "      <th>1</th>\n",
       "      <td>7</td>\n",
       "      <td>7</td>\n",
       "      <td>5</td>\n",
       "      <td>0</td>\n",
       "    </tr>\n",
       "    <tr>\n",
       "      <th>2</th>\n",
       "      <td>8</td>\n",
       "      <td>3</td>\n",
       "      <td>4</td>\n",
       "      <td>5</td>\n",
       "    </tr>\n",
       "    <tr>\n",
       "      <th>3</th>\n",
       "      <td>0</td>\n",
       "      <td>1</td>\n",
       "      <td>8</td>\n",
       "      <td>4</td>\n",
       "    </tr>\n",
       "    <tr>\n",
       "      <th>4</th>\n",
       "      <td>8</td>\n",
       "      <td>6</td>\n",
       "      <td>0</td>\n",
       "      <td>4</td>\n",
       "    </tr>\n",
       "  </tbody>\n",
       "</table>\n",
       "</div>"
      ],
      "text/plain": [
       "   a  b  c  d\n",
       "0  3  2  8  7\n",
       "1  7  7  5  0\n",
       "2  8  3  4  5\n",
       "3  0  1  8  4\n",
       "4  8  6  0  4"
      ]
     },
     "execution_count": 3,
     "metadata": {},
     "output_type": "execute_result"
    }
   ],
   "source": [
    "# サンプルのCSVファイル\n",
    "pd.read_csv('data/a.csv').head()"
   ]
  },
  {
   "cell_type": "code",
   "execution_count": 4,
   "id": "ec5b0c9d",
   "metadata": {},
   "outputs": [
    {
     "name": "stderr",
     "output_type": "stream",
     "text": [
      "/Users/ken/.pyenv/versions/3.9.7/lib/python3.9/site-packages/torch/utils/data/datapipes/iter/selecting.py:54: UserWarning: Lambda function is not supported for pickle, please use regular python function or functools.partial instead.\n",
      "  warnings.warn(\"Lambda function is not supported for pickle, please use \"\n"
     ]
    },
    {
     "data": {
      "text/plain": [
       "<torch.utils.data.datapipes.iter.selecting.FilterIterDataPipe at 0x129284850>"
      ]
     },
     "execution_count": 4,
     "metadata": {},
     "output_type": "execute_result"
    }
   ],
   "source": [
    "# FileListerでファイルのリストを取得する\n",
    "FOLDER = 'data'\n",
    "datapipe = dp.iter.FileLister([FOLDER]).filter(filter_fn=(lambda filename: filename.endswith('.csv')))\n",
    "datapipe"
   ]
  },
  {
   "cell_type": "code",
   "execution_count": 5,
   "id": "f1bddde0",
   "metadata": {},
   "outputs": [
    {
     "data": {
      "text/plain": [
       "['data/a.csv', 'data/b.csv', 'data/c.csv']"
      ]
     },
     "execution_count": 5,
     "metadata": {},
     "output_type": "execute_result"
    }
   ],
   "source": [
    "list(datapipe)"
   ]
  },
  {
   "cell_type": "code",
   "execution_count": 6,
   "id": "6e682bd9",
   "metadata": {},
   "outputs": [
    {
     "data": {
      "text/plain": [
       "<torch.utils.data.datapipes.iter.fileopener.FileOpenerIterDataPipe at 0x129284910>"
      ]
     },
     "execution_count": 6,
     "metadata": {},
     "output_type": "execute_result"
    }
   ],
   "source": [
    "# FileOpenerでファイルを開く\n",
    "# 引数にFileListenerで取得したDataPipeを与えている\n",
    "datapipe = dp.iter.FileOpener(datapipe, mode='rt')\n",
    "datapipe"
   ]
  },
  {
   "cell_type": "code",
   "execution_count": 7,
   "id": "8920cdd3",
   "metadata": {},
   "outputs": [
    {
     "data": {
      "text/plain": [
       "[('data/a.csv',\n",
       "  StreamWrapper<<_io.TextIOWrapper name='data/a.csv' mode='rt' encoding='UTF-8'>>),\n",
       " ('data/b.csv',\n",
       "  StreamWrapper<<_io.TextIOWrapper name='data/b.csv' mode='rt' encoding='UTF-8'>>),\n",
       " ('data/c.csv',\n",
       "  StreamWrapper<<_io.TextIOWrapper name='data/c.csv' mode='rt' encoding='UTF-8'>>)]"
      ]
     },
     "execution_count": 7,
     "metadata": {},
     "output_type": "execute_result"
    }
   ],
   "source": [
    "# (ファイル名, TextIO, StreamWrapper) というtupleで構成されたイテレータが返ってくる\n",
    "list(datapipe)"
   ]
  },
  {
   "cell_type": "code",
   "execution_count": 8,
   "id": "fc2f2eed",
   "metadata": {},
   "outputs": [
    {
     "data": {
      "text/plain": [
       "'a,b,c,d\\n3,2,8,7\\n7,7,5,0\\n8,3,4,5\\n0,1,8,4\\n8,6,0,4\\n7,0,6,2\\n7,4,5,5\\n9,6,0,2\\n9,9,8,8\\n'"
      ]
     },
     "execution_count": 8,
     "metadata": {},
     "output_type": "execute_result"
    }
   ],
   "source": [
    "# StreamWrapperからファイルの内容を取得できる\n",
    "sw = list(datapipe)[0][1]\n",
    "sw.read()"
   ]
  },
  {
   "cell_type": "code",
   "execution_count": 9,
   "id": "fac01d6b",
   "metadata": {},
   "outputs": [
    {
     "data": {
      "text/plain": [
       "<torchdata.datapipes.iter.util.plain_text_reader.CSVParserIterDataPipe at 0x1292a1100>"
      ]
     },
     "execution_count": 9,
     "metadata": {},
     "output_type": "execute_result"
    }
   ],
   "source": [
    "# parse_csvメソッドでCSVをパース\n",
    "datapipe_csv = datapipe.parse_csv(delimiter=',')\n",
    "datapipe_csv"
   ]
  },
  {
   "cell_type": "code",
   "execution_count": 10,
   "id": "42769a6e",
   "metadata": {},
   "outputs": [
    {
     "data": {
      "text/plain": [
       "[['a', 'b', 'c', 'd'],\n",
       " ['3', '2', '8', '7'],\n",
       " ['7', '7', '5', '0'],\n",
       " ['8', '3', '4', '5'],\n",
       " ['0', '1', '8', '4'],\n",
       " ['8', '6', '0', '4'],\n",
       " ['7', '0', '6', '2'],\n",
       " ['7', '4', '5', '5'],\n",
       " ['9', '6', '0', '2'],\n",
       " ['9', '9', '8', '8'],\n",
       " ['a', 'b', 'c', 'd'],\n",
       " ['7', '4', '7', '4'],\n",
       " ['5', '8', '5', '6'],\n",
       " ['6', '8', '4', '5'],\n",
       " ['6', '7', '7', '7'],\n",
       " ['9', '3', '2', '1'],\n",
       " ['1', '9', '3', '5'],\n",
       " ['2', '1', '7', '2'],\n",
       " ['4', '4', '2', '6'],\n",
       " ['8', '2', '1', '6'],\n",
       " ['a', 'b', 'c', 'd'],\n",
       " ['1', '1', '2', '8'],\n",
       " ['9', '9', '9', '3'],\n",
       " ['4', '4', '1', '3'],\n",
       " ['8', '5', '5', '8'],\n",
       " ['9', '6', '3', '5'],\n",
       " ['9', '3', '9', '8'],\n",
       " ['7', '6', '7', '6'],\n",
       " ['7', '2', '5', '1'],\n",
       " ['9', '3', '7', '3']]"
      ]
     },
     "execution_count": 10,
     "metadata": {},
     "output_type": "execute_result"
    }
   ],
   "source": [
    "list(datapipe_csv)"
   ]
  },
  {
   "cell_type": "code",
   "execution_count": 11,
   "id": "d2acf911",
   "metadata": {},
   "outputs": [],
   "source": [
    "# parse_csvはCSVParserをDataPipeに登録したものなので、CSVParserを使ってもできる\n",
    "datapipe_with_csv_parser = dp.iter.CSVParser(datapipe, delimiter=',')"
   ]
  },
  {
   "cell_type": "code",
   "execution_count": 12,
   "id": "7d66d1bf",
   "metadata": {},
   "outputs": [
    {
     "data": {
      "text/plain": [
       "[['a', 'b', 'c', 'd'],\n",
       " ['3', '2', '8', '7'],\n",
       " ['7', '7', '5', '0'],\n",
       " ['8', '3', '4', '5'],\n",
       " ['0', '1', '8', '4'],\n",
       " ['8', '6', '0', '4'],\n",
       " ['7', '0', '6', '2'],\n",
       " ['7', '4', '5', '5'],\n",
       " ['9', '6', '0', '2'],\n",
       " ['9', '9', '8', '8'],\n",
       " ['a', 'b', 'c', 'd'],\n",
       " ['7', '4', '7', '4'],\n",
       " ['5', '8', '5', '6'],\n",
       " ['6', '8', '4', '5'],\n",
       " ['6', '7', '7', '7'],\n",
       " ['9', '3', '2', '1'],\n",
       " ['1', '9', '3', '5'],\n",
       " ['2', '1', '7', '2'],\n",
       " ['4', '4', '2', '6'],\n",
       " ['8', '2', '1', '6'],\n",
       " ['a', 'b', 'c', 'd'],\n",
       " ['1', '1', '2', '8'],\n",
       " ['9', '9', '9', '3'],\n",
       " ['4', '4', '1', '3'],\n",
       " ['8', '5', '5', '8'],\n",
       " ['9', '6', '3', '5'],\n",
       " ['9', '3', '9', '8'],\n",
       " ['7', '6', '7', '6'],\n",
       " ['7', '2', '5', '1'],\n",
       " ['9', '3', '7', '3']]"
      ]
     },
     "execution_count": 12,
     "metadata": {},
     "output_type": "execute_result"
    }
   ],
   "source": [
    "list(datapipe_with_csv_parser)"
   ]
  },
  {
   "cell_type": "markdown",
   "id": "ccd91759",
   "metadata": {},
   "source": [
    "## Working with DataLoader\n",
    "DataPipeのDataLoaderへの渡し方。"
   ]
  },
  {
   "cell_type": "code",
   "execution_count": 13,
   "id": "ada14e7f",
   "metadata": {},
   "outputs": [],
   "source": [
    "# 1個のlabel、num_features個(defaultは20)のfeature、labelとfeatureは0 ~ 9の整数となるデータnum_rows行(defaultは5000行)を生成する関数。\n",
    "# sample_data{file_label}.csvというファイルに保存される\n",
    "import csv\n",
    "import random\n",
    "\n",
    "def generate_csv(file_label, num_rows: int = 5000, num_features: int = 20) -> None:\n",
    "    fieldnames = [\"label\"] + [f\"c{i}\" for i in range(num_features)]\n",
    "    writer = csv.DictWriter(\n",
    "        open(f\"sample_data{file_label}.csv\", \"w\"), fieldnames=fieldnames\n",
    "    )\n",
    "    writer.writeheader()\n",
    "    for i in range(num_rows):\n",
    "        row_data = {col: random.random() for col in fieldnames}\n",
    "        row_data[\"label\"] = random.randint(0, 9)\n",
    "        writer.writerow(row_data)"
   ]
  },
  {
   "cell_type": "code",
   "execution_count": 14,
   "id": "c1d242dc",
   "metadata": {},
   "outputs": [],
   "source": [
    "# sample_data*.csvというファイルをFileListerでリストし、FileOpenerで開き、parse_csvでCSVをparseし、\n",
    "# mapにより、labelとdataに分割する関数。\n",
    "# DataPipeを返す。\n",
    "\n",
    "import numpy as np\n",
    "import torchdata.datapipes as dp\n",
    "\n",
    "def build_datapipes(root_dir=\".\"):\n",
    "    datapipe = dp.iter.FileLister(root_dir)\n",
    "    datapipe = datapipe.filter(\n",
    "        filter_fn=(\n",
    "            lambda filename: \"sample_data\" in filename and filename.endswith(\".csv\")\n",
    "        )\n",
    "    )\n",
    "    datapipe = dp.iter.FileOpener(datapipe, mode=\"rt\")\n",
    "    datapipe = datapipe.parse_csv(delimiter=\",\", skip_lines=1)\n",
    "    datapipe = datapipe.map(\n",
    "        lambda row: {\n",
    "            \"label\": np.array(row[0], np.int32),\n",
    "            \"data\": np.array(row[1:], dtype=np.float64),\n",
    "        }\n",
    "    )\n",
    "    return datapipe"
   ]
  },
  {
   "cell_type": "code",
   "execution_count": 15,
   "id": "05eca588",
   "metadata": {},
   "outputs": [],
   "source": [
    "# ファイルを生成\n",
    "num_files_to_generate = 3\n",
    "for i in range(num_files_to_generate):\n",
    "    generate_csv(file_label=i, num_rows=10, num_features=3)"
   ]
  },
  {
   "cell_type": "code",
   "execution_count": 16,
   "id": "9d4eeb19",
   "metadata": {},
   "outputs": [
    {
     "name": "stdout",
     "output_type": "stream",
     "text": [
      "sample_data0.csv  sample_data1.csv  sample_data2.csv\r\n"
     ]
    }
   ],
   "source": [
    "ls sample* # 3つのファイルが作成されている"
   ]
  },
  {
   "cell_type": "code",
   "execution_count": 17,
   "id": "942de011",
   "metadata": {},
   "outputs": [
    {
     "data": {
      "text/plain": [
       "(10, 4)"
      ]
     },
     "execution_count": 17,
     "metadata": {},
     "output_type": "execute_result"
    }
   ],
   "source": [
    "# 10行4列のデータが存在\n",
    "pd.read_csv(\"sample_data0.csv\").shape"
   ]
  },
  {
   "cell_type": "code",
   "execution_count": 18,
   "id": "54d05633",
   "metadata": {},
   "outputs": [
    {
     "data": {
      "text/html": [
       "<div>\n",
       "<style scoped>\n",
       "    .dataframe tbody tr th:only-of-type {\n",
       "        vertical-align: middle;\n",
       "    }\n",
       "\n",
       "    .dataframe tbody tr th {\n",
       "        vertical-align: top;\n",
       "    }\n",
       "\n",
       "    .dataframe thead th {\n",
       "        text-align: right;\n",
       "    }\n",
       "</style>\n",
       "<table border=\"1\" class=\"dataframe\">\n",
       "  <thead>\n",
       "    <tr style=\"text-align: right;\">\n",
       "      <th></th>\n",
       "      <th>label</th>\n",
       "      <th>c0</th>\n",
       "      <th>c1</th>\n",
       "      <th>c2</th>\n",
       "    </tr>\n",
       "  </thead>\n",
       "  <tbody>\n",
       "    <tr>\n",
       "      <th>0</th>\n",
       "      <td>3</td>\n",
       "      <td>0.895064</td>\n",
       "      <td>0.924749</td>\n",
       "      <td>0.431571</td>\n",
       "    </tr>\n",
       "    <tr>\n",
       "      <th>1</th>\n",
       "      <td>6</td>\n",
       "      <td>0.414127</td>\n",
       "      <td>0.905068</td>\n",
       "      <td>0.726391</td>\n",
       "    </tr>\n",
       "    <tr>\n",
       "      <th>2</th>\n",
       "      <td>2</td>\n",
       "      <td>0.852688</td>\n",
       "      <td>0.701216</td>\n",
       "      <td>0.855399</td>\n",
       "    </tr>\n",
       "    <tr>\n",
       "      <th>3</th>\n",
       "      <td>8</td>\n",
       "      <td>0.655120</td>\n",
       "      <td>0.511357</td>\n",
       "      <td>0.131295</td>\n",
       "    </tr>\n",
       "    <tr>\n",
       "      <th>4</th>\n",
       "      <td>0</td>\n",
       "      <td>0.759595</td>\n",
       "      <td>0.098484</td>\n",
       "      <td>0.654312</td>\n",
       "    </tr>\n",
       "  </tbody>\n",
       "</table>\n",
       "</div>"
      ],
      "text/plain": [
       "   label        c0        c1        c2\n",
       "0      3  0.895064  0.924749  0.431571\n",
       "1      6  0.414127  0.905068  0.726391\n",
       "2      2  0.852688  0.701216  0.855399\n",
       "3      8  0.655120  0.511357  0.131295\n",
       "4      0  0.759595  0.098484  0.654312"
      ]
     },
     "execution_count": 18,
     "metadata": {},
     "output_type": "execute_result"
    }
   ],
   "source": [
    "# labelとc0~c3のfeatureのデータ\n",
    "pd.read_csv(\"sample_data0.csv\").head()"
   ]
  },
  {
   "cell_type": "code",
   "execution_count": 19,
   "id": "0a3e04b3",
   "metadata": {},
   "outputs": [
    {
     "name": "stderr",
     "output_type": "stream",
     "text": [
      "/Users/ken/.pyenv/versions/3.9.7/lib/python3.9/site-packages/torch/utils/data/datapipes/iter/selecting.py:54: UserWarning: Lambda function is not supported for pickle, please use regular python function or functools.partial instead.\n",
      "  warnings.warn(\"Lambda function is not supported for pickle, please use \"\n",
      "/Users/ken/.pyenv/versions/3.9.7/lib/python3.9/site-packages/torch/utils/data/datapipes/utils/common.py:24: UserWarning: Lambda function is not supported for pickle, please use regular python function or functools.partial instead.\n",
      "  warnings.warn(\n"
     ]
    }
   ],
   "source": [
    "# datapipeを作成\n",
    "datapipe = build_datapipes()"
   ]
  },
  {
   "cell_type": "code",
   "execution_count": 20,
   "id": "4e49e33f",
   "metadata": {},
   "outputs": [
    {
     "data": {
      "text/plain": [
       "<torch.utils.data.dataloader.DataLoader at 0x1292ae100>"
      ]
     },
     "execution_count": 20,
     "metadata": {},
     "output_type": "execute_result"
    }
   ],
   "source": [
    "# DataLoaderにはdataset=datapipeで渡せば良い\n",
    "from torch.utils.data import DataLoader\n",
    "\n",
    "dl = DataLoader(dataset=datapipe, batch_size=50, shuffle=True)\n",
    "dl"
   ]
  },
  {
   "cell_type": "code",
   "execution_count": 21,
   "id": "f28d4933",
   "metadata": {},
   "outputs": [
    {
     "data": {
      "text/plain": [
       "{'label': tensor([3, 6, 2, 8, 0, 8, 7, 3, 8, 4, 2, 3, 9, 9, 1, 6, 8, 6, 3, 1, 6, 5, 8, 3,\n",
       "         0, 1, 7, 6, 6, 1], dtype=torch.int32),\n",
       " 'data': tensor([[0.8951, 0.9247, 0.4316],\n",
       "         [0.4141, 0.9051, 0.7264],\n",
       "         [0.8527, 0.7012, 0.8554],\n",
       "         [0.6551, 0.5114, 0.1313],\n",
       "         [0.7596, 0.0985, 0.6543],\n",
       "         [0.4558, 0.4930, 0.9421],\n",
       "         [0.3073, 0.6333, 0.9986],\n",
       "         [0.6445, 0.2302, 0.7013],\n",
       "         [0.2375, 0.0948, 0.8011],\n",
       "         [0.3167, 0.2150, 0.4711],\n",
       "         [0.3578, 0.3191, 0.4842],\n",
       "         [0.9679, 0.7934, 0.3112],\n",
       "         [0.8872, 0.8991, 0.1010],\n",
       "         [0.9713, 0.0377, 0.3574],\n",
       "         [0.8612, 0.2653, 0.5862],\n",
       "         [0.9899, 0.6150, 0.5098],\n",
       "         [0.9031, 0.0252, 0.1263],\n",
       "         [0.2821, 0.9735, 0.5889],\n",
       "         [0.5679, 0.3990, 0.5816],\n",
       "         [0.4920, 0.8569, 0.3976],\n",
       "         [0.6824, 0.4844, 0.5860],\n",
       "         [0.5530, 0.1539, 0.7113],\n",
       "         [0.7474, 0.1720, 0.3412],\n",
       "         [0.9984, 0.9120, 0.3845],\n",
       "         [0.6225, 0.1108, 0.7611],\n",
       "         [0.2289, 0.9070, 0.6058],\n",
       "         [0.4248, 0.6671, 0.1963],\n",
       "         [0.5180, 0.9932, 0.6905],\n",
       "         [0.9289, 0.9470, 0.7196],\n",
       "         [0.8810, 0.3201, 0.9343]], dtype=torch.float64)}"
      ]
     },
     "execution_count": 21,
     "metadata": {},
     "output_type": "execute_result"
    }
   ],
   "source": [
    "first = next(iter(dl))\n",
    "first"
   ]
  },
  {
   "cell_type": "code",
   "execution_count": 22,
   "id": "181dad27",
   "metadata": {},
   "outputs": [],
   "source": [
    "labels, features = first[\"label\"], first[\"data\"]"
   ]
  },
  {
   "cell_type": "code",
   "execution_count": 23,
   "id": "03a2c692",
   "metadata": {},
   "outputs": [
    {
     "name": "stdout",
     "output_type": "stream",
     "text": [
      "Labels batch shape: torch.Size([30])\n",
      "Feature batch shape: torch.Size([30, 3])\n"
     ]
    }
   ],
   "source": [
    "print(f\"Labels batch shape: {labels.size()}\")\n",
    "print(f\"Feature batch shape: {features.size()}\")"
   ]
  },
  {
   "cell_type": "markdown",
   "id": "cbb9b159",
   "metadata": {},
   "source": [
    "## Implementing a Custom DataPipe\n",
    "独自のDataPipeを作成する。\n",
    "\n",
    "命名規則は\"Operation\"-eｒ + IterDataPipe or MapDataPipe。エイリアスではIterDataPipeとMapDataPipeは取り除く。\n",
    "\n",
    "この例では、 `MapperIterDataPipe` を作る。"
   ]
  },
  {
   "cell_type": "code",
   "execution_count": 24,
   "id": "3a0c387b",
   "metadata": {},
   "outputs": [],
   "source": [
    "# IterDataPipeを継承して、MapperIterDataPipeを作成。\n",
    "from torchdata.datapipes import functional_datapipe\n",
    "from torchdata.datapipes.iter import IterDataPipe\n",
    "\n",
    "\n",
    "@functional_datapipe(\"new_map\")   # DataPipeにmapメソッドを登録\n",
    "class MapperIterDataPipe(IterDataPipe):\n",
    "    def __init__(self, source_dp: IterDataPipe, fn) -> None:\n",
    "        super().__init__()\n",
    "        self.dp = source_dp\n",
    "        self.fn = fn   # 関数により変換を加える\n",
    "\n",
    "    def __iter__(self):\n",
    "        for d in self.dp:\n",
    "            yield self.fn(d[\"data\"])   # 変換を加えたあとのiteratorを作成\n",
    "\n",
    "    def __len__(self):   # DataPipeの長さを返す\n",
    "        return len(self.dp)"
   ]
  },
  {
   "cell_type": "code",
   "execution_count": 25,
   "id": "7f4c5b0b",
   "metadata": {},
   "outputs": [],
   "source": [
    "# MaapperIterDataPipe内で実行したい関数を定義\n",
    "def decoder(x):\n",
    "    return x*2"
   ]
  },
  {
   "cell_type": "code",
   "execution_count": 26,
   "id": "6931031a",
   "metadata": {},
   "outputs": [
    {
     "data": {
      "text/plain": [
       "[{'label': array(3, dtype=int32),\n",
       "  'data': array([0.89506394, 0.92474888, 0.43157119])},\n",
       " {'label': array(6, dtype=int32),\n",
       "  'data': array([0.41412658, 0.90506806, 0.72639143])},\n",
       " {'label': array(2, dtype=int32),\n",
       "  'data': array([0.85268786, 0.70121568, 0.85539912])},\n",
       " {'label': array(8, dtype=int32),\n",
       "  'data': array([0.65512039, 0.51135713, 0.13129459])},\n",
       " {'label': array(0, dtype=int32),\n",
       "  'data': array([0.75959461, 0.09848438, 0.654312  ])},\n",
       " {'label': array(8, dtype=int32),\n",
       "  'data': array([0.45578675, 0.49300666, 0.94212415])},\n",
       " {'label': array(7, dtype=int32),\n",
       "  'data': array([0.30729635, 0.6333446 , 0.99856541])},\n",
       " {'label': array(3, dtype=int32),\n",
       "  'data': array([0.64453027, 0.23023957, 0.70131864])},\n",
       " {'label': array(8, dtype=int32),\n",
       "  'data': array([0.23751087, 0.09482439, 0.80113369])},\n",
       " {'label': array(4, dtype=int32),\n",
       "  'data': array([0.31673474, 0.21504659, 0.47108446])},\n",
       " {'label': array(2, dtype=int32),\n",
       "  'data': array([0.35781245, 0.31914146, 0.48423898])},\n",
       " {'label': array(3, dtype=int32),\n",
       "  'data': array([0.96791976, 0.79339766, 0.31116605])},\n",
       " {'label': array(9, dtype=int32),\n",
       "  'data': array([0.88717654, 0.89914176, 0.10103694])},\n",
       " {'label': array(9, dtype=int32),\n",
       "  'data': array([0.97131611, 0.03771173, 0.35737815])},\n",
       " {'label': array(1, dtype=int32),\n",
       "  'data': array([0.86117056, 0.26527937, 0.58621349])},\n",
       " {'label': array(6, dtype=int32),\n",
       "  'data': array([0.98992006, 0.61496271, 0.50982785])},\n",
       " {'label': array(8, dtype=int32),\n",
       "  'data': array([0.90311389, 0.02522513, 0.12628832])},\n",
       " {'label': array(6, dtype=int32),\n",
       "  'data': array([0.28207133, 0.97347865, 0.5888775 ])},\n",
       " {'label': array(3, dtype=int32),\n",
       "  'data': array([0.56788236, 0.3989896 , 0.58159141])},\n",
       " {'label': array(1, dtype=int32),\n",
       "  'data': array([0.49199826, 0.85685813, 0.3976028 ])},\n",
       " {'label': array(6, dtype=int32),\n",
       "  'data': array([0.6824452 , 0.4844098 , 0.58599288])},\n",
       " {'label': array(5, dtype=int32),\n",
       "  'data': array([0.55300838, 0.15386196, 0.71133287])},\n",
       " {'label': array(8, dtype=int32),\n",
       "  'data': array([0.74738489, 0.17199712, 0.34118748])},\n",
       " {'label': array(3, dtype=int32),\n",
       "  'data': array([0.99839165, 0.91201258, 0.38451499])},\n",
       " {'label': array(0, dtype=int32),\n",
       "  'data': array([0.62248767, 0.11080356, 0.76106252])},\n",
       " {'label': array(1, dtype=int32),\n",
       "  'data': array([0.22885187, 0.9070008 , 0.60577611])},\n",
       " {'label': array(7, dtype=int32),\n",
       "  'data': array([0.4248498 , 0.66710912, 0.19631253])},\n",
       " {'label': array(6, dtype=int32),\n",
       "  'data': array([0.51797968, 0.99316509, 0.69052422])},\n",
       " {'label': array(6, dtype=int32),\n",
       "  'data': array([0.92887974, 0.94700003, 0.71955067])},\n",
       " {'label': array(1, dtype=int32),\n",
       "  'data': array([0.88096307, 0.32005791, 0.93434175])}]"
      ]
     },
     "execution_count": 26,
     "metadata": {},
     "output_type": "execute_result"
    }
   ],
   "source": [
    "datapipe = build_datapipes()\n",
    "list(datapipe)"
   ]
  },
  {
   "cell_type": "code",
   "execution_count": 27,
   "id": "e84495cf",
   "metadata": {},
   "outputs": [
    {
     "data": {
      "text/plain": [
       "[array([1.79012787, 1.84949777, 0.86314238]),\n",
       " array([0.82825316, 1.81013611, 1.45278286]),\n",
       " array([1.70537573, 1.40243137, 1.71079824]),\n",
       " array([1.31024078, 1.02271426, 0.26258918]),\n",
       " array([1.51918922, 0.19696876, 1.308624  ]),\n",
       " array([0.91157351, 0.98601332, 1.88424831]),\n",
       " array([0.6145927 , 1.26668919, 1.99713081]),\n",
       " array([1.28906054, 0.46047913, 1.40263729]),\n",
       " array([0.47502174, 0.18964879, 1.60226738]),\n",
       " array([0.63346948, 0.43009319, 0.94216893]),\n",
       " array([0.7156249 , 0.63828292, 0.96847796]),\n",
       " array([1.93583951, 1.58679532, 0.62233211]),\n",
       " array([1.77435307, 1.79828352, 0.20207387]),\n",
       " array([1.94263223, 0.07542345, 0.7147563 ]),\n",
       " array([1.72234111, 0.53055875, 1.17242697]),\n",
       " array([1.97984012, 1.22992541, 1.01965569]),\n",
       " array([1.80622778, 0.05045025, 0.25257663]),\n",
       " array([0.56414267, 1.94695729, 1.177755  ]),\n",
       " array([1.13576472, 0.7979792 , 1.16318282]),\n",
       " array([0.98399653, 1.71371626, 0.79520561]),\n",
       " array([1.3648904 , 0.9688196 , 1.17198577]),\n",
       " array([1.10601677, 0.30772393, 1.42266574]),\n",
       " array([1.49476979, 0.34399424, 0.68237495]),\n",
       " array([1.99678331, 1.82402516, 0.76902997]),\n",
       " array([1.24497535, 0.22160712, 1.52212503]),\n",
       " array([0.45770373, 1.81400161, 1.21155221]),\n",
       " array([0.8496996 , 1.33421824, 0.39262506]),\n",
       " array([1.03595935, 1.98633018, 1.38104844]),\n",
       " array([1.85775948, 1.89400006, 1.43910134]),\n",
       " array([1.76192613, 0.64011582, 1.8686835 ])]"
      ]
     },
     "execution_count": 27,
     "metadata": {},
     "output_type": "execute_result"
    }
   ],
   "source": [
    "list(datapipe.new_map(fn=decoder))"
   ]
  }
 ],
 "metadata": {
  "kernelspec": {
   "display_name": "Python 3 (ipykernel)",
   "language": "python",
   "name": "python3"
  },
  "language_info": {
   "codemirror_mode": {
    "name": "ipython",
    "version": 3
   },
   "file_extension": ".py",
   "mimetype": "text/x-python",
   "name": "python",
   "nbconvert_exporter": "python",
   "pygments_lexer": "ipython3",
   "version": "3.9.7"
  }
 },
 "nbformat": 4,
 "nbformat_minor": 5
}
