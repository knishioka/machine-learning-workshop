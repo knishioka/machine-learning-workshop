{
 "cells": [
  {
   "cell_type": "markdown",
   "id": "d58808de",
   "metadata": {},
   "source": [
    "# 概要\n",
    "[PyTorch Tutorial](https://pytorch.org/data/main/tutorial.html) を元にPyTorch DataのDataPipeの使い方を解説。"
   ]
  },
  {
   "cell_type": "code",
   "execution_count": 28,
   "id": "c4713593",
   "metadata": {},
   "outputs": [],
   "source": [
    "import pandas as pd\n",
    "import torchdata.datapipes as dp\n",
    "from torchdata.datapipes.iter import IterDataPipe"
   ]
  },
  {
   "cell_type": "markdown",
   "id": "e9dc3898",
   "metadata": {},
   "source": [
    "## Using DataPipes\n",
    "DataPipeをつなげて使う方法の基本"
   ]
  },
  {
   "cell_type": "code",
   "execution_count": 29,
   "id": "87f8d279",
   "metadata": {},
   "outputs": [
    {
     "name": "stdout",
     "output_type": "stream",
     "text": [
      "a.csv  b.csv  c.csv\r\n"
     ]
    }
   ],
   "source": [
    "ls data/"
   ]
  },
  {
   "cell_type": "code",
   "execution_count": 30,
   "id": "c818f270",
   "metadata": {},
   "outputs": [
    {
     "data": {
      "text/html": [
       "<div>\n",
       "<style scoped>\n",
       "    .dataframe tbody tr th:only-of-type {\n",
       "        vertical-align: middle;\n",
       "    }\n",
       "\n",
       "    .dataframe tbody tr th {\n",
       "        vertical-align: top;\n",
       "    }\n",
       "\n",
       "    .dataframe thead th {\n",
       "        text-align: right;\n",
       "    }\n",
       "</style>\n",
       "<table border=\"1\" class=\"dataframe\">\n",
       "  <thead>\n",
       "    <tr style=\"text-align: right;\">\n",
       "      <th></th>\n",
       "      <th>a</th>\n",
       "      <th>b</th>\n",
       "      <th>c</th>\n",
       "      <th>d</th>\n",
       "    </tr>\n",
       "  </thead>\n",
       "  <tbody>\n",
       "    <tr>\n",
       "      <th>0</th>\n",
       "      <td>3</td>\n",
       "      <td>2</td>\n",
       "      <td>8</td>\n",
       "      <td>7</td>\n",
       "    </tr>\n",
       "    <tr>\n",
       "      <th>1</th>\n",
       "      <td>7</td>\n",
       "      <td>7</td>\n",
       "      <td>5</td>\n",
       "      <td>0</td>\n",
       "    </tr>\n",
       "    <tr>\n",
       "      <th>2</th>\n",
       "      <td>8</td>\n",
       "      <td>3</td>\n",
       "      <td>4</td>\n",
       "      <td>5</td>\n",
       "    </tr>\n",
       "    <tr>\n",
       "      <th>3</th>\n",
       "      <td>0</td>\n",
       "      <td>1</td>\n",
       "      <td>8</td>\n",
       "      <td>4</td>\n",
       "    </tr>\n",
       "    <tr>\n",
       "      <th>4</th>\n",
       "      <td>8</td>\n",
       "      <td>6</td>\n",
       "      <td>0</td>\n",
       "      <td>4</td>\n",
       "    </tr>\n",
       "  </tbody>\n",
       "</table>\n",
       "</div>"
      ],
      "text/plain": [
       "   a  b  c  d\n",
       "0  3  2  8  7\n",
       "1  7  7  5  0\n",
       "2  8  3  4  5\n",
       "3  0  1  8  4\n",
       "4  8  6  0  4"
      ]
     },
     "execution_count": 30,
     "metadata": {},
     "output_type": "execute_result"
    }
   ],
   "source": [
    "# サンプルのCSVファイル\n",
    "pd.read_csv('data/a.csv').head()"
   ]
  },
  {
   "cell_type": "code",
   "execution_count": 31,
   "id": "ec5b0c9d",
   "metadata": {},
   "outputs": [
    {
     "name": "stderr",
     "output_type": "stream",
     "text": [
      "/Users/ken/.pyenv/versions/3.9.7/lib/python3.9/site-packages/torch/utils/data/datapipes/iter/selecting.py:54: UserWarning: Lambda function is not supported for pickle, please use regular python function or functools.partial instead.\n",
      "  warnings.warn(\"Lambda function is not supported for pickle, please use \"\n"
     ]
    },
    {
     "data": {
      "text/plain": [
       "<torch.utils.data.datapipes.iter.selecting.FilterIterDataPipe at 0x1230a47f0>"
      ]
     },
     "execution_count": 31,
     "metadata": {},
     "output_type": "execute_result"
    }
   ],
   "source": [
    "# FileListerでファイルのリストを取得する\n",
    "FOLDER = 'data'\n",
    "datapipe = dp.iter.FileLister([FOLDER]).filter(filter_fn=(lambda filename: filename.endswith('.csv')))\n",
    "datapipe"
   ]
  },
  {
   "cell_type": "code",
   "execution_count": 32,
   "id": "f1bddde0",
   "metadata": {},
   "outputs": [
    {
     "data": {
      "text/plain": [
       "['data/a.csv', 'data/b.csv', 'data/c.csv']"
      ]
     },
     "execution_count": 32,
     "metadata": {},
     "output_type": "execute_result"
    }
   ],
   "source": [
    "list(datapipe)"
   ]
  },
  {
   "cell_type": "code",
   "execution_count": 33,
   "id": "6e682bd9",
   "metadata": {},
   "outputs": [
    {
     "data": {
      "text/plain": [
       "<torch.utils.data.datapipes.iter.fileopener.FileOpenerIterDataPipe at 0x1230a4370>"
      ]
     },
     "execution_count": 33,
     "metadata": {},
     "output_type": "execute_result"
    }
   ],
   "source": [
    "# FileOpenerでファイルを開く\n",
    "# 引数にFileListenerで取得したDataPipeを与えている\n",
    "datapipe = dp.iter.FileOpener(datapipe, mode='rt')\n",
    "datapipe"
   ]
  },
  {
   "cell_type": "code",
   "execution_count": 34,
   "id": "8920cdd3",
   "metadata": {},
   "outputs": [
    {
     "data": {
      "text/plain": [
       "[('data/a.csv',\n",
       "  StreamWrapper<<_io.TextIOWrapper name='data/a.csv' mode='rt' encoding='UTF-8'>>),\n",
       " ('data/b.csv',\n",
       "  StreamWrapper<<_io.TextIOWrapper name='data/b.csv' mode='rt' encoding='UTF-8'>>),\n",
       " ('data/c.csv',\n",
       "  StreamWrapper<<_io.TextIOWrapper name='data/c.csv' mode='rt' encoding='UTF-8'>>)]"
      ]
     },
     "execution_count": 34,
     "metadata": {},
     "output_type": "execute_result"
    }
   ],
   "source": [
    "# (ファイル名, TextIO, StreamWrapper) というtupleで構成されたイテレータが返ってくる\n",
    "list(datapipe)"
   ]
  },
  {
   "cell_type": "code",
   "execution_count": 35,
   "id": "fc2f2eed",
   "metadata": {},
   "outputs": [
    {
     "data": {
      "text/plain": [
       "'a,b,c,d\\n3,2,8,7\\n7,7,5,0\\n8,3,4,5\\n0,1,8,4\\n8,6,0,4\\n7,0,6,2\\n7,4,5,5\\n9,6,0,2\\n9,9,8,8\\n'"
      ]
     },
     "execution_count": 35,
     "metadata": {},
     "output_type": "execute_result"
    }
   ],
   "source": [
    "# StreamWrapperからファイルの内容を取得できる\n",
    "sw = list(datapipe)[0][1]\n",
    "sw.read()"
   ]
  },
  {
   "cell_type": "code",
   "execution_count": 36,
   "id": "fac01d6b",
   "metadata": {},
   "outputs": [
    {
     "data": {
      "text/plain": [
       "<torchdata.datapipes.iter.util.plain_text_reader.CSVParserIterDataPipe at 0x1230a4640>"
      ]
     },
     "execution_count": 36,
     "metadata": {},
     "output_type": "execute_result"
    }
   ],
   "source": [
    "# parse_csvメソッドでCSVをパース\n",
    "datapipe_csv = datapipe.parse_csv(delimiter=',')\n",
    "datapipe_csv"
   ]
  },
  {
   "cell_type": "code",
   "execution_count": 37,
   "id": "42769a6e",
   "metadata": {},
   "outputs": [
    {
     "data": {
      "text/plain": [
       "[['a', 'b', 'c', 'd'],\n",
       " ['3', '2', '8', '7'],\n",
       " ['7', '7', '5', '0'],\n",
       " ['8', '3', '4', '5'],\n",
       " ['0', '1', '8', '4'],\n",
       " ['8', '6', '0', '4'],\n",
       " ['7', '0', '6', '2'],\n",
       " ['7', '4', '5', '5'],\n",
       " ['9', '6', '0', '2'],\n",
       " ['9', '9', '8', '8'],\n",
       " ['a', 'b', 'c', 'd'],\n",
       " ['7', '4', '7', '4'],\n",
       " ['5', '8', '5', '6'],\n",
       " ['6', '8', '4', '5'],\n",
       " ['6', '7', '7', '7'],\n",
       " ['9', '3', '2', '1'],\n",
       " ['1', '9', '3', '5'],\n",
       " ['2', '1', '7', '2'],\n",
       " ['4', '4', '2', '6'],\n",
       " ['8', '2', '1', '6'],\n",
       " ['a', 'b', 'c', 'd'],\n",
       " ['1', '1', '2', '8'],\n",
       " ['9', '9', '9', '3'],\n",
       " ['4', '4', '1', '3'],\n",
       " ['8', '5', '5', '8'],\n",
       " ['9', '6', '3', '5'],\n",
       " ['9', '3', '9', '8'],\n",
       " ['7', '6', '7', '6'],\n",
       " ['7', '2', '5', '1'],\n",
       " ['9', '3', '7', '3']]"
      ]
     },
     "execution_count": 37,
     "metadata": {},
     "output_type": "execute_result"
    }
   ],
   "source": [
    "list(datapipe_csv)"
   ]
  },
  {
   "cell_type": "code",
   "execution_count": 38,
   "id": "d2acf911",
   "metadata": {},
   "outputs": [],
   "source": [
    "# parse_csvはCSVParserをDataPipeに登録したものなので、CSVParserを使ってもできる\n",
    "datapipe_with_csv_parser = dp.iter.CSVParser(datapipe, delimiter=',')"
   ]
  },
  {
   "cell_type": "code",
   "execution_count": 39,
   "id": "7d66d1bf",
   "metadata": {},
   "outputs": [
    {
     "data": {
      "text/plain": [
       "[['a', 'b', 'c', 'd'],\n",
       " ['3', '2', '8', '7'],\n",
       " ['7', '7', '5', '0'],\n",
       " ['8', '3', '4', '5'],\n",
       " ['0', '1', '8', '4'],\n",
       " ['8', '6', '0', '4'],\n",
       " ['7', '0', '6', '2'],\n",
       " ['7', '4', '5', '5'],\n",
       " ['9', '6', '0', '2'],\n",
       " ['9', '9', '8', '8'],\n",
       " ['a', 'b', 'c', 'd'],\n",
       " ['7', '4', '7', '4'],\n",
       " ['5', '8', '5', '6'],\n",
       " ['6', '8', '4', '5'],\n",
       " ['6', '7', '7', '7'],\n",
       " ['9', '3', '2', '1'],\n",
       " ['1', '9', '3', '5'],\n",
       " ['2', '1', '7', '2'],\n",
       " ['4', '4', '2', '6'],\n",
       " ['8', '2', '1', '6'],\n",
       " ['a', 'b', 'c', 'd'],\n",
       " ['1', '1', '2', '8'],\n",
       " ['9', '9', '9', '3'],\n",
       " ['4', '4', '1', '3'],\n",
       " ['8', '5', '5', '8'],\n",
       " ['9', '6', '3', '5'],\n",
       " ['9', '3', '9', '8'],\n",
       " ['7', '6', '7', '6'],\n",
       " ['7', '2', '5', '1'],\n",
       " ['9', '3', '7', '3']]"
      ]
     },
     "execution_count": 39,
     "metadata": {},
     "output_type": "execute_result"
    }
   ],
   "source": [
    "list(datapipe_with_csv_parser)"
   ]
  },
  {
   "cell_type": "markdown",
   "id": "ccd91759",
   "metadata": {},
   "source": [
    "## Working with DataLoader\n",
    "DataPipeのDataLoaderへの渡し方。"
   ]
  },
  {
   "cell_type": "code",
   "execution_count": 40,
   "id": "ada14e7f",
   "metadata": {},
   "outputs": [],
   "source": [
    "# 1個のlabel、num_features個(defaultは20)のfeature、labelとfeatureは0 ~ 9の整数となるデータnum_rows行(defaultは5000行)を生成する関数。\n",
    "# sample_data{file_label}.csvというファイルに保存される\n",
    "import csv\n",
    "import random\n",
    "\n",
    "def generate_csv(file_label, num_rows: int = 5000, num_features: int = 20) -> None:\n",
    "    fieldnames = [\"label\"] + [f\"c{i}\" for i in range(num_features)]\n",
    "    writer = csv.DictWriter(\n",
    "        open(f\"sample_data{file_label}.csv\", \"w\"), fieldnames=fieldnames\n",
    "    )\n",
    "    writer.writeheader()\n",
    "    for i in range(num_rows):\n",
    "        row_data = {col: random.random() for col in fieldnames}\n",
    "        row_data[\"label\"] = random.randint(0, 9)\n",
    "        writer.writerow(row_data)"
   ]
  },
  {
   "cell_type": "code",
   "execution_count": 41,
   "id": "c1d242dc",
   "metadata": {},
   "outputs": [],
   "source": [
    "# sample_data*.csvというファイルをFileListerでリストし、FileOpenerで開き、parse_csvでCSVをparseし、\n",
    "# mapにより、labelとdataに分割する関数。\n",
    "# DataPipeを返す。\n",
    "\n",
    "import numpy as np\n",
    "import torchdata.datapipes as dp\n",
    "\n",
    "def build_datapipes(root_dir=\".\"):\n",
    "    datapipe = dp.iter.FileLister(root_dir)\n",
    "    datapipe = datapipe.filter(\n",
    "        filter_fn=(\n",
    "            lambda filename: \"sample_data\" in filename and filename.endswith(\".csv\")\n",
    "        )\n",
    "    )\n",
    "    datapipe = dp.iter.FileOpener(datapipe, mode=\"rt\")\n",
    "    datapipe = datapipe.parse_csv(delimiter=\",\", skip_lines=1)\n",
    "    datapipe = datapipe.map(\n",
    "        lambda row: {\n",
    "            \"label\": np.array(row[0], np.int32),\n",
    "            \"data\": np.array(row[1:], dtype=np.float64),\n",
    "        }\n",
    "    )\n",
    "    return datapipe"
   ]
  },
  {
   "cell_type": "code",
   "execution_count": 44,
   "id": "05eca588",
   "metadata": {},
   "outputs": [],
   "source": [
    "# ファイルを生成\n",
    "num_files_to_generate = 3\n",
    "for i in range(num_files_to_generate):\n",
    "    generate_csv(file_label=i, num_rows=10, num_features=3)"
   ]
  },
  {
   "cell_type": "code",
   "execution_count": 45,
   "id": "9d4eeb19",
   "metadata": {},
   "outputs": [
    {
     "name": "stdout",
     "output_type": "stream",
     "text": [
      "sample_data0.csv  sample_data1.csv  sample_data2.csv\r\n"
     ]
    }
   ],
   "source": [
    "ls sample* # 3つのファイルが作成されている"
   ]
  },
  {
   "cell_type": "code",
   "execution_count": 49,
   "id": "942de011",
   "metadata": {},
   "outputs": [
    {
     "data": {
      "text/plain": [
       "(10, 4)"
      ]
     },
     "execution_count": 49,
     "metadata": {},
     "output_type": "execute_result"
    }
   ],
   "source": [
    "# 10行4列のデータが存在\n",
    "pd.read_csv(\"sample_data0.csv\").shape"
   ]
  },
  {
   "cell_type": "code",
   "execution_count": 50,
   "id": "54d05633",
   "metadata": {},
   "outputs": [
    {
     "data": {
      "text/html": [
       "<div>\n",
       "<style scoped>\n",
       "    .dataframe tbody tr th:only-of-type {\n",
       "        vertical-align: middle;\n",
       "    }\n",
       "\n",
       "    .dataframe tbody tr th {\n",
       "        vertical-align: top;\n",
       "    }\n",
       "\n",
       "    .dataframe thead th {\n",
       "        text-align: right;\n",
       "    }\n",
       "</style>\n",
       "<table border=\"1\" class=\"dataframe\">\n",
       "  <thead>\n",
       "    <tr style=\"text-align: right;\">\n",
       "      <th></th>\n",
       "      <th>label</th>\n",
       "      <th>c0</th>\n",
       "      <th>c1</th>\n",
       "      <th>c2</th>\n",
       "    </tr>\n",
       "  </thead>\n",
       "  <tbody>\n",
       "    <tr>\n",
       "      <th>0</th>\n",
       "      <td>8</td>\n",
       "      <td>0.707899</td>\n",
       "      <td>0.640586</td>\n",
       "      <td>0.926556</td>\n",
       "    </tr>\n",
       "    <tr>\n",
       "      <th>1</th>\n",
       "      <td>5</td>\n",
       "      <td>0.978543</td>\n",
       "      <td>0.194637</td>\n",
       "      <td>0.646268</td>\n",
       "    </tr>\n",
       "    <tr>\n",
       "      <th>2</th>\n",
       "      <td>2</td>\n",
       "      <td>0.028777</td>\n",
       "      <td>0.924437</td>\n",
       "      <td>0.190284</td>\n",
       "    </tr>\n",
       "    <tr>\n",
       "      <th>3</th>\n",
       "      <td>0</td>\n",
       "      <td>0.575103</td>\n",
       "      <td>0.591610</td>\n",
       "      <td>0.003323</td>\n",
       "    </tr>\n",
       "    <tr>\n",
       "      <th>4</th>\n",
       "      <td>0</td>\n",
       "      <td>0.929907</td>\n",
       "      <td>0.171420</td>\n",
       "      <td>0.194055</td>\n",
       "    </tr>\n",
       "  </tbody>\n",
       "</table>\n",
       "</div>"
      ],
      "text/plain": [
       "   label        c0        c1        c2\n",
       "0      8  0.707899  0.640586  0.926556\n",
       "1      5  0.978543  0.194637  0.646268\n",
       "2      2  0.028777  0.924437  0.190284\n",
       "3      0  0.575103  0.591610  0.003323\n",
       "4      0  0.929907  0.171420  0.194055"
      ]
     },
     "execution_count": 50,
     "metadata": {},
     "output_type": "execute_result"
    }
   ],
   "source": [
    "# labelとc0~c3のfeatureのデータ\n",
    "pd.read_csv(\"sample_data0.csv\").head()"
   ]
  },
  {
   "cell_type": "code",
   "execution_count": 51,
   "id": "0a3e04b3",
   "metadata": {},
   "outputs": [
    {
     "name": "stderr",
     "output_type": "stream",
     "text": [
      "/Users/ken/.pyenv/versions/3.9.7/lib/python3.9/site-packages/torch/utils/data/datapipes/iter/selecting.py:54: UserWarning: Lambda function is not supported for pickle, please use regular python function or functools.partial instead.\n",
      "  warnings.warn(\"Lambda function is not supported for pickle, please use \"\n",
      "/Users/ken/.pyenv/versions/3.9.7/lib/python3.9/site-packages/torch/utils/data/datapipes/utils/common.py:24: UserWarning: Lambda function is not supported for pickle, please use regular python function or functools.partial instead.\n",
      "  warnings.warn(\n"
     ]
    }
   ],
   "source": [
    "# datapipeを作成\n",
    "datapipe = build_datapipes()"
   ]
  },
  {
   "cell_type": "code",
   "execution_count": 52,
   "id": "4e49e33f",
   "metadata": {},
   "outputs": [
    {
     "data": {
      "text/plain": [
       "<torch.utils.data.dataloader.DataLoader at 0x1230a3910>"
      ]
     },
     "execution_count": 52,
     "metadata": {},
     "output_type": "execute_result"
    }
   ],
   "source": [
    "# DataLoaderにはdataset=datapipeで渡せば良い\n",
    "from torch.utils.data import DataLoader\n",
    "\n",
    "dl = DataLoader(dataset=datapipe, batch_size=50, shuffle=True)\n",
    "dl"
   ]
  },
  {
   "cell_type": "code",
   "execution_count": 53,
   "id": "f28d4933",
   "metadata": {},
   "outputs": [
    {
     "data": {
      "text/plain": [
       "{'label': tensor([8, 5, 2, 0, 0, 1, 2, 9, 6, 1, 4, 2, 5, 3, 7, 4, 1, 7, 9, 3, 4, 7, 4, 7,\n",
       "         5, 1, 5, 8, 6, 0], dtype=torch.int32),\n",
       " 'data': tensor([[0.7079, 0.6406, 0.9266],\n",
       "         [0.9785, 0.1946, 0.6463],\n",
       "         [0.0288, 0.9244, 0.1903],\n",
       "         [0.5751, 0.5916, 0.0033],\n",
       "         [0.9299, 0.1714, 0.1941],\n",
       "         [0.0785, 0.3823, 0.1205],\n",
       "         [0.6802, 0.3624, 0.4522],\n",
       "         [0.9347, 0.0974, 0.5963],\n",
       "         [0.9029, 0.9254, 0.6475],\n",
       "         [0.1692, 0.6611, 0.8039],\n",
       "         [0.2860, 0.9179, 0.6300],\n",
       "         [0.9532, 0.9159, 0.3532],\n",
       "         [0.1223, 0.5679, 0.4849],\n",
       "         [0.6386, 0.4697, 0.5507],\n",
       "         [0.3606, 0.0493, 0.8139],\n",
       "         [0.7041, 0.6794, 0.8758],\n",
       "         [0.7119, 0.7821, 0.8630],\n",
       "         [0.6355, 0.1004, 0.5058],\n",
       "         [0.1063, 0.2484, 0.1809],\n",
       "         [0.0642, 0.0136, 0.3147],\n",
       "         [0.6619, 0.8079, 0.5933],\n",
       "         [0.2914, 0.1478, 0.6013],\n",
       "         [0.1344, 0.0756, 0.5934],\n",
       "         [0.9839, 0.7426, 0.3704],\n",
       "         [0.0040, 0.1507, 0.9911],\n",
       "         [0.0819, 0.4456, 0.3118],\n",
       "         [0.6315, 0.5020, 0.7032],\n",
       "         [0.9859, 0.1966, 0.9083],\n",
       "         [0.5148, 0.6598, 0.5264],\n",
       "         [0.7754, 0.7960, 0.2637]], dtype=torch.float64)}"
      ]
     },
     "execution_count": 53,
     "metadata": {},
     "output_type": "execute_result"
    }
   ],
   "source": [
    "first = next(iter(dl))\n",
    "first"
   ]
  },
  {
   "cell_type": "code",
   "execution_count": 54,
   "id": "181dad27",
   "metadata": {},
   "outputs": [],
   "source": [
    "labels, features = first[\"label\"], first[\"data\"]"
   ]
  },
  {
   "cell_type": "code",
   "execution_count": 55,
   "id": "03a2c692",
   "metadata": {},
   "outputs": [
    {
     "name": "stdout",
     "output_type": "stream",
     "text": [
      "Labels batch shape: torch.Size([30])\n",
      "Feature batch shape: torch.Size([30, 3])\n"
     ]
    }
   ],
   "source": [
    "print(f\"Labels batch shape: {labels.size()}\")\n",
    "print(f\"Feature batch shape: {features.size()}\")"
   ]
  },
  {
   "cell_type": "markdown",
   "id": "cbb9b159",
   "metadata": {},
   "source": [
    "## Implementing a Custom DataPipe\n",
    "独自のDataPipeを作成する。\n",
    "\n",
    "命名規則は\"Operation\"-eｒ + IterDataPipe or MapDataPipe。エイリアスではIterDataPipeとMapDataPipeは取り除く。\n",
    "\n",
    "この例では、 `MapperIterDataPipe` を作る。"
   ]
  },
  {
   "cell_type": "code",
   "execution_count": 56,
   "id": "3a0c387b",
   "metadata": {},
   "outputs": [
    {
     "ename": "Exception",
     "evalue": "Unable to add DataPipe function name new_map as it is already taken",
     "output_type": "error",
     "traceback": [
      "\u001b[0;31m---------------------------------------------------------------------------\u001b[0m",
      "\u001b[0;31mException\u001b[0m                                 Traceback (most recent call last)",
      "\u001b[0;32m/var/folders/qx/skm_3qm93bg39tjh5fyb02y80000gn/T/ipykernel_81884/2959421895.py\u001b[0m in \u001b[0;36m<module>\u001b[0;34m\u001b[0m\n\u001b[1;32m      5\u001b[0m \u001b[0;34m\u001b[0m\u001b[0m\n\u001b[1;32m      6\u001b[0m \u001b[0;34m@\u001b[0m\u001b[0mfunctional_datapipe\u001b[0m\u001b[0;34m(\u001b[0m\u001b[0;34m\"new_map\"\u001b[0m\u001b[0;34m)\u001b[0m   \u001b[0;31m# DataPipeにmapメソッドを登録\u001b[0m\u001b[0;34m\u001b[0m\u001b[0;34m\u001b[0m\u001b[0m\n\u001b[0;32m----> 7\u001b[0;31m \u001b[0;32mclass\u001b[0m \u001b[0mMapperIterDataPipe\u001b[0m\u001b[0;34m(\u001b[0m\u001b[0mIterDataPipe\u001b[0m\u001b[0;34m)\u001b[0m\u001b[0;34m:\u001b[0m\u001b[0;34m\u001b[0m\u001b[0;34m\u001b[0m\u001b[0m\n\u001b[0m\u001b[1;32m      8\u001b[0m     \u001b[0;32mdef\u001b[0m \u001b[0m__init__\u001b[0m\u001b[0;34m(\u001b[0m\u001b[0mself\u001b[0m\u001b[0;34m,\u001b[0m \u001b[0msource_dp\u001b[0m\u001b[0;34m:\u001b[0m \u001b[0mIterDataPipe\u001b[0m\u001b[0;34m,\u001b[0m \u001b[0mfn\u001b[0m\u001b[0;34m)\u001b[0m \u001b[0;34m->\u001b[0m \u001b[0;32mNone\u001b[0m\u001b[0;34m:\u001b[0m\u001b[0;34m\u001b[0m\u001b[0;34m\u001b[0m\u001b[0m\n\u001b[1;32m      9\u001b[0m         \u001b[0msuper\u001b[0m\u001b[0;34m(\u001b[0m\u001b[0;34m)\u001b[0m\u001b[0;34m.\u001b[0m\u001b[0m__init__\u001b[0m\u001b[0;34m(\u001b[0m\u001b[0;34m)\u001b[0m\u001b[0;34m\u001b[0m\u001b[0;34m\u001b[0m\u001b[0m\n",
      "\u001b[0;32m~/.pyenv/versions/3.9.7/lib/python3.9/site-packages/torch/utils/data/_decorator.py\u001b[0m in \u001b[0;36m__call__\u001b[0;34m(self, cls)\u001b[0m\n\u001b[1;32m     32\u001b[0m                          isinstance(cls.__self__, non_deterministic)):\n\u001b[1;32m     33\u001b[0m                     \u001b[0;32mraise\u001b[0m \u001b[0mTypeError\u001b[0m\u001b[0;34m(\u001b[0m\u001b[0;34m'`functional_datapipe` can only decorate IterDataPipe'\u001b[0m\u001b[0;34m)\u001b[0m\u001b[0;34m\u001b[0m\u001b[0;34m\u001b[0m\u001b[0m\n\u001b[0;32m---> 34\u001b[0;31m             \u001b[0mIterDataPipe\u001b[0m\u001b[0;34m.\u001b[0m\u001b[0mregister_datapipe_as_function\u001b[0m\u001b[0;34m(\u001b[0m\u001b[0mself\u001b[0m\u001b[0;34m.\u001b[0m\u001b[0mname\u001b[0m\u001b[0;34m,\u001b[0m \u001b[0mcls\u001b[0m\u001b[0;34m,\u001b[0m \u001b[0menable_df_api_tracing\u001b[0m\u001b[0;34m=\u001b[0m\u001b[0mself\u001b[0m\u001b[0;34m.\u001b[0m\u001b[0menable_df_api_tracing\u001b[0m\u001b[0;34m)\u001b[0m\u001b[0;34m\u001b[0m\u001b[0;34m\u001b[0m\u001b[0m\n\u001b[0m\u001b[1;32m     35\u001b[0m         \u001b[0;32melif\u001b[0m \u001b[0missubclass\u001b[0m\u001b[0;34m(\u001b[0m\u001b[0mcls\u001b[0m\u001b[0;34m,\u001b[0m \u001b[0mMapDataPipe\u001b[0m\u001b[0;34m)\u001b[0m\u001b[0;34m:\u001b[0m\u001b[0;34m\u001b[0m\u001b[0;34m\u001b[0m\u001b[0m\n\u001b[1;32m     36\u001b[0m             \u001b[0mMapDataPipe\u001b[0m\u001b[0;34m.\u001b[0m\u001b[0mregister_datapipe_as_function\u001b[0m\u001b[0;34m(\u001b[0m\u001b[0mself\u001b[0m\u001b[0;34m.\u001b[0m\u001b[0mname\u001b[0m\u001b[0;34m,\u001b[0m \u001b[0mcls\u001b[0m\u001b[0;34m)\u001b[0m\u001b[0;34m\u001b[0m\u001b[0;34m\u001b[0m\u001b[0m\n",
      "\u001b[0;32m~/.pyenv/versions/3.9.7/lib/python3.9/site-packages/torch/utils/data/dataset.py\u001b[0m in \u001b[0;36mregister_datapipe_as_function\u001b[0;34m(cls, function_name, cls_to_register, enable_df_api_tracing)\u001b[0m\n\u001b[1;32m    307\u001b[0m     \u001b[0;32mdef\u001b[0m \u001b[0mregister_datapipe_as_function\u001b[0m\u001b[0;34m(\u001b[0m\u001b[0mcls\u001b[0m\u001b[0;34m,\u001b[0m \u001b[0mfunction_name\u001b[0m\u001b[0;34m,\u001b[0m \u001b[0mcls_to_register\u001b[0m\u001b[0;34m,\u001b[0m \u001b[0menable_df_api_tracing\u001b[0m\u001b[0;34m=\u001b[0m\u001b[0;32mFalse\u001b[0m\u001b[0;34m)\u001b[0m\u001b[0;34m:\u001b[0m\u001b[0;34m\u001b[0m\u001b[0;34m\u001b[0m\u001b[0m\n\u001b[1;32m    308\u001b[0m         \u001b[0;32mif\u001b[0m \u001b[0mfunction_name\u001b[0m \u001b[0;32min\u001b[0m \u001b[0mcls\u001b[0m\u001b[0;34m.\u001b[0m\u001b[0mfunctions\u001b[0m\u001b[0;34m:\u001b[0m\u001b[0;34m\u001b[0m\u001b[0;34m\u001b[0m\u001b[0m\n\u001b[0;32m--> 309\u001b[0;31m             \u001b[0;32mraise\u001b[0m \u001b[0mException\u001b[0m\u001b[0;34m(\u001b[0m\u001b[0;34m\"Unable to add DataPipe function name {} as it is already taken\"\u001b[0m\u001b[0;34m.\u001b[0m\u001b[0mformat\u001b[0m\u001b[0;34m(\u001b[0m\u001b[0mfunction_name\u001b[0m\u001b[0;34m)\u001b[0m\u001b[0;34m)\u001b[0m\u001b[0;34m\u001b[0m\u001b[0;34m\u001b[0m\u001b[0m\n\u001b[0m\u001b[1;32m    310\u001b[0m \u001b[0;34m\u001b[0m\u001b[0m\n\u001b[1;32m    311\u001b[0m         \u001b[0;32mdef\u001b[0m \u001b[0mclass_function\u001b[0m\u001b[0;34m(\u001b[0m\u001b[0mcls\u001b[0m\u001b[0;34m,\u001b[0m \u001b[0menable_df_api_tracing\u001b[0m\u001b[0;34m,\u001b[0m \u001b[0msource_dp\u001b[0m\u001b[0;34m,\u001b[0m \u001b[0;34m*\u001b[0m\u001b[0margs\u001b[0m\u001b[0;34m,\u001b[0m \u001b[0;34m**\u001b[0m\u001b[0mkwargs\u001b[0m\u001b[0;34m)\u001b[0m\u001b[0;34m:\u001b[0m\u001b[0;34m\u001b[0m\u001b[0;34m\u001b[0m\u001b[0m\n",
      "\u001b[0;31mException\u001b[0m: Unable to add DataPipe function name new_map as it is already taken"
     ]
    }
   ],
   "source": [
    "# IterDataPipeを継承して、MapperIterDataPipeを作成。\n",
    "from torchdata.datapipes import functional_datapipe\n",
    "from torchdata.datapipes.iter import IterDataPipe\n",
    "\n",
    "\n",
    "@functional_datapipe(\"new_map\")   # DataPipeにmapメソッドを登録\n",
    "class MapperIterDataPipe(IterDataPipe):\n",
    "    def __init__(self, source_dp: IterDataPipe, fn) -> None:\n",
    "        super().__init__()\n",
    "        self.dp = source_dp\n",
    "        self.fn = fn   # 関数により変換を加える\n",
    "\n",
    "    def __iter__(self):\n",
    "        for d in self.dp:\n",
    "            yield self.fn(d[\"data\"])   # 変換を加えたあとのiteratorを作成\n",
    "\n",
    "    def __len__(self):   # DataPipeの長さを返す\n",
    "        return len(self.dp)"
   ]
  },
  {
   "cell_type": "code",
   "execution_count": 57,
   "id": "7f4c5b0b",
   "metadata": {},
   "outputs": [],
   "source": [
    "# MaapperIterDataPipe内で実行したい関数を定義\n",
    "def decoder(x):\n",
    "    return x*2"
   ]
  },
  {
   "cell_type": "code",
   "execution_count": 58,
   "id": "6931031a",
   "metadata": {},
   "outputs": [
    {
     "data": {
      "text/plain": [
       "[{'label': array(8, dtype=int32),\n",
       "  'data': array([0.70789942, 0.64058597, 0.92655558])},\n",
       " {'label': array(5, dtype=int32),\n",
       "  'data': array([0.978543  , 0.19463733, 0.64626799])},\n",
       " {'label': array(2, dtype=int32),\n",
       "  'data': array([0.02877691, 0.92443743, 0.19028357])},\n",
       " {'label': array(0, dtype=int32),\n",
       "  'data': array([0.57510324, 0.59160979, 0.00332339])},\n",
       " {'label': array(0, dtype=int32),\n",
       "  'data': array([0.92990661, 0.17142011, 0.19405499])},\n",
       " {'label': array(1, dtype=int32),\n",
       "  'data': array([0.07845751, 0.38231127, 0.12054644])},\n",
       " {'label': array(2, dtype=int32),\n",
       "  'data': array([0.6801781 , 0.36237215, 0.45218438])},\n",
       " {'label': array(9, dtype=int32),\n",
       "  'data': array([0.93472486, 0.09737738, 0.59626577])},\n",
       " {'label': array(6, dtype=int32),\n",
       "  'data': array([0.90292777, 0.92543488, 0.64747137])},\n",
       " {'label': array(1, dtype=int32),\n",
       "  'data': array([0.16919006, 0.66110592, 0.8039367 ])},\n",
       " {'label': array(4, dtype=int32),\n",
       "  'data': array([0.28600261, 0.91787277, 0.62996581])},\n",
       " {'label': array(2, dtype=int32),\n",
       "  'data': array([0.95319967, 0.91586835, 0.35322832])},\n",
       " {'label': array(5, dtype=int32),\n",
       "  'data': array([0.1223317 , 0.56788437, 0.48485091])},\n",
       " {'label': array(3, dtype=int32),\n",
       "  'data': array([0.63860542, 0.4696695 , 0.55069367])},\n",
       " {'label': array(7, dtype=int32),\n",
       "  'data': array([0.36057529, 0.04931601, 0.81389368])},\n",
       " {'label': array(4, dtype=int32),\n",
       "  'data': array([0.70412619, 0.67942221, 0.87583999])},\n",
       " {'label': array(1, dtype=int32),\n",
       "  'data': array([0.71192844, 0.78213893, 0.86297491])},\n",
       " {'label': array(7, dtype=int32),\n",
       "  'data': array([0.63548349, 0.10036356, 0.50576748])},\n",
       " {'label': array(9, dtype=int32),\n",
       "  'data': array([0.10633095, 0.24839799, 0.18088871])},\n",
       " {'label': array(3, dtype=int32),\n",
       "  'data': array([0.0641771 , 0.0136351 , 0.31468057])},\n",
       " {'label': array(4, dtype=int32),\n",
       "  'data': array([0.66189841, 0.80791379, 0.59333218])},\n",
       " {'label': array(7, dtype=int32),\n",
       "  'data': array([0.29140751, 0.14777594, 0.6012805 ])},\n",
       " {'label': array(4, dtype=int32),\n",
       "  'data': array([0.1344226 , 0.07560173, 0.59339533])},\n",
       " {'label': array(7, dtype=int32),\n",
       "  'data': array([0.98387998, 0.74257503, 0.37036628])},\n",
       " {'label': array(5, dtype=int32),\n",
       "  'data': array([0.00396581, 0.15074955, 0.99111802])},\n",
       " {'label': array(1, dtype=int32),\n",
       "  'data': array([0.08190744, 0.44558549, 0.31178508])},\n",
       " {'label': array(5, dtype=int32),\n",
       "  'data': array([0.63146344, 0.50198198, 0.70323186])},\n",
       " {'label': array(8, dtype=int32),\n",
       "  'data': array([0.98588435, 0.19656266, 0.90831145])},\n",
       " {'label': array(6, dtype=int32),\n",
       "  'data': array([0.51477733, 0.65982721, 0.52636864])},\n",
       " {'label': array(0, dtype=int32),\n",
       "  'data': array([0.77537916, 0.79598229, 0.2636587 ])}]"
      ]
     },
     "execution_count": 58,
     "metadata": {},
     "output_type": "execute_result"
    }
   ],
   "source": [
    "datapipe = build_datapipes()\n",
    "list(datapipe)"
   ]
  },
  {
   "cell_type": "code",
   "execution_count": 59,
   "id": "e84495cf",
   "metadata": {},
   "outputs": [
    {
     "data": {
      "text/plain": [
       "[array([1.41579885, 1.28117194, 1.85311117]),\n",
       " array([1.957086  , 0.38927466, 1.29253598]),\n",
       " array([0.05755382, 1.84887486, 0.38056714]),\n",
       " array([1.15020649, 1.18321958, 0.00664677]),\n",
       " array([1.85981322, 0.34284023, 0.38810997]),\n",
       " array([0.15691501, 0.76462253, 0.24109289]),\n",
       " array([1.3603562 , 0.72474431, 0.90436875]),\n",
       " array([1.86944973, 0.19475476, 1.19253155]),\n",
       " array([1.80585554, 1.85086977, 1.29494274]),\n",
       " array([0.33838012, 1.32221183, 1.60787341]),\n",
       " array([0.57200521, 1.83574555, 1.25993161]),\n",
       " array([1.90639935, 1.83173671, 0.70645664]),\n",
       " array([0.24466339, 1.13576874, 0.96970183]),\n",
       " array([1.27721084, 0.93933899, 1.10138735]),\n",
       " array([0.72115058, 0.09863202, 1.62778735]),\n",
       " array([1.40825237, 1.35884443, 1.75167997]),\n",
       " array([1.42385689, 1.56427786, 1.72594981]),\n",
       " array([1.27096698, 0.20072711, 1.01153497]),\n",
       " array([0.21266189, 0.49679598, 0.36177743]),\n",
       " array([0.1283542 , 0.02727019, 0.62936114]),\n",
       " array([1.32379681, 1.61582757, 1.18666437]),\n",
       " array([0.58281502, 0.29555189, 1.202561  ]),\n",
       " array([0.26884521, 0.15120345, 1.18679066]),\n",
       " array([1.96775995, 1.48515006, 0.74073257]),\n",
       " array([0.00793163, 0.3014991 , 1.98223604]),\n",
       " array([0.16381489, 0.89117098, 0.62357017]),\n",
       " array([1.26292689, 1.00396397, 1.40646373]),\n",
       " array([1.9717687 , 0.39312531, 1.8166229 ]),\n",
       " array([1.02955466, 1.31965441, 1.05273728]),\n",
       " array([1.55075832, 1.59196459, 0.52731739])]"
      ]
     },
     "execution_count": 59,
     "metadata": {},
     "output_type": "execute_result"
    }
   ],
   "source": [
    "list(datapipe.new_map(fn=decoder))"
   ]
  },
  {
   "cell_type": "code",
   "execution_count": null,
   "id": "fc0589e9",
   "metadata": {},
   "outputs": [],
   "source": []
  }
 ],
 "metadata": {
  "kernelspec": {
   "display_name": "Python 3 (ipykernel)",
   "language": "python",
   "name": "python3"
  },
  "language_info": {
   "codemirror_mode": {
    "name": "ipython",
    "version": 3
   },
   "file_extension": ".py",
   "mimetype": "text/x-python",
   "name": "python",
   "nbconvert_exporter": "python",
   "pygments_lexer": "ipython3",
   "version": "3.9.7"
  }
 },
 "nbformat": 4,
 "nbformat_minor": 5
}
